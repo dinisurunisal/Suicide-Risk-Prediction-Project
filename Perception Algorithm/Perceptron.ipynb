{
 "cells": [
  {
   "cell_type": "markdown",
   "metadata": {
    "collapsed": true,
    "pycharm": {
     "name": "#%% md\n"
    }
   },
   "source": [
    "# Perceptron\n",
    "\n",
    "#### Importing libraries"
   ]
  },
  {
   "cell_type": "code",
   "execution_count": 1,
   "metadata": {
    "pycharm": {
     "is_executing": false,
     "name": "#%%\n"
    }
   },
   "outputs": [],
   "source": [
    "#Import scikit-learn dataset library\n",
    "from sklearn import datasets\n",
    "import pandas as pd\n",
    "import numpy as np\n",
    "import seaborn as sns\n",
    "from sklearn import preprocessing\n"
   ]
  },
  {
   "cell_type": "markdown",
   "metadata": {
    "pycharm": {
     "name": "#%% md\n"
    }
   },
   "source": [
    "#### Load Datasets"
   ]
  },
  {
   "cell_type": "code",
   "execution_count": 2,
   "metadata": {
    "pycharm": {
     "is_executing": false,
     "name": "#%%\n"
    }
   },
   "outputs": [
    {
     "data": {
      "text/html": [
       "<div>\n",
       "<style scoped>\n",
       "    .dataframe tbody tr th:only-of-type {\n",
       "        vertical-align: middle;\n",
       "    }\n",
       "\n",
       "    .dataframe tbody tr th {\n",
       "        vertical-align: top;\n",
       "    }\n",
       "\n",
       "    .dataframe thead th {\n",
       "        text-align: right;\n",
       "    }\n",
       "</style>\n",
       "<table border=\"1\" class=\"dataframe\">\n",
       "  <thead>\n",
       "    <tr style=\"text-align: right;\">\n",
       "      <th></th>\n",
       "      <th>Year</th>\n",
       "      <th>Suicide</th>\n",
       "      <th>Age</th>\n",
       "      <th>Gender</th>\n",
       "      <th>Religon</th>\n",
       "      <th>Race</th>\n",
       "      <th>Occupation</th>\n",
       "      <th>Civil Status</th>\n",
       "      <th>Education Level</th>\n",
       "      <th>Reason</th>\n",
       "      <th>...</th>\n",
       "      <th>Any suicidal thoughts mentioned</th>\n",
       "      <th>Self-Injurious Behaviour</th>\n",
       "      <th>Psychiatric Disorders</th>\n",
       "      <th>Past Illnesses</th>\n",
       "      <th>Alcohol/ drug Consumption</th>\n",
       "      <th>Anger</th>\n",
       "      <th>Sleep Problem</th>\n",
       "      <th>Social Iscolation</th>\n",
       "      <th>Sad/ Weary</th>\n",
       "      <th>Humilated</th>\n",
       "    </tr>\n",
       "  </thead>\n",
       "  <tbody>\n",
       "    <tr>\n",
       "      <th>0</th>\n",
       "      <td>2018</td>\n",
       "      <td>0</td>\n",
       "      <td>30</td>\n",
       "      <td>F</td>\n",
       "      <td>Buddhist</td>\n",
       "      <td>Sinhalese</td>\n",
       "      <td>Administrative Executive Managerial &amp; related ...</td>\n",
       "      <td>Unmarried</td>\n",
       "      <td>From Grade 1 to 7</td>\n",
       "      <td>Asthma</td>\n",
       "      <td>...</td>\n",
       "      <td>0</td>\n",
       "      <td>0</td>\n",
       "      <td>None</td>\n",
       "      <td>Asthma</td>\n",
       "      <td>None</td>\n",
       "      <td>0</td>\n",
       "      <td>0</td>\n",
       "      <td>0</td>\n",
       "      <td>0</td>\n",
       "      <td>0</td>\n",
       "    </tr>\n",
       "    <tr>\n",
       "      <th>1</th>\n",
       "      <td>2018</td>\n",
       "      <td>0</td>\n",
       "      <td>91</td>\n",
       "      <td>F</td>\n",
       "      <td>Islam</td>\n",
       "      <td>Muslim</td>\n",
       "      <td>Sales worker</td>\n",
       "      <td>Married</td>\n",
       "      <td>University Degree or above</td>\n",
       "      <td>Alzheimer's disease</td>\n",
       "      <td>...</td>\n",
       "      <td>0</td>\n",
       "      <td>0</td>\n",
       "      <td>None</td>\n",
       "      <td>Other</td>\n",
       "      <td>None</td>\n",
       "      <td>0</td>\n",
       "      <td>1</td>\n",
       "      <td>0</td>\n",
       "      <td>0</td>\n",
       "      <td>0</td>\n",
       "    </tr>\n",
       "    <tr>\n",
       "      <th>2</th>\n",
       "      <td>2018</td>\n",
       "      <td>0</td>\n",
       "      <td>85</td>\n",
       "      <td>M</td>\n",
       "      <td>Buddhist</td>\n",
       "      <td>Sinhalese</td>\n",
       "      <td>Security Personnel</td>\n",
       "      <td>Married</td>\n",
       "      <td>University Degree or above</td>\n",
       "      <td>Stroke/Chronic diseases &amp; Physical disabilities</td>\n",
       "      <td>...</td>\n",
       "      <td>0</td>\n",
       "      <td>0</td>\n",
       "      <td>None</td>\n",
       "      <td>Diabetes</td>\n",
       "      <td>None</td>\n",
       "      <td>0</td>\n",
       "      <td>1</td>\n",
       "      <td>0</td>\n",
       "      <td>0</td>\n",
       "      <td>0</td>\n",
       "    </tr>\n",
       "    <tr>\n",
       "      <th>3</th>\n",
       "      <td>2017</td>\n",
       "      <td>1</td>\n",
       "      <td>87</td>\n",
       "      <td>M</td>\n",
       "      <td>Buddhist</td>\n",
       "      <td>Sinhalese</td>\n",
       "      <td>Unemployed persons</td>\n",
       "      <td>Married</td>\n",
       "      <td>School not attended</td>\n",
       "      <td>Harrasment by the husband &amp; family disputes</td>\n",
       "      <td>...</td>\n",
       "      <td>1</td>\n",
       "      <td>0</td>\n",
       "      <td>None</td>\n",
       "      <td>Chronic pain</td>\n",
       "      <td>Frequent</td>\n",
       "      <td>1</td>\n",
       "      <td>1</td>\n",
       "      <td>1</td>\n",
       "      <td>1</td>\n",
       "      <td>1</td>\n",
       "    </tr>\n",
       "    <tr>\n",
       "      <th>4</th>\n",
       "      <td>2018</td>\n",
       "      <td>0</td>\n",
       "      <td>59</td>\n",
       "      <td>F</td>\n",
       "      <td>Buddhist</td>\n",
       "      <td>Sinhalese</td>\n",
       "      <td>Pensioners</td>\n",
       "      <td>Unmarried</td>\n",
       "      <td>Other</td>\n",
       "      <td>Alzheimer's disease</td>\n",
       "      <td>...</td>\n",
       "      <td>0</td>\n",
       "      <td>0</td>\n",
       "      <td>None</td>\n",
       "      <td>COPD</td>\n",
       "      <td>None</td>\n",
       "      <td>0</td>\n",
       "      <td>1</td>\n",
       "      <td>0</td>\n",
       "      <td>1</td>\n",
       "      <td>1</td>\n",
       "    </tr>\n",
       "    <tr>\n",
       "      <th>5</th>\n",
       "      <td>2017</td>\n",
       "      <td>1</td>\n",
       "      <td>31</td>\n",
       "      <td>M</td>\n",
       "      <td>Buddhist</td>\n",
       "      <td>Sinhalese</td>\n",
       "      <td>Agricultural Animal Husbandry Fisherman &amp; rela...</td>\n",
       "      <td>Unmarried</td>\n",
       "      <td>Passed G.C.E (O/L)</td>\n",
       "      <td>Harrasment by the husband &amp; family disputes</td>\n",
       "      <td>...</td>\n",
       "      <td>0</td>\n",
       "      <td>1</td>\n",
       "      <td>None</td>\n",
       "      <td>Other</td>\n",
       "      <td>Frequent</td>\n",
       "      <td>1</td>\n",
       "      <td>1</td>\n",
       "      <td>1</td>\n",
       "      <td>1</td>\n",
       "      <td>1</td>\n",
       "    </tr>\n",
       "    <tr>\n",
       "      <th>6</th>\n",
       "      <td>2018</td>\n",
       "      <td>0</td>\n",
       "      <td>75</td>\n",
       "      <td>F</td>\n",
       "      <td>Christian</td>\n",
       "      <td>Burger</td>\n",
       "      <td>Armed Services</td>\n",
       "      <td>Divourced</td>\n",
       "      <td>Passed G.C.E (A/L)</td>\n",
       "      <td>Natural Death</td>\n",
       "      <td>...</td>\n",
       "      <td>0</td>\n",
       "      <td>0</td>\n",
       "      <td>None</td>\n",
       "      <td>Unknown</td>\n",
       "      <td>None</td>\n",
       "      <td>0</td>\n",
       "      <td>0</td>\n",
       "      <td>1</td>\n",
       "      <td>0</td>\n",
       "      <td>0</td>\n",
       "    </tr>\n",
       "    <tr>\n",
       "      <th>7</th>\n",
       "      <td>2018</td>\n",
       "      <td>1</td>\n",
       "      <td>47</td>\n",
       "      <td>M</td>\n",
       "      <td>Buddhist</td>\n",
       "      <td>Sinhalese</td>\n",
       "      <td>Unemployed persons</td>\n",
       "      <td>Married</td>\n",
       "      <td>School not attended</td>\n",
       "      <td>Harrasment by the husband &amp; family disputes</td>\n",
       "      <td>...</td>\n",
       "      <td>0</td>\n",
       "      <td>1</td>\n",
       "      <td>None</td>\n",
       "      <td>Other</td>\n",
       "      <td>Moderate</td>\n",
       "      <td>0</td>\n",
       "      <td>0</td>\n",
       "      <td>1</td>\n",
       "      <td>1</td>\n",
       "      <td>0</td>\n",
       "    </tr>\n",
       "    <tr>\n",
       "      <th>8</th>\n",
       "      <td>2018</td>\n",
       "      <td>0</td>\n",
       "      <td>58</td>\n",
       "      <td>F</td>\n",
       "      <td>Christian</td>\n",
       "      <td>Burger</td>\n",
       "      <td>Armed Services</td>\n",
       "      <td>Unmarried</td>\n",
       "      <td>University Degree or above</td>\n",
       "      <td>Diabetes</td>\n",
       "      <td>...</td>\n",
       "      <td>0</td>\n",
       "      <td>0</td>\n",
       "      <td>None</td>\n",
       "      <td>Unknown</td>\n",
       "      <td>None</td>\n",
       "      <td>0</td>\n",
       "      <td>0</td>\n",
       "      <td>0</td>\n",
       "      <td>0</td>\n",
       "      <td>0</td>\n",
       "    </tr>\n",
       "    <tr>\n",
       "      <th>9</th>\n",
       "      <td>2018</td>\n",
       "      <td>0</td>\n",
       "      <td>36</td>\n",
       "      <td>F</td>\n",
       "      <td>Hindu</td>\n",
       "      <td>Tamil</td>\n",
       "      <td>Armed Services</td>\n",
       "      <td>Widow</td>\n",
       "      <td>University Degree or above</td>\n",
       "      <td>Natural Death</td>\n",
       "      <td>...</td>\n",
       "      <td>0</td>\n",
       "      <td>0</td>\n",
       "      <td>None</td>\n",
       "      <td>Unknown</td>\n",
       "      <td>None</td>\n",
       "      <td>0</td>\n",
       "      <td>1</td>\n",
       "      <td>0</td>\n",
       "      <td>0</td>\n",
       "      <td>0</td>\n",
       "    </tr>\n",
       "    <tr>\n",
       "      <th>10</th>\n",
       "      <td>2017</td>\n",
       "      <td>1</td>\n",
       "      <td>87</td>\n",
       "      <td>M</td>\n",
       "      <td>Buddhist</td>\n",
       "      <td>Sinhalese</td>\n",
       "      <td>Unemployed persons</td>\n",
       "      <td>Married</td>\n",
       "      <td>Passed Grade 8</td>\n",
       "      <td>Chronic diseases &amp; Physical disabilities</td>\n",
       "      <td>...</td>\n",
       "      <td>1</td>\n",
       "      <td>0</td>\n",
       "      <td>Other</td>\n",
       "      <td>HIV/AIDS</td>\n",
       "      <td>Frequent</td>\n",
       "      <td>0</td>\n",
       "      <td>1</td>\n",
       "      <td>1</td>\n",
       "      <td>1</td>\n",
       "      <td>0</td>\n",
       "    </tr>\n",
       "    <tr>\n",
       "      <th>11</th>\n",
       "      <td>2018</td>\n",
       "      <td>0</td>\n",
       "      <td>73</td>\n",
       "      <td>F</td>\n",
       "      <td>Christian</td>\n",
       "      <td>Burger</td>\n",
       "      <td>Clerical &amp; related workers (Stenographers/ Typ...</td>\n",
       "      <td>Widow</td>\n",
       "      <td>Passed Grade 8</td>\n",
       "      <td>Natural Death</td>\n",
       "      <td>...</td>\n",
       "      <td>0</td>\n",
       "      <td>0</td>\n",
       "      <td>None</td>\n",
       "      <td>Heart Diseases</td>\n",
       "      <td>None</td>\n",
       "      <td>0</td>\n",
       "      <td>1</td>\n",
       "      <td>0</td>\n",
       "      <td>0</td>\n",
       "      <td>0</td>\n",
       "    </tr>\n",
       "    <tr>\n",
       "      <th>12</th>\n",
       "      <td>2017</td>\n",
       "      <td>1</td>\n",
       "      <td>44</td>\n",
       "      <td>M</td>\n",
       "      <td>Buddhist</td>\n",
       "      <td>Sinhalese</td>\n",
       "      <td>Agricultural Animal Husbandry Fisherman &amp; rela...</td>\n",
       "      <td>Married</td>\n",
       "      <td>Passed G.C.E (O/L)</td>\n",
       "      <td>Harrasment by the husband &amp; family disputes</td>\n",
       "      <td>...</td>\n",
       "      <td>0</td>\n",
       "      <td>0</td>\n",
       "      <td>None</td>\n",
       "      <td>Cancer</td>\n",
       "      <td>Frequent</td>\n",
       "      <td>0</td>\n",
       "      <td>1</td>\n",
       "      <td>1</td>\n",
       "      <td>1</td>\n",
       "      <td>0</td>\n",
       "    </tr>\n",
       "    <tr>\n",
       "      <th>13</th>\n",
       "      <td>2016</td>\n",
       "      <td>1</td>\n",
       "      <td>62</td>\n",
       "      <td>M</td>\n",
       "      <td>Buddhist</td>\n",
       "      <td>Sinhalese</td>\n",
       "      <td>Service workers (Cooks/Tailors/Barbers/ etc)</td>\n",
       "      <td>Married</td>\n",
       "      <td>From Grade 1 to 7</td>\n",
       "      <td>Mental Disorders</td>\n",
       "      <td>...</td>\n",
       "      <td>1</td>\n",
       "      <td>0</td>\n",
       "      <td>PTSD</td>\n",
       "      <td>Other</td>\n",
       "      <td>Frequent</td>\n",
       "      <td>1</td>\n",
       "      <td>1</td>\n",
       "      <td>1</td>\n",
       "      <td>0</td>\n",
       "      <td>1</td>\n",
       "    </tr>\n",
       "    <tr>\n",
       "      <th>14</th>\n",
       "      <td>2018</td>\n",
       "      <td>0</td>\n",
       "      <td>21</td>\n",
       "      <td>F</td>\n",
       "      <td>Hindu</td>\n",
       "      <td>Tamil</td>\n",
       "      <td>Sales worker</td>\n",
       "      <td>Unmarried</td>\n",
       "      <td>Passed G.C.E (O/L)</td>\n",
       "      <td>Stroke/Chronic diseases &amp; Physical disabilities</td>\n",
       "      <td>...</td>\n",
       "      <td>0</td>\n",
       "      <td>0</td>\n",
       "      <td>None</td>\n",
       "      <td>Chronic pain</td>\n",
       "      <td>None</td>\n",
       "      <td>0</td>\n",
       "      <td>1</td>\n",
       "      <td>0</td>\n",
       "      <td>1</td>\n",
       "      <td>0</td>\n",
       "    </tr>\n",
       "    <tr>\n",
       "      <th>15</th>\n",
       "      <td>2015</td>\n",
       "      <td>1</td>\n",
       "      <td>70</td>\n",
       "      <td>M</td>\n",
       "      <td>Buddhist</td>\n",
       "      <td>Sinhalese</td>\n",
       "      <td>Unemployed persons</td>\n",
       "      <td>Married</td>\n",
       "      <td>School not attended</td>\n",
       "      <td>Mental Disorders</td>\n",
       "      <td>...</td>\n",
       "      <td>1</td>\n",
       "      <td>0</td>\n",
       "      <td>Depression</td>\n",
       "      <td>Other</td>\n",
       "      <td>Frequent</td>\n",
       "      <td>1</td>\n",
       "      <td>1</td>\n",
       "      <td>1</td>\n",
       "      <td>1</td>\n",
       "      <td>0</td>\n",
       "    </tr>\n",
       "    <tr>\n",
       "      <th>16</th>\n",
       "      <td>2018</td>\n",
       "      <td>0</td>\n",
       "      <td>68</td>\n",
       "      <td>M</td>\n",
       "      <td>Hindu</td>\n",
       "      <td>Tamil</td>\n",
       "      <td>Sales worker</td>\n",
       "      <td>Married</td>\n",
       "      <td>Passed Grade 8</td>\n",
       "      <td>Addiction to narcotic drugs</td>\n",
       "      <td>...</td>\n",
       "      <td>0</td>\n",
       "      <td>0</td>\n",
       "      <td>None</td>\n",
       "      <td>Other</td>\n",
       "      <td>Frequent</td>\n",
       "      <td>0</td>\n",
       "      <td>0</td>\n",
       "      <td>0</td>\n",
       "      <td>0</td>\n",
       "      <td>0</td>\n",
       "    </tr>\n",
       "    <tr>\n",
       "      <th>17</th>\n",
       "      <td>2017</td>\n",
       "      <td>1</td>\n",
       "      <td>43</td>\n",
       "      <td>F</td>\n",
       "      <td>Buddhist</td>\n",
       "      <td>Sinhalese</td>\n",
       "      <td>Armed Services</td>\n",
       "      <td>Married</td>\n",
       "      <td>Passed G.C.E (O/L)</td>\n",
       "      <td>Harrasment by the husband &amp; family disputes</td>\n",
       "      <td>...</td>\n",
       "      <td>1</td>\n",
       "      <td>1</td>\n",
       "      <td>Depression</td>\n",
       "      <td>Cancer</td>\n",
       "      <td>None</td>\n",
       "      <td>0</td>\n",
       "      <td>1</td>\n",
       "      <td>1</td>\n",
       "      <td>1</td>\n",
       "      <td>1</td>\n",
       "    </tr>\n",
       "    <tr>\n",
       "      <th>18</th>\n",
       "      <td>2018</td>\n",
       "      <td>0</td>\n",
       "      <td>16</td>\n",
       "      <td>M</td>\n",
       "      <td>Other</td>\n",
       "      <td>Burger</td>\n",
       "      <td>Student</td>\n",
       "      <td>Unmarried</td>\n",
       "      <td>Passed G.C.E (O/L)</td>\n",
       "      <td>Stroke/Chronic diseases &amp; Physical disabilities</td>\n",
       "      <td>...</td>\n",
       "      <td>0</td>\n",
       "      <td>0</td>\n",
       "      <td>Depression</td>\n",
       "      <td>none</td>\n",
       "      <td>Moderate</td>\n",
       "      <td>1</td>\n",
       "      <td>1</td>\n",
       "      <td>1</td>\n",
       "      <td>0</td>\n",
       "      <td>0</td>\n",
       "    </tr>\n",
       "    <tr>\n",
       "      <th>19</th>\n",
       "      <td>2017</td>\n",
       "      <td>1</td>\n",
       "      <td>35</td>\n",
       "      <td>M</td>\n",
       "      <td>Hindu</td>\n",
       "      <td>Tamil</td>\n",
       "      <td>Agricultural Animal Husbandry Fisherman &amp; rela...</td>\n",
       "      <td>Married</td>\n",
       "      <td>Passed Grade 8</td>\n",
       "      <td>Other Reasons</td>\n",
       "      <td>...</td>\n",
       "      <td>0</td>\n",
       "      <td>0</td>\n",
       "      <td>Depression</td>\n",
       "      <td>Other</td>\n",
       "      <td>Moderate</td>\n",
       "      <td>0</td>\n",
       "      <td>1</td>\n",
       "      <td>1</td>\n",
       "      <td>1</td>\n",
       "      <td>0</td>\n",
       "    </tr>\n",
       "  </tbody>\n",
       "</table>\n",
       "<p>20 rows × 22 columns</p>\n",
       "</div>"
      ],
      "text/plain": [
       "    Year  Suicide  Age Gender    Religon       Race  \\\n",
       "0   2018        0   30      F   Buddhist  Sinhalese   \n",
       "1   2018        0   91      F      Islam     Muslim   \n",
       "2   2018        0   85      M   Buddhist  Sinhalese   \n",
       "3   2017        1   87      M   Buddhist  Sinhalese   \n",
       "4   2018        0   59      F   Buddhist  Sinhalese   \n",
       "5   2017        1   31      M   Buddhist  Sinhalese   \n",
       "6   2018        0   75      F  Christian     Burger   \n",
       "7   2018        1   47      M   Buddhist  Sinhalese   \n",
       "8   2018        0   58      F  Christian     Burger   \n",
       "9   2018        0   36      F      Hindu      Tamil   \n",
       "10  2017        1   87      M   Buddhist  Sinhalese   \n",
       "11  2018        0   73      F  Christian     Burger   \n",
       "12  2017        1   44      M   Buddhist  Sinhalese   \n",
       "13  2016        1   62      M   Buddhist  Sinhalese   \n",
       "14  2018        0   21      F      Hindu      Tamil   \n",
       "15  2015        1   70      M   Buddhist  Sinhalese   \n",
       "16  2018        0   68      M      Hindu      Tamil   \n",
       "17  2017        1   43      F   Buddhist  Sinhalese   \n",
       "18  2018        0   16      M      Other     Burger   \n",
       "19  2017        1   35      M      Hindu      Tamil   \n",
       "\n",
       "                                           Occupation Civil Status  \\\n",
       "0   Administrative Executive Managerial & related ...    Unmarried   \n",
       "1                                        Sales worker      Married   \n",
       "2                                  Security Personnel      Married   \n",
       "3                                  Unemployed persons      Married   \n",
       "4                                          Pensioners    Unmarried   \n",
       "5   Agricultural Animal Husbandry Fisherman & rela...    Unmarried   \n",
       "6                                      Armed Services    Divourced   \n",
       "7                                  Unemployed persons      Married   \n",
       "8                                      Armed Services    Unmarried   \n",
       "9                                      Armed Services        Widow   \n",
       "10                                 Unemployed persons      Married   \n",
       "11  Clerical & related workers (Stenographers/ Typ...        Widow   \n",
       "12  Agricultural Animal Husbandry Fisherman & rela...      Married   \n",
       "13       Service workers (Cooks/Tailors/Barbers/ etc)      Married   \n",
       "14                                       Sales worker    Unmarried   \n",
       "15                                 Unemployed persons      Married   \n",
       "16                                       Sales worker      Married   \n",
       "17                                     Armed Services      Married   \n",
       "18                                            Student    Unmarried   \n",
       "19  Agricultural Animal Husbandry Fisherman & rela...      Married   \n",
       "\n",
       "               Education Level  \\\n",
       "0            From Grade 1 to 7   \n",
       "1   University Degree or above   \n",
       "2   University Degree or above   \n",
       "3          School not attended   \n",
       "4                        Other   \n",
       "5           Passed G.C.E (O/L)   \n",
       "6           Passed G.C.E (A/L)   \n",
       "7          School not attended   \n",
       "8   University Degree or above   \n",
       "9   University Degree or above   \n",
       "10              Passed Grade 8   \n",
       "11              Passed Grade 8   \n",
       "12          Passed G.C.E (O/L)   \n",
       "13           From Grade 1 to 7   \n",
       "14          Passed G.C.E (O/L)   \n",
       "15         School not attended   \n",
       "16              Passed Grade 8   \n",
       "17          Passed G.C.E (O/L)   \n",
       "18          Passed G.C.E (O/L)   \n",
       "19              Passed Grade 8   \n",
       "\n",
       "                                             Reason    ...      \\\n",
       "0                                            Asthma    ...       \n",
       "1                               Alzheimer's disease    ...       \n",
       "2   Stroke/Chronic diseases & Physical disabilities    ...       \n",
       "3       Harrasment by the husband & family disputes    ...       \n",
       "4                               Alzheimer's disease    ...       \n",
       "5       Harrasment by the husband & family disputes    ...       \n",
       "6                                     Natural Death    ...       \n",
       "7       Harrasment by the husband & family disputes    ...       \n",
       "8                                          Diabetes    ...       \n",
       "9                                     Natural Death    ...       \n",
       "10         Chronic diseases & Physical disabilities    ...       \n",
       "11                                    Natural Death    ...       \n",
       "12      Harrasment by the husband & family disputes    ...       \n",
       "13                                 Mental Disorders    ...       \n",
       "14  Stroke/Chronic diseases & Physical disabilities    ...       \n",
       "15                                 Mental Disorders    ...       \n",
       "16                      Addiction to narcotic drugs    ...       \n",
       "17      Harrasment by the husband & family disputes    ...       \n",
       "18  Stroke/Chronic diseases & Physical disabilities    ...       \n",
       "19                                    Other Reasons    ...       \n",
       "\n",
       "    Any suicidal thoughts mentioned  Self-Injurious Behaviour  \\\n",
       "0                                 0                         0   \n",
       "1                                 0                         0   \n",
       "2                                 0                         0   \n",
       "3                                 1                         0   \n",
       "4                                 0                         0   \n",
       "5                                 0                         1   \n",
       "6                                 0                         0   \n",
       "7                                 0                         1   \n",
       "8                                 0                         0   \n",
       "9                                 0                         0   \n",
       "10                                1                         0   \n",
       "11                                0                         0   \n",
       "12                                0                         0   \n",
       "13                                1                         0   \n",
       "14                                0                         0   \n",
       "15                                1                         0   \n",
       "16                                0                         0   \n",
       "17                                1                         1   \n",
       "18                                0                         0   \n",
       "19                                0                         0   \n",
       "\n",
       "    Psychiatric Disorders  Past Illnesses  Alcohol/ drug Consumption Anger  \\\n",
       "0                    None           Asthma                      None     0   \n",
       "1                    None            Other                      None     0   \n",
       "2                    None         Diabetes                      None     0   \n",
       "3                    None     Chronic pain                  Frequent     1   \n",
       "4                    None             COPD                      None     0   \n",
       "5                    None            Other                  Frequent     1   \n",
       "6                    None          Unknown                      None     0   \n",
       "7                    None            Other                  Moderate     0   \n",
       "8                    None          Unknown                      None     0   \n",
       "9                    None          Unknown                      None     0   \n",
       "10                  Other         HIV/AIDS                  Frequent     0   \n",
       "11                   None   Heart Diseases                      None     0   \n",
       "12                   None           Cancer                  Frequent     0   \n",
       "13                   PTSD            Other                  Frequent     1   \n",
       "14                   None     Chronic pain                      None     0   \n",
       "15             Depression            Other                  Frequent     1   \n",
       "16                   None            Other                  Frequent     0   \n",
       "17             Depression           Cancer                      None     0   \n",
       "18             Depression             none                  Moderate     1   \n",
       "19             Depression            Other                  Moderate     0   \n",
       "\n",
       "   Sleep Problem  Social Iscolation  Sad/ Weary  Humilated  \n",
       "0              0                  0           0          0  \n",
       "1              1                  0           0          0  \n",
       "2              1                  0           0          0  \n",
       "3              1                  1           1          1  \n",
       "4              1                  0           1          1  \n",
       "5              1                  1           1          1  \n",
       "6              0                  1           0          0  \n",
       "7              0                  1           1          0  \n",
       "8              0                  0           0          0  \n",
       "9              1                  0           0          0  \n",
       "10             1                  1           1          0  \n",
       "11             1                  0           0          0  \n",
       "12             1                  1           1          0  \n",
       "13             1                  1           0          1  \n",
       "14             1                  0           1          0  \n",
       "15             1                  1           1          0  \n",
       "16             0                  0           0          0  \n",
       "17             1                  1           1          1  \n",
       "18             1                  1           0          0  \n",
       "19             1                  1           1          0  \n",
       "\n",
       "[20 rows x 22 columns]"
      ]
     },
     "execution_count": 2,
     "metadata": {},
     "output_type": "execute_result"
    }
   ],
   "source": [
    "from sklearn.externals import joblib\n",
    "url = \"FullDataSet.csv\"\n",
    "df = pd.read_csv(url)\n",
    "include = [ 'Age', 'Gender', 'Religon', 'Race', 'Occupation' ,\n",
    "           'Civil Status' ,'Education Level' ,'Reason' ,'Lifetime Psychiatric Hospitalizations' ,\n",
    "           'Past Suicide Attempts' ,'Any suicidal thoughts mentioned' ,'Self-Injurious Behaviour' ,\n",
    "           'Psychiatric Disorders' ,'Past Illnesses ' ,'Alcohol/ drug Consumption','Anger',\n",
    "           'Sleep Problem', 'Social Iscolation', 'Sad/ Weary' , 'Humilated', 'Suicide']  # Except the year, all the features are taken \n",
    "df.head(20)"
   ]
  },
  {
   "cell_type": "markdown",
   "metadata": {
    "pycharm": {
     "name": "#%% md\n"
    }
   },
   "source": [
    "#### Replacing unwanted labels with a unique label"
   ]
  },
  {
   "cell_type": "code",
   "execution_count": 3,
   "metadata": {
    "pycharm": {
     "is_executing": false,
     "name": "#%%\n"
    }
   },
   "outputs": [
    {
     "data": {
      "text/plain": [
       "array(['Buddhist', 'Islam', 'Christian', 'Hindu', 'Other'], dtype=object)"
      ]
     },
     "execution_count": 3,
     "metadata": {},
     "output_type": "execute_result"
    }
   ],
   "source": [
    "df['Reason'].replace(['Asthma', \"Alzheimer's disease\", 'Diabetes',\n",
    "              'Cirrhosis', 'Ischemic heart disease', \n",
    "              'Road Accident','Chronic kidney disease'],\n",
    "             ['Natural Death','Natural Death','Natural Death','Natural Death',\n",
    "              'Natural Death','Natural Death','Natural Death'], inplace = True)\n",
    "df['Reason'].replace(['Stroke/Chronic diseases & Physical disabilities'],\n",
    "             ['Chronic diseases & Physical disabilities'], inplace = True)\n",
    "df2 = df[include]\n",
    "df2.Religon.unique()\n",
    "# df2.Religon.unique()\n",
    "# df2.Race.unique()\n",
    "# df2['Nature Of Occupation'].unique()"
   ]
  },
  {
   "cell_type": "markdown",
   "metadata": {
    "pycharm": {
     "name": "#%% md\n"
    }
   },
   "source": [
    "#### Label Encoder"
   ]
  },
  {
   "cell_type": "code",
   "execution_count": 4,
   "metadata": {
    "pycharm": {
     "is_executing": false,
     "name": "#%%\n"
    }
   },
   "outputs": [
    {
     "name": "stderr",
     "output_type": "stream",
     "text": [
      "C:\\Users\\ASUS\\Anaconda3\\lib\\site-packages\\ipykernel_launcher.py:7: SettingWithCopyWarning: \n",
      "A value is trying to be set on a copy of a slice from a DataFrame.\n",
      "Try using .loc[row_indexer,col_indexer] = value instead\n",
      "\n",
      "See the caveats in the documentation: http://pandas.pydata.org/pandas-docs/stable/indexing.html#indexing-view-versus-copy\n",
      "  import sys\n"
     ]
    },
    {
     "name": "stdout",
     "output_type": "stream",
     "text": [
      "    Age  Gender  Religon  Race  Occupation  Civil Status  Education Level  \\\n",
      "0    30       0        0     3           0             2                0   \n",
      "1    91       0        3     1           8             1                6   \n",
      "2    85       1        0     3           9             1                6   \n",
      "3    87       1        0     3          12             1                5   \n",
      "4    59       0        0     3           4             2                1   \n",
      "5    31       1        0     3           1             2                3   \n",
      "6    75       0        1     0           2             0                2   \n",
      "7    47       1        0     3          12             1                5   \n",
      "8    58       0        1     0           2             2                6   \n",
      "9    36       0        2     4           2             3                6   \n",
      "10   87       1        0     3          12             1                4   \n",
      "11   73       0        1     0           3             3                4   \n",
      "12   44       1        0     3           1             1                3   \n",
      "13   62       1        0     3          10             1                0   \n",
      "14   21       0        2     4           8             2                3   \n",
      "15   70       1        0     3          12             1                5   \n",
      "16   68       1        2     4           8             1                4   \n",
      "17   43       0        0     3           2             1                3   \n",
      "18   16       1        4     0          11             2                3   \n",
      "19   35       1        2     4           1             1                4   \n",
      "\n",
      "    Reason  Lifetime Psychiatric Hospitalizations  Past Suicide Attempts  \\\n",
      "0       11                                      0                      0   \n",
      "1       11                                      0                      0   \n",
      "2        2                                      0                      0   \n",
      "3        6                                      0                      0   \n",
      "4       11                                      0                      1   \n",
      "5        6                                      0                      0   \n",
      "6       11                                      0                      1   \n",
      "7        6                                      0                      0   \n",
      "8       11                                      0                      1   \n",
      "9       11                                      0                      1   \n",
      "10       2                                      1                      1   \n",
      "11      11                                      0                      1   \n",
      "12       6                                      0                      0   \n",
      "13      10                                      1                      1   \n",
      "14       2                                      0                      0   \n",
      "15      10                                      0                      1   \n",
      "16       0                                      0                      0   \n",
      "17       6                                      1                      0   \n",
      "18       2                                      0                      0   \n",
      "19      12                                      0                      0   \n",
      "\n",
      "     ...     Self-Injurious Behaviour  Psychiatric Disorders  Past Illnesses   \\\n",
      "0    ...                            0                      3                0   \n",
      "1    ...                            0                      3                8   \n",
      "2    ...                            0                      3                4   \n",
      "3    ...                            0                      3                3   \n",
      "4    ...                            0                      3                1   \n",
      "5    ...                            1                      3                8   \n",
      "6    ...                            0                      3                9   \n",
      "7    ...                            1                      3                8   \n",
      "8    ...                            0                      3                9   \n",
      "9    ...                            0                      3                9   \n",
      "10   ...                            0                      4                5   \n",
      "11   ...                            0                      3                6   \n",
      "12   ...                            0                      3                2   \n",
      "13   ...                            0                      6                8   \n",
      "14   ...                            0                      3                3   \n",
      "15   ...                            0                      2                8   \n",
      "16   ...                            0                      3                8   \n",
      "17   ...                            1                      2                2   \n",
      "18   ...                            0                      2               10   \n",
      "19   ...                            0                      2                8   \n",
      "\n",
      "    Alcohol/ drug Consumption  Anger  Sleep Problem  Social Iscolation  \\\n",
      "0                           2      0              0                  0   \n",
      "1                           2      0              1                  0   \n",
      "2                           2      0              1                  0   \n",
      "3                           0      1              1                  1   \n",
      "4                           2      0              1                  0   \n",
      "5                           0      1              1                  1   \n",
      "6                           2      0              0                  1   \n",
      "7                           1      0              0                  1   \n",
      "8                           2      0              0                  0   \n",
      "9                           2      0              1                  0   \n",
      "10                          0      0              1                  1   \n",
      "11                          2      0              1                  0   \n",
      "12                          0      0              1                  1   \n",
      "13                          0      1              1                  1   \n",
      "14                          2      0              1                  0   \n",
      "15                          0      1              1                  1   \n",
      "16                          0      0              0                  0   \n",
      "17                          2      0              1                  1   \n",
      "18                          1      1              1                  1   \n",
      "19                          1      0              1                  1   \n",
      "\n",
      "    Sad/ Weary  Humilated  Suicide  \n",
      "0            0          0        0  \n",
      "1            0          0        0  \n",
      "2            0          0        0  \n",
      "3            1          1        1  \n",
      "4            1          1        0  \n",
      "5            1          1        1  \n",
      "6            0          0        0  \n",
      "7            1          0        1  \n",
      "8            0          0        0  \n",
      "9            0          0        0  \n",
      "10           1          0        1  \n",
      "11           0          0        0  \n",
      "12           1          0        1  \n",
      "13           0          1        1  \n",
      "14           1          0        0  \n",
      "15           1          0        1  \n",
      "16           0          0        0  \n",
      "17           1          1        1  \n",
      "18           0          0        0  \n",
      "19           1          0        1  \n",
      "\n",
      "[20 rows x 21 columns]\n",
      "Gender {'F': 0, 'M': 1}\n",
      "Religon {'Buddhist': 0, 'Christian': 1, 'Hindu': 2, 'Islam': 3, 'Other': 4}\n",
      "Race {'Burger': 0, 'Muslim': 1, 'Other': 2, 'Sinhalese': 3, 'Tamil': 4}\n",
      "Occupation {'Administrative Executive Managerial & related workers': 0, 'Agricultural Animal Husbandry Fisherman & related Forestry workers': 1, 'Armed Services': 2, 'Clerical & related workers (Stenographers/ Typists etc)': 3, 'Pensioners': 4, 'Police': 5, 'Production process workers Craftsman & related workers transport equipment operators & labourers': 6, 'Professional Technical & related workers (Doctors/Engineers/Accountants/ Teachers/Authors/ Photographers)': 7, 'Sales worker': 8, 'Security Personnel': 9, 'Service workers (Cooks/Tailors/Barbers/ etc)': 10, 'Student': 11, 'Unemployed persons': 12, 'Workers not classfied by occupation ': 13, 'professional Technical & related workers (Doctors/Engineers/Accountants/ Teachers/Authors/ Photographers)': 14}\n",
      "Civil Status {'Divourced': 0, 'Married': 1, 'Unmarried': 2, 'Widow': 3}\n",
      "Education Level {'From Grade 1 to 7': 0, 'Other': 1, 'Passed G.C.E (A/L)': 2, 'Passed G.C.E (O/L)': 3, 'Passed Grade 8': 4, 'School not attended': 5, 'University Degree or above': 6}\n",
      "Reason {'Addiction to narcotic drugs': 0, 'Aggrieved over the death parents/relations': 1, 'Chronic diseases & Physical disabilities': 2, 'Economic problems (Poverty indebtedness)': 3, 'Employment problems': 4, 'Failure at the examination': 5, 'Harrasment by the husband & family disputes': 6, 'Ill-treatment by the children': 7, 'Ill-treatment by the children ': 8, 'Loss of property': 9, 'Mental Disorders': 10, 'Natural Death': 11, 'Other Reasons': 12, 'Problems caused with the elders': 13, 'REASON NOT MENTIONED': 14, 'Road Accident ': 15, 'Sexual incapacity': 16, 'Using disappointment frustration caused through love affairs': 17}\n",
      "Psychiatric Disorders {'BPD': 0, 'Bipolar Disorder': 1, 'Depression': 2, 'None': 3, 'Other': 4, 'Other      ': 5, 'PTSD': 6, 'Schizophrenia': 7}\n",
      "Past Illnesses  {'Asthma': 0, 'COPD': 1, 'Cancer': 2, 'Chronic pain': 3, 'Diabetes': 4, 'HIV/AIDS': 5, 'Heart Diseases': 6, 'Kidney Disease': 7, 'Other': 8, 'Unknown': 9, 'none': 10}\n",
      "Alcohol/ drug Consumption {'Frequent': 0, 'Moderate': 1, 'None': 2}\n"
     ]
    }
   ],
   "source": [
    "category_col =['Gender', 'Religon', 'Race', 'Occupation' ,\n",
    "           'Civil Status' ,'Education Level' ,'Reason' ,\n",
    "           'Psychiatric Disorders' ,'Past Illnesses ' ,'Alcohol/ drug Consumption'] \n",
    "labelEncoder = preprocessing.LabelEncoder()\n",
    "mapping_dict={}\n",
    "for col in category_col:\n",
    "    df2[col] = labelEncoder.fit_transform(df2[col])\n",
    "    le_name_mapping = dict(zip(labelEncoder.classes_, labelEncoder.transform(labelEncoder.classes_)))\n",
    "    mapping_dict[col]=le_name_mapping\n",
    "print(df2.head(20))\n",
    "for x, y in mapping_dict.items():\n",
    "  print(x, y)"
   ]
  },
  {
   "cell_type": "code",
   "execution_count": 5,
   "metadata": {
    "pycharm": {
     "is_executing": false,
     "name": "#%%\n"
    }
   },
   "outputs": [],
   "source": [
    "feature_cols = ['Age', 'Gender', 'Religon', 'Race', 'Occupation' ,\n",
    "           'Civil Status' ,'Education Level' ,'Reason' ,'Lifetime Psychiatric Hospitalizations' ,\n",
    "           'Past Suicide Attempts' ,'Any suicidal thoughts mentioned' ,'Self-Injurious Behaviour' ,\n",
    "           'Psychiatric Disorders' ,'Past Illnesses ' ,'Alcohol/ drug Consumption','Anger',\n",
    "           'Sleep Problem', 'Social Iscolation', 'Sad/ Weary' , 'Humilated']\n",
    "X = df2[feature_cols] # Features\n",
    "y = df2['Suicide']\n",
    "\n",
    "from sklearn.model_selection import train_test_split\n",
    "X_train,X_test,y_train,y_test=train_test_split(X,y,test_size=0.3,random_state=42)"
   ]
  },
  {
   "cell_type": "markdown",
   "metadata": {
    "pycharm": {
     "name": "#%% md\n"
    }
   },
   "source": [
    "#### Finding accuracy"
   ]
  },
  {
   "cell_type": "code",
   "execution_count": 6,
   "metadata": {
    "pycharm": {
     "is_executing": false,
     "name": "#%%\n"
    }
   },
   "outputs": [
    {
     "name": "stdout",
     "output_type": "stream",
     "text": [
      "91.57\n"
     ]
    }
   ],
   "source": [
    "#Import scikit-learn metrics module for accuracy calculation\n",
    "from sklearn import metrics\n",
    "from sklearn.linear_model import Perceptron\n",
    "\n",
    "clf = Perceptron(max_iter=5, tol=None)\n",
    "clf.fit(X_train, y_train)\n",
    "y_pred_perceptron = clf.predict(X_test)\n",
    "acc_perceptron = round(clf.score(X_train, y_train) * 100, 2)\n",
    "print (acc_perceptron)"
   ]
  },
  {
   "cell_type": "markdown",
   "metadata": {
    "pycharm": {
     "name": "#%% md\n"
    }
   },
   "source": [
    "#### Precision and Recall"
   ]
  },
  {
   "cell_type": "code",
   "execution_count": 7,
   "metadata": {
    "pycharm": {
     "is_executing": false,
     "name": "#%%\n"
    }
   },
   "outputs": [],
   "source": [
    "# joblib.dump(rfc, 'model.pkl')\n",
    "# print(\"model dumped!\")\n",
    "# # \n",
    "# # # Loading the model back into the workspace (Deserialization)\n",
    "# # \n",
    "# rfc = joblib.load('model.pkl')\n",
    "# # Use the loaded model to make predictions \n",
    "# rfc.predict(X_test) \n",
    "# Saving the data columns from training\n",
    "# model_columns = list(X.categoricals)"
   ]
  },
  {
   "cell_type": "code",
   "execution_count": 8,
   "metadata": {
    "pycharm": {
     "is_executing": false,
     "name": "#%%\n"
    }
   },
   "outputs": [],
   "source": [
    "import pickle\n",
    "#creating and training a model\n",
    "#serializing our model to a file called model.pkl\n",
    "pickle.dump(clf, open(\"modelPerceptron.pkl\",\"wb\"))"
   ]
  },
  {
   "cell_type": "code",
   "execution_count": 9,
   "metadata": {
    "pycharm": {
     "is_executing": false,
     "name": "#%%\n"
    }
   },
   "outputs": [
    {
     "data": {
      "image/png": "[encoded data removed]",
      "text/plain": [
       "<Figure size 432x288 with 2 Axes>"
      ]
     },
     "metadata": {},
     "output_type": "display_data"
    }
   ],
   "source": [
    "corr = df2.corr()\n",
    "ax = sns.heatmap(\n",
    "    corr, \n",
    "    vmin=-1, vmax=1, center=0,\n",
    "    cmap=sns.diverging_palette(20, 220, n=200),\n",
    "    square=True\n",
    ")\n"
   ]
  },
  {
   "cell_type": "code",
   "execution_count": 10,
   "metadata": {
    "pycharm": {
     "is_executing": false,
     "name": "#%%\n"
    }
   },
   "outputs": [
    {
     "name": "stdout",
     "output_type": "stream",
     "text": [
      "[1]\n"
     ]
    }
   ],
   "source": [
    "print(clf.predict([[87,1,1,1,12,1,5,6,0,0,0,0,3,2,0,1,1,1,0,0]]))\n"
   ]
  },
  {
   "cell_type": "code",
   "execution_count": 11,
   "metadata": {
    "pycharm": {
     "is_executing": false,
     "name": "#%%\n"
    }
   },
   "outputs": [
    {
     "name": "stdout",
     "output_type": "stream",
     "text": [
      "[0]\n"
     ]
    }
   ],
   "source": [
    "print(clf.predict([[87,1,1,1,12,1,5,6,0,0,0,0,3,2,0,1,0,1,0,0]]))\n"
   ]
  },
  {
   "cell_type": "code",
   "execution_count": 12,
   "metadata": {
    "pycharm": {
     "is_executing": false,
     "name": "#%%\n"
    }
   },
   "outputs": [
    {
     "name": "stdout",
     "output_type": "stream",
     "text": [
      "[1]\n"
     ]
    }
   ],
   "source": [
    "print(clf.predict([[87,1,1,1,12,1,5,6,0,0,0,0,3,2,0,1,0,1,1,0]]))\n"
   ]
  },
  {
   "cell_type": "code",
   "execution_count": 13,
   "metadata": {
    "pycharm": {
     "is_executing": false,
     "name": "#%%\n"
    }
   },
   "outputs": [
    {
     "name": "stdout",
     "output_type": "stream",
     "text": [
      "[1]\n"
     ]
    }
   ],
   "source": [
    "print(clf.predict([[87,1,1,1,12,1,5,6,0,0,0,0,3,2,0,1,1,1,0,0]]))\n"
   ]
  },
  {
   "cell_type": "code",
   "execution_count": 14,
   "metadata": {
    "pycharm": {
     "is_executing": false,
     "name": "#%%\n"
    }
   },
   "outputs": [
    {
     "name": "stdout",
     "output_type": "stream",
     "text": [
      "[0]\n"
     ]
    }
   ],
   "source": [
    "print(clf.predict([[31,0,4,11,2,16,0,7,0,0,0,0,3,9,2,0,0,0,0,0]]))\n",
    "\n"
   ]
  },
  {
   "cell_type": "code",
   "execution_count": 15,
   "metadata": {
    "pycharm": {
     "is_executing": false,
     "name": "#%%\n"
    }
   },
   "outputs": [
    {
     "name": "stdout",
     "output_type": "stream",
     "text": [
      "[1]\n"
     ]
    }
   ],
   "source": [
    "print(clf.predict([[31,0,4,11,2,6,0,7,1,0,0,0,3,9,2,0,0,0,0,0]]))\n",
    "\n",
    "\n"
   ]
  },
  {
   "cell_type": "code",
   "execution_count": 16,
   "metadata": {
    "pycharm": {
     "is_executing": false,
     "name": "#%%\n"
    }
   },
   "outputs": [
    {
     "name": "stdout",
     "output_type": "stream",
     "text": [
      "[1]\n"
     ]
    }
   ],
   "source": [
    "\n",
    "print(clf.predict([[31,0,4,11,2,6,0,7,1,1,0,0,3,9,2,0,0,0,0,0]]))\n",
    "\n"
   ]
  },
  {
   "cell_type": "code",
   "execution_count": 17,
   "metadata": {
    "pycharm": {
     "is_executing": false,
     "name": "#%%\n"
    }
   },
   "outputs": [
    {
     "name": "stdout",
     "output_type": "stream",
     "text": [
      "[1]\n"
     ]
    }
   ],
   "source": [
    "print(clf.predict([[31,0,4,11,2,6,0,7,1,1,1,0,3,9,2,0,0,0,0,0]]))\n",
    "\n"
   ]
  },
  {
   "cell_type": "code",
   "execution_count": 18,
   "metadata": {
    "pycharm": {
     "is_executing": false,
     "name": "#%%\n"
    }
   },
   "outputs": [
    {
     "name": "stdout",
     "output_type": "stream",
     "text": [
      "[1]\n"
     ]
    }
   ],
   "source": [
    "print(clf.predict([[31,0,4,11,2,6,0,7,1,1,1,1,3,9,2,0,0,0,0,0]]))\n",
    "\n"
   ]
  },
  {
   "cell_type": "code",
   "execution_count": 19,
   "metadata": {
    "pycharm": {
     "is_executing": false,
     "name": "#%%\n"
    }
   },
   "outputs": [
    {
     "name": "stdout",
     "output_type": "stream",
     "text": [
      "[1]\n"
     ]
    }
   ],
   "source": [
    "print(clf.predict([[31,0,4,11,2,6,1,7,0,0,0,0,3,9,2,1,0,0,0,0]]))\n",
    "\n"
   ]
  },
  {
   "cell_type": "code",
   "execution_count": 74,
   "metadata": {
    "pycharm": {
     "is_executing": false,
     "name": "#%%\n"
    }
   },
   "outputs": [
    {
     "name": "stdout",
     "output_type": "stream",
     "text": [
      "[1]\n"
     ]
    }
   ],
   "source": [
    "print(clf.predict([[31,0,4,11,2,6,0,7,1,0,0,0,3,9,2,1,1,0,0,0]]))\n",
    "\n"
   ]
  },
  {
   "cell_type": "code",
   "execution_count": 75,
   "metadata": {
    "pycharm": {
     "is_executing": false,
     "name": "#%%\n"
    }
   },
   "outputs": [
    {
     "name": "stdout",
     "output_type": "stream",
     "text": [
      "[1]\n"
     ]
    }
   ],
   "source": [
    "print(clf.predict([[31,1,4,11,2,6,0,7,0,0,0,0,3,9,2,1,1,1,0,0]]))\n",
    "\n"
   ]
  },
  {
   "cell_type": "code",
   "execution_count": 76,
   "metadata": {
    "pycharm": {
     "is_executing": false,
     "name": "#%%\n"
    }
   },
   "outputs": [
    {
     "name": "stdout",
     "output_type": "stream",
     "text": [
      "[1]\n"
     ]
    }
   ],
   "source": [
    "print(clf.predict([[31,0,4,11,2,6,0,7,0,0,0,0,3,9,2,1,1,1,1,0]]))\n",
    "\n"
   ]
  },
  {
   "cell_type": "code",
   "execution_count": 77,
   "metadata": {
    "pycharm": {
     "is_executing": false,
     "name": "#%%\n"
    }
   },
   "outputs": [
    {
     "name": "stdout",
     "output_type": "stream",
     "text": [
      "[1]\n"
     ]
    }
   ],
   "source": [
    "print(clf.predict([[31,0,4,11,2,6,0,7,0,0,0,0,3,9,2,1,1,1,1,1]]))\n",
    "\n"
   ]
  },
  {
   "cell_type": "code",
   "execution_count": 78,
   "metadata": {
    "pycharm": {
     "is_executing": false,
     "name": "#%%\n"
    }
   },
   "outputs": [
    {
     "name": "stdout",
     "output_type": "stream",
     "text": [
      "[1]\n"
     ]
    }
   ],
   "source": [
    "print(clf.predict([[20,0,4,11,2,6,0,7,0,0,0,0,3,9,2,0,0,0,0,0]]))\n",
    "\n"
   ]
  },
  {
   "cell_type": "code",
   "execution_count": 79,
   "metadata": {
    "pycharm": {
     "is_executing": false,
     "name": "#%%\n"
    }
   },
   "outputs": [
    {
     "name": "stdout",
     "output_type": "stream",
     "text": [
      "[1]\n"
     ]
    }
   ],
   "source": [
    "print(clf.predict([[21,1,4,11,2,6,0,7,1,1,0,1,3,9,2,0,0,0,0,0]]))\n",
    "\n"
   ]
  },
  {
   "cell_type": "code",
   "execution_count": 80,
   "metadata": {
    "pycharm": {
     "is_executing": false,
     "name": "#%%\n"
    }
   },
   "outputs": [
    {
     "name": "stdout",
     "output_type": "stream",
     "text": [
      "[0]\n"
     ]
    }
   ],
   "source": [
    "print(clf.predict([[21,0,4,4,2,6,0,7,0,1,1,0,3,9,2,0,0,0,0,0]]))\n",
    "\n",
    "\n"
   ]
  },
  {
   "cell_type": "code",
   "execution_count": 81,
   "metadata": {
    "pycharm": {
     "is_executing": false,
     "name": "#%%\n"
    }
   },
   "outputs": [
    {
     "name": "stdout",
     "output_type": "stream",
     "text": [
      "[1]\n"
     ]
    }
   ],
   "source": [
    "print(clf.predict([[20,0,4,11,2,6,0,7,0,0,0,0,3,9,2,0,0,0,0,0]]))\n",
    "\n",
    "\n"
   ]
  },
  {
   "cell_type": "code",
   "execution_count": 82,
   "metadata": {
    "pycharm": {
     "is_executing": false,
     "name": "#%%\n"
    }
   },
   "outputs": [
    {
     "name": "stdout",
     "output_type": "stream",
     "text": [
      "[1]\n"
     ]
    }
   ],
   "source": [
    "print(clf.predict([[21,0,4,11,2,6,0,7,1,1,1,0,3,9,2,0,0,0,0,0]]))\n",
    "\n"
   ]
  },
  {
   "cell_type": "code",
   "execution_count": 50,
   "metadata": {
    "pycharm": {
     "is_executing": false,
     "name": "#%%\n"
    }
   },
   "outputs": [
    {
     "name": "stdout",
     "output_type": "stream",
     "text": [
      "[0]\n"
     ]
    }
   ],
   "source": [
    "print(clf.predict([[21,0,8,11,4,6,0,7,0,0,0,0,3,9,2,0,0,0,0,0]]))\n",
    "\n"
   ]
  },
  {
   "cell_type": "code",
   "execution_count": 170,
   "metadata": {
    "pycharm": {
     "is_executing": false,
     "name": "#%%\n"
    }
   },
   "outputs": [],
   "source": [
    "\n"
   ]
  },
  {
   "cell_type": "code",
   "execution_count": 170,
   "metadata": {
    "pycharm": {
     "is_executing": false,
     "name": "#%%\n"
    }
   },
   "outputs": [],
   "source": [
    "\n"
   ]
  },
  {
   "cell_type": "code",
   "execution_count": 170,
   "metadata": {
    "pycharm": {
     "is_executing": false,
     "name": "#%%\n"
    }
   },
   "outputs": [],
   "source": [
    "\n"
   ]
  },
  {
   "cell_type": "code",
   "execution_count": 170,
   "metadata": {
    "pycharm": {
     "is_executing": false,
     "name": "#%%\n"
    }
   },
   "outputs": [],
   "source": [
    "\n"
   ]
  },
  {
   "cell_type": "code",
   "execution_count": 170,
   "metadata": {
    "pycharm": {
     "is_executing": false,
     "name": "#%%\n"
    }
   },
   "outputs": [],
   "source": [
    "\n"
   ]
  },
  {
   "cell_type": "code",
   "execution_count": 170,
   "metadata": {
    "pycharm": {
     "is_executing": false,
     "name": "#%%\n"
    }
   },
   "outputs": [],
   "source": [
    "\n"
   ]
  },
  {
   "cell_type": "code",
   "execution_count": 170,
   "metadata": {
    "pycharm": {
     "is_executing": false,
     "name": "#%%\n"
    }
   },
   "outputs": [],
   "source": [
    "\n"
   ]
  },
  {
   "cell_type": "code",
   "execution_count": 170,
   "metadata": {
    "pycharm": {
     "is_executing": false,
     "name": "#%%\n"
    }
   },
   "outputs": [],
   "source": [
    "\n"
   ]
  },
  {
   "cell_type": "code",
   "execution_count": 170,
   "metadata": {
    "pycharm": {
     "is_executing": false,
     "name": "#%%\n"
    }
   },
   "outputs": [],
   "source": [
    "\n"
   ]
  },
  {
   "cell_type": "code",
   "execution_count": 170,
   "metadata": {
    "pycharm": {
     "is_executing": false,
     "name": "#%%\n"
    }
   },
   "outputs": [],
   "source": [
    "\n"
   ]
  },
  {
   "cell_type": "code",
   "execution_count": 170,
   "metadata": {
    "pycharm": {
     "is_executing": false,
     "name": "#%%\n"
    }
   },
   "outputs": [],
   "source": [
    "\n"
   ]
  },
  {
   "cell_type": "code",
   "execution_count": 170,
   "metadata": {
    "pycharm": {
     "is_executing": false,
     "name": "#%%\n"
    }
   },
   "outputs": [],
   "source": [
    "\n"
   ]
  },
  {
   "cell_type": "code",
   "execution_count": 170,
   "metadata": {
    "pycharm": {
     "is_executing": false,
     "name": "#%%\n"
    }
   },
   "outputs": [],
   "source": [
    "\n"
   ]
  },
  {
   "cell_type": "code",
   "execution_count": 170,
   "metadata": {
    "pycharm": {
     "is_executing": false,
     "name": "#%%\n"
    }
   },
   "outputs": [],
   "source": [
    "\n"
   ]
  },
  {
   "cell_type": "code",
   "execution_count": 170,
   "metadata": {
    "pycharm": {
     "is_executing": false,
     "name": "#%%\n"
    }
   },
   "outputs": [],
   "source": [
    "\n"
   ]
  },
  {
   "cell_type": "code",
   "execution_count": 170,
   "metadata": {
    "pycharm": {
     "is_executing": false,
     "name": "#%%\n"
    }
   },
   "outputs": [],
   "source": [
    "\n"
   ]
  },
  {
   "cell_type": "code",
   "execution_count": 170,
   "metadata": {
    "pycharm": {
     "is_executing": false,
     "name": "#%%\n"
    }
   },
   "outputs": [],
   "source": [
    "\n"
   ]
  },
  {
   "cell_type": "code",
   "execution_count": 170,
   "metadata": {
    "pycharm": {
     "is_executing": false,
     "name": "#%%\n"
    }
   },
   "outputs": [],
   "source": [
    "\n"
   ]
  },
  {
   "cell_type": "code",
   "execution_count": 170,
   "metadata": {
    "pycharm": {
     "is_executing": false,
     "name": "#%%\n"
    }
   },
   "outputs": [],
   "source": [
    "\n"
   ]
  },
  {
   "cell_type": "code",
   "execution_count": 170,
   "metadata": {
    "pycharm": {
     "is_executing": false,
     "name": "#%%\n"
    }
   },
   "outputs": [],
   "source": [
    "\n"
   ]
  },
  {
   "cell_type": "code",
   "execution_count": 170,
   "metadata": {
    "pycharm": {
     "is_executing": false,
     "name": "#%%\n"
    }
   },
   "outputs": [],
   "source": [
    "\n"
   ]
  },
  {
   "cell_type": "code",
   "execution_count": 170,
   "metadata": {
    "pycharm": {
     "is_executing": false,
     "name": "#%%\n"
    }
   },
   "outputs": [],
   "source": [
    "\n"
   ]
  },
  {
   "cell_type": "code",
   "execution_count": 170,
   "metadata": {
    "pycharm": {
     "is_executing": false,
     "name": "#%%\n"
    }
   },
   "outputs": [],
   "source": [
    "\n"
   ]
  },
  {
   "cell_type": "code",
   "execution_count": 170,
   "metadata": {
    "pycharm": {
     "is_executing": false,
     "name": "#%%\n"
    }
   },
   "outputs": [],
   "source": [
    "\n"
   ]
  },
  {
   "cell_type": "code",
   "execution_count": 140,
   "metadata": {
    "pycharm": {
     "is_executing": false,
     "name": "#%%\n"
    }
   },
   "outputs": [],
   "source": [
    "\n"
   ]
  }
 ],
 "metadata": {
  "kernelspec": {
   "display_name": "Python 3",
   "language": "python",
   "name": "python3"
  },
  "language_info": {
   "codemirror_mode": {
    "name": "ipython",
    "version": 3
   },
   "file_extension": ".py",
   "mimetype": "text/x-python",
   "name": "python",
   "nbconvert_exporter": "python",
   "pygments_lexer": "ipython3",
   "version": "3.6.5"
  },
  "pycharm": {
   "stem_cell": {
    "cell_type": "raw",
    "metadata": {
     "collapsed": false
    },
    "source": []
   }
  }
 },
 "nbformat": 4,
 "nbformat_minor": 1
}
