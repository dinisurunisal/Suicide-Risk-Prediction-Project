{
 "cells": [
  {
   "cell_type": "markdown",
   "metadata": {},
   "source": [
    "# Importing Libraries"
   ]
  },
  {
   "cell_type": "code",
   "execution_count": 2,
   "metadata": {},
   "outputs": [],
   "source": [
    "#Loading required packages and libraries for data analysis\n",
    "import numpy as np\n",
    "import pandas as pd\n",
    "import re\n",
    "import warnings\n",
    "warnings.filterwarnings('ignore')\n",
    "\n",
    "#for data visualization\n",
    "import matplotlib.pyplot as plt\n",
    "import seaborn as sns\n",
    "%matplotlib inline\n",
    "\n",
    "from sklearn import preprocessing\n",
    "from sklearn.externals import joblib\n",
    "\n",
    "# Load dataset\n",
    "import scipy\n",
    "import sklearn\n",
    "\n",
    "# Importing Classifier Modules\n",
    "from sklearn.linear_model import LogisticRegression\n",
    "from sklearn.svm import SVC, LinearSVC\n",
    "from sklearn.neighbors import KNeighborsClassifier\n",
    "from sklearn.tree import DecisionTreeClassifier\n",
    "from sklearn.ensemble import RandomForestClassifier\n",
    "from sklearn.naive_bayes import GaussianNB\n",
    "from sklearn.linear_model import Perceptron\n",
    "from sklearn.linear_model import SGDClassifier\n",
    "\n",
    "from matplotlib import pyplot\n",
    "from sklearn.model_selection import train_test_split\n",
    "from sklearn.model_selection import cross_val_score\n",
    "from sklearn.model_selection import StratifiedKFold\n",
    "from sklearn.metrics import classification_report\n",
    "from sklearn.metrics import confusion_matrix\n",
    "from sklearn.metrics import accuracy_score\n",
    "from sklearn.discriminant_analysis import LinearDiscriminantAnalysis\n",
    "from sklearn.metrics import accuracy_score\n",
    "from pandas.plotting import scatter_matrix\n"
   ]
  },
  {
   "cell_type": "markdown",
   "metadata": {},
   "source": [
    "# Importing the dataset"
   ]
  },
  {
   "cell_type": "code",
   "execution_count": 3,
   "metadata": {},
   "outputs": [],
   "source": [
    "#importing the datasets\n",
    "train= pd.read_csv('FullDataSet.csv')\n",
    "\n",
    "include = [ 'Age', 'Gender', 'Religon', 'Race', 'Occupation' ,\n",
    "           'Civil Status' ,'Education Level' ,'Reason' ,'Lifetime Psychiatric Hospitalizations' ,\n",
    "           'Past Suicide Attempts' ,'Any suicidal thoughts mentioned' ,'Self-Injurious Behaviour' ,\n",
    "           'Psychiatric Disorders' ,'Past Illnesses ' ,'Alcohol/ drug Consumption','Anger',\n",
    "           'Sleep Problem', 'Social Iscolation', 'Sad/ Weary' , 'Humilated' , 'Suicide']  # Except the year, all the features are taken \n",
    "train_df = train[include]"
   ]
  },
  {
   "cell_type": "code",
   "execution_count": 4,
   "metadata": {},
   "outputs": [
    {
     "data": {
      "text/html": [
       "<div>\n",
       "<style scoped>\n",
       "    .dataframe tbody tr th:only-of-type {\n",
       "        vertical-align: middle;\n",
       "    }\n",
       "\n",
       "    .dataframe tbody tr th {\n",
       "        vertical-align: top;\n",
       "    }\n",
       "\n",
       "    .dataframe thead th {\n",
       "        text-align: right;\n",
       "    }\n",
       "</style>\n",
       "<table border=\"1\" class=\"dataframe\">\n",
       "  <thead>\n",
       "    <tr style=\"text-align: right;\">\n",
       "      <th></th>\n",
       "      <th>Age</th>\n",
       "      <th>Gender</th>\n",
       "      <th>Religon</th>\n",
       "      <th>Race</th>\n",
       "      <th>Occupation</th>\n",
       "      <th>Civil Status</th>\n",
       "      <th>Education Level</th>\n",
       "      <th>Reason</th>\n",
       "      <th>Lifetime Psychiatric Hospitalizations</th>\n",
       "      <th>Past Suicide Attempts</th>\n",
       "      <th>...</th>\n",
       "      <th>Self-Injurious Behaviour</th>\n",
       "      <th>Psychiatric Disorders</th>\n",
       "      <th>Past Illnesses</th>\n",
       "      <th>Alcohol/ drug Consumption</th>\n",
       "      <th>Anger</th>\n",
       "      <th>Sleep Problem</th>\n",
       "      <th>Social Iscolation</th>\n",
       "      <th>Sad/ Weary</th>\n",
       "      <th>Humilated</th>\n",
       "      <th>Suicide</th>\n",
       "    </tr>\n",
       "  </thead>\n",
       "  <tbody>\n",
       "    <tr>\n",
       "      <th>0</th>\n",
       "      <td>30</td>\n",
       "      <td>F</td>\n",
       "      <td>Buddhist</td>\n",
       "      <td>Sinhalese</td>\n",
       "      <td>Administrative Executive Managerial &amp; related ...</td>\n",
       "      <td>Unmarried</td>\n",
       "      <td>From Grade 1 to 7</td>\n",
       "      <td>Asthma</td>\n",
       "      <td>0</td>\n",
       "      <td>0</td>\n",
       "      <td>...</td>\n",
       "      <td>0</td>\n",
       "      <td>None</td>\n",
       "      <td>Asthma</td>\n",
       "      <td>None</td>\n",
       "      <td>0</td>\n",
       "      <td>0</td>\n",
       "      <td>0</td>\n",
       "      <td>0</td>\n",
       "      <td>0</td>\n",
       "      <td>0</td>\n",
       "    </tr>\n",
       "    <tr>\n",
       "      <th>1</th>\n",
       "      <td>91</td>\n",
       "      <td>F</td>\n",
       "      <td>Islam</td>\n",
       "      <td>Muslim</td>\n",
       "      <td>Sales worker</td>\n",
       "      <td>Married</td>\n",
       "      <td>University Degree or above</td>\n",
       "      <td>Alzheimer's disease</td>\n",
       "      <td>0</td>\n",
       "      <td>0</td>\n",
       "      <td>...</td>\n",
       "      <td>0</td>\n",
       "      <td>None</td>\n",
       "      <td>Other</td>\n",
       "      <td>None</td>\n",
       "      <td>0</td>\n",
       "      <td>1</td>\n",
       "      <td>0</td>\n",
       "      <td>0</td>\n",
       "      <td>0</td>\n",
       "      <td>0</td>\n",
       "    </tr>\n",
       "    <tr>\n",
       "      <th>2</th>\n",
       "      <td>85</td>\n",
       "      <td>M</td>\n",
       "      <td>Buddhist</td>\n",
       "      <td>Sinhalese</td>\n",
       "      <td>Security Personnel</td>\n",
       "      <td>Married</td>\n",
       "      <td>University Degree or above</td>\n",
       "      <td>Stroke/Chronic diseases &amp; Physical disabilities</td>\n",
       "      <td>0</td>\n",
       "      <td>0</td>\n",
       "      <td>...</td>\n",
       "      <td>0</td>\n",
       "      <td>None</td>\n",
       "      <td>Diabetes</td>\n",
       "      <td>None</td>\n",
       "      <td>0</td>\n",
       "      <td>1</td>\n",
       "      <td>0</td>\n",
       "      <td>0</td>\n",
       "      <td>0</td>\n",
       "      <td>0</td>\n",
       "    </tr>\n",
       "    <tr>\n",
       "      <th>3</th>\n",
       "      <td>87</td>\n",
       "      <td>M</td>\n",
       "      <td>Buddhist</td>\n",
       "      <td>Sinhalese</td>\n",
       "      <td>Unemployed persons</td>\n",
       "      <td>Married</td>\n",
       "      <td>School not attended</td>\n",
       "      <td>Harrasment by the husband &amp; family disputes</td>\n",
       "      <td>0</td>\n",
       "      <td>0</td>\n",
       "      <td>...</td>\n",
       "      <td>0</td>\n",
       "      <td>None</td>\n",
       "      <td>Chronic pain</td>\n",
       "      <td>Frequent</td>\n",
       "      <td>1</td>\n",
       "      <td>1</td>\n",
       "      <td>1</td>\n",
       "      <td>1</td>\n",
       "      <td>1</td>\n",
       "      <td>1</td>\n",
       "    </tr>\n",
       "    <tr>\n",
       "      <th>4</th>\n",
       "      <td>59</td>\n",
       "      <td>F</td>\n",
       "      <td>Buddhist</td>\n",
       "      <td>Sinhalese</td>\n",
       "      <td>Pensioners</td>\n",
       "      <td>Unmarried</td>\n",
       "      <td>Other</td>\n",
       "      <td>Alzheimer's disease</td>\n",
       "      <td>0</td>\n",
       "      <td>1</td>\n",
       "      <td>...</td>\n",
       "      <td>0</td>\n",
       "      <td>None</td>\n",
       "      <td>COPD</td>\n",
       "      <td>None</td>\n",
       "      <td>0</td>\n",
       "      <td>1</td>\n",
       "      <td>0</td>\n",
       "      <td>1</td>\n",
       "      <td>1</td>\n",
       "      <td>0</td>\n",
       "    </tr>\n",
       "    <tr>\n",
       "      <th>5</th>\n",
       "      <td>31</td>\n",
       "      <td>M</td>\n",
       "      <td>Buddhist</td>\n",
       "      <td>Sinhalese</td>\n",
       "      <td>Agricultural Animal Husbandry Fisherman &amp; rela...</td>\n",
       "      <td>Unmarried</td>\n",
       "      <td>Passed G.C.E (O/L)</td>\n",
       "      <td>Harrasment by the husband &amp; family disputes</td>\n",
       "      <td>0</td>\n",
       "      <td>0</td>\n",
       "      <td>...</td>\n",
       "      <td>1</td>\n",
       "      <td>None</td>\n",
       "      <td>Other</td>\n",
       "      <td>Frequent</td>\n",
       "      <td>1</td>\n",
       "      <td>1</td>\n",
       "      <td>1</td>\n",
       "      <td>1</td>\n",
       "      <td>1</td>\n",
       "      <td>1</td>\n",
       "    </tr>\n",
       "    <tr>\n",
       "      <th>6</th>\n",
       "      <td>75</td>\n",
       "      <td>F</td>\n",
       "      <td>Christian</td>\n",
       "      <td>Burger</td>\n",
       "      <td>Armed Services</td>\n",
       "      <td>Divourced</td>\n",
       "      <td>Passed G.C.E (A/L)</td>\n",
       "      <td>Natural Death</td>\n",
       "      <td>0</td>\n",
       "      <td>1</td>\n",
       "      <td>...</td>\n",
       "      <td>0</td>\n",
       "      <td>None</td>\n",
       "      <td>Unknown</td>\n",
       "      <td>None</td>\n",
       "      <td>0</td>\n",
       "      <td>0</td>\n",
       "      <td>1</td>\n",
       "      <td>0</td>\n",
       "      <td>0</td>\n",
       "      <td>0</td>\n",
       "    </tr>\n",
       "    <tr>\n",
       "      <th>7</th>\n",
       "      <td>47</td>\n",
       "      <td>M</td>\n",
       "      <td>Buddhist</td>\n",
       "      <td>Sinhalese</td>\n",
       "      <td>Unemployed persons</td>\n",
       "      <td>Married</td>\n",
       "      <td>School not attended</td>\n",
       "      <td>Harrasment by the husband &amp; family disputes</td>\n",
       "      <td>0</td>\n",
       "      <td>0</td>\n",
       "      <td>...</td>\n",
       "      <td>1</td>\n",
       "      <td>None</td>\n",
       "      <td>Other</td>\n",
       "      <td>Moderate</td>\n",
       "      <td>0</td>\n",
       "      <td>0</td>\n",
       "      <td>1</td>\n",
       "      <td>1</td>\n",
       "      <td>0</td>\n",
       "      <td>1</td>\n",
       "    </tr>\n",
       "    <tr>\n",
       "      <th>8</th>\n",
       "      <td>58</td>\n",
       "      <td>F</td>\n",
       "      <td>Christian</td>\n",
       "      <td>Burger</td>\n",
       "      <td>Armed Services</td>\n",
       "      <td>Unmarried</td>\n",
       "      <td>University Degree or above</td>\n",
       "      <td>Diabetes</td>\n",
       "      <td>0</td>\n",
       "      <td>1</td>\n",
       "      <td>...</td>\n",
       "      <td>0</td>\n",
       "      <td>None</td>\n",
       "      <td>Unknown</td>\n",
       "      <td>None</td>\n",
       "      <td>0</td>\n",
       "      <td>0</td>\n",
       "      <td>0</td>\n",
       "      <td>0</td>\n",
       "      <td>0</td>\n",
       "      <td>0</td>\n",
       "    </tr>\n",
       "    <tr>\n",
       "      <th>9</th>\n",
       "      <td>36</td>\n",
       "      <td>F</td>\n",
       "      <td>Hindu</td>\n",
       "      <td>Tamil</td>\n",
       "      <td>Armed Services</td>\n",
       "      <td>Widow</td>\n",
       "      <td>University Degree or above</td>\n",
       "      <td>Natural Death</td>\n",
       "      <td>0</td>\n",
       "      <td>1</td>\n",
       "      <td>...</td>\n",
       "      <td>0</td>\n",
       "      <td>None</td>\n",
       "      <td>Unknown</td>\n",
       "      <td>None</td>\n",
       "      <td>0</td>\n",
       "      <td>1</td>\n",
       "      <td>0</td>\n",
       "      <td>0</td>\n",
       "      <td>0</td>\n",
       "      <td>0</td>\n",
       "    </tr>\n",
       "  </tbody>\n",
       "</table>\n",
       "<p>10 rows × 21 columns</p>\n",
       "</div>"
      ],
      "text/plain": [
       "   Age Gender    Religon       Race  \\\n",
       "0   30      F   Buddhist  Sinhalese   \n",
       "1   91      F      Islam     Muslim   \n",
       "2   85      M   Buddhist  Sinhalese   \n",
       "3   87      M   Buddhist  Sinhalese   \n",
       "4   59      F   Buddhist  Sinhalese   \n",
       "5   31      M   Buddhist  Sinhalese   \n",
       "6   75      F  Christian     Burger   \n",
       "7   47      M   Buddhist  Sinhalese   \n",
       "8   58      F  Christian     Burger   \n",
       "9   36      F      Hindu      Tamil   \n",
       "\n",
       "                                          Occupation Civil Status  \\\n",
       "0  Administrative Executive Managerial & related ...    Unmarried   \n",
       "1                                       Sales worker      Married   \n",
       "2                                 Security Personnel      Married   \n",
       "3                                 Unemployed persons      Married   \n",
       "4                                         Pensioners    Unmarried   \n",
       "5  Agricultural Animal Husbandry Fisherman & rela...    Unmarried   \n",
       "6                                     Armed Services    Divourced   \n",
       "7                                 Unemployed persons      Married   \n",
       "8                                     Armed Services    Unmarried   \n",
       "9                                     Armed Services        Widow   \n",
       "\n",
       "              Education Level  \\\n",
       "0           From Grade 1 to 7   \n",
       "1  University Degree or above   \n",
       "2  University Degree or above   \n",
       "3         School not attended   \n",
       "4                       Other   \n",
       "5          Passed G.C.E (O/L)   \n",
       "6          Passed G.C.E (A/L)   \n",
       "7         School not attended   \n",
       "8  University Degree or above   \n",
       "9  University Degree or above   \n",
       "\n",
       "                                            Reason  \\\n",
       "0                                           Asthma   \n",
       "1                              Alzheimer's disease   \n",
       "2  Stroke/Chronic diseases & Physical disabilities   \n",
       "3      Harrasment by the husband & family disputes   \n",
       "4                              Alzheimer's disease   \n",
       "5      Harrasment by the husband & family disputes   \n",
       "6                                    Natural Death   \n",
       "7      Harrasment by the husband & family disputes   \n",
       "8                                         Diabetes   \n",
       "9                                    Natural Death   \n",
       "\n",
       "   Lifetime Psychiatric Hospitalizations  Past Suicide Attempts   ...     \\\n",
       "0                                      0                      0   ...      \n",
       "1                                      0                      0   ...      \n",
       "2                                      0                      0   ...      \n",
       "3                                      0                      0   ...      \n",
       "4                                      0                      1   ...      \n",
       "5                                      0                      0   ...      \n",
       "6                                      0                      1   ...      \n",
       "7                                      0                      0   ...      \n",
       "8                                      0                      1   ...      \n",
       "9                                      0                      1   ...      \n",
       "\n",
       "   Self-Injurious Behaviour  Psychiatric Disorders Past Illnesses   \\\n",
       "0                         0                   None          Asthma   \n",
       "1                         0                   None           Other   \n",
       "2                         0                   None        Diabetes   \n",
       "3                         0                   None    Chronic pain   \n",
       "4                         0                   None            COPD   \n",
       "5                         1                   None           Other   \n",
       "6                         0                   None         Unknown   \n",
       "7                         1                   None           Other   \n",
       "8                         0                   None         Unknown   \n",
       "9                         0                   None         Unknown   \n",
       "\n",
       "  Alcohol/ drug Consumption Anger  Sleep Problem  Social Iscolation  \\\n",
       "0                      None     0              0                  0   \n",
       "1                      None     0              1                  0   \n",
       "2                      None     0              1                  0   \n",
       "3                  Frequent     1              1                  1   \n",
       "4                      None     0              1                  0   \n",
       "5                  Frequent     1              1                  1   \n",
       "6                      None     0              0                  1   \n",
       "7                  Moderate     0              0                  1   \n",
       "8                      None     0              0                  0   \n",
       "9                      None     0              1                  0   \n",
       "\n",
       "   Sad/ Weary  Humilated  Suicide  \n",
       "0           0          0        0  \n",
       "1           0          0        0  \n",
       "2           0          0        0  \n",
       "3           1          1        1  \n",
       "4           1          1        0  \n",
       "5           1          1        1  \n",
       "6           0          0        0  \n",
       "7           1          0        1  \n",
       "8           0          0        0  \n",
       "9           0          0        0  \n",
       "\n",
       "[10 rows x 21 columns]"
      ]
     },
     "execution_count": 4,
     "metadata": {},
     "output_type": "execute_result"
    }
   ],
   "source": [
    "#look of the training data\n",
    "train_df.head(10)"
   ]
  },
  {
   "cell_type": "code",
   "execution_count": 5,
   "metadata": {},
   "outputs": [
    {
     "name": "stdout",
     "output_type": "stream",
     "text": [
      "<class 'pandas.core.frame.DataFrame'>\n",
      "RangeIndex: 1000 entries, 0 to 999\n",
      "Data columns (total 21 columns):\n",
      "Age                                      1000 non-null int64\n",
      "Gender                                   1000 non-null object\n",
      "Religon                                  1000 non-null object\n",
      "Race                                     1000 non-null object\n",
      "Occupation                               1000 non-null object\n",
      "Civil Status                             1000 non-null object\n",
      "Education Level                          1000 non-null object\n",
      "Reason                                   1000 non-null object\n",
      "Lifetime Psychiatric Hospitalizations    1000 non-null int64\n",
      "Past Suicide Attempts                    1000 non-null int64\n",
      "Any suicidal thoughts mentioned          1000 non-null int64\n",
      "Self-Injurious Behaviour                 1000 non-null int64\n",
      "Psychiatric Disorders                    1000 non-null object\n",
      "Past Illnesses                           1000 non-null object\n",
      "Alcohol/ drug Consumption                1000 non-null object\n",
      "Anger                                    1000 non-null int64\n",
      "Sleep Problem                            1000 non-null int64\n",
      "Social Iscolation                        1000 non-null int64\n",
      "Sad/ Weary                               1000 non-null int64\n",
      "Humilated                                1000 non-null int64\n",
      "Suicide                                  1000 non-null int64\n",
      "dtypes: int64(11), object(10)\n",
      "memory usage: 164.1+ KB\n"
     ]
    }
   ],
   "source": [
    "#kind of data we have to work with\n",
    "train_df.info()"
   ]
  },
  {
   "cell_type": "code",
   "execution_count": 6,
   "metadata": {},
   "outputs": [
    {
     "data": {
      "text/html": [
       "<div>\n",
       "<style scoped>\n",
       "    .dataframe tbody tr th:only-of-type {\n",
       "        vertical-align: middle;\n",
       "    }\n",
       "\n",
       "    .dataframe tbody tr th {\n",
       "        vertical-align: top;\n",
       "    }\n",
       "\n",
       "    .dataframe thead th {\n",
       "        text-align: right;\n",
       "    }\n",
       "</style>\n",
       "<table border=\"1\" class=\"dataframe\">\n",
       "  <thead>\n",
       "    <tr style=\"text-align: right;\">\n",
       "      <th></th>\n",
       "      <th>Age</th>\n",
       "      <th>Lifetime Psychiatric Hospitalizations</th>\n",
       "      <th>Past Suicide Attempts</th>\n",
       "      <th>Any suicidal thoughts mentioned</th>\n",
       "      <th>Self-Injurious Behaviour</th>\n",
       "      <th>Anger</th>\n",
       "      <th>Sleep Problem</th>\n",
       "      <th>Social Iscolation</th>\n",
       "      <th>Sad/ Weary</th>\n",
       "      <th>Humilated</th>\n",
       "      <th>Suicide</th>\n",
       "    </tr>\n",
       "  </thead>\n",
       "  <tbody>\n",
       "    <tr>\n",
       "      <th>count</th>\n",
       "      <td>1000.00000</td>\n",
       "      <td>1000.000000</td>\n",
       "      <td>1000.000000</td>\n",
       "      <td>1000.000000</td>\n",
       "      <td>1000.000000</td>\n",
       "      <td>1000.000000</td>\n",
       "      <td>1000.000000</td>\n",
       "      <td>1000.000000</td>\n",
       "      <td>1000.000000</td>\n",
       "      <td>1000.000000</td>\n",
       "      <td>1000.00000</td>\n",
       "    </tr>\n",
       "    <tr>\n",
       "      <th>mean</th>\n",
       "      <td>54.96100</td>\n",
       "      <td>0.188000</td>\n",
       "      <td>0.213000</td>\n",
       "      <td>0.284000</td>\n",
       "      <td>0.226000</td>\n",
       "      <td>0.314000</td>\n",
       "      <td>0.598000</td>\n",
       "      <td>0.340000</td>\n",
       "      <td>0.359000</td>\n",
       "      <td>0.259000</td>\n",
       "      <td>0.50000</td>\n",
       "    </tr>\n",
       "    <tr>\n",
       "      <th>std</th>\n",
       "      <td>22.49946</td>\n",
       "      <td>0.390908</td>\n",
       "      <td>0.409633</td>\n",
       "      <td>0.451162</td>\n",
       "      <td>0.418448</td>\n",
       "      <td>0.464349</td>\n",
       "      <td>0.490547</td>\n",
       "      <td>0.473946</td>\n",
       "      <td>0.479947</td>\n",
       "      <td>0.438305</td>\n",
       "      <td>0.50025</td>\n",
       "    </tr>\n",
       "    <tr>\n",
       "      <th>min</th>\n",
       "      <td>10.00000</td>\n",
       "      <td>0.000000</td>\n",
       "      <td>0.000000</td>\n",
       "      <td>0.000000</td>\n",
       "      <td>0.000000</td>\n",
       "      <td>0.000000</td>\n",
       "      <td>0.000000</td>\n",
       "      <td>0.000000</td>\n",
       "      <td>0.000000</td>\n",
       "      <td>0.000000</td>\n",
       "      <td>0.00000</td>\n",
       "    </tr>\n",
       "    <tr>\n",
       "      <th>25%</th>\n",
       "      <td>36.00000</td>\n",
       "      <td>0.000000</td>\n",
       "      <td>0.000000</td>\n",
       "      <td>0.000000</td>\n",
       "      <td>0.000000</td>\n",
       "      <td>0.000000</td>\n",
       "      <td>0.000000</td>\n",
       "      <td>0.000000</td>\n",
       "      <td>0.000000</td>\n",
       "      <td>0.000000</td>\n",
       "      <td>0.00000</td>\n",
       "    </tr>\n",
       "    <tr>\n",
       "      <th>50%</th>\n",
       "      <td>57.00000</td>\n",
       "      <td>0.000000</td>\n",
       "      <td>0.000000</td>\n",
       "      <td>0.000000</td>\n",
       "      <td>0.000000</td>\n",
       "      <td>0.000000</td>\n",
       "      <td>1.000000</td>\n",
       "      <td>0.000000</td>\n",
       "      <td>0.000000</td>\n",
       "      <td>0.000000</td>\n",
       "      <td>0.50000</td>\n",
       "    </tr>\n",
       "    <tr>\n",
       "      <th>75%</th>\n",
       "      <td>73.00000</td>\n",
       "      <td>0.000000</td>\n",
       "      <td>0.000000</td>\n",
       "      <td>1.000000</td>\n",
       "      <td>0.000000</td>\n",
       "      <td>1.000000</td>\n",
       "      <td>1.000000</td>\n",
       "      <td>1.000000</td>\n",
       "      <td>1.000000</td>\n",
       "      <td>1.000000</td>\n",
       "      <td>1.00000</td>\n",
       "    </tr>\n",
       "    <tr>\n",
       "      <th>max</th>\n",
       "      <td>98.00000</td>\n",
       "      <td>1.000000</td>\n",
       "      <td>1.000000</td>\n",
       "      <td>1.000000</td>\n",
       "      <td>1.000000</td>\n",
       "      <td>1.000000</td>\n",
       "      <td>1.000000</td>\n",
       "      <td>1.000000</td>\n",
       "      <td>1.000000</td>\n",
       "      <td>1.000000</td>\n",
       "      <td>1.00000</td>\n",
       "    </tr>\n",
       "  </tbody>\n",
       "</table>\n",
       "</div>"
      ],
      "text/plain": [
       "              Age  Lifetime Psychiatric Hospitalizations  \\\n",
       "count  1000.00000                            1000.000000   \n",
       "mean     54.96100                               0.188000   \n",
       "std      22.49946                               0.390908   \n",
       "min      10.00000                               0.000000   \n",
       "25%      36.00000                               0.000000   \n",
       "50%      57.00000                               0.000000   \n",
       "75%      73.00000                               0.000000   \n",
       "max      98.00000                               1.000000   \n",
       "\n",
       "       Past Suicide Attempts  Any suicidal thoughts mentioned  \\\n",
       "count            1000.000000                      1000.000000   \n",
       "mean                0.213000                         0.284000   \n",
       "std                 0.409633                         0.451162   \n",
       "min                 0.000000                         0.000000   \n",
       "25%                 0.000000                         0.000000   \n",
       "50%                 0.000000                         0.000000   \n",
       "75%                 0.000000                         1.000000   \n",
       "max                 1.000000                         1.000000   \n",
       "\n",
       "       Self-Injurious Behaviour        Anger  Sleep Problem  \\\n",
       "count               1000.000000  1000.000000    1000.000000   \n",
       "mean                   0.226000     0.314000       0.598000   \n",
       "std                    0.418448     0.464349       0.490547   \n",
       "min                    0.000000     0.000000       0.000000   \n",
       "25%                    0.000000     0.000000       0.000000   \n",
       "50%                    0.000000     0.000000       1.000000   \n",
       "75%                    0.000000     1.000000       1.000000   \n",
       "max                    1.000000     1.000000       1.000000   \n",
       "\n",
       "       Social Iscolation   Sad/ Weary    Humilated     Suicide  \n",
       "count        1000.000000  1000.000000  1000.000000  1000.00000  \n",
       "mean            0.340000     0.359000     0.259000     0.50000  \n",
       "std             0.473946     0.479947     0.438305     0.50025  \n",
       "min             0.000000     0.000000     0.000000     0.00000  \n",
       "25%             0.000000     0.000000     0.000000     0.00000  \n",
       "50%             0.000000     0.000000     0.000000     0.50000  \n",
       "75%             1.000000     1.000000     1.000000     1.00000  \n",
       "max             1.000000     1.000000     1.000000     1.00000  "
      ]
     },
     "execution_count": 6,
     "metadata": {},
     "output_type": "execute_result"
    }
   ],
   "source": [
    "train_df.describe()"
   ]
  },
  {
   "cell_type": "code",
   "execution_count": 7,
   "metadata": {},
   "outputs": [
    {
     "data": {
      "text/html": [
       "<div>\n",
       "<style scoped>\n",
       "    .dataframe tbody tr th:only-of-type {\n",
       "        vertical-align: middle;\n",
       "    }\n",
       "\n",
       "    .dataframe tbody tr th {\n",
       "        vertical-align: top;\n",
       "    }\n",
       "\n",
       "    .dataframe thead th {\n",
       "        text-align: right;\n",
       "    }\n",
       "</style>\n",
       "<table border=\"1\" class=\"dataframe\">\n",
       "  <thead>\n",
       "    <tr style=\"text-align: right;\">\n",
       "      <th></th>\n",
       "      <th>Gender</th>\n",
       "      <th>Religon</th>\n",
       "      <th>Race</th>\n",
       "      <th>Occupation</th>\n",
       "      <th>Civil Status</th>\n",
       "      <th>Education Level</th>\n",
       "      <th>Reason</th>\n",
       "      <th>Psychiatric Disorders</th>\n",
       "      <th>Past Illnesses</th>\n",
       "      <th>Alcohol/ drug Consumption</th>\n",
       "    </tr>\n",
       "  </thead>\n",
       "  <tbody>\n",
       "    <tr>\n",
       "      <th>count</th>\n",
       "      <td>1000</td>\n",
       "      <td>1000</td>\n",
       "      <td>1000</td>\n",
       "      <td>1000</td>\n",
       "      <td>1000</td>\n",
       "      <td>1000</td>\n",
       "      <td>1000</td>\n",
       "      <td>1000</td>\n",
       "      <td>1000</td>\n",
       "      <td>1000</td>\n",
       "    </tr>\n",
       "    <tr>\n",
       "      <th>unique</th>\n",
       "      <td>2</td>\n",
       "      <td>5</td>\n",
       "      <td>5</td>\n",
       "      <td>15</td>\n",
       "      <td>4</td>\n",
       "      <td>7</td>\n",
       "      <td>26</td>\n",
       "      <td>8</td>\n",
       "      <td>11</td>\n",
       "      <td>3</td>\n",
       "    </tr>\n",
       "    <tr>\n",
       "      <th>top</th>\n",
       "      <td>M</td>\n",
       "      <td>Buddhist</td>\n",
       "      <td>Sinhalese</td>\n",
       "      <td>Unemployed persons</td>\n",
       "      <td>Married</td>\n",
       "      <td>Passed Grade 8</td>\n",
       "      <td>Natural Death</td>\n",
       "      <td>None</td>\n",
       "      <td>Other</td>\n",
       "      <td>None</td>\n",
       "    </tr>\n",
       "    <tr>\n",
       "      <th>freq</th>\n",
       "      <td>569</td>\n",
       "      <td>599</td>\n",
       "      <td>626</td>\n",
       "      <td>227</td>\n",
       "      <td>454</td>\n",
       "      <td>228</td>\n",
       "      <td>172</td>\n",
       "      <td>691</td>\n",
       "      <td>228</td>\n",
       "      <td>708</td>\n",
       "    </tr>\n",
       "  </tbody>\n",
       "</table>\n",
       "</div>"
      ],
      "text/plain": [
       "       Gender   Religon       Race          Occupation Civil Status  \\\n",
       "count    1000      1000       1000                1000         1000   \n",
       "unique      2         5          5                  15            4   \n",
       "top         M  Buddhist  Sinhalese  Unemployed persons      Married   \n",
       "freq      569       599        626                 227          454   \n",
       "\n",
       "       Education Level         Reason Psychiatric Disorders Past Illnesses   \\\n",
       "count             1000           1000                  1000            1000   \n",
       "unique               7             26                     8              11   \n",
       "top     Passed Grade 8  Natural Death                  None           Other   \n",
       "freq               228            172                   691             228   \n",
       "\n",
       "       Alcohol/ drug Consumption  \n",
       "count                       1000  \n",
       "unique                         3  \n",
       "top                         None  \n",
       "freq                         708  "
      ]
     },
     "execution_count": 7,
     "metadata": {},
     "output_type": "execute_result"
    }
   ],
   "source": [
    "train_df.describe(include='O')# not zero capital o"
   ]
  },
  {
   "cell_type": "code",
   "execution_count": 8,
   "metadata": {},
   "outputs": [
    {
     "data": {
      "text/plain": [
       "Age                                      0.0\n",
       "Gender                                   0.0\n",
       "Religon                                  0.0\n",
       "Race                                     0.0\n",
       "Occupation                               0.0\n",
       "Civil Status                             0.0\n",
       "Education Level                          0.0\n",
       "Reason                                   0.0\n",
       "Lifetime Psychiatric Hospitalizations    0.0\n",
       "Past Suicide Attempts                    0.0\n",
       "Any suicidal thoughts mentioned          0.0\n",
       "Self-Injurious Behaviour                 0.0\n",
       "Psychiatric Disorders                    0.0\n",
       "Past Illnesses                           0.0\n",
       "Alcohol/ drug Consumption                0.0\n",
       "Anger                                    0.0\n",
       "Sleep Problem                            0.0\n",
       "Social Iscolation                        0.0\n",
       "Sad/ Weary                               0.0\n",
       "Humilated                                0.0\n",
       "Suicide                                  0.0\n",
       "dtype: float64"
      ]
     },
     "execution_count": 8,
     "metadata": {},
     "output_type": "execute_result"
    }
   ],
   "source": [
    "#finding the percentage of missing values in train dataset\n",
    "train_df.isnull().sum() /len(train_df)*100"
   ]
  },
  {
   "cell_type": "code",
   "execution_count": 9,
   "metadata": {},
   "outputs": [
    {
     "data": {
      "text/plain": [
       "M    569\n",
       "F    431\n",
       "Name: Gender, dtype: int64"
      ]
     },
     "execution_count": 9,
     "metadata": {},
     "output_type": "execute_result"
    },
    {
     "data": {
      "image/png": "[encoded data removed]",
      "text/plain": [
       "<Figure size 432x288 with 1 Axes>"
      ]
     },
     "metadata": {},
     "output_type": "display_data"
    }
   ],
   "source": [
    "#count of  Gender\n",
    "sns.countplot('Gender',data=train_df)\n",
    "train_df['Gender'].value_counts()"
   ]
  },
  {
   "cell_type": "code",
   "execution_count": 10,
   "metadata": {},
   "outputs": [
    {
     "data": {
      "text/plain": [
       "Buddhist     599\n",
       "Christian    152\n",
       "Hindu        143\n",
       "Other         65\n",
       "Islam         41\n",
       "Name: Religon, dtype: int64"
      ]
     },
     "execution_count": 10,
     "metadata": {},
     "output_type": "execute_result"
    },
    {
     "data": {
      "image/png": "[encoded data removed]",
      "text/plain": [
       "<Figure size 432x288 with 1 Axes>"
      ]
     },
     "metadata": {},
     "output_type": "display_data"
    }
   ],
   "source": [
    "#count of Religon\n",
    "sns.countplot('Religon',data=train_df)\n",
    "train_df['Religon'].value_counts()"
   ]
  },
  {
   "cell_type": "code",
   "execution_count": 11,
   "metadata": {},
   "outputs": [
    {
     "data": {
      "text/plain": [
       "Sinhalese    626\n",
       "Burger       163\n",
       "Tamil        143\n",
       "Muslim        41\n",
       "Other         27\n",
       "Name: Race, dtype: int64"
      ]
     },
     "execution_count": 11,
     "metadata": {},
     "output_type": "execute_result"
    },
    {
     "data": {
      "image/png": "[encoded data removed]",
      "text/plain": [
       "<Figure size 432x288 with 1 Axes>"
      ]
     },
     "metadata": {},
     "output_type": "display_data"
    }
   ],
   "source": [
    "#count of Race\n",
    "sns.countplot('Race',data=train_df)\n",
    "train_df['Race'].value_counts()"
   ]
  },
  {
   "cell_type": "code",
   "execution_count": 12,
   "metadata": {},
   "outputs": [
    {
     "data": {
      "text/plain": [
       "Unemployed persons                                                                                           227\n",
       "Agricultural Animal Husbandry Fisherman & related Forestry workers                                           108\n",
       "Pensioners                                                                                                   102\n",
       "Administrative Executive Managerial & related workers                                                         70\n",
       "Clerical & related workers (Stenographers/ Typists etc)                                                       65\n",
       "Production process workers Craftsman & related workers transport equipment operators & labourers              63\n",
       "Security Personnel                                                                                            61\n",
       "Sales worker                                                                                                  50\n",
       "Service workers (Cooks/Tailors/Barbers/ etc)                                                                  50\n",
       "Police                                                                                                        46\n",
       "Armed Services                                                                                                46\n",
       "Student                                                                                                       42\n",
       "Workers not classfied by occupation                                                                           41\n",
       "Professional Technical & related workers (Doctors/Engineers/Accountants/ Teachers/Authors/ Photographers)     28\n",
       "professional Technical & related workers (Doctors/Engineers/Accountants/ Teachers/Authors/ Photographers)      1\n",
       "Name: Occupation, dtype: int64"
      ]
     },
     "execution_count": 12,
     "metadata": {},
     "output_type": "execute_result"
    },
    {
     "data": {
      "image/png": "[encoded data removed]",
      "text/plain": [
       "<Figure size 432x288 with 1 Axes>"
      ]
     },
     "metadata": {},
     "output_type": "display_data"
    }
   ],
   "source": [
    "#count of Occupation\n",
    "sns.countplot('Occupation',data=train_df)\n",
    "train_df['Occupation'].value_counts()"
   ]
  },
  {
   "cell_type": "code",
   "execution_count": 13,
   "metadata": {},
   "outputs": [
    {
     "data": {
      "text/plain": [
       "Married      454\n",
       "Unmarried    305\n",
       "Widow        143\n",
       "Divourced     98\n",
       "Name: Civil Status, dtype: int64"
      ]
     },
     "execution_count": 13,
     "metadata": {},
     "output_type": "execute_result"
    },
    {
     "data": {
      "image/png": "[encoded data removed]",
      "text/plain": [
       "<Figure size 432x288 with 1 Axes>"
      ]
     },
     "metadata": {},
     "output_type": "display_data"
    }
   ],
   "source": [
    "#count of Civil status\n",
    "sns.countplot('Civil Status',data=train_df)\n",
    "train_df['Civil Status'].value_counts()"
   ]
  },
  {
   "cell_type": "code",
   "execution_count": 14,
   "metadata": {},
   "outputs": [
    {
     "name": "stdout",
     "output_type": "stream",
     "text": [
      "Suicide: 500 (50.0%)\n",
      "Not Suicide: 500 (50.0%)\n",
      "Total: 1000\n"
     ]
    }
   ],
   "source": [
    "Suicide = train_df[train_df['Suicide'] == 1]\n",
    "not_Suicide = train_df[train_df['Suicide'] == 0]\n",
    "\n",
    "print (\"Suicide: %i (%.1f%%)\"%(len(Suicide), float(len(Suicide))/len(train_df)*100.0))\n",
    "print (\"Not Suicide: %i (%.1f%%)\"%(len(not_Suicide), float(len(not_Suicide))/len(train_df)*100.0))\n",
    "print (\"Total: %i\"%len(train_df))"
   ]
  },
  {
   "cell_type": "code",
   "execution_count": 15,
   "metadata": {},
   "outputs": [
    {
     "data": {
      "text/plain": [
       "Buddhist     599\n",
       "Christian    152\n",
       "Hindu        143\n",
       "Other         65\n",
       "Islam         41\n",
       "Name: Religon, dtype: int64"
      ]
     },
     "execution_count": 15,
     "metadata": {},
     "output_type": "execute_result"
    }
   ],
   "source": [
    "train_df.Religon.value_counts()"
   ]
  },
  {
   "cell_type": "markdown",
   "metadata": {},
   "source": [
    "# Gender and Suicide"
   ]
  },
  {
   "cell_type": "code",
   "execution_count": 16,
   "metadata": {},
   "outputs": [
    {
     "data": {
      "text/plain": [
       "<matplotlib.axes._subplots.AxesSubplot at 0x1d966f3be48>"
      ]
     },
     "execution_count": 16,
     "metadata": {},
     "output_type": "execute_result"
    },
    {
     "data": {
      "image/png": "[encoded data removed]",
      "text/plain": [
       "<Figure size 432x288 with 1 Axes>"
      ]
     },
     "metadata": {},
     "output_type": "display_data"
    }
   ],
   "source": [
    "train_df.Gender.value_counts()\n",
    "train_df.groupby('Gender').Suicide.value_counts()\n",
    "train_df[['Gender', 'Suicide']].groupby(['Gender'], as_index=False).mean()\n",
    "\n",
    "#train.groupby('Sex').Survived.mean().plot(kind='bar')\n",
    "sns.barplot(x='Gender', y='Suicide', data=train_df)"
   ]
  },
  {
   "cell_type": "markdown",
   "metadata": {},
   "source": [
    "# Anger and Suicide "
   ]
  },
  {
   "cell_type": "code",
   "execution_count": 17,
   "metadata": {},
   "outputs": [
    {
     "data": {
      "text/plain": [
       "Anger  Suicide\n",
       "0      0          439\n",
       "       1          247\n",
       "1      1          253\n",
       "       0           61\n",
       "Name: Suicide, dtype: int64"
      ]
     },
     "execution_count": 17,
     "metadata": {},
     "output_type": "execute_result"
    }
   ],
   "source": [
    "train_df.groupby('Anger').Suicide.value_counts()"
   ]
  },
  {
   "cell_type": "code",
   "execution_count": 18,
   "metadata": {},
   "outputs": [
    {
     "data": {
      "text/plain": [
       "<matplotlib.axes._subplots.AxesSubplot at 0x1d966fa0828>"
      ]
     },
     "execution_count": 18,
     "metadata": {},
     "output_type": "execute_result"
    },
    {
     "data": {
      "image/png": "[encoded data removed]",
      "text/plain": [
       "<Figure size 432x288 with 1 Axes>"
      ]
     },
     "metadata": {},
     "output_type": "display_data"
    }
   ],
   "source": [
    "train_df.Gender.value_counts()\n",
    "train_df.groupby('Anger').Suicide.value_counts()\n",
    "train_df[['Anger', 'Suicide']].groupby(['Anger'], as_index=False).mean()\n",
    "sns.barplot(x='Anger', y='Suicide', data=train_df)\n",
    " \n",
    "#'Age', 'Gender', 'Religon', 'Race', 'Occupation' ,'Civil Status' ,'Education Level' ,'Reason' ,'Lifetime Psychiatric Hospitalizations' ,\n",
    "#    'Past Suicide Attempts' ,'Any suicidal thoughts mentioned' ,'Self-Injurious Behaviour' ,\n",
    "#    'Psychiatric Disorders' ,'Past Illnesses ' ,'Alcohol/ drug Consumption','Anger',\n",
    "#   'Sleep Problem', 'Social Iscolation', 'Sad/ Weary' , 'Humilated' , 'Suicide'"
   ]
  },
  {
   "cell_type": "markdown",
   "metadata": {},
   "source": [
    "# Religon and Suicide"
   ]
  },
  {
   "cell_type": "code",
   "execution_count": 19,
   "metadata": {},
   "outputs": [
    {
     "data": {
      "text/plain": [
       "Religon    Suicide\n",
       "Buddhist   1          476\n",
       "           0          123\n",
       "Christian  0          152\n",
       "Hindu      0          120\n",
       "           1           23\n",
       "Islam      0           40\n",
       "           1            1\n",
       "Other      0           65\n",
       "Name: Suicide, dtype: int64"
      ]
     },
     "execution_count": 19,
     "metadata": {},
     "output_type": "execute_result"
    }
   ],
   "source": [
    "train_df.groupby('Religon').Suicide.value_counts()"
   ]
  },
  {
   "cell_type": "code",
   "execution_count": 20,
   "metadata": {},
   "outputs": [
    {
     "data": {
      "text/plain": [
       "<matplotlib.axes._subplots.AxesSubplot at 0x1d967066eb8>"
      ]
     },
     "execution_count": 20,
     "metadata": {},
     "output_type": "execute_result"
    },
    {
     "data": {
      "image/png": "[encoded data removed]",
      "text/plain": [
       "<Figure size 432x288 with 1 Axes>"
      ]
     },
     "metadata": {},
     "output_type": "display_data"
    }
   ],
   "source": [
    "train_df.Gender.value_counts()\n",
    "train_df.groupby('Religon').Suicide.value_counts()\n",
    "train_df[['Religon', 'Suicide']].groupby(['Religon'], as_index=False).mean()\n",
    "sns.barplot(x='Religon', y='Suicide', data=train_df)"
   ]
  },
  {
   "cell_type": "markdown",
   "metadata": {},
   "source": [
    "# Race and Suicide "
   ]
  },
  {
   "cell_type": "code",
   "execution_count": 21,
   "metadata": {},
   "outputs": [
    {
     "data": {
      "text/plain": [
       "<matplotlib.axes._subplots.AxesSubplot at 0x1d9670d7550>"
      ]
     },
     "execution_count": 21,
     "metadata": {},
     "output_type": "execute_result"
    },
    {
     "data": {
      "image/png": "[encoded data removed]",
      "text/plain": [
       "<Figure size 432x288 with 1 Axes>"
      ]
     },
     "metadata": {},
     "output_type": "display_data"
    }
   ],
   "source": [
    "train_df.Gender.value_counts()\n",
    "train_df.groupby('Race').Suicide.value_counts()\n",
    "train_df[['Race', 'Suicide']].groupby(['Race'], as_index=False).mean()\n",
    "sns.barplot(x='Race', y='Suicide', data=train_df)"
   ]
  },
  {
   "cell_type": "code",
   "execution_count": 22,
   "metadata": {},
   "outputs": [
    {
     "data": {
      "text/plain": [
       "Race       Suicide\n",
       "Burger     0          163\n",
       "Muslim     0           40\n",
       "           1            1\n",
       "Other      0           27\n",
       "Sinhalese  1          476\n",
       "           0          150\n",
       "Tamil      0          120\n",
       "           1           23\n",
       "Name: Suicide, dtype: int64"
      ]
     },
     "execution_count": 22,
     "metadata": {},
     "output_type": "execute_result"
    }
   ],
   "source": [
    "train_df.groupby('Race').Suicide.value_counts()"
   ]
  },
  {
   "cell_type": "markdown",
   "metadata": {},
   "source": [
    "# Sleep Problem and Suicide \n",
    "1- have sleep problem\n",
    "0- not having sleep problem"
   ]
  },
  {
   "cell_type": "code",
   "execution_count": 23,
   "metadata": {},
   "outputs": [
    {
     "name": "stdout",
     "output_type": "stream",
     "text": [
      "Suicide: 500 (50.0%)\n",
      "Not Suicide: 500 (50.0%)\n",
      "Total: 1000\n"
     ]
    },
    {
     "data": {
      "text/plain": [
       "Sleep Problem  Suicide\n",
       "0              0          305\n",
       "               1           97\n",
       "1              1          403\n",
       "               0          195\n",
       "Name: Suicide, dtype: int64"
      ]
     },
     "execution_count": 23,
     "metadata": {},
     "output_type": "execute_result"
    }
   ],
   "source": [
    "Suicide = train_df[train_df['Suicide'] == 1]\n",
    "not_Suicide = train_df[train_df['Suicide'] == 0]\n",
    "\n",
    "print (\"Suicide: %i (%.1f%%)\"%(len(Suicide), float(len(Suicide))/len(train_df)*100.0))\n",
    "print (\"Not Suicide: %i (%.1f%%)\"%(len(not_Suicide), float(len(not_Suicide))/len(train_df)*100.0))\n",
    "print (\"Total: %i\"%len(train_df))\n",
    "\n",
    "train_df.groupby('Sleep Problem').Suicide.value_counts()\n"
   ]
  },
  {
   "cell_type": "code",
   "execution_count": 24,
   "metadata": {},
   "outputs": [
    {
     "data": {
      "text/html": [
       "<div>\n",
       "<style scoped>\n",
       "    .dataframe tbody tr th:only-of-type {\n",
       "        vertical-align: middle;\n",
       "    }\n",
       "\n",
       "    .dataframe tbody tr th {\n",
       "        vertical-align: top;\n",
       "    }\n",
       "\n",
       "    .dataframe thead th {\n",
       "        text-align: right;\n",
       "    }\n",
       "</style>\n",
       "<table border=\"1\" class=\"dataframe\">\n",
       "  <thead>\n",
       "    <tr style=\"text-align: right;\">\n",
       "      <th></th>\n",
       "      <th>Sleep Problem</th>\n",
       "      <th>Suicide</th>\n",
       "    </tr>\n",
       "  </thead>\n",
       "  <tbody>\n",
       "    <tr>\n",
       "      <th>0</th>\n",
       "      <td>0</td>\n",
       "      <td>0.241294</td>\n",
       "    </tr>\n",
       "    <tr>\n",
       "      <th>1</th>\n",
       "      <td>1</td>\n",
       "      <td>0.673913</td>\n",
       "    </tr>\n",
       "  </tbody>\n",
       "</table>\n",
       "</div>"
      ],
      "text/plain": [
       "   Sleep Problem   Suicide\n",
       "0              0  0.241294\n",
       "1              1  0.673913"
      ]
     },
     "execution_count": 24,
     "metadata": {},
     "output_type": "execute_result"
    }
   ],
   "source": [
    "train_df[['Sleep Problem', 'Suicide']].groupby(['Sleep Problem'], as_index=False).mean()"
   ]
  },
  {
   "cell_type": "code",
   "execution_count": 25,
   "metadata": {},
   "outputs": [
    {
     "data": {
      "text/plain": [
       "<matplotlib.axes._subplots.AxesSubplot at 0x1d966ea39b0>"
      ]
     },
     "execution_count": 25,
     "metadata": {},
     "output_type": "execute_result"
    },
    {
     "data": {
      "image/png": "[encoded data removed]",
      "text/plain": [
       "<Figure size 432x288 with 1 Axes>"
      ]
     },
     "metadata": {},
     "output_type": "display_data"
    }
   ],
   "source": [
    "sns.barplot(x='Sleep Problem', y='Suicide', data=train_df)"
   ]
  },
  {
   "cell_type": "markdown",
   "metadata": {},
   "source": [
    "# Occupation and Suicide "
   ]
  },
  {
   "cell_type": "code",
   "execution_count": 26,
   "metadata": {},
   "outputs": [
    {
     "data": {
      "text/plain": [
       "Occupation                                                                                                 Suicide\n",
       "Administrative Executive Managerial & related workers                                                      0           59\n",
       "                                                                                                           1           11\n",
       "Agricultural Animal Husbandry Fisherman & related Forestry workers                                         1           92\n",
       "                                                                                                           0           16\n",
       "Armed Services                                                                                             0           35\n",
       "                                                                                                           1           11\n",
       "Clerical & related workers (Stenographers/ Typists etc)                                                    0           58\n",
       "                                                                                                           1            7\n",
       "Pensioners                                                                                                 0           84\n",
       "                                                                                                           1           18\n",
       "Police                                                                                                     0           45\n",
       "                                                                                                           1            1\n",
       "Production process workers Craftsman & related workers transport equipment operators & labourers           1           36\n",
       "                                                                                                           0           27\n",
       "Professional Technical & related workers (Doctors/Engineers/Accountants/ Teachers/Authors/ Photographers)  0           14\n",
       "                                                                                                           1           14\n",
       "Sales worker                                                                                               0           34\n",
       "                                                                                                           1           16\n",
       "Security Personnel                                                                                         0           56\n",
       "                                                                                                           1            5\n",
       "Service workers (Cooks/Tailors/Barbers/ etc)                                                               1           36\n",
       "                                                                                                           0           14\n",
       "Student                                                                                                    1           27\n",
       "                                                                                                           0           15\n",
       "Unemployed persons                                                                                         1          199\n",
       "                                                                                                           0           28\n",
       "Workers not classfied by occupation                                                                        1           26\n",
       "                                                                                                           0           15\n",
       "professional Technical & related workers (Doctors/Engineers/Accountants/ Teachers/Authors/ Photographers)  1            1\n",
       "Name: Suicide, dtype: int64"
      ]
     },
     "execution_count": 26,
     "metadata": {},
     "output_type": "execute_result"
    }
   ],
   "source": [
    "train_df.groupby('Occupation').Suicide.value_counts()"
   ]
  },
  {
   "cell_type": "code",
   "execution_count": 27,
   "metadata": {},
   "outputs": [
    {
     "data": {
      "text/plain": [
       "<matplotlib.axes._subplots.AxesSubplot at 0x1d966b13198>"
      ]
     },
     "execution_count": 27,
     "metadata": {},
     "output_type": "execute_result"
    },
    {
     "data": {
      "image/png": "[encoded data removed]",
      "text/plain": [
       "<Figure size 432x288 with 1 Axes>"
      ]
     },
     "metadata": {},
     "output_type": "display_data"
    }
   ],
   "source": [
    "sns.barplot(x='Occupation', y='Suicide', data=train_df)"
   ]
  },
  {
   "cell_type": "markdown",
   "metadata": {},
   "source": [
    "# Civil Status and Suicide  "
   ]
  },
  {
   "cell_type": "code",
   "execution_count": 28,
   "metadata": {},
   "outputs": [
    {
     "data": {
      "text/plain": [
       "Civil Status  Suicide\n",
       "Divourced     0           96\n",
       "              1            2\n",
       "Married       1          344\n",
       "              0          110\n",
       "Unmarried     0          154\n",
       "              1          151\n",
       "Widow         0          140\n",
       "              1            3\n",
       "Name: Suicide, dtype: int64"
      ]
     },
     "execution_count": 28,
     "metadata": {},
     "output_type": "execute_result"
    }
   ],
   "source": [
    "train_df.groupby('Civil Status').Suicide.value_counts()"
   ]
  },
  {
   "cell_type": "code",
   "execution_count": 29,
   "metadata": {},
   "outputs": [
    {
     "data": {
      "text/plain": [
       "<matplotlib.axes._subplots.AxesSubplot at 0x1d966b8ec50>"
      ]
     },
     "execution_count": 29,
     "metadata": {},
     "output_type": "execute_result"
    },
    {
     "data": {
      "image/png": "[encoded data removed]",
      "text/plain": [
       "<Figure size 432x288 with 1 Axes>"
      ]
     },
     "metadata": {},
     "output_type": "display_data"
    }
   ],
   "source": [
    "sns.barplot(x='Civil Status', y='Suicide', data=train_df)"
   ]
  },
  {
   "cell_type": "markdown",
   "metadata": {},
   "source": [
    "# Education Level and Suicide"
   ]
  },
  {
   "cell_type": "code",
   "execution_count": 30,
   "metadata": {},
   "outputs": [
    {
     "data": {
      "text/plain": [
       "Education Level             Suicide\n",
       "From Grade 1 to 7           1          125\n",
       "                            0           69\n",
       "Other                       0           60\n",
       "                            1           11\n",
       "Passed G.C.E (A/L)          0          107\n",
       "                            1           16\n",
       "Passed G.C.E (O/L)          1          141\n",
       "                            0           46\n",
       "Passed Grade 8              1          174\n",
       "                            0           54\n",
       "School not attended         0           52\n",
       "                            1           28\n",
       "University Degree or above  0          112\n",
       "                            1            5\n",
       "Name: Suicide, dtype: int64"
      ]
     },
     "execution_count": 30,
     "metadata": {},
     "output_type": "execute_result"
    }
   ],
   "source": [
    "train_df.groupby('Education Level').Suicide.value_counts()"
   ]
  },
  {
   "cell_type": "markdown",
   "metadata": {},
   "source": [
    "# Reason and Suicide"
   ]
  },
  {
   "cell_type": "code",
   "execution_count": 31,
   "metadata": {},
   "outputs": [
    {
     "data": {
      "text/plain": [
       "Reason                                                        Suicide\n",
       "Addiction to narcotic drugs                                   1           26\n",
       "                                                              0           25\n",
       "Aggrieved over the death parents/relations                    1           10\n",
       "Alzheimer's disease                                           0           27\n",
       "Asthma                                                        0           35\n",
       "Chronic diseases & Physical disabilities                      1           74\n",
       "Chronic kidney disease                                        0           26\n",
       "Cirrhosis                                                     0           20\n",
       "Diabetes                                                      0           23\n",
       "Economic problems (Poverty indebtedness)                      1           26\n",
       "Employment problems                                           1            1\n",
       "Failure at the examination                                    1            2\n",
       "Harrasment by the husband & family disputes                   1           95\n",
       "                                                              0            2\n",
       "Ill-treatment by the children                                 1            4\n",
       "Ill-treatment by the children                                 0            1\n",
       "Ischemic heart disease                                        0           77\n",
       "Loss of property                                              1            2\n",
       "Mental Disorders                                              1           95\n",
       "                                                              0           23\n",
       "Natural Death                                                 0          172\n",
       "Other Reasons                                                 1           94\n",
       "                                                              0           32\n",
       "Problems caused with the elders                               1           16\n",
       "REASON NOT MENTIONED                                          1           14\n",
       "Road Accident                                                 0           13\n",
       "Road Accident                                                 0            2\n",
       "Sexual incapacity                                             1            1\n",
       "Stroke/Chronic diseases & Physical disabilities               0           21\n",
       "Using disappointment frustration caused through love affairs  1           40\n",
       "                                                              0            1\n",
       "Name: Suicide, dtype: int64"
      ]
     },
     "execution_count": 31,
     "metadata": {},
     "output_type": "execute_result"
    }
   ],
   "source": [
    "train_df.groupby('Reason').Suicide.value_counts()"
   ]
  },
  {
   "cell_type": "markdown",
   "metadata": {},
   "source": [
    "# Lifetime Psychiatric Hospitalizations and Suicide"
   ]
  },
  {
   "cell_type": "code",
   "execution_count": 32,
   "metadata": {},
   "outputs": [
    {
     "data": {
      "text/plain": [
       "Lifetime Psychiatric Hospitalizations  Suicide\n",
       "0                                      0          473\n",
       "                                       1          339\n",
       "1                                      1          161\n",
       "                                       0           27\n",
       "Name: Suicide, dtype: int64"
      ]
     },
     "execution_count": 32,
     "metadata": {},
     "output_type": "execute_result"
    }
   ],
   "source": [
    "train_df.groupby('Lifetime Psychiatric Hospitalizations').Suicide.value_counts()"
   ]
  },
  {
   "cell_type": "markdown",
   "metadata": {},
   "source": [
    "# Past Suicide Attempts and Suicide"
   ]
  },
  {
   "cell_type": "code",
   "execution_count": 33,
   "metadata": {},
   "outputs": [
    {
     "data": {
      "text/plain": [
       "Past Suicide Attempts  Suicide\n",
       "0                      1          413\n",
       "                       0          374\n",
       "1                      0          126\n",
       "                       1           87\n",
       "Name: Suicide, dtype: int64"
      ]
     },
     "execution_count": 33,
     "metadata": {},
     "output_type": "execute_result"
    }
   ],
   "source": [
    "train_df.groupby('Past Suicide Attempts').Suicide.value_counts()"
   ]
  },
  {
   "cell_type": "markdown",
   "metadata": {},
   "source": [
    "# Any suicidal thoughts mentioned and Suicide"
   ]
  },
  {
   "cell_type": "code",
   "execution_count": 34,
   "metadata": {},
   "outputs": [
    {
     "data": {
      "text/plain": [
       "Any suicidal thoughts mentioned  Suicide\n",
       "0                                0          456\n",
       "                                 1          260\n",
       "1                                1          240\n",
       "                                 0           44\n",
       "Name: Suicide, dtype: int64"
      ]
     },
     "execution_count": 34,
     "metadata": {},
     "output_type": "execute_result"
    }
   ],
   "source": [
    "train_df.groupby('Any suicidal thoughts mentioned').Suicide.value_counts()"
   ]
  },
  {
   "cell_type": "markdown",
   "metadata": {},
   "source": [
    "# Self-Injurious Behaviour and Suicide"
   ]
  },
  {
   "cell_type": "code",
   "execution_count": 35,
   "metadata": {},
   "outputs": [
    {
     "data": {
      "text/plain": [
       "Self-Injurious Behaviour  Suicide\n",
       "0                         0          474\n",
       "                          1          300\n",
       "1                         1          200\n",
       "                          0           26\n",
       "Name: Suicide, dtype: int64"
      ]
     },
     "execution_count": 35,
     "metadata": {},
     "output_type": "execute_result"
    }
   ],
   "source": [
    "train_df.groupby('Self-Injurious Behaviour').Suicide.value_counts()"
   ]
  },
  {
   "cell_type": "code",
   "execution_count": 36,
   "metadata": {},
   "outputs": [
    {
     "data": {
      "text/plain": [
       "<seaborn.axisgrid.FacetGrid at 0x1d966e22860>"
      ]
     },
     "execution_count": 36,
     "metadata": {},
     "output_type": "execute_result"
    },
    {
     "data": {
      "image/png": "[encoded data removed]",
      "text/plain": [
       "<Figure size 432x216 with 2 Axes>"
      ]
     },
     "metadata": {},
     "output_type": "display_data"
    }
   ],
   "source": [
    "g = sns.FacetGrid(train_df, col='Suicide')\n",
    "g.map(plt.hist, 'Age', bins=20)"
   ]
  },
  {
   "cell_type": "code",
   "execution_count": 37,
   "metadata": {},
   "outputs": [
    {
     "data": {
      "image/png": "[encoded data removed]",
      "text/plain": [
       "<Figure size 514.88x792 with 10 Axes>"
      ]
     },
     "metadata": {},
     "output_type": "display_data"
    }
   ],
   "source": [
    "grid = sns.FacetGrid(train_df, col='Suicide', row='Religon', size=2.2, aspect=1.6)\n",
    "grid.map(plt.hist, 'Age', alpha=.5, bins=20)\n",
    "grid.add_legend();"
   ]
  },
  {
   "cell_type": "code",
   "execution_count": 38,
   "metadata": {},
   "outputs": [],
   "source": [
    "categoricals = []\n",
    "for col, col_type in train_df.dtypes.iteritems():\n",
    "     if col_type == 'O':\n",
    "          categoricals.append(col)\n",
    "     else:\n",
    "          train_df[col].fillna(0, inplace=True)"
   ]
  },
  {
   "cell_type": "code",
   "execution_count": 39,
   "metadata": {},
   "outputs": [
    {
     "data": {
      "text/html": [
       "<div>\n",
       "<style scoped>\n",
       "    .dataframe tbody tr th:only-of-type {\n",
       "        vertical-align: middle;\n",
       "    }\n",
       "\n",
       "    .dataframe tbody tr th {\n",
       "        vertical-align: top;\n",
       "    }\n",
       "\n",
       "    .dataframe thead th {\n",
       "        text-align: right;\n",
       "    }\n",
       "</style>\n",
       "<table border=\"1\" class=\"dataframe\">\n",
       "  <thead>\n",
       "    <tr style=\"text-align: right;\">\n",
       "      <th></th>\n",
       "      <th>Age</th>\n",
       "      <th>Gender</th>\n",
       "      <th>Religon</th>\n",
       "      <th>Race</th>\n",
       "      <th>Occupation</th>\n",
       "      <th>Civil Status</th>\n",
       "      <th>Education Level</th>\n",
       "      <th>Reason</th>\n",
       "      <th>Lifetime Psychiatric Hospitalizations</th>\n",
       "      <th>Past Suicide Attempts</th>\n",
       "      <th>...</th>\n",
       "      <th>Self-Injurious Behaviour</th>\n",
       "      <th>Psychiatric Disorders</th>\n",
       "      <th>Past Illnesses</th>\n",
       "      <th>Alcohol/ drug Consumption</th>\n",
       "      <th>Anger</th>\n",
       "      <th>Sleep Problem</th>\n",
       "      <th>Social Iscolation</th>\n",
       "      <th>Sad/ Weary</th>\n",
       "      <th>Humilated</th>\n",
       "      <th>Suicide</th>\n",
       "    </tr>\n",
       "  </thead>\n",
       "  <tbody>\n",
       "    <tr>\n",
       "      <th>0</th>\n",
       "      <td>30</td>\n",
       "      <td>F</td>\n",
       "      <td>Buddhist</td>\n",
       "      <td>Sinhalese</td>\n",
       "      <td>Administrative Executive Managerial &amp; related ...</td>\n",
       "      <td>Unmarried</td>\n",
       "      <td>From Grade 1 to 7</td>\n",
       "      <td>Asthma</td>\n",
       "      <td>0</td>\n",
       "      <td>0</td>\n",
       "      <td>...</td>\n",
       "      <td>0</td>\n",
       "      <td>None</td>\n",
       "      <td>Asthma</td>\n",
       "      <td>None</td>\n",
       "      <td>0</td>\n",
       "      <td>0</td>\n",
       "      <td>0</td>\n",
       "      <td>0</td>\n",
       "      <td>0</td>\n",
       "      <td>0</td>\n",
       "    </tr>\n",
       "    <tr>\n",
       "      <th>1</th>\n",
       "      <td>91</td>\n",
       "      <td>F</td>\n",
       "      <td>Islam</td>\n",
       "      <td>Muslim</td>\n",
       "      <td>Sales worker</td>\n",
       "      <td>Married</td>\n",
       "      <td>University Degree or above</td>\n",
       "      <td>Alzheimer's disease</td>\n",
       "      <td>0</td>\n",
       "      <td>0</td>\n",
       "      <td>...</td>\n",
       "      <td>0</td>\n",
       "      <td>None</td>\n",
       "      <td>Other</td>\n",
       "      <td>None</td>\n",
       "      <td>0</td>\n",
       "      <td>1</td>\n",
       "      <td>0</td>\n",
       "      <td>0</td>\n",
       "      <td>0</td>\n",
       "      <td>0</td>\n",
       "    </tr>\n",
       "    <tr>\n",
       "      <th>2</th>\n",
       "      <td>85</td>\n",
       "      <td>M</td>\n",
       "      <td>Buddhist</td>\n",
       "      <td>Sinhalese</td>\n",
       "      <td>Security Personnel</td>\n",
       "      <td>Married</td>\n",
       "      <td>University Degree or above</td>\n",
       "      <td>Stroke/Chronic diseases &amp; Physical disabilities</td>\n",
       "      <td>0</td>\n",
       "      <td>0</td>\n",
       "      <td>...</td>\n",
       "      <td>0</td>\n",
       "      <td>None</td>\n",
       "      <td>Diabetes</td>\n",
       "      <td>None</td>\n",
       "      <td>0</td>\n",
       "      <td>1</td>\n",
       "      <td>0</td>\n",
       "      <td>0</td>\n",
       "      <td>0</td>\n",
       "      <td>0</td>\n",
       "    </tr>\n",
       "    <tr>\n",
       "      <th>3</th>\n",
       "      <td>87</td>\n",
       "      <td>M</td>\n",
       "      <td>Buddhist</td>\n",
       "      <td>Sinhalese</td>\n",
       "      <td>Unemployed persons</td>\n",
       "      <td>Married</td>\n",
       "      <td>School not attended</td>\n",
       "      <td>Harrasment by the husband &amp; family disputes</td>\n",
       "      <td>0</td>\n",
       "      <td>0</td>\n",
       "      <td>...</td>\n",
       "      <td>0</td>\n",
       "      <td>None</td>\n",
       "      <td>Chronic pain</td>\n",
       "      <td>Frequent</td>\n",
       "      <td>1</td>\n",
       "      <td>1</td>\n",
       "      <td>1</td>\n",
       "      <td>1</td>\n",
       "      <td>1</td>\n",
       "      <td>1</td>\n",
       "    </tr>\n",
       "    <tr>\n",
       "      <th>4</th>\n",
       "      <td>59</td>\n",
       "      <td>F</td>\n",
       "      <td>Buddhist</td>\n",
       "      <td>Sinhalese</td>\n",
       "      <td>Pensioners</td>\n",
       "      <td>Unmarried</td>\n",
       "      <td>Other</td>\n",
       "      <td>Alzheimer's disease</td>\n",
       "      <td>0</td>\n",
       "      <td>1</td>\n",
       "      <td>...</td>\n",
       "      <td>0</td>\n",
       "      <td>None</td>\n",
       "      <td>COPD</td>\n",
       "      <td>None</td>\n",
       "      <td>0</td>\n",
       "      <td>1</td>\n",
       "      <td>0</td>\n",
       "      <td>1</td>\n",
       "      <td>1</td>\n",
       "      <td>0</td>\n",
       "    </tr>\n",
       "  </tbody>\n",
       "</table>\n",
       "<p>5 rows × 21 columns</p>\n",
       "</div>"
      ],
      "text/plain": [
       "   Age Gender   Religon       Race  \\\n",
       "0   30      F  Buddhist  Sinhalese   \n",
       "1   91      F     Islam     Muslim   \n",
       "2   85      M  Buddhist  Sinhalese   \n",
       "3   87      M  Buddhist  Sinhalese   \n",
       "4   59      F  Buddhist  Sinhalese   \n",
       "\n",
       "                                          Occupation Civil Status  \\\n",
       "0  Administrative Executive Managerial & related ...    Unmarried   \n",
       "1                                       Sales worker      Married   \n",
       "2                                 Security Personnel      Married   \n",
       "3                                 Unemployed persons      Married   \n",
       "4                                         Pensioners    Unmarried   \n",
       "\n",
       "              Education Level  \\\n",
       "0           From Grade 1 to 7   \n",
       "1  University Degree or above   \n",
       "2  University Degree or above   \n",
       "3         School not attended   \n",
       "4                       Other   \n",
       "\n",
       "                                            Reason  \\\n",
       "0                                           Asthma   \n",
       "1                              Alzheimer's disease   \n",
       "2  Stroke/Chronic diseases & Physical disabilities   \n",
       "3      Harrasment by the husband & family disputes   \n",
       "4                              Alzheimer's disease   \n",
       "\n",
       "   Lifetime Psychiatric Hospitalizations  Past Suicide Attempts   ...     \\\n",
       "0                                      0                      0   ...      \n",
       "1                                      0                      0   ...      \n",
       "2                                      0                      0   ...      \n",
       "3                                      0                      0   ...      \n",
       "4                                      0                      1   ...      \n",
       "\n",
       "   Self-Injurious Behaviour  Psychiatric Disorders Past Illnesses   \\\n",
       "0                         0                   None          Asthma   \n",
       "1                         0                   None           Other   \n",
       "2                         0                   None        Diabetes   \n",
       "3                         0                   None    Chronic pain   \n",
       "4                         0                   None            COPD   \n",
       "\n",
       "  Alcohol/ drug Consumption Anger  Sleep Problem  Social Iscolation  \\\n",
       "0                      None     0              0                  0   \n",
       "1                      None     0              1                  0   \n",
       "2                      None     0              1                  0   \n",
       "3                  Frequent     1              1                  1   \n",
       "4                      None     0              1                  0   \n",
       "\n",
       "   Sad/ Weary  Humilated  Suicide  \n",
       "0           0          0        0  \n",
       "1           0          0        0  \n",
       "2           0          0        0  \n",
       "3           1          1        1  \n",
       "4           1          1        0  \n",
       "\n",
       "[5 rows x 21 columns]"
      ]
     },
     "execution_count": 39,
     "metadata": {},
     "output_type": "execute_result"
    }
   ],
   "source": [
    "train_df.head()"
   ]
  },
  {
   "cell_type": "markdown",
   "metadata": {},
   "source": [
    "# Converting to Numeric Data"
   ]
  },
  {
   "cell_type": "code",
   "execution_count": 40,
   "metadata": {},
   "outputs": [
    {
     "name": "stdout",
     "output_type": "stream",
     "text": [
      "    Age  Gender  Religon  Race  Occupation  Civil Status  Education Level  \\\n",
      "0    30       0        0     3           0             2                0   \n",
      "1    91       0        3     1           8             1                6   \n",
      "2    85       1        0     3           9             1                6   \n",
      "3    87       1        0     3          12             1                5   \n",
      "4    59       0        0     3           4             2                1   \n",
      "5    31       1        0     3           1             2                3   \n",
      "6    75       0        1     0           2             0                2   \n",
      "7    47       1        0     3          12             1                5   \n",
      "8    58       0        1     0           2             2                6   \n",
      "9    36       0        2     4           2             3                6   \n",
      "10   87       1        0     3          12             1                4   \n",
      "11   73       0        1     0           3             3                4   \n",
      "12   44       1        0     3           1             1                3   \n",
      "13   62       1        0     3          10             1                0   \n",
      "14   21       0        2     4           8             2                3   \n",
      "15   70       1        0     3          12             1                5   \n",
      "16   68       1        2     4           8             1                4   \n",
      "17   43       0        0     3           2             1                3   \n",
      "18   16       1        4     0          11             2                3   \n",
      "19   35       1        2     4           1             1                4   \n",
      "\n",
      "    Reason  Lifetime Psychiatric Hospitalizations  Past Suicide Attempts  \\\n",
      "0        3                                      0                      0   \n",
      "1        2                                      0                      0   \n",
      "2       24                                      0                      0   \n",
      "3       11                                      0                      0   \n",
      "4        2                                      0                      1   \n",
      "5       11                                      0                      0   \n",
      "6       17                                      0                      1   \n",
      "7       11                                      0                      0   \n",
      "8        7                                      0                      1   \n",
      "9       17                                      0                      1   \n",
      "10       4                                      1                      1   \n",
      "11      17                                      0                      1   \n",
      "12      11                                      0                      0   \n",
      "13      16                                      1                      1   \n",
      "14      24                                      0                      0   \n",
      "15      16                                      0                      1   \n",
      "16       0                                      0                      0   \n",
      "17      11                                      1                      0   \n",
      "18      24                                      0                      0   \n",
      "19      18                                      0                      0   \n",
      "\n",
      "     ...     Self-Injurious Behaviour  Psychiatric Disorders  Past Illnesses   \\\n",
      "0    ...                            0                      3                0   \n",
      "1    ...                            0                      3                8   \n",
      "2    ...                            0                      3                4   \n",
      "3    ...                            0                      3                3   \n",
      "4    ...                            0                      3                1   \n",
      "5    ...                            1                      3                8   \n",
      "6    ...                            0                      3                9   \n",
      "7    ...                            1                      3                8   \n",
      "8    ...                            0                      3                9   \n",
      "9    ...                            0                      3                9   \n",
      "10   ...                            0                      4                5   \n",
      "11   ...                            0                      3                6   \n",
      "12   ...                            0                      3                2   \n",
      "13   ...                            0                      6                8   \n",
      "14   ...                            0                      3                3   \n",
      "15   ...                            0                      2                8   \n",
      "16   ...                            0                      3                8   \n",
      "17   ...                            1                      2                2   \n",
      "18   ...                            0                      2               10   \n",
      "19   ...                            0                      2                8   \n",
      "\n",
      "    Alcohol/ drug Consumption  Anger  Sleep Problem  Social Iscolation  \\\n",
      "0                           2      0              0                  0   \n",
      "1                           2      0              1                  0   \n",
      "2                           2      0              1                  0   \n",
      "3                           0      1              1                  1   \n",
      "4                           2      0              1                  0   \n",
      "5                           0      1              1                  1   \n",
      "6                           2      0              0                  1   \n",
      "7                           1      0              0                  1   \n",
      "8                           2      0              0                  0   \n",
      "9                           2      0              1                  0   \n",
      "10                          0      0              1                  1   \n",
      "11                          2      0              1                  0   \n",
      "12                          0      0              1                  1   \n",
      "13                          0      1              1                  1   \n",
      "14                          2      0              1                  0   \n",
      "15                          0      1              1                  1   \n",
      "16                          0      0              0                  0   \n",
      "17                          2      0              1                  1   \n",
      "18                          1      1              1                  1   \n",
      "19                          1      0              1                  1   \n",
      "\n",
      "    Sad/ Weary  Humilated  Suicide  \n",
      "0            0          0        0  \n",
      "1            0          0        0  \n",
      "2            0          0        0  \n",
      "3            1          1        1  \n",
      "4            1          1        0  \n",
      "5            1          1        1  \n",
      "6            0          0        0  \n",
      "7            1          0        1  \n",
      "8            0          0        0  \n",
      "9            0          0        0  \n",
      "10           1          0        1  \n",
      "11           0          0        0  \n",
      "12           1          0        1  \n",
      "13           0          1        1  \n",
      "14           1          0        0  \n",
      "15           1          0        1  \n",
      "16           0          0        0  \n",
      "17           1          1        1  \n",
      "18           0          0        0  \n",
      "19           1          0        1  \n",
      "\n",
      "[20 rows x 21 columns]\n"
     ]
    }
   ],
   "source": [
    "category_col =['Gender', 'Religon', 'Race', 'Occupation' ,\n",
    "           'Civil Status' ,'Education Level' ,'Reason' ,\n",
    "           'Psychiatric Disorders' ,'Past Illnesses ' ,'Alcohol/ drug Consumption'] \n",
    "labelEncoder = preprocessing.LabelEncoder()\n",
    "mapping_dict={}\n",
    "for col in category_col:\n",
    "    train_df[col] = labelEncoder.fit_transform( train_df[col])\n",
    "    le_name_mapping = dict(zip(labelEncoder.classes_, labelEncoder.transform(labelEncoder.classes_)))\n",
    "    mapping_dict[col]=le_name_mapping\n",
    "print( train_df.head(20))"
   ]
  },
  {
   "cell_type": "code",
   "execution_count": 41,
   "metadata": {},
   "outputs": [],
   "source": [
    "import scipy\n",
    "import sklearn\n",
    "from sklearn.model_selection import train_test_split\n",
    "from sklearn.model_selection import cross_val_score\n",
    "from sklearn.model_selection import StratifiedKFold\n",
    "from sklearn.metrics import classification_report\n",
    "from sklearn.metrics import confusion_matrix\n",
    "from sklearn.metrics import accuracy_score\n",
    "from sklearn.linear_model import LogisticRegression\n",
    "from sklearn.tree import DecisionTreeClassifier\n",
    "from sklearn.neighbors import KNeighborsClassifier\n",
    "from sklearn.discriminant_analysis import LinearDiscriminantAnalysis\n",
    "from sklearn.naive_bayes import GaussianNB\n",
    "from sklearn.svm import SVC"
   ]
  },
  {
   "cell_type": "markdown",
   "metadata": {},
   "source": [
    "# Spliting to Train data and Test data"
   ]
  },
  {
   "cell_type": "code",
   "execution_count": 42,
   "metadata": {},
   "outputs": [],
   "source": [
    "#importing the training test datasets\n",
    "train= pd.read_csv('FullDataSet.csv')\n",
    "\n",
    "#Splitting out training data into X: features and y: target\n",
    "X = train_df.values[:, 2:20]\n",
    "y = train_df.values[:,20]\n",
    "\n",
    "\n",
    "#splitting our training data again in train and test data\n",
    "X_train, X_test, y_train, y_test = train_test_split(X, y, test_size=0.3,random_state=100,shuffle=True)"
   ]
  },
  {
   "cell_type": "code",
   "execution_count": 43,
   "metadata": {},
   "outputs": [
    {
     "name": "stdout",
     "output_type": "stream",
     "text": [
      "     Age  Gender  Religon  Race  Occupation  Civil Status  Education Level  \\\n",
      "0     30       0        0     3           0             2                0   \n",
      "1     91       0        3     1           8             1                6   \n",
      "2     85       1        0     3           9             1                6   \n",
      "3     87       1        0     3          12             1                5   \n",
      "4     59       0        0     3           4             2                1   \n",
      "5     31       1        0     3           1             2                3   \n",
      "6     75       0        1     0           2             0                2   \n",
      "7     47       1        0     3          12             1                5   \n",
      "8     58       0        1     0           2             2                6   \n",
      "9     36       0        2     4           2             3                6   \n",
      "10    87       1        0     3          12             1                4   \n",
      "11    73       0        1     0           3             3                4   \n",
      "12    44       1        0     3           1             1                3   \n",
      "13    62       1        0     3          10             1                0   \n",
      "14    21       0        2     4           8             2                3   \n",
      "15    70       1        0     3          12             1                5   \n",
      "16    68       1        2     4           8             1                4   \n",
      "17    43       0        0     3           2             1                3   \n",
      "18    16       1        4     0          11             2                3   \n",
      "19    35       1        2     4           1             1                4   \n",
      "20    80       0        0     3           0             2                2   \n",
      "21    75       1        0     3           1             1                0   \n",
      "22    74       1        0     3           4             1                4   \n",
      "23    64       1        0     3           1             1                0   \n",
      "24    46       0        0     3           8             2                3   \n",
      "25    61       1        4     0           5             1                0   \n",
      "26    70       1        0     3          12             1                3   \n",
      "27    45       1        0     3          11             2                4   \n",
      "28    67       1        0     3           1             1                4   \n",
      "29    39       1        0     3          12             1                4   \n",
      "..   ...     ...      ...   ...         ...           ...              ...   \n",
      "970   55       0        1     0           4             2                0   \n",
      "971   94       0        1     0           0             3                2   \n",
      "972   34       0        0     3          12             3                3   \n",
      "973   91       0        1     0           3             1                1   \n",
      "974   80       1        0     3           1             1                0   \n",
      "975   74       0        3     1           8             2                1   \n",
      "976   73       1        0     3           1             1                4   \n",
      "977   38       0        2     4          10             1                3   \n",
      "978   80       1        1     0           9             3                2   \n",
      "979   44       1        0     3          13             1                3   \n",
      "980   36       0        2     4           9             3                6   \n",
      "981   24       1        2     4           6             1                0   \n",
      "982   62       0        0     3           2             3                6   \n",
      "983   57       1        0     3           3             1                3   \n",
      "984   12       0        2     4          11             2                3   \n",
      "985   55       0        0     3           4             2                2   \n",
      "986   80       0        2     4           8             0                3   \n",
      "987   70       1        0     3           1             1                0   \n",
      "988   39       0        0     3          10             1                4   \n",
      "989   44       1        0     3           7             1                6   \n",
      "990   64       0        2     4           4             0                6   \n",
      "991   80       1        4     0           5             0                2   \n",
      "992   72       1        0     3          12             1                0   \n",
      "993   37       0        1     3           0             3                0   \n",
      "994   10       0        0     3          11             2                0   \n",
      "995   39       0        0     3           9             0                6   \n",
      "996   34       1        0     3           9             1                3   \n",
      "997   15       1        0     3          11             2                4   \n",
      "998   75       0        3     1           8             1                6   \n",
      "999   56       0        0     3          12             1                4   \n",
      "\n",
      "     Reason  Lifetime Psychiatric Hospitalizations  Past Suicide Attempts  \\\n",
      "0         3                                      0                      0   \n",
      "1         2                                      0                      0   \n",
      "2        24                                      0                      0   \n",
      "3        11                                      0                      0   \n",
      "4         2                                      0                      1   \n",
      "5        11                                      0                      0   \n",
      "6        17                                      0                      1   \n",
      "7        11                                      0                      0   \n",
      "8         7                                      0                      1   \n",
      "9        17                                      0                      1   \n",
      "10        4                                      1                      1   \n",
      "11       17                                      0                      1   \n",
      "12       11                                      0                      0   \n",
      "13       16                                      1                      1   \n",
      "14       24                                      0                      0   \n",
      "15       16                                      0                      1   \n",
      "16        0                                      0                      0   \n",
      "17       11                                      1                      0   \n",
      "18       24                                      0                      0   \n",
      "19       18                                      0                      0   \n",
      "20       18                                      0                      1   \n",
      "21       16                                      0                      0   \n",
      "22       25                                      0                      1   \n",
      "23        4                                      0                      0   \n",
      "24       17                                      0                      0   \n",
      "25        6                                      0                      0   \n",
      "26       12                                      1                      0   \n",
      "27       16                                      1                      1   \n",
      "28       16                                      0                      0   \n",
      "29        8                                      0                      1   \n",
      "..      ...                                    ...                    ...   \n",
      "970      17                                      0                      0   \n",
      "971      17                                      0                      0   \n",
      "972      25                                      0                      1   \n",
      "973      17                                      0                      0   \n",
      "974       4                                      0                      0   \n",
      "975      24                                      0                      0   \n",
      "976      16                                      0                      1   \n",
      "977      24                                      0                      1   \n",
      "978      18                                      0                      1   \n",
      "979       8                                      0                      0   \n",
      "980      17                                      0                      1   \n",
      "981      11                                      0                      1   \n",
      "982      14                                      0                      1   \n",
      "983       0                                      0                      0   \n",
      "984      22                                      0                      0   \n",
      "985       0                                      1                      1   \n",
      "986      14                                      0                      1   \n",
      "987       4                                      0                      1   \n",
      "988       8                                      0                      0   \n",
      "989      16                                      1                      0   \n",
      "990      17                                      0                      0   \n",
      "991       2                                      0                      0   \n",
      "992      11                                      1                      0   \n",
      "993      17                                      0                      0   \n",
      "994      11                                      0                      0   \n",
      "995      17                                      0                      1   \n",
      "996      11                                      1                      0   \n",
      "997      19                                      0                      0   \n",
      "998      17                                      0                      0   \n",
      "999       8                                      1                      0   \n",
      "\n",
      "      ...     Self-Injurious Behaviour  Psychiatric Disorders  \\\n",
      "0     ...                            0                      3   \n",
      "1     ...                            0                      3   \n",
      "2     ...                            0                      3   \n",
      "3     ...                            0                      3   \n",
      "4     ...                            0                      3   \n",
      "5     ...                            1                      3   \n",
      "6     ...                            0                      3   \n",
      "7     ...                            1                      3   \n",
      "8     ...                            0                      3   \n",
      "9     ...                            0                      3   \n",
      "10    ...                            0                      4   \n",
      "11    ...                            0                      3   \n",
      "12    ...                            0                      3   \n",
      "13    ...                            0                      6   \n",
      "14    ...                            0                      3   \n",
      "15    ...                            0                      2   \n",
      "16    ...                            0                      3   \n",
      "17    ...                            1                      2   \n",
      "18    ...                            0                      2   \n",
      "19    ...                            0                      2   \n",
      "20    ...                            0                      3   \n",
      "21    ...                            0                      7   \n",
      "22    ...                            1                      3   \n",
      "23    ...                            1                      3   \n",
      "24    ...                            0                      3   \n",
      "25    ...                            0                      3   \n",
      "26    ...                            0                      2   \n",
      "27    ...                            0                      4   \n",
      "28    ...                            0                      4   \n",
      "29    ...                            0                      3   \n",
      "..    ...                          ...                    ...   \n",
      "970   ...                            0                      3   \n",
      "971   ...                            0                      3   \n",
      "972   ...                            0                      4   \n",
      "973   ...                            0                      3   \n",
      "974   ...                            1                      3   \n",
      "975   ...                            0                      4   \n",
      "976   ...                            0                      1   \n",
      "977   ...                            0                      4   \n",
      "978   ...                            0                      3   \n",
      "979   ...                            1                      3   \n",
      "980   ...                            0                      3   \n",
      "981   ...                            1                      2   \n",
      "982   ...                            0                      3   \n",
      "983   ...                            1                      3   \n",
      "984   ...                            0                      3   \n",
      "985   ...                            0                      6   \n",
      "986   ...                            0                      3   \n",
      "987   ...                            1                      1   \n",
      "988   ...                            1                      3   \n",
      "989   ...                            1                      2   \n",
      "990   ...                            0                      3   \n",
      "991   ...                            0                      3   \n",
      "992   ...                            1                      2   \n",
      "993   ...                            0                      3   \n",
      "994   ...                            1                      3   \n",
      "995   ...                            0                      3   \n",
      "996   ...                            1                      0   \n",
      "997   ...                            1                      2   \n",
      "998   ...                            0                      3   \n",
      "999   ...                            1                      2   \n",
      "\n",
      "     Past Illnesses   Alcohol/ drug Consumption  Anger  Sleep Problem  \\\n",
      "0                  0                          2      0              0   \n",
      "1                  8                          2      0              1   \n",
      "2                  4                          2      0              1   \n",
      "3                  3                          0      1              1   \n",
      "4                  1                          2      0              1   \n",
      "5                  8                          0      1              1   \n",
      "6                  9                          2      0              0   \n",
      "7                  8                          1      0              0   \n",
      "8                  9                          2      0              0   \n",
      "9                  9                          2      0              1   \n",
      "10                 5                          0      0              1   \n",
      "11                 6                          2      0              1   \n",
      "12                 2                          0      0              1   \n",
      "13                 8                          0      1              1   \n",
      "14                 3                          2      0              1   \n",
      "15                 8                          0      1              1   \n",
      "16                 8                          0      0              0   \n",
      "17                 2                          2      0              1   \n",
      "18                10                          1      1              1   \n",
      "19                 8                          1      0              1   \n",
      "20                 9                          2      0              0   \n",
      "21                 8                          1      1              1   \n",
      "22                 3                          2      0              1   \n",
      "23                10                          1      0              1   \n",
      "24                 9                          2      0              1   \n",
      "25                10                          2      0              1   \n",
      "26                 3                          2      0              1   \n",
      "27                 8                          2      1              1   \n",
      "28                 4                          1      0              1   \n",
      "29                 8                          1      1              0   \n",
      "..               ...                        ...    ...            ...   \n",
      "970                9                          2      0              0   \n",
      "971                9                          2      0              1   \n",
      "972                9                          2      1              1   \n",
      "973                8                          2      0              0   \n",
      "974                5                          1      0              1   \n",
      "975                3                          2      0              0   \n",
      "976                3                          0      1              1   \n",
      "977                3                          2      0              1   \n",
      "978               10                          2      0              0   \n",
      "979                1                          0      1              1   \n",
      "980                9                          2      1              0   \n",
      "981               10                          0      1              1   \n",
      "982                4                          2      0              0   \n",
      "983                8                          0      0              1   \n",
      "984                9                          2      0              1   \n",
      "985                9                          0      0              0   \n",
      "986                9                          2      0              0   \n",
      "987               10                          0      1              0   \n",
      "988                8                          2      0              1   \n",
      "989               10                          0      1              1   \n",
      "990                9                          2      0              1   \n",
      "991                1                          2      0              1   \n",
      "992                8                          1      1              1   \n",
      "993                8                          2      0              1   \n",
      "994                9                          2      1              0   \n",
      "995                9                          2      1              0   \n",
      "996                7                          0      0              1   \n",
      "997                8                          2      0              1   \n",
      "998                4                          2      0              0   \n",
      "999                4                          2      0              1   \n",
      "\n",
      "     Social Iscolation  Sad/ Weary  Humilated  Suicide  \n",
      "0                    0           0          0        0  \n",
      "1                    0           0          0        0  \n",
      "2                    0           0          0        0  \n",
      "3                    1           1          1        1  \n",
      "4                    0           1          1        0  \n",
      "5                    1           1          1        1  \n",
      "6                    1           0          0        0  \n",
      "7                    1           1          0        1  \n",
      "8                    0           0          0        0  \n",
      "9                    0           0          0        0  \n",
      "10                   1           1          0        1  \n",
      "11                   0           0          0        0  \n",
      "12                   1           1          0        1  \n",
      "13                   1           0          1        1  \n",
      "14                   0           1          0        0  \n",
      "15                   1           1          0        1  \n",
      "16                   0           0          0        0  \n",
      "17                   1           1          1        1  \n",
      "18                   1           0          0        0  \n",
      "19                   1           1          0        1  \n",
      "20                   0           0          0        0  \n",
      "21                   1           1          0        1  \n",
      "22                   1           0          0        1  \n",
      "23                   0           0          0        1  \n",
      "24                   0           0          0        0  \n",
      "25                   0           0          0        0  \n",
      "26                   1           1          0        1  \n",
      "27                   1           0          1        1  \n",
      "28                   1           1          1        1  \n",
      "29                   1           1          1        1  \n",
      "..                 ...         ...        ...      ...  \n",
      "970                  0           0          0        0  \n",
      "971                  0           0          0        0  \n",
      "972                  1           1          0        1  \n",
      "973                  0           0          0        0  \n",
      "974                  1           0          0        1  \n",
      "975                  0           0          0        0  \n",
      "976                  1           1          1        1  \n",
      "977                  0           0          0        0  \n",
      "978                  0           0          0        0  \n",
      "979                  0           1          0        1  \n",
      "980                  0           0          0        0  \n",
      "981                  0           1          0        1  \n",
      "982                  0           0          0        0  \n",
      "983                  0           0          0        1  \n",
      "984                  1           0          0        0  \n",
      "985                  1           1          0        0  \n",
      "986                  0           0          0        0  \n",
      "987                  1           1          0        1  \n",
      "988                  1           0          1        1  \n",
      "989                  1           1          1        1  \n",
      "990                  0           0          0        0  \n",
      "991                  0           0          0        0  \n",
      "992                  0           1          1        1  \n",
      "993                  0           0          0        0  \n",
      "994                  1           1          0        1  \n",
      "995                  0           0          0        0  \n",
      "996                  1           1          1        1  \n",
      "997                  0           1          1        1  \n",
      "998                  0           0          0        0  \n",
      "999                  1           1          0        1  \n",
      "\n",
      "[1000 rows x 21 columns]\n"
     ]
    }
   ],
   "source": [
    "train_df = pd.get_dummies(train_df)\n",
    "print(train_df)"
   ]
  },
  {
   "cell_type": "code",
   "execution_count": 44,
   "metadata": {},
   "outputs": [],
   "source": [
    "#import required packages\n",
    "from sklearn import neighbors\n",
    "from sklearn.metrics import mean_squared_error \n",
    "from math import sqrt\n",
    "import matplotlib.pyplot as plt\n",
    "%matplotlib inline"
   ]
  },
  {
   "cell_type": "code",
   "execution_count": 45,
   "metadata": {},
   "outputs": [
    {
     "name": "stderr",
     "output_type": "stream",
     "text": [
      "C:\\Users\\ASUS\\Anaconda3\\lib\\site-packages\\sklearn\\utils\\validation.py:475: DataConversionWarning: Data with input dtype int64 was converted to float64 by MinMaxScaler.\n",
      "  warnings.warn(msg, DataConversionWarning)\n",
      "C:\\Users\\ASUS\\Anaconda3\\lib\\site-packages\\sklearn\\utils\\validation.py:475: DataConversionWarning: Data with input dtype int64 was converted to float64 by MinMaxScaler.\n",
      "  warnings.warn(msg, DataConversionWarning)\n"
     ]
    }
   ],
   "source": [
    "from sklearn.preprocessing import MinMaxScaler\n",
    "scaler = MinMaxScaler(feature_range=(0, 1))\n",
    "\n",
    "X_train_scaled = scaler.fit_transform(X_train)\n",
    "X_train = pd.DataFrame(X_train_scaled)\n",
    "\n",
    "X_test_scaled = scaler.fit_transform(X_test)\n",
    "X_test = pd.DataFrame(X_test_scaled)"
   ]
  },
  {
   "cell_type": "code",
   "execution_count": 54,
   "metadata": {},
   "outputs": [
    {
     "name": "stdout",
     "output_type": "stream",
     "text": [
      "RMSE value for k=  1 is: 0.05773502691896258\n",
      "RMSE value for k=  2 is: 0.05773502691896258\n",
      "RMSE value for k=  3 is: 0.05773502691896258\n",
      "RMSE value for k=  4 is: 0.04330127018922193\n",
      "RMSE value for k=  5 is: 0.04760952285695234\n",
      "RMSE value for k=  6 is: 0.040824829046386304\n",
      "RMSE value for k=  7 is: 0.03955535172818131\n",
      "RMSE value for k=  8 is: 0.042695628191498324\n",
      "RMSE value for k=  9 is: 0.040572041296678976\n",
      "RMSE value for k=  10 is: 0.04281744192888376\n",
      "RMSE value for k=  11 is: 0.04810456929208346\n",
      "RMSE value for k=  12 is: 0.0515949322805742\n",
      "RMSE value for k=  13 is: 0.05310850045437943\n",
      "RMSE value for k=  14 is: 0.055174429648840326\n",
      "RMSE value for k=  15 is: 0.0563060420414219\n",
      "RMSE value for k=  16 is: 0.057054433073454806\n",
      "RMSE value for k=  17 is: 0.05901928213055847\n",
      "RMSE value for k=  18 is: 0.06051901717914145\n",
      "RMSE value for k=  19 is: 0.06271776467269992\n",
      "RMSE value for k=  20 is: 0.06670832032063166\n"
     ]
    }
   ],
   "source": [
    "rmse_val = [] #to store rmse values for different k\n",
    "for K in range(20):\n",
    "    K = K+1\n",
    "    model = neighbors.KNeighborsRegressor(n_neighbors = K)\n",
    "\n",
    "    model.fit(X_train, y_train)  #fit the model\n",
    "    pred=model.predict(X_test) #make prediction on test set\n",
    "    error = sqrt(mean_squared_error(y_test,pred)) #calculate rmse\n",
    "    rmse_val.append(error) #store rmse values\n",
    "    print('RMSE value for k= ' , K , 'is:', error)"
   ]
  },
  {
   "cell_type": "code",
   "execution_count": 55,
   "metadata": {},
   "outputs": [
    {
     "data": {
      "text/plain": [
       "<matplotlib.axes._subplots.AxesSubplot at 0x20d0cccb828>"
      ]
     },
     "execution_count": 55,
     "metadata": {},
     "output_type": "execute_result"
    },
    {
     "data": {
      "image/png": "[encoded data removed]",
      "text/plain": [
       "<Figure size 432x288 with 1 Axes>"
      ]
     },
     "metadata": {},
     "output_type": "display_data"
    }
   ],
   "source": [
    "#plotting the rmse values against k values\n",
    "curve = pd.DataFrame(rmse_val) #elbow curve \n",
    "curve.plot()"
   ]
  },
  {
   "cell_type": "code",
   "execution_count": 58,
   "metadata": {},
   "outputs": [
    {
     "data": {
      "text/plain": [
       "{'n_neighbors': 2}"
      ]
     },
     "execution_count": 58,
     "metadata": {},
     "output_type": "execute_result"
    }
   ],
   "source": [
    "from sklearn.model_selection import GridSearchCV\n",
    "params = {'n_neighbors':[2,3,4,5,6,7,8,9]}\n",
    "\n",
    "knn = neighbors.KNeighborsRegressor()\n",
    "\n",
    "model = GridSearchCV(knn, params, cv=5)\n",
    "model.fit(X_train,y_train)\n",
    "model.best_params_"
   ]
  },
  {
   "cell_type": "markdown",
   "metadata": {},
   "source": [
    "# Descision tree Classifier"
   ]
  },
  {
   "cell_type": "code",
   "execution_count": 47,
   "metadata": {},
   "outputs": [
    {
     "name": "stdout",
     "output_type": "stream",
     "text": [
      "Desicion Tree using Gini Index\n",
      "Accuracy is  91.0\n",
      "Desicion Tree using Information Gain\n",
      "Accuracy is  90.66666666666666\n"
     ]
    }
   ],
   "source": [
    "dt_clf_gini = DecisionTreeClassifier(criterion = \"gini\", random_state = 100,\n",
    "                               max_depth=5, min_samples_leaf=5)\n",
    "dt_clf_gini.fit(X_train, y_train)\n",
    "### Desicion Tree with Information Gain ###\n",
    "\n",
    "dt_clf_entropy = DecisionTreeClassifier(criterion = \"entropy\", random_state = 100,\n",
    " max_depth=5, min_samples_leaf=5)\n",
    "\n",
    "dt_clf_entropy.fit(X_train, y_train)\n",
    "\n",
    "y_pred_gini = dt_clf_gini.predict(X_test)\n",
    "y_pred_en = dt_clf_entropy.predict(X_test)\n",
    "\n",
    "print (\"Desicion Tree using Gini Index\\nAccuracy is \", accuracy_score(y_test,y_pred_gini)*100 )\n",
    "print (\"Desicion Tree using Information Gain\\nAccuracy is \", accuracy_score(y_test,y_pred_en)*100 )"
   ]
  },
  {
   "cell_type": "markdown",
   "metadata": {},
   "source": [
    "# Logistic Regression"
   ]
  },
  {
   "cell_type": "code",
   "execution_count": 48,
   "metadata": {},
   "outputs": [
    {
     "name": "stdout",
     "output_type": "stream",
     "text": [
      "Logistic Regression model accuracy(in %): 92.66666666666666\n"
     ]
    }
   ],
   "source": [
    "from sklearn import datasets, linear_model, metrics\n",
    "# create logistic regression object \n",
    "reg = linear_model.LogisticRegression() \n",
    "   \n",
    "# train the model using the training sets \n",
    "reg.fit(X_train, y_train) \n",
    "  \n",
    "# making predictions on the testing set \n",
    "y_pred = reg.predict(X_test) \n",
    "   \n",
    "# comparing actual response values (y_test) with predicted response values (y_pred) \n",
    "print(\"Logistic Regression model accuracy(in %):\",  \n",
    "metrics.accuracy_score(y_test, y_pred)*100) "
   ]
  },
  {
   "cell_type": "markdown",
   "metadata": {},
   "source": [
    "# Spot Check Algorithms"
   ]
  },
  {
   "cell_type": "code",
   "execution_count": 51,
   "metadata": {},
   "outputs": [
    {
     "name": "stdout",
     "output_type": "stream",
     "text": [
      "LR: 0.925705 (0.023799)\n",
      "LDA: 0.927175 (0.025813)\n",
      "KNN: 0.904150 (0.029120)\n",
      "CART: 0.874064 (0.047262)\n",
      "NB: 0.921378 (0.041586)\n",
      "SVM: 0.921337 (0.027589)\n"
     ]
    },
    {
     "data": {
      "image/png": "[encoded data removed]",
      "text/plain": [
       "<Figure size 432x288 with 1 Axes>"
      ]
     },
     "metadata": {},
     "output_type": "display_data"
    }
   ],
   "source": [
    "#Logistic Regression (LR)\n",
    "#Linear Discriminant Analysis (LDA)\n",
    "#K-Nearest Neighbors (KNN).\n",
    "#Classification and Regression Trees (CART).\n",
    "#Gaussian Naive Bayes (NB).\n",
    "#Support Vector Machines (SVM).\n",
    "\n",
    "models = []\n",
    "models.append(('LR', LogisticRegression(solver='liblinear', multi_class='ovr')))\n",
    "models.append(('LDA', LinearDiscriminantAnalysis()))\n",
    "models.append(('KNN', KNeighborsClassifier()))\n",
    "models.append(('CART', DecisionTreeClassifier()))\n",
    "models.append(('NB', GaussianNB()))\n",
    "models.append(('SVM', SVC(gamma='auto')))\n",
    "# evaluate each model in turn\n",
    "results = []\n",
    "names = []\n",
    "for name, model in models:\n",
    "\tkfold = StratifiedKFold(n_splits=10, random_state=100)\n",
    "\tcv_results = cross_val_score(model, X_train, y_train, cv=kfold, scoring='accuracy')\n",
    "\tresults.append(cv_results)\n",
    "\tnames.append(name)\n",
    "\tprint('%s: %f (%f)' % (name, cv_results.mean(), cv_results.std()))\n",
    "# Compare Algorithms\n",
    "pyplot.boxplot(results, labels=names)\n",
    "pyplot.title('Algorithm Comparison')\n",
    "pyplot.show()"
   ]
  },
  {
   "cell_type": "code",
   "execution_count": null,
   "metadata": {},
   "outputs": [],
   "source": []
  }
 ],
 "metadata": {
  "kernelspec": {
   "display_name": "Python 3",
   "language": "python",
   "name": "python3"
  },
  "language_info": {
   "codemirror_mode": {
    "name": "ipython",
    "version": 3
   },
   "file_extension": ".py",
   "mimetype": "text/x-python",
   "name": "python",
   "nbconvert_exporter": "python",
   "pygments_lexer": "ipython3",
   "version": "3.6.5"
  }
 },
 "nbformat": 4,
 "nbformat_minor": 2
}
