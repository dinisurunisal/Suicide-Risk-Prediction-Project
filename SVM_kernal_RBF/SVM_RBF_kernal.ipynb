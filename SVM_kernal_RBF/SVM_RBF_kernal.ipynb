{
 "cells": [
  {
   "cell_type": "markdown",
   "metadata": {
    "collapsed": true,
    "pycharm": {
     "name": "#%% md\n"
    }
   },
   "source": [
    "## Prediction Using Support Vector Machines (SVM)\n",
    "## Radial basis function kernel (RBF)"
   ]
  },
  {
   "cell_type": "code",
   "execution_count": 40,
   "outputs": [],
   "source": [
    "## Import Libraries\n",
    "import pandas as pd\n",
    "import numpy as np\n",
    "import seaborn as sns\n",
    "from sklearn import preprocessing\n",
    "from sklearn.externals import joblib\n",
    "from sklearn.model_selection import train_test_split\n",
    "from sklearn import metrics"
   ],
   "metadata": {
    "collapsed": false,
    "pycharm": {
     "name": "#%%\n",
     "is_executing": false
    }
   }
  },
  {
   "cell_type": "markdown",
   "source": [
    "#### Load dataset"
   ],
   "metadata": {
    "collapsed": false,
    "pycharm": {
     "name": "#%% md\n"
    }
   }
  },
  {
   "cell_type": "code",
   "execution_count": 41,
   "outputs": [
    {
     "name": "stdout",
     "text": [
      "    Age Gender    Religon        Race  \\\n",
      "0    30      F      Islam      Muslim   \n",
      "1    91      F      Islam      Muslim   \n",
      "2    85      M      Islam      Muslim   \n",
      "3    87      M  Christian  Sinhalese    \n",
      "4    59      M      Islam      Muslim   \n",
      "5    31      M      Other  Sinhalese    \n",
      "6    75      M  Christian      Burger   \n",
      "7    47      M   Buddhist  Sinhalese    \n",
      "8    58      M  Christian      Burger   \n",
      "9    36      M      Hindu       Tamil   \n",
      "10   87      M   Buddhist  Sinhalese    \n",
      "11   73      M  Christian      Burger   \n",
      "12   44      M   Buddhist  Sinhalese    \n",
      "13   62      M   Buddhist  Sinhalese    \n",
      "14   21      M      Hindu       Tamil   \n",
      "15   70      M   Buddhist  Sinhalese    \n",
      "16   68      M      Hindu       Tamil   \n",
      "17   43      F   Buddhist  Sinhalese    \n",
      "18   16      M      Islam      Muslim   \n",
      "19   35      M      Hindu       Tamil   \n",
      "\n",
      "                                 Nature Of Occupation Civil Status  \\\n",
      "0   Administrative Executive Managerial & related ...    Unmarried   \n",
      "1                                        Sales worker      Married   \n",
      "2                                  Security Personnel      Married   \n",
      "3                                  Unemployed persons      Married   \n",
      "4                                          Pensioners    Unmarried   \n",
      "5   Agricultural Animal Husbandry Fisherman & rela...    Unmarried   \n",
      "6                                      Armed Services      Married   \n",
      "7                                  Unemployed persons      Married   \n",
      "8                                      Armed Services    Unmarried   \n",
      "9                                      Armed Services      Married   \n",
      "10                                 Unemployed persons      Married   \n",
      "11  Clerical & related workers (Stenographers/ Typ...      Married   \n",
      "12  Agricultural Animal Husbandry Fisherman & rela...      Married   \n",
      "13       Service workers (Cooks/Tailors/Barbers/ etc)      Married   \n",
      "14                                       Sales worker    Unmarried   \n",
      "15                                 Unemployed persons      Married   \n",
      "16                                       Sales worker      Married   \n",
      "17                                     Armed Services      Married   \n",
      "18                                            Student    Unmarried   \n",
      "19  Agricultural Animal Husbandry Fisherman & rela...      Married   \n",
      "\n",
      "               Education Level  \\\n",
      "0            From Grade 1 to 7   \n",
      "1   University Degree or above   \n",
      "2   University Degree or above   \n",
      "3          School not attended   \n",
      "4                        Other   \n",
      "5           Passed G.C.E (O/L)   \n",
      "6           Passed G.C.E (A/L)   \n",
      "7          School not attended   \n",
      "8   University Degree or above   \n",
      "9   University Degree or above   \n",
      "10              Passed Grade 8   \n",
      "11              Passed Grade 8   \n",
      "12          Passed G.C.E (O/L)   \n",
      "13           From Grade 1 to 7   \n",
      "14          Passed G.C.E (O/L)   \n",
      "15         School not attended   \n",
      "16              Passed Grade 8   \n",
      "17          Passed G.C.E (O/L)   \n",
      "18          Passed G.C.E (O/L)   \n",
      "19              Passed Grade 8   \n",
      "\n",
      "                                             Reason  \\\n",
      "0                                            Asthma   \n",
      "1                               Alzheimer's disease   \n",
      "2   Stroke/Chronic diseases & Physical disabilities   \n",
      "3       Harrasment by the husband & family disputes   \n",
      "4                               Alzheimer's disease   \n",
      "5       Harrasment by the husband & family disputes   \n",
      "6                                     Natural Death   \n",
      "7       Harrasment by the husband & family disputes   \n",
      "8                                          Diabetes   \n",
      "9                                     Natural Death   \n",
      "10         Chronic diseases & Physical disabilities   \n",
      "11                                    Natural Death   \n",
      "12      Harrasment by the husband & family disputes   \n",
      "13                                 Mental Disorders   \n",
      "14  Stroke/Chronic diseases & Physical disabilities   \n",
      "15                                 Mental Disorders   \n",
      "16                      Addiction to narcotic drugs   \n",
      "17      Harrasment by the husband & family disputes   \n",
      "18                                 Mental Disorders   \n",
      "19                                    Other Reasons   \n",
      "\n",
      "    Lifetime Psychiatric Hospitalizations  Past Suicide Attempts  ...  \\\n",
      "0                                       0                      0  ...   \n",
      "1                                       0                      0  ...   \n",
      "2                                       0                      0  ...   \n",
      "3                                       1                      1  ...   \n",
      "4                                       0                      1  ...   \n",
      "5                                       1                      1  ...   \n",
      "6                                       0                      0  ...   \n",
      "7                                       1                      1  ...   \n",
      "8                                       0                      0  ...   \n",
      "9                                       0                      0  ...   \n",
      "10                                      1                      1  ...   \n",
      "11                                      0                      0  ...   \n",
      "12                                      1                      1  ...   \n",
      "13                                      1                      1  ...   \n",
      "14                                      0                      0  ...   \n",
      "15                                      1                      1  ...   \n",
      "16                                      0                      0  ...   \n",
      "17                                      1                      1  ...   \n",
      "18                                      0                      0  ...   \n",
      "19                                      1                      1  ...   \n",
      "\n",
      "    Self-Injurious Behaviour  Psychiatric Disorders  Past Illnesses  \\\n",
      "0                          0                   None          Asthma   \n",
      "1                          0                   None           Other   \n",
      "2                          0                   None        Diabetes   \n",
      "3                          0                   None    Chronic pain   \n",
      "4                          0                   None            COPD   \n",
      "5                          1                   None           Other   \n",
      "6                          0                   None         Unknown   \n",
      "7                          1                   None           Other   \n",
      "8                          0                   None         Unknown   \n",
      "9                          0                   None         Unknown   \n",
      "10                         0                  Other        HIV/AIDS   \n",
      "11                         0                   None  Heart Diseases   \n",
      "12                         0                   None          Cancer   \n",
      "13                         0                   PTSD           Other   \n",
      "14                         0                   None    Chronic pain   \n",
      "15                         0             Depression           Other   \n",
      "16                         0                   None           Other   \n",
      "17                         1             Depression          Cancer   \n",
      "18                         0             Depression         Unknown   \n",
      "19                         0             Depression           Other   \n",
      "\n",
      "   Alcohol/ drug Consumption Anger  Sleep Problem  Social Iscolation  \\\n",
      "0                       None     0              0                  0   \n",
      "1                       None     0              1                  0   \n",
      "2                       None     0              1                  0   \n",
      "3                   Frequent     1              1                  1   \n",
      "4                       None     0              1                  0   \n",
      "5                   Frequent     1              1                  1   \n",
      "6                       None     0              0                  1   \n",
      "7                   Moderate     0              0                  1   \n",
      "8                       None     0              0                  0   \n",
      "9                       None     0              1                  0   \n",
      "10                  Frequent     0              1                  1   \n",
      "11                      None     0              1                  0   \n",
      "12                  Frequent     0              1                  1   \n",
      "13                  Frequent     1              1                  1   \n",
      "14                      None     0              1                  0   \n",
      "15                  Frequent     1              1                  1   \n",
      "16                  Frequent     0              0                  0   \n",
      "17                      None     0              1                  1   \n",
      "18                  Moderate     0              0                  1   \n",
      "19                  Moderate     0              1                  1   \n",
      "\n",
      "    Sad/ Weary  Humilated  Not Suicide(0)/Suicide(1)  \n",
      "0            0          0                          0  \n",
      "1            0          0                          0  \n",
      "2            0          0                          0  \n",
      "3            1          1                          1  \n",
      "4            1          1                          0  \n",
      "5            1          1                          1  \n",
      "6            0          0                          0  \n",
      "7            1          0                          1  \n",
      "8            0          0                          0  \n",
      "9            0          0                          0  \n",
      "10           1          0                          1  \n",
      "11           0          0                          0  \n",
      "12           1          0                          1  \n",
      "13           0          1                          1  \n",
      "14           1          0                          0  \n",
      "15           1          0                          1  \n",
      "16           0          0                          0  \n",
      "17           1          1                          1  \n",
      "18           0          0                          0  \n",
      "19           1          0                          1  \n",
      "\n",
      "[20 rows x 21 columns]\n",
      "               Age  Lifetime Psychiatric Hospitalizations  \\\n",
      "count  1000.000000                            1000.000000   \n",
      "mean     51.820000                               0.494000   \n",
      "std      22.186704                               0.500214   \n",
      "min      10.000000                               0.000000   \n",
      "25%      32.000000                               0.000000   \n",
      "50%      54.000000                               0.000000   \n",
      "75%      70.000000                               1.000000   \n",
      "max      98.000000                               1.000000   \n",
      "\n",
      "       Past Suicide Attempts  Any suicidal thoughts mentioned  \\\n",
      "count             1000.00000                      1000.000000   \n",
      "mean                 0.24900                         0.308000   \n",
      "std                  0.43265                         0.461898   \n",
      "min                  0.00000                         0.000000   \n",
      "25%                  0.00000                         0.000000   \n",
      "50%                  0.00000                         0.000000   \n",
      "75%                  0.00000                         1.000000   \n",
      "max                  1.00000                         1.000000   \n",
      "\n",
      "       Self-Injurious Behaviour        Anger  Sleep Problem  \\\n",
      "count               1000.000000  1000.000000    1000.000000   \n",
      "mean                   0.226000     0.493000       0.621000   \n",
      "std                    0.418448     0.500201       0.485381   \n",
      "min                    0.000000     0.000000       0.000000   \n",
      "25%                    0.000000     0.000000       0.000000   \n",
      "50%                    0.000000     0.000000       1.000000   \n",
      "75%                    0.000000     1.000000       1.000000   \n",
      "max                    1.000000     1.000000       1.000000   \n",
      "\n",
      "       Social Iscolation   Sad/ Weary    Humilated  Not Suicide(0)/Suicide(1)  \n",
      "count        1000.000000  1000.000000  1000.000000                 1000.00000  \n",
      "mean            0.458000     0.433000     0.363000                    0.50000  \n",
      "std             0.498482     0.495739     0.481105                    0.50025  \n",
      "min             0.000000     0.000000     0.000000                    0.00000  \n",
      "25%             0.000000     0.000000     0.000000                    0.00000  \n",
      "50%             0.000000     0.000000     0.000000                    0.50000  \n",
      "75%             1.000000     1.000000     1.000000                    1.00000  \n",
      "max             1.000000     1.000000     1.000000                    1.00000  \n"
     ],
     "output_type": "stream"
    }
   ],
   "source": [
    "url = \"Test-Data-6.csv\"\n",
    "df = pd.read_csv(url)\n",
    "include = [ 'Age', 'Gender', 'Religon', 'Race', 'Nature Of Occupation' ,\n",
    "           'Civil Status' ,'Education Level' ,'Reason' ,'Lifetime Psychiatric Hospitalizations' ,\n",
    "           'Past Suicide Attempts' ,'Any suicidal thoughts mentioned' ,'Self-Injurious Behaviour' ,\n",
    "           'Psychiatric Disorders' ,'Past Illnesses' ,'Alcohol/ drug Consumption','Anger',\n",
    "           'Sleep Problem', 'Social Iscolation', 'Sad/ Weary' , 'Humilated', 'Not Suicide(0)/Suicide(1)']  # Except the year, all the features are taken \n",
    "df1 = df[include]\n",
    "print(df1.head(20))\n",
    "print(df1.describe())"
   ],
   "metadata": {
    "collapsed": false,
    "pycharm": {
     "name": "#%%\n",
     "is_executing": false
    }
   }
  },
  {
   "cell_type": "markdown",
   "source": [
    "#### Replacing unwanted labels with a unique label"
   ],
   "metadata": {
    "collapsed": false,
    "pycharm": {
     "name": "#%% md\n"
    }
   }
  },
  {
   "cell_type": "code",
   "execution_count": 42,
   "outputs": [],
   "source": [
    "df['Reason'].replace(['Asthma', \"Alzheimer's disease\", 'Diabetes',\n",
    "              'Cirrhosis', 'Ischemic heart disease', \n",
    "              'Road Accident','Chronic kidney disease'],\n",
    "             ['Natural Death','Natural Death','Natural Death','Natural Death',\n",
    "              'Natural Death','Natural Death','Natural Death'], inplace = True)\n",
    "df['Reason'].replace(['Stroke/Chronic diseases & Physical disabilities'],\n",
    "             ['Chronic diseases & Physical disabilities'], inplace = True)\n",
    "df1 = df[include]"
   ],
   "metadata": {
    "collapsed": false,
    "pycharm": {
     "name": "#%%\n",
     "is_executing": false
    }
   }
  },
  {
   "cell_type": "markdown",
   "source": [
    "#### Data Preprocessing"
   ],
   "metadata": {
    "collapsed": false,
    "pycharm": {
     "name": "#%% md\n"
    }
   }
  },
  {
   "cell_type": "code",
   "execution_count": 43,
   "outputs": [
    {
     "name": "stderr",
     "text": [
      "c:\\users\\dinis\\pycharmprojects\\suicide-risk-predictor\\venv\\lib\\site-packages\\pandas\\core\\generic.py:6245: SettingWithCopyWarning: \n",
      "A value is trying to be set on a copy of a slice from a DataFrame\n",
      "\n",
      "See the caveats in the documentation: https://pandas.pydata.org/pandas-docs/stable/user_guide/indexing.html#returning-a-view-versus-a-copy\n",
      "  self._update_inplace(new_data)\n"
     ],
     "output_type": "stream"
    }
   ],
   "source": [
    "categoricals = []\n",
    "for col, col_type in df1.dtypes.iteritems():\n",
    "     if col_type == 'O':\n",
    "          categoricals.append(col)\n",
    "     else:\n",
    "          df1[col].fillna(0, inplace=True)"
   ],
   "metadata": {
    "collapsed": false,
    "pycharm": {
     "name": "#%%\n",
     "is_executing": false
    }
   }
  },
  {
   "cell_type": "markdown",
   "source": [
    "#### LabelEncoder"
   ],
   "metadata": {
    "collapsed": false,
    "pycharm": {
     "name": "#%% md\n"
    }
   }
  },
  {
   "cell_type": "code",
   "execution_count": 44,
   "outputs": [
    {
     "name": "stdout",
     "text": [
      "    Age  Gender  Religon  Race  Nature Of Occupation  Civil Status  \\\n",
      "0    30       0        3     1                     0             2   \n",
      "1    91       0        3     1                     8             1   \n",
      "2    85       1        3     1                     9             1   \n",
      "3    87       1        1     3                    12             1   \n",
      "4    59       1        3     1                     4             2   \n",
      "5    31       1        4     3                     1             2   \n",
      "6    75       1        1     0                     2             1   \n",
      "7    47       1        0     3                    12             1   \n",
      "8    58       1        1     0                     2             2   \n",
      "9    36       1        2     4                     2             1   \n",
      "10   87       1        0     3                    12             1   \n",
      "11   73       1        1     0                     3             1   \n",
      "12   44       1        0     3                     1             1   \n",
      "13   62       1        0     3                    10             1   \n",
      "14   21       1        2     4                     8             2   \n",
      "15   70       1        0     3                    12             1   \n",
      "16   68       1        2     4                     8             1   \n",
      "17   43       0        0     3                     2             1   \n",
      "18   16       1        3     1                    11             2   \n",
      "19   35       1        2     4                     1             1   \n",
      "\n",
      "    Education Level  Reason  Lifetime Psychiatric Hospitalizations  \\\n",
      "0                 0      10                                      0   \n",
      "1                 6      10                                      0   \n",
      "2                 6       2                                      0   \n",
      "3                 5       6                                      1   \n",
      "4                 1      10                                      0   \n",
      "5                 3       6                                      1   \n",
      "6                 2      10                                      0   \n",
      "7                 5       6                                      1   \n",
      "8                 6      10                                      0   \n",
      "9                 6      10                                      0   \n",
      "10                4       2                                      1   \n",
      "11                4      10                                      0   \n",
      "12                3       6                                      1   \n",
      "13                0       9                                      1   \n",
      "14                3       2                                      0   \n",
      "15                5       9                                      1   \n",
      "16                4       0                                      0   \n",
      "17                3       6                                      1   \n",
      "18                3       9                                      0   \n",
      "19                4      11                                      1   \n",
      "\n",
      "    Past Suicide Attempts  ...  Self-Injurious Behaviour  \\\n",
      "0                       0  ...                         0   \n",
      "1                       0  ...                         0   \n",
      "2                       0  ...                         0   \n",
      "3                       1  ...                         0   \n",
      "4                       1  ...                         0   \n",
      "5                       1  ...                         1   \n",
      "6                       0  ...                         0   \n",
      "7                       1  ...                         1   \n",
      "8                       0  ...                         0   \n",
      "9                       0  ...                         0   \n",
      "10                      1  ...                         0   \n",
      "11                      0  ...                         0   \n",
      "12                      1  ...                         0   \n",
      "13                      1  ...                         0   \n",
      "14                      0  ...                         0   \n",
      "15                      1  ...                         0   \n",
      "16                      0  ...                         0   \n",
      "17                      1  ...                         1   \n",
      "18                      0  ...                         0   \n",
      "19                      1  ...                         0   \n",
      "\n",
      "    Psychiatric Disorders  Past Illnesses  Alcohol/ drug Consumption  Anger  \\\n",
      "0                       3               0                          2      0   \n",
      "1                       3               8                          2      0   \n",
      "2                       3               4                          2      0   \n",
      "3                       3               3                          0      1   \n",
      "4                       3               1                          2      0   \n",
      "5                       3               8                          0      1   \n",
      "6                       3               9                          2      0   \n",
      "7                       3               8                          1      0   \n",
      "8                       3               9                          2      0   \n",
      "9                       3               9                          2      0   \n",
      "10                      4               5                          0      0   \n",
      "11                      3               6                          2      0   \n",
      "12                      3               2                          0      0   \n",
      "13                      5               8                          0      1   \n",
      "14                      3               3                          2      0   \n",
      "15                      2               8                          0      1   \n",
      "16                      3               8                          0      0   \n",
      "17                      2               2                          2      0   \n",
      "18                      2               9                          1      0   \n",
      "19                      2               8                          1      0   \n",
      "\n",
      "    Sleep Problem  Social Iscolation  Sad/ Weary  Humilated  \\\n",
      "0               0                  0           0          0   \n",
      "1               1                  0           0          0   \n",
      "2               1                  0           0          0   \n",
      "3               1                  1           1          1   \n",
      "4               1                  0           1          1   \n",
      "5               1                  1           1          1   \n",
      "6               0                  1           0          0   \n",
      "7               0                  1           1          0   \n",
      "8               0                  0           0          0   \n",
      "9               1                  0           0          0   \n",
      "10              1                  1           1          0   \n",
      "11              1                  0           0          0   \n",
      "12              1                  1           1          0   \n",
      "13              1                  1           0          1   \n",
      "14              1                  0           1          0   \n",
      "15              1                  1           1          0   \n",
      "16              0                  0           0          0   \n",
      "17              1                  1           1          1   \n",
      "18              0                  1           0          0   \n",
      "19              1                  1           1          0   \n",
      "\n",
      "    Not Suicide(0)/Suicide(1)  \n",
      "0                           0  \n",
      "1                           0  \n",
      "2                           0  \n",
      "3                           1  \n",
      "4                           0  \n",
      "5                           1  \n",
      "6                           0  \n",
      "7                           1  \n",
      "8                           0  \n",
      "9                           0  \n",
      "10                          1  \n",
      "11                          0  \n",
      "12                          1  \n",
      "13                          1  \n",
      "14                          0  \n",
      "15                          1  \n",
      "16                          0  \n",
      "17                          1  \n",
      "18                          0  \n",
      "19                          1  \n",
      "\n",
      "[20 rows x 21 columns]\n",
      "Gender {'F': 0, 'M': 1}\n",
      "Religon {'Buddhist': 0, 'Christian': 1, 'Hindu': 2, 'Islam': 3, 'Other': 4}\n",
      "Race {'Burger': 0, 'Muslim': 1, 'Other': 2, 'Sinhalese ': 3, 'Tamil': 4}\n",
      "Nature Of Occupation {'Administrative Executive Managerial & related workers': 0, 'Agricultural Animal Husbandry Fisherman & related Forestry workers': 1, 'Armed Services': 2, 'Clerical & related workers (Stenographers/ Typists etc)': 3, 'Pensioners': 4, 'Police': 5, 'Production process workers Craftsman & related workers transport equipment operators & labourers': 6, 'Professional Technical & related workers (Doctors/Engineers/Accountants/ Teachers/Authors/ Photographers)': 7, 'Sales worker': 8, 'Security Personnel': 9, 'Service workers (Cooks/Tailors/Barbers/ etc)': 10, 'Student': 11, 'Unemployed persons': 12, 'Workers not classfied by occupation ': 13}\n",
      "Civil Status {'Divourced': 0, 'Married': 1, 'Unmarried': 2, 'Widow': 3}\n",
      "Education Level {'From Grade 1 to 7': 0, 'Other': 1, 'Passed G.C.E (A/L)': 2, 'Passed G.C.E (O/L)': 3, 'Passed Grade 8': 4, 'School not attended': 5, 'University Degree or above': 6}\n",
      "Reason {'Addiction to narcotic drugs': 0, 'Aggrieved over the death parents/relations': 1, 'Chronic diseases & Physical disabilities': 2, 'Economic problems (Poverty indebtedness)': 3, 'Employment problems': 4, 'Failure at the examination': 5, 'Harrasment by the husband & family disputes': 6, 'Ill-treatment by the children': 7, 'Loss of property': 8, 'Mental Disorders': 9, 'Natural Death': 10, 'Other Reasons': 11, 'Problems caused with the elders': 12, 'Sexual incapacity': 13, 'Using disappointment frustration caused through love affairs': 14}\n",
      "Psychiatric Disorders {'BPD': 0, 'Bipolar Disorder': 1, 'Depression': 2, 'None': 3, 'Other': 4, 'PTSD': 5, 'Schizophrenia': 6}\n",
      "Past Illnesses {'Asthma': 0, 'COPD': 1, 'Cancer': 2, 'Chronic pain': 3, 'Diabetes': 4, 'HIV/AIDS': 5, 'Heart Diseases': 6, 'Kidney Disease': 7, 'Other': 8, 'Unknown': 9}\n",
      "Alcohol/ drug Consumption {'Frequent': 0, 'Moderate': 1, 'None': 2}\n"
     ],
     "output_type": "stream"
    },
    {
     "name": "stderr",
     "text": [
      "c:\\users\\dinis\\pycharmprojects\\suicide-risk-predictor\\venv\\lib\\site-packages\\ipykernel_launcher.py:7: SettingWithCopyWarning: \n",
      "A value is trying to be set on a copy of a slice from a DataFrame.\n",
      "Try using .loc[row_indexer,col_indexer] = value instead\n",
      "\n",
      "See the caveats in the documentation: https://pandas.pydata.org/pandas-docs/stable/user_guide/indexing.html#returning-a-view-versus-a-copy\n",
      "  import sys\n"
     ],
     "output_type": "stream"
    }
   ],
   "source": [
    "category_col =['Gender', 'Religon', 'Race', 'Nature Of Occupation' ,\n",
    "           'Civil Status' ,'Education Level' ,'Reason' ,\n",
    "           'Psychiatric Disorders' ,'Past Illnesses' ,'Alcohol/ drug Consumption'] \n",
    "labelEncoder = preprocessing.LabelEncoder()\n",
    "mapping_dict={}\n",
    "for col in category_col:\n",
    "    df1[col] = labelEncoder.fit_transform(df1[col])\n",
    "    le_name_mapping = dict(zip(labelEncoder.classes_, labelEncoder.transform(labelEncoder.classes_)))\n",
    "    mapping_dict[col]=le_name_mapping\n",
    "print(df1.head(20))\n",
    "\n",
    "for x, y in mapping_dict.items():\n",
    "  print(x, y)"
   ],
   "metadata": {
    "collapsed": false,
    "pycharm": {
     "name": "#%%\n",
     "is_executing": false
    }
   }
  },
  {
   "cell_type": "markdown",
   "source": [
    "##### Split the dataset"
   ],
   "metadata": {
    "collapsed": false,
    "pycharm": {
     "name": "#%% md\n",
     "is_executing": false
    }
   }
  },
  {
   "cell_type": "code",
   "execution_count": 45,
   "outputs": [
    {
     "name": "stdout",
     "text": [
      "[[30  0  3 ...  0  0  0]\n",
      " [91  0  3 ...  0  0  0]\n",
      " [85  1  3 ...  0  0  0]\n",
      " ...\n",
      " [15  1  0 ...  0  1  1]\n",
      " [75  1  3 ...  0  0  0]\n",
      " [56  0  0 ...  1  1  0]]\n",
      "[0 0 0 1 0 1 0 1 0 0 1 0 1 1 0 1 0 1 0 1 0 1 1 1 0 0 1 1 1 1 0 1 0 1 0 0 1\n",
      " 1 1 0 0 0 0 1 1 1 1 1 1 1 0 0 0 0 0 0 1 0 0 1 0 1 1 0 1 1 1 0 1 0 1 0 1 1\n",
      " 1 0 0 0 0 0 1 1 0 1 0 0 0 1 1 0 0 1 0 0 1 1 0 0 1 0 0 1 1 0 0 1 1 0 0 0 0\n",
      " 0 0 0 1 0 0 1 0 1 0 0 1 1 1 1 0 1 0 0 0 0 0 1 1 1 0 1 0 0 1 1 0 1 1 0 0 1\n",
      " 0 0 0 0 0 0 1 0 0 1 1 1 1 0 0 1 0 1 1 0 1 0 0 0 1 1 1 0 0 1 1 0 1 0 0 1 1\n",
      " 1 0 0 1 0 1 1 0 1 1 0 1 1 1 1 1 1 0 1 1 0 1 1 1 1 1 1 0 0 0 1 0 0 0 1 0 0\n",
      " 1 0 1 1 1 1 0 0 1 1 1 1 1 0 0 0 0 0 1 1 1 0 0 1 0 0 0 1 1 0 1 1 1 1 1 1 1\n",
      " 0 0 1 1 0 1 0 0 1 0 0 1 0 1 1 1 0 0 0 0 1 0 0 1 0 1 1 1 0 0 1 1 1 1 0 1 1\n",
      " 1 1 1 1 1 0 1 0 0 1 0 0 1 1 1 1 1 1 1 1 0 1 0 0 0 1 0 1 1 0 1 1 1 1 1 1 1\n",
      " 1 1 0 0 0 0 1 0 1 1 1 0 1 1 1 0 1 1 0 1 1 0 0 1 1 0 0 1 0 0 0 0 0 0 0 0 1\n",
      " 0 1 0 0 1 1 0 1 1 0 0 1 0 1 0 1 0 0 1 0 0 1 1 1 0 1 1 1 1 0 1 1 0 0 1 0 0\n",
      " 0 0 0 1 0 1 1 0 0 1 1 0 1 1 0 0 1 1 1 0 0 0 1 1 0 0 0 0 1 1 1 0 1 1 1 0 1\n",
      " 1 1 0 0 0 0 0 1 1 0 1 1 0 0 1 0 1 1 1 1 0 1 1 1 1 0 1 0 0 0 0 1 1 0 0 0 0\n",
      " 0 0 1 1 0 1 1 0 0 1 1 1 1 0 0 0 0 0 1 0 0 1 1 1 1 1 1 0 1 1 1 1 0 1 0 0 0\n",
      " 1 1 0 0 0 1 1 0 1 0 0 1 0 0 1 0 1 1 0 0 1 0 0 0 0 0 1 1 1 0 0 0 0 1 1 0 1\n",
      " 0 1 0 1 1 0 1 0 1 1 0 1 0 0 0 0 0 0 1 1 1 0 1 1 1 1 0 0 1 1 1 0 1 1 1 1 1\n",
      " 0 0 1 0 0 0 0 0 1 0 0 0 1 1 0 1 0 0 0 1 0 1 1 0 1 0 0 0 1 1 1 1 1 0 0 0 0\n",
      " 0 1 1 1 1 0 0 0 1 0 0 0 1 0 0 1 1 0 1 0 0 1 0 0 0 0 1 0 0 0 1 1 1 0 1 1 1\n",
      " 0 0 1 0 0 1 0 1 0 1 1 0 0 0 1 1 0 1 0 0 0 0 0 0 0 0 0 1 0 1 1 0 1 0 0 0 0\n",
      " 0 0 0 1 1 1 1 0 0 1 0 1 1 0 0 0 1 1 1 0 0 0 1 0 1 1 0 0 0 0 1 1 0 1 0 0 0\n",
      " 0 0 1 0 1 0 1 1 1 0 0 1 1 1 1 0 0 0 1 0 1 1 0 1 1 0 1 1 1 0 0 1 0 1 0 1 1\n",
      " 1 0 0 1 0 0 0 1 0 1 0 1 0 0 0 1 1 1 1 0 0 1 0 1 0 0 1 0 1 0 1 0 0 0 0 0 1\n",
      " 0 1 1 1 0 0 1 1 1 1 0 0 0 0 0 0 1 1 1 1 1 1 1 1 1 0 1 1 1 1 1 1 0 0 0 1 0\n",
      " 0 0 1 1 1 0 0 1 1 0 0 1 1 0 0 1 1 0 1 1 0 0 1 1 0 1 0 0 0 0 1 0 1 0 0 0 1\n",
      " 1 0 0 0 1 1 1 1 0 1 0 1 1 0 0 1 1 0 0 0 1 0 0 1 0 0 1 0 0 0 0 0 1 1 0 1 1\n",
      " 0 0 1 1 1 1 1 0 1 0 0 0 0 1 0 1 1 0 1 0 1 1 0 0 1 0 1 1 1 1 0 1 1 0 1 1 1\n",
      " 0 0 1 0 0 1 1 1 0 0 1 0 1 0 1 0 0 1 0 1 0 1 0 0 0 1 1 1 0 0 1 0 1 0 1 1 0\n",
      " 1]\n"
     ],
     "output_type": "stream"
    }
   ],
   "source": [
    "X = df1.values[:, 0:20]\n",
    "Y = df1.values[:,20]\n",
    "print(X)\n",
    "print(Y)\n",
    "\n",
    "X_train, X_test, y_train, y_test = train_test_split(X, Y, test_size=0.3,random_state=109)  # 70% training and 30% testing"
   ],
   "metadata": {
    "collapsed": false,
    "pycharm": {
     "name": "#%%\n",
     "is_executing": false
    }
   }
  },
  {
   "cell_type": "markdown",
   "source": [
    "#### Model Generation"
   ],
   "metadata": {
    "collapsed": false,
    "pycharm": {
     "name": "#%% md\n",
     "is_executing": false
    }
   }
  },
  {
   "cell_type": "code",
   "execution_count": 46,
   "outputs": [],
   "source": [
    "#Importing the svm model\n",
    "from sklearn import svm\n",
    "\n",
    "#Build a svm Classifier\n",
    "clf = svm.SVC(kernel='rbf') # RBF Kernel\n",
    "\n",
    "#Train the model using the training sets\n",
    "clf.fit(X_train, y_train)\n",
    "\n",
    "#Predict the response for test dataset\n",
    "y_pred = clf.predict(X_test)\n"
   ],
   "metadata": {
    "collapsed": false,
    "pycharm": {
     "name": "#%%\n",
     "is_executing": false
    }
   }
  },
  {
   "cell_type": "markdown",
   "source": [
    "#### Finding the accuracy"
   ],
   "metadata": {
    "collapsed": false,
    "pycharm": {
     "name": "#%% md\n",
     "is_executing": false
    }
   }
  },
  {
   "cell_type": "code",
   "execution_count": 47,
   "outputs": [
    {
     "name": "stdout",
     "text": [
      "Accuracy from SVM(RBF) : 0.81\n"
     ],
     "output_type": "stream"
    }
   ],
   "source": [
    "print(\"Accuracy from SVM(RBF) :\",metrics.accuracy_score(y_test, y_pred))"
   ],
   "metadata": {
    "collapsed": false,
    "pycharm": {
     "name": "#%%\n",
     "is_executing": false
    }
   }
  },
  {
   "cell_type": "markdown",
   "source": [
    "#### Precision and Recall"
   ],
   "metadata": {
    "collapsed": false,
    "pycharm": {
     "name": "#%% md\n"
    }
   }
  },
  {
   "cell_type": "code",
   "execution_count": 48,
   "outputs": [
    {
     "name": "stdout",
     "text": [
      "Precision from SVM(RBF): 0.782608695652174\n",
      "Recall from SVM(RBF): 0.8513513513513513\n"
     ],
     "output_type": "stream"
    }
   ],
   "source": [
    "print(\"Precision from SVM(RBF):\",metrics.precision_score(y_test, y_pred))\n",
    "print(\"Recall from SVM(RBF):\",metrics.recall_score(y_test, y_pred))"
   ],
   "metadata": {
    "collapsed": false,
    "pycharm": {
     "name": "#%%\n",
     "is_executing": false
    }
   }
  },
  {
   "cell_type": "code",
   "execution_count": 49,
   "outputs": [
    {
     "name": "stdout",
     "text": [
      "Model was created!\n"
     ],
     "output_type": "stream"
    }
   ],
   "source": [
    "import pickle\n",
    "\n",
    "#creating and training a model\n",
    "#serializing our model to a file called model.pkl\n",
    "pickle.dump(clf, open(\"model.pkl\",\"wb\"))\n",
    "print(\"Model was created!\")"
   ],
   "metadata": {
    "collapsed": false,
    "pycharm": {
     "name": "#%%\n",
     "is_executing": false
    }
   }
  },
  {
   "cell_type": "code",
   "execution_count": 50,
   "outputs": [
    {
     "name": "stdout",
     "text": [
      "[1]\n"
     ],
     "output_type": "stream"
    }
   ],
   "source": [
    "print(clf.predict([[31,0,4,11,2,6,0,7,1,1,0,0,3,9,2,0,0,0,0,0]]))"
   ],
   "metadata": {
    "collapsed": false,
    "pycharm": {
     "name": "#%%\n",
     "is_executing": false
    }
   }
  },
  {
   "cell_type": "code",
   "execution_count": 52,
   "outputs": [],
   "source": [
    "print(clf.predict([[31,0,4,11,2,6,0,7,1,1,1,0,3,9,2,0,0,0,0,0]]))\n"
   ],
   "metadata": {
    "collapsed": false,
    "pycharm": {
     "name": "#%%\n",
     "is_executing": false
    }
   }
  },
  {
   "cell_type": "code",
   "execution_count": 52,
   "outputs": [],
   "source": [
    "print(clf.predict([[31,0,4,11,2,6,0,7,1,1,1,1,3,9,2,0,0,0,0,0]]))\n"
   ],
   "metadata": {
    "collapsed": false,
    "pycharm": {
     "name": "#%%\n",
     "is_executing": false
    }
   }
  },
  {
   "cell_type": "code",
   "execution_count": 52,
   "outputs": [],
   "source": [
    "\n",
    "print(clf.predict([[31,0,4,11,2,6,0,7,1,1,1,1,3,9,2,0,0,0,0,0]]))"
   ],
   "metadata": {
    "collapsed": false,
    "pycharm": {
     "name": "#%%\n",
     "is_executing": false
    }
   }
  },
  {
   "cell_type": "code",
   "execution_count": 52,
   "outputs": [],
   "source": [
    "\n"
   ],
   "metadata": {
    "collapsed": false,
    "pycharm": {
     "name": "#%%\n",
     "is_executing": false
    }
   }
  },
  {
   "cell_type": "code",
   "execution_count": 52,
   "outputs": [],
   "source": [
    "\n"
   ],
   "metadata": {
    "collapsed": false,
    "pycharm": {
     "name": "#%%\n",
     "is_executing": false
    }
   }
  },
  {
   "cell_type": "code",
   "execution_count": 52,
   "outputs": [],
   "source": [
    "\n"
   ],
   "metadata": {
    "collapsed": false,
    "pycharm": {
     "name": "#%%\n",
     "is_executing": false
    }
   }
  },
  {
   "cell_type": "code",
   "execution_count": 52,
   "outputs": [],
   "source": [
    "\n"
   ],
   "metadata": {
    "collapsed": false,
    "pycharm": {
     "name": "#%%\n",
     "is_executing": false
    }
   }
  },
  {
   "cell_type": "code",
   "execution_count": 52,
   "outputs": [],
   "source": [
    "\n"
   ],
   "metadata": {
    "collapsed": false,
    "pycharm": {
     "name": "#%%\n",
     "is_executing": false
    }
   }
  },
  {
   "cell_type": "code",
   "execution_count": 52,
   "outputs": [],
   "source": [
    "\n"
   ],
   "metadata": {
    "collapsed": false,
    "pycharm": {
     "name": "#%%\n",
     "is_executing": false
    }
   }
  },
  {
   "cell_type": "code",
   "execution_count": 52,
   "outputs": [],
   "source": [
    "\n"
   ],
   "metadata": {
    "collapsed": false,
    "pycharm": {
     "name": "#%%\n",
     "is_executing": false
    }
   }
  },
  {
   "cell_type": "code",
   "execution_count": 52,
   "outputs": [],
   "source": [
    "\n"
   ],
   "metadata": {
    "collapsed": false,
    "pycharm": {
     "name": "#%%\n",
     "is_executing": false
    }
   }
  },
  {
   "cell_type": "code",
   "execution_count": 52,
   "outputs": [],
   "source": [
    "\n"
   ],
   "metadata": {
    "collapsed": false,
    "pycharm": {
     "name": "#%%\n",
     "is_executing": false
    }
   }
  },
  {
   "cell_type": "code",
   "execution_count": 52,
   "outputs": [],
   "source": [
    "\n"
   ],
   "metadata": {
    "collapsed": false,
    "pycharm": {
     "name": "#%%\n",
     "is_executing": false
    }
   }
  },
  {
   "cell_type": "code",
   "execution_count": 52,
   "outputs": [],
   "source": [
    "\n"
   ],
   "metadata": {
    "collapsed": false,
    "pycharm": {
     "name": "#%%\n",
     "is_executing": false
    }
   }
  },
  {
   "cell_type": "code",
   "execution_count": 52,
   "outputs": [],
   "source": [
    "\n"
   ],
   "metadata": {
    "collapsed": false,
    "pycharm": {
     "name": "#%%\n",
     "is_executing": false
    }
   }
  },
  {
   "cell_type": "code",
   "execution_count": 52,
   "outputs": [],
   "source": [
    "\n"
   ],
   "metadata": {
    "collapsed": false,
    "pycharm": {
     "name": "#%%\n",
     "is_executing": false
    }
   }
  },
  {
   "cell_type": "code",
   "execution_count": 52,
   "outputs": [],
   "source": [
    "\n"
   ],
   "metadata": {
    "collapsed": false,
    "pycharm": {
     "name": "#%%\n",
     "is_executing": false
    }
   }
  }
 ],
 "metadata": {
  "kernelspec": {
   "display_name": "Python 3",
   "language": "python",
   "name": "python3"
  },
  "language_info": {
   "codemirror_mode": {
    "name": "ipython",
    "version": 2
   },
   "file_extension": ".py",
   "mimetype": "text/x-python",
   "name": "python",
   "nbconvert_exporter": "python",
   "pygments_lexer": "ipython2",
   "version": "2.7.6"
  },
  "pycharm": {
   "stem_cell": {
    "cell_type": "raw",
    "source": [],
    "metadata": {
     "collapsed": false
    }
   }
  }
 },
 "nbformat": 4,
 "nbformat_minor": 0
}