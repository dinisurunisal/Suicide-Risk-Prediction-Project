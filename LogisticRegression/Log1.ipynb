{
 "cells": [
  {
   "cell_type": "markdown",
   "metadata": {
    "collapsed": true,
    "pycharm": {
     "name": "#%% md\n"
    }
   },
   "source": [
    "## Prediction using Logistic Regression"
   ]
  },
  {
   "cell_type": "code",
   "execution_count": 1,
   "outputs": [
    {
     "name": "stderr",
     "text": [
      "c:\\users\\dinis\\pycharmprojects\\suicide-risk-predictor\\venv\\lib\\site-packages\\sklearn\\externals\\joblib\\__init__.py:15: FutureWarning: sklearn.externals.joblib is deprecated in 0.21 and will be removed in 0.23. Please import this functionality directly from joblib, which can be installed with: pip install joblib. If this warning is raised when loading pickled models, you may need to re-serialize those models with scikit-learn 0.21+.\n",
      "  warnings.warn(msg, category=FutureWarning)\n"
     ],
     "output_type": "stream"
    }
   ],
   "source": [
    "## import libraries\n",
    "\n",
    "import pandas as pd\n",
    "import numpy as np\n",
    "import seaborn as sns\n",
    "from sklearn import preprocessing\n",
    "from sklearn.linear_model import LogisticRegression\n",
    "from sklearn.externals import joblib\n",
    "import matplotlib.pyplot as plt"
   ],
   "metadata": {
    "collapsed": false,
    "pycharm": {
     "name": "#%%\n",
     "is_executing": false
    }
   }
  },
  {
   "cell_type": "markdown",
   "source": [
    "#### Load dataset"
   ],
   "metadata": {
    "collapsed": false,
    "pycharm": {
     "name": "#%% md\n"
    }
   }
  },
  {
   "cell_type": "code",
   "execution_count": 2,
   "outputs": [
    {
     "name": "stdout",
     "text": [
      "    Age Gender    Religon        Race  \\\n",
      "0    30      F      Islam      Muslim   \n",
      "1    91      F      Islam      Muslim   \n",
      "2    85      M      Islam      Muslim   \n",
      "3    87      M  Christian  Sinhalese    \n",
      "4    59      M      Islam      Muslim   \n",
      "5    31      M      Other  Sinhalese    \n",
      "6    75      M  Christian      Burger   \n",
      "7    47      M   Buddhist  Sinhalese    \n",
      "8    58      M  Christian      Burger   \n",
      "9    36      M      Hindu       Tamil   \n",
      "10   87      M   Buddhist  Sinhalese    \n",
      "11   73      M  Christian      Burger   \n",
      "12   44      M   Buddhist  Sinhalese    \n",
      "13   62      M   Buddhist  Sinhalese    \n",
      "14   21      M      Hindu       Tamil   \n",
      "15   70      M   Buddhist  Sinhalese    \n",
      "16   68      M      Hindu       Tamil   \n",
      "17   43      F   Buddhist  Sinhalese    \n",
      "18   16      M      Islam      Muslim   \n",
      "19   35      M      Hindu       Tamil   \n",
      "\n",
      "                                 Nature Of Occupation Civil Status  \\\n",
      "0   Administrative Executive Managerial & related ...    Unmarried   \n",
      "1                                        Sales worker      Married   \n",
      "2                                  Security Personnel      Married   \n",
      "3                                  Unemployed persons      Married   \n",
      "4                                          Pensioners    Unmarried   \n",
      "5   Agricultural Animal Husbandry Fisherman & rela...    Unmarried   \n",
      "6                                      Armed Services      Married   \n",
      "7                                  Unemployed persons      Married   \n",
      "8                                      Armed Services    Unmarried   \n",
      "9                                      Armed Services      Married   \n",
      "10                                 Unemployed persons      Married   \n",
      "11  Clerical & related workers (Stenographers/ Typ...      Married   \n",
      "12  Agricultural Animal Husbandry Fisherman & rela...      Married   \n",
      "13       Service workers (Cooks/Tailors/Barbers/ etc)      Married   \n",
      "14                                       Sales worker    Unmarried   \n",
      "15                                 Unemployed persons      Married   \n",
      "16                                       Sales worker      Married   \n",
      "17                                     Armed Services      Married   \n",
      "18                                            Student    Unmarried   \n",
      "19  Agricultural Animal Husbandry Fisherman & rela...      Married   \n",
      "\n",
      "               Education Level  \\\n",
      "0            From Grade 1 to 7   \n",
      "1   University Degree or above   \n",
      "2   University Degree or above   \n",
      "3          School not attended   \n",
      "4                        Other   \n",
      "5           Passed G.C.E (O/L)   \n",
      "6           Passed G.C.E (A/L)   \n",
      "7          School not attended   \n",
      "8   University Degree or above   \n",
      "9   University Degree or above   \n",
      "10              Passed Grade 8   \n",
      "11              Passed Grade 8   \n",
      "12          Passed G.C.E (O/L)   \n",
      "13           From Grade 1 to 7   \n",
      "14          Passed G.C.E (O/L)   \n",
      "15         School not attended   \n",
      "16              Passed Grade 8   \n",
      "17          Passed G.C.E (O/L)   \n",
      "18          Passed G.C.E (O/L)   \n",
      "19              Passed Grade 8   \n",
      "\n",
      "                                             Reason  \\\n",
      "0                                            Asthma   \n",
      "1                               Alzheimer's disease   \n",
      "2   Stroke/Chronic diseases & Physical disabilities   \n",
      "3       Harrasment by the husband & family disputes   \n",
      "4                               Alzheimer's disease   \n",
      "5       Harrasment by the husband & family disputes   \n",
      "6                                     Natural Death   \n",
      "7       Harrasment by the husband & family disputes   \n",
      "8                                          Diabetes   \n",
      "9                                     Natural Death   \n",
      "10         Chronic diseases & Physical disabilities   \n",
      "11                                    Natural Death   \n",
      "12      Harrasment by the husband & family disputes   \n",
      "13                                 Mental Disorders   \n",
      "14  Stroke/Chronic diseases & Physical disabilities   \n",
      "15                                 Mental Disorders   \n",
      "16                      Addiction to narcotic drugs   \n",
      "17      Harrasment by the husband & family disputes   \n",
      "18                                 Mental Disorders   \n",
      "19                                    Other Reasons   \n",
      "\n",
      "    Lifetime Psychiatric Hospitalizations  Past Suicide Attempts  ...  \\\n",
      "0                                       0                      0  ...   \n",
      "1                                       0                      0  ...   \n",
      "2                                       0                      0  ...   \n",
      "3                                       1                      1  ...   \n",
      "4                                       0                      1  ...   \n",
      "5                                       1                      1  ...   \n",
      "6                                       0                      0  ...   \n",
      "7                                       1                      1  ...   \n",
      "8                                       0                      0  ...   \n",
      "9                                       0                      0  ...   \n",
      "10                                      1                      1  ...   \n",
      "11                                      0                      0  ...   \n",
      "12                                      1                      1  ...   \n",
      "13                                      1                      1  ...   \n",
      "14                                      0                      0  ...   \n",
      "15                                      1                      1  ...   \n",
      "16                                      0                      0  ...   \n",
      "17                                      1                      1  ...   \n",
      "18                                      0                      0  ...   \n",
      "19                                      1                      1  ...   \n",
      "\n",
      "    Self-Injurious Behaviour  Psychiatric Disorders  Past Illnesses  \\\n",
      "0                          0                   None          Asthma   \n",
      "1                          0                   None           Other   \n",
      "2                          0                   None        Diabetes   \n",
      "3                          0                   None    Chronic pain   \n",
      "4                          0                   None            COPD   \n",
      "5                          1                   None           Other   \n",
      "6                          0                   None         Unknown   \n",
      "7                          1                   None           Other   \n",
      "8                          0                   None         Unknown   \n",
      "9                          0                   None         Unknown   \n",
      "10                         0                  Other        HIV/AIDS   \n",
      "11                         0                   None  Heart Diseases   \n",
      "12                         0                   None          Cancer   \n",
      "13                         0                   PTSD           Other   \n",
      "14                         0                   None    Chronic pain   \n",
      "15                         0             Depression           Other   \n",
      "16                         0                   None           Other   \n",
      "17                         1             Depression          Cancer   \n",
      "18                         0             Depression         Unknown   \n",
      "19                         0             Depression           Other   \n",
      "\n",
      "   Alcohol/ drug Consumption Anger  Sleep Problem  Social Iscolation  \\\n",
      "0                       None     0              0                  0   \n",
      "1                       None     0              1                  0   \n",
      "2                       None     0              1                  0   \n",
      "3                   Frequent     1              1                  1   \n",
      "4                       None     0              1                  0   \n",
      "5                   Frequent     1              1                  1   \n",
      "6                       None     0              0                  0   \n",
      "7                   Moderate     0              0                  1   \n",
      "8                       None     0              0                  0   \n",
      "9                       None     0              1                  0   \n",
      "10                  Frequent     0              1                  1   \n",
      "11                      None     0              1                  0   \n",
      "12                  Frequent     0              1                  1   \n",
      "13                  Frequent     1              1                  1   \n",
      "14                      None     0              1                  0   \n",
      "15                  Frequent     1              1                  1   \n",
      "16                  Frequent     0              0                  0   \n",
      "17                      None     0              1                  1   \n",
      "18                  Moderate     0              0                  0   \n",
      "19                  Moderate     0              1                  1   \n",
      "\n",
      "    Sad/ Weary  Humilated  Not Suicide(0)/Suicide(1)  \n",
      "0            0          0                          0  \n",
      "1            0          0                          0  \n",
      "2            0          0                          0  \n",
      "3            1          1                          1  \n",
      "4            1          1                          0  \n",
      "5            1          1                          1  \n",
      "6            0          0                          0  \n",
      "7            1          0                          1  \n",
      "8            0          0                          0  \n",
      "9            0          0                          0  \n",
      "10           1          0                          1  \n",
      "11           0          0                          0  \n",
      "12           1          0                          1  \n",
      "13           0          1                          1  \n",
      "14           1          0                          0  \n",
      "15           1          0                          1  \n",
      "16           0          0                          0  \n",
      "17           1          1                          1  \n",
      "18           0          0                          0  \n",
      "19           1          0                          1  \n",
      "\n",
      "[20 rows x 21 columns]\n",
      "               Age  Lifetime Psychiatric Hospitalizations  \\\n",
      "count  1000.000000                            1000.000000   \n",
      "mean     51.820000                               0.234000   \n",
      "std      22.186704                               0.423584   \n",
      "min      10.000000                               0.000000   \n",
      "25%      32.000000                               0.000000   \n",
      "50%      54.000000                               0.000000   \n",
      "75%      70.000000                               0.000000   \n",
      "max      98.000000                               1.000000   \n",
      "\n",
      "       Past Suicide Attempts  Any suicidal thoughts mentioned  \\\n",
      "count            1000.000000                      1000.000000   \n",
      "mean                0.172000                         0.308000   \n",
      "std                 0.377569                         0.461898   \n",
      "min                 0.000000                         0.000000   \n",
      "25%                 0.000000                         0.000000   \n",
      "50%                 0.000000                         0.000000   \n",
      "75%                 0.000000                         1.000000   \n",
      "max                 1.000000                         1.000000   \n",
      "\n",
      "       Self-Injurious Behaviour        Anger  Sleep Problem  \\\n",
      "count               1000.000000  1000.000000    1000.000000   \n",
      "mean                   0.226000     0.460000       0.621000   \n",
      "std                    0.418448     0.498647       0.485381   \n",
      "min                    0.000000     0.000000       0.000000   \n",
      "25%                    0.000000     0.000000       0.000000   \n",
      "50%                    0.000000     0.000000       1.000000   \n",
      "75%                    0.000000     1.000000       1.000000   \n",
      "max                    1.000000     1.000000       1.000000   \n",
      "\n",
      "       Social Iscolation   Sad/ Weary    Humilated  Not Suicide(0)/Suicide(1)  \n",
      "count         1000.00000  1000.000000  1000.000000                 1000.00000  \n",
      "mean             0.42500     0.404000     0.362000                    0.50000  \n",
      "std              0.49459     0.490943     0.480819                    0.50025  \n",
      "min              0.00000     0.000000     0.000000                    0.00000  \n",
      "25%              0.00000     0.000000     0.000000                    0.00000  \n",
      "50%              0.00000     0.000000     0.000000                    0.50000  \n",
      "75%              1.00000     1.000000     1.000000                    1.00000  \n",
      "max              1.00000     1.000000     1.000000                    1.00000  \n"
     ],
     "output_type": "stream"
    }
   ],
   "source": [
    "from sklearn.metrics import roc_curve, auc\n",
    "url = \"Dataset/Test-Data-10.csv\"\n",
    "df = pd.read_csv(url)\n",
    "include = [ 'Age', 'Gender', 'Religon', 'Race', 'Nature Of Occupation' ,\n",
    "           'Civil Status' ,'Education Level' ,'Reason' ,'Lifetime Psychiatric Hospitalizations' ,\n",
    "           'Past Suicide Attempts' ,'Any suicidal thoughts mentioned' ,'Self-Injurious Behaviour' ,\n",
    "           'Psychiatric Disorders' ,'Past Illnesses' ,'Alcohol/ drug Consumption','Anger',\n",
    "           'Sleep Problem', 'Social Iscolation', 'Sad/ Weary' , 'Humilated', 'Not Suicide(0)/Suicide(1)']  # Except the year, all the features are taken \n",
    "df1 = df[include]\n",
    "print(df1.head(20))\n",
    "print(df1.describe())"
   ],
   "metadata": {
    "collapsed": false,
    "pycharm": {
     "name": "#%%\n",
     "is_executing": false
    }
   }
  },
  {
   "cell_type": "markdown",
   "source": [
    "#### Replacing unwanted labels with a unique label"
   ],
   "metadata": {
    "collapsed": false,
    "pycharm": {
     "name": "#%% md\n"
    }
   }
  },
  {
   "cell_type": "code",
   "execution_count": 3,
   "outputs": [],
   "source": [
    "df['Reason'].replace(['Asthma', \"Alzheimer's disease\", 'Diabetes',\n",
    "              'Cirrhosis', 'Ischemic heart disease', \n",
    "              'Road Accident','Chronic kidney disease'],\n",
    "             ['Natural Death','Natural Death','Natural Death','Natural Death',\n",
    "              'Natural Death','Natural Death','Natural Death'], inplace = True)\n",
    "df['Reason'].replace(['Stroke/Chronic diseases & Physical disabilities'],\n",
    "             ['Chronic diseases & Physical disabilities'], inplace = True)\n",
    "df2 = df[include]"
   ],
   "metadata": {
    "collapsed": false,
    "pycharm": {
     "name": "#%%\n",
     "is_executing": false
    }
   }
  },
  {
   "cell_type": "markdown",
   "source": [
    "#### Data Preprocessing"
   ],
   "metadata": {
    "collapsed": false,
    "pycharm": {
     "name": "#%% md\n",
     "is_executing": false
    }
   }
  },
  {
   "cell_type": "code",
   "execution_count": 4,
   "outputs": [
    {
     "name": "stderr",
     "text": [
      "c:\\users\\dinis\\pycharmprojects\\suicide-risk-predictor\\venv\\lib\\site-packages\\pandas\\core\\generic.py:6245: SettingWithCopyWarning: \n",
      "A value is trying to be set on a copy of a slice from a DataFrame\n",
      "\n",
      "See the caveats in the documentation: https://pandas.pydata.org/pandas-docs/stable/user_guide/indexing.html#returning-a-view-versus-a-copy\n",
      "  self._update_inplace(new_data)\n"
     ],
     "output_type": "stream"
    }
   ],
   "source": [
    "categoricals = []\n",
    "for col, col_type in df1.dtypes.iteritems():\n",
    "     if col_type == 'O':\n",
    "          categoricals.append(col)\n",
    "     else:\n",
    "          df1[col].fillna(0, inplace=True)"
   ],
   "metadata": {
    "collapsed": false,
    "pycharm": {
     "name": "#%%\n",
     "is_executing": false
    }
   }
  },
  {
   "cell_type": "markdown",
   "source": [
    "#### LabelEncoder"
   ],
   "metadata": {
    "collapsed": false,
    "pycharm": {
     "name": "#%% md\n"
    }
   }
  },
  {
   "cell_type": "code",
   "execution_count": 5,
   "outputs": [
    {
     "name": "stdout",
     "text": [
      "    Age  Gender  Religon  Race  Nature Of Occupation  Civil Status  \\\n",
      "0    30       0        3     1                     0             2   \n",
      "1    91       0        3     1                     8             1   \n",
      "2    85       1        3     1                     9             1   \n",
      "3    87       1        1     3                    12             1   \n",
      "4    59       1        3     1                     4             2   \n",
      "5    31       1        4     3                     1             2   \n",
      "6    75       1        1     0                     2             1   \n",
      "7    47       1        0     3                    12             1   \n",
      "8    58       1        1     0                     2             2   \n",
      "9    36       1        2     4                     2             1   \n",
      "10   87       1        0     3                    12             1   \n",
      "11   73       1        1     0                     3             1   \n",
      "12   44       1        0     3                     1             1   \n",
      "13   62       1        0     3                    10             1   \n",
      "14   21       1        2     4                     8             2   \n",
      "15   70       1        0     3                    12             1   \n",
      "16   68       1        2     4                     8             1   \n",
      "17   43       0        0     3                     2             1   \n",
      "18   16       1        3     1                    11             2   \n",
      "19   35       1        2     4                     1             1   \n",
      "\n",
      "    Education Level  Reason  Lifetime Psychiatric Hospitalizations  \\\n",
      "0                 0       3                                      0   \n",
      "1                 6       2                                      0   \n",
      "2                 6      21                                      0   \n",
      "3                 5      11                                      1   \n",
      "4                 1       2                                      0   \n",
      "5                 3      11                                      1   \n",
      "6                 2      16                                      0   \n",
      "7                 5      11                                      1   \n",
      "8                 6       7                                      0   \n",
      "9                 6      16                                      0   \n",
      "10                4       4                                      1   \n",
      "11                4      16                                      0   \n",
      "12                3      11                                      1   \n",
      "13                0      15                                      1   \n",
      "14                3      21                                      0   \n",
      "15                5      15                                      1   \n",
      "16                4       0                                      0   \n",
      "17                3      11                                      1   \n",
      "18                3      15                                      0   \n",
      "19                4      17                                      1   \n",
      "\n",
      "    Past Suicide Attempts  ...  Self-Injurious Behaviour  \\\n",
      "0                       0  ...                         0   \n",
      "1                       0  ...                         0   \n",
      "2                       0  ...                         0   \n",
      "3                       1  ...                         0   \n",
      "4                       1  ...                         0   \n",
      "5                       1  ...                         1   \n",
      "6                       0  ...                         0   \n",
      "7                       1  ...                         1   \n",
      "8                       0  ...                         0   \n",
      "9                       0  ...                         0   \n",
      "10                      1  ...                         0   \n",
      "11                      0  ...                         0   \n",
      "12                      1  ...                         0   \n",
      "13                      1  ...                         0   \n",
      "14                      0  ...                         0   \n",
      "15                      1  ...                         0   \n",
      "16                      0  ...                         0   \n",
      "17                      1  ...                         1   \n",
      "18                      0  ...                         0   \n",
      "19                      1  ...                         0   \n",
      "\n",
      "    Psychiatric Disorders  Past Illnesses  Alcohol/ drug Consumption  Anger  \\\n",
      "0                       3               0                          2      0   \n",
      "1                       3               8                          2      0   \n",
      "2                       3               4                          2      0   \n",
      "3                       3               3                          0      1   \n",
      "4                       3               1                          2      0   \n",
      "5                       3               8                          0      1   \n",
      "6                       3               9                          2      0   \n",
      "7                       3               8                          1      0   \n",
      "8                       3               9                          2      0   \n",
      "9                       3               9                          2      0   \n",
      "10                      4               5                          0      0   \n",
      "11                      3               6                          2      0   \n",
      "12                      3               2                          0      0   \n",
      "13                      5               8                          0      1   \n",
      "14                      3               3                          2      0   \n",
      "15                      2               8                          0      1   \n",
      "16                      3               8                          0      0   \n",
      "17                      2               2                          2      0   \n",
      "18                      2               9                          1      0   \n",
      "19                      2               8                          1      0   \n",
      "\n",
      "    Sleep Problem  Social Iscolation  Sad/ Weary  Humilated  \\\n",
      "0               0                  0           0          0   \n",
      "1               1                  0           0          0   \n",
      "2               1                  0           0          0   \n",
      "3               1                  1           1          1   \n",
      "4               1                  0           1          1   \n",
      "5               1                  1           1          1   \n",
      "6               0                  0           0          0   \n",
      "7               0                  1           1          0   \n",
      "8               0                  0           0          0   \n",
      "9               1                  0           0          0   \n",
      "10              1                  1           1          0   \n",
      "11              1                  0           0          0   \n",
      "12              1                  1           1          0   \n",
      "13              1                  1           0          1   \n",
      "14              1                  0           1          0   \n",
      "15              1                  1           1          0   \n",
      "16              0                  0           0          0   \n",
      "17              1                  1           1          1   \n",
      "18              0                  0           0          0   \n",
      "19              1                  1           1          0   \n",
      "\n",
      "    Not Suicide(0)/Suicide(1)  \n",
      "0                           0  \n",
      "1                           0  \n",
      "2                           0  \n",
      "3                           1  \n",
      "4                           0  \n",
      "5                           1  \n",
      "6                           0  \n",
      "7                           1  \n",
      "8                           0  \n",
      "9                           0  \n",
      "10                          1  \n",
      "11                          0  \n",
      "12                          1  \n",
      "13                          1  \n",
      "14                          0  \n",
      "15                          1  \n",
      "16                          0  \n",
      "17                          1  \n",
      "18                          0  \n",
      "19                          1  \n",
      "\n",
      "[20 rows x 21 columns]\n",
      "Gender {'F': 0, 'M': 1}\n",
      "Religon {'Buddhist': 0, 'Christian': 1, 'Hindu': 2, 'Islam': 3, 'Other': 4}\n",
      "Race {'Burger': 0, 'Muslim': 1, 'Other': 2, 'Sinhalese ': 3, 'Tamil': 4}\n",
      "Nature Of Occupation {'Administrative Executive Managerial & related workers': 0, 'Agricultural Animal Husbandry Fisherman & related Forestry workers': 1, 'Armed Services': 2, 'Clerical & related workers (Stenographers/ Typists etc)': 3, 'Pensioners': 4, 'Police': 5, 'Production process workers Craftsman & related workers transport equipment operators & labourers': 6, 'Professional Technical & related workers (Doctors/Engineers/Accountants/ Teachers/Authors/ Photographers)': 7, 'Sales worker': 8, 'Security Personnel': 9, 'Service workers (Cooks/Tailors/Barbers/ etc)': 10, 'Student': 11, 'Unemployed persons': 12, 'Workers not classfied by occupation ': 13}\n",
      "Civil Status {'Divourced': 0, 'Married': 1, 'Unmarried': 2, 'Widow': 3}\n",
      "Education Level {'From Grade 1 to 7': 0, 'Other': 1, 'Passed G.C.E (A/L)': 2, 'Passed G.C.E (O/L)': 3, 'Passed Grade 8': 4, 'School not attended': 5, 'University Degree or above': 6}\n",
      "Reason {'Addiction to narcotic drugs': 0, 'Aggrieved over the death parents/relations': 1, \"Alzheimer's disease\": 2, 'Asthma': 3, 'Chronic diseases & Physical disabilities': 4, 'Chronic kidney disease': 5, 'Cirrhosis': 6, 'Diabetes': 7, 'Economic problems (Poverty indebtedness)': 8, 'Employment problems': 9, 'Failure at the examination': 10, 'Harrasment by the husband & family disputes': 11, 'Ill-treatment by the children': 12, 'Ischemic heart disease': 13, 'Loss of property': 14, 'Mental Disorders': 15, 'Natural Death': 16, 'Other Reasons': 17, 'Problems caused with the elders': 18, 'Road Accident': 19, 'Sexual incapacity': 20, 'Stroke/Chronic diseases & Physical disabilities': 21, 'Using disappointment frustration caused through love affairs': 22}\n",
      "Psychiatric Disorders {'BPD': 0, 'Bipolar Disorder': 1, 'Depression': 2, 'None': 3, 'Other': 4, 'PTSD': 5, 'Schizophrenia': 6}\n",
      "Past Illnesses {'Asthma': 0, 'COPD': 1, 'Cancer': 2, 'Chronic pain': 3, 'Diabetes': 4, 'HIV/AIDS': 5, 'Heart Diseases': 6, 'Kidney Disease': 7, 'Other': 8, 'Unknown': 9}\n",
      "Alcohol/ drug Consumption {'Frequent': 0, 'Moderate': 1, 'None': 2}\n"
     ],
     "output_type": "stream"
    },
    {
     "name": "stderr",
     "text": [
      "c:\\users\\dinis\\pycharmprojects\\suicide-risk-predictor\\venv\\lib\\site-packages\\ipykernel_launcher.py:7: SettingWithCopyWarning: \n",
      "A value is trying to be set on a copy of a slice from a DataFrame.\n",
      "Try using .loc[row_indexer,col_indexer] = value instead\n",
      "\n",
      "See the caveats in the documentation: https://pandas.pydata.org/pandas-docs/stable/user_guide/indexing.html#returning-a-view-versus-a-copy\n",
      "  import sys\n"
     ],
     "output_type": "stream"
    }
   ],
   "source": [
    "category_col =['Gender', 'Religon', 'Race', 'Nature Of Occupation' ,\n",
    "           'Civil Status' ,'Education Level' ,'Reason' ,\n",
    "           'Psychiatric Disorders' ,'Past Illnesses' ,'Alcohol/ drug Consumption'] \n",
    "labelEncoder = preprocessing.LabelEncoder()\n",
    "mapping_dict={}\n",
    "for col in category_col:\n",
    "    df1[col] = labelEncoder.fit_transform(df1[col])\n",
    "    le_name_mapping = dict(zip(labelEncoder.classes_, labelEncoder.transform(labelEncoder.classes_)))\n",
    "    mapping_dict[col]=le_name_mapping\n",
    "print(df1.head(20))\n",
    "\n",
    "for x, y in mapping_dict.items():\n",
    "  print(x, y)"
   ],
   "metadata": {
    "collapsed": false,
    "pycharm": {
     "name": "#%%\n",
     "is_executing": false
    }
   }
  },
  {
   "cell_type": "markdown",
   "source": [
    "##### Replacing unwanted labels with a unique label"
   ],
   "metadata": {
    "collapsed": false,
    "pycharm": {
     "name": "#%% md\n"
    }
   }
  },
  {
   "cell_type": "code",
   "execution_count": 6,
   "outputs": [],
   "source": [
    "df.replace(['Asthma', \"Alzheimer's disease\", 'Diabetes',\n",
    "              'Cirrhosis', 'Ischemic heart disease', \n",
    "              'Road Accident','Chronic kidney disease'],\n",
    "             ['Natural Death','Natural Death','Natural Death','Natural Death',\n",
    "              'Natural Death','Natural Death','Natural Death'], inplace = True)\n",
    "df.replace(['Stroke/Chronic diseases & Physical disabilities'],\n",
    "             ['Chronic diseases & Physical disabilities'], inplace = True)"
   ],
   "metadata": {
    "collapsed": false,
    "pycharm": {
     "name": "#%%\n",
     "is_executing": false
    }
   }
  },
  {
   "cell_type": "markdown",
   "source": [
    "**Analysing Data**\n"
   ],
   "metadata": {
    "collapsed": false,
    "pycharm": {
     "name": "#%% md\n"
    }
   }
  },
  {
   "cell_type": "code",
   "execution_count": 7,
   "outputs": [
    {
     "data": {
      "text/plain": "<matplotlib.axes._subplots.AxesSubplot at 0x1d850fc1048>"
     },
     "metadata": {},
     "output_type": "execute_result",
     "execution_count": 7
    },
    {
     "data": {
      "text/plain": "<Figure size 432x288 with 1 Axes>",
      "image/png": "[encoded data removed]"
     },
     "metadata": {
      "needs_background": "light"
     },
     "output_type": "display_data"
    }
   ],
   "source": [
    "#Comparing Gender\n",
    "sns.countplot(x=\"Not Suicide(0)/Suicide(1)\",hue=\"Gender\",data=df)\n"
   ],
   "metadata": {
    "collapsed": false,
    "pycharm": {
     "name": "#%%\n",
     "is_executing": false
    }
   }
  },
  {
   "cell_type": "code",
   "execution_count": 8,
   "outputs": [
    {
     "data": {
      "text/plain": "<matplotlib.axes._subplots.AxesSubplot at 0x1d8531cab88>"
     },
     "metadata": {},
     "output_type": "execute_result",
     "execution_count": 8
    },
    {
     "data": {
      "text/plain": "<Figure size 2160x595.44 with 1 Axes>",
      "image/png": "[encoded data removed]"
     },
     "metadata": {
      "needs_background": "light"
     },
     "output_type": "display_data"
    }
   ],
   "source": [
    "#Comparing Age\n",
    "a4_dims = (30, 8.27)\n",
    "fig, ax = plt.subplots(figsize=a4_dims)\n",
    "sns.countplot(x=\"Age\",hue=\"Not Suicide(0)/Suicide(1)\",data=df, ax=ax)\n",
    "#plt.savefig('Age.svg')"
   ],
   "metadata": {
    "collapsed": false,
    "pycharm": {
     "name": "#%%\n",
     "is_executing": false
    }
   }
  },
  {
   "cell_type": "code",
   "execution_count": 9,
   "outputs": [
    {
     "data": {
      "text/plain": "<matplotlib.axes._subplots.AxesSubplot at 0x1d853a9c108>"
     },
     "metadata": {},
     "output_type": "execute_result",
     "execution_count": 9
    },
    {
     "data": {
      "text/plain": "<Figure size 432x288 with 1 Axes>",
      "image/png": "[encoded data removed]"
     },
     "metadata": {
      "needs_background": "light"
     },
     "output_type": "display_data"
    }
   ],
   "source": [
    "#Comparing Religion\n",
    "sns.countplot(x=\"Not Suicide(0)/Suicide(1)\",hue=\"Religon\",data=df)\n"
   ],
   "metadata": {
    "collapsed": false,
    "pycharm": {
     "name": "#%%\n",
     "is_executing": false
    }
   }
  },
  {
   "cell_type": "code",
   "execution_count": 10,
   "outputs": [
    {
     "data": {
      "text/plain": "<matplotlib.axes._subplots.AxesSubplot at 0x1d8535d9a08>"
     },
     "metadata": {},
     "output_type": "execute_result",
     "execution_count": 10
    },
    {
     "data": {
      "text/plain": "<Figure size 432x288 with 1 Axes>",
      "image/png": "[encoded data removed]"
     },
     "metadata": {
      "needs_background": "light"
     },
     "output_type": "display_data"
    }
   ],
   "source": [
    "#Comparing Religion\n",
    "sns.countplot(x=\"Not Suicide(0)/Suicide(1)\",hue=\"Religon\",data=df)\n"
   ],
   "metadata": {
    "collapsed": false,
    "pycharm": {
     "name": "#%%\n",
     "is_executing": false
    }
   }
  },
  {
   "cell_type": "code",
   "execution_count": 11,
   "outputs": [
    {
     "data": {
      "text/plain": "<matplotlib.axes._subplots.AxesSubplot at 0x1d85363cb08>"
     },
     "metadata": {},
     "output_type": "execute_result",
     "execution_count": 11
    },
    {
     "data": {
      "text/plain": "<Figure size 432x288 with 1 Axes>",
      "image/png": "[encoded data removed]"
     },
     "metadata": {
      "needs_background": "light"
     },
     "output_type": "display_data"
    }
   ],
   "source": [
    "#Comparing Religion\n",
    "sns.countplot(x=\"Not Suicide(0)/Suicide(1)\",hue=\"Religon\",data=df)\n"
   ],
   "metadata": {
    "collapsed": false,
    "pycharm": {
     "name": "#%%\n",
     "is_executing": false
    }
   }
  },
  {
   "cell_type": "code",
   "execution_count": 12,
   "outputs": [
    {
     "data": {
      "text/plain": "<matplotlib.axes._subplots.AxesSubplot at 0x1d8536c6cc8>"
     },
     "metadata": {},
     "output_type": "execute_result",
     "execution_count": 12
    },
    {
     "data": {
      "text/plain": "<Figure size 432x288 with 1 Axes>",
      "image/png": "[encoded data removed]"
     },
     "metadata": {
      "needs_background": "light"
     },
     "output_type": "display_data"
    }
   ],
   "source": [
    "#Comparing Race\n",
    "sns.countplot(x=\"Not Suicide(0)/Suicide(1)\",hue=\"Race\",data=df)\n"
   ],
   "metadata": {
    "collapsed": false,
    "pycharm": {
     "name": "#%%\n",
     "is_executing": false
    }
   }
  },
  {
   "cell_type": "code",
   "execution_count": 13,
   "outputs": [
    {
     "data": {
      "text/plain": "<matplotlib.axes._subplots.AxesSubplot at 0x1d853709188>"
     },
     "metadata": {},
     "output_type": "execute_result",
     "execution_count": 13
    },
    {
     "data": {
      "text/plain": "<Figure size 1080x720 with 1 Axes>",
      "image/png": "[encoded data removed]"
     },
     "metadata": {
      "needs_background": "light"
     },
     "output_type": "display_data"
    }
   ],
   "source": [
    "#Comparing Nature Of Occupation\n",
    "a4_dims = (15, 10)\n",
    "fig, ax = plt.subplots(figsize=a4_dims)\n",
    "sns.countplot(x=\"Not Suicide(0)/Suicide(1)\",hue=\"Nature Of Occupation\",data=df)\n",
    "#plt.savefig('Dataset/NoO.svg')"
   ],
   "metadata": {
    "collapsed": false,
    "pycharm": {
     "name": "#%%\n",
     "is_executing": false
    }
   }
  },
  {
   "cell_type": "code",
   "execution_count": 14,
   "outputs": [
    {
     "data": {
      "text/plain": "<matplotlib.axes._subplots.AxesSubplot at 0x1d853734a48>"
     },
     "metadata": {},
     "output_type": "execute_result",
     "execution_count": 14
    },
    {
     "data": {
      "text/plain": "<Figure size 432x288 with 1 Axes>",
      "image/png": "[encoded data removed]"
     },
     "metadata": {
      "needs_background": "light"
     },
     "output_type": "display_data"
    }
   ],
   "source": [
    "#Comparing Civil Status\n",
    "sns.countplot(x=\"Not Suicide(0)/Suicide(1)\",hue=\"Civil Status\",data=df)\n"
   ],
   "metadata": {
    "collapsed": false,
    "pycharm": {
     "name": "#%%\n",
     "is_executing": false
    }
   }
  },
  {
   "cell_type": "code",
   "execution_count": 15,
   "outputs": [
    {
     "data": {
      "text/plain": "<matplotlib.axes._subplots.AxesSubplot at 0x1d853e663c8>"
     },
     "metadata": {},
     "output_type": "execute_result",
     "execution_count": 15
    },
    {
     "data": {
      "text/plain": "<Figure size 432x288 with 1 Axes>",
      "image/png": "[encoded data removed]"
     },
     "metadata": {
      "needs_background": "light"
     },
     "output_type": "display_data"
    }
   ],
   "source": [
    "#Comparing Reason\n",
    "sns.countplot(x=\"Reason\",hue=\"Not Suicide(0)/Suicide(1)\",data=df)"
   ],
   "metadata": {
    "collapsed": false,
    "pycharm": {
     "name": "#%%\n",
     "is_executing": false
    }
   }
  },
  {
   "cell_type": "code",
   "execution_count": 16,
   "outputs": [
    {
     "data": {
      "text/plain": "<matplotlib.axes._subplots.AxesSubplot at 0x1d853f35b88>"
     },
     "metadata": {},
     "output_type": "execute_result",
     "execution_count": 16
    },
    {
     "data": {
      "text/plain": "<Figure size 432x288 with 1 Axes>",
      "image/png": "[encoded data removed]"
     },
     "metadata": {
      "needs_background": "light"
     },
     "output_type": "display_data"
    }
   ],
   "source": [
    "#Comparing Psychiatric Disorders\n",
    "sns.countplot(x=\"Not Suicide(0)/Suicide(1)\",hue=\"Psychiatric Disorders\",data=df)\n"
   ],
   "metadata": {
    "collapsed": false,
    "pycharm": {
     "name": "#%%\n",
     "is_executing": false
    }
   }
  },
  {
   "cell_type": "code",
   "execution_count": 17,
   "outputs": [
    {
     "data": {
      "text/plain": "<matplotlib.axes._subplots.AxesSubplot at 0x1d853fbd808>"
     },
     "metadata": {},
     "output_type": "execute_result",
     "execution_count": 17
    },
    {
     "data": {
      "text/plain": "<Figure size 432x288 with 1 Axes>",
      "image/png": "[encoded data removed]"
     },
     "metadata": {
      "needs_background": "light"
     },
     "output_type": "display_data"
    }
   ],
   "source": [
    "#Comparing Past Illnesses\n",
    "sns.countplot(x=\"Not Suicide(0)/Suicide(1)\",hue=\"Past Illnesses\",data=df)\n",
    "\n",
    "\n"
   ],
   "metadata": {
    "collapsed": false,
    "pycharm": {
     "name": "#%%\n",
     "is_executing": false
    }
   }
  },
  {
   "cell_type": "code",
   "execution_count": 18,
   "outputs": [
    {
     "data": {
      "text/plain": "<matplotlib.axes._subplots.AxesSubplot at 0x1d85406fc88>"
     },
     "metadata": {},
     "output_type": "execute_result",
     "execution_count": 18
    },
    {
     "data": {
      "text/plain": "<Figure size 432x288 with 1 Axes>",
      "image/png": "[encoded data removed]"
     },
     "metadata": {
      "needs_background": "light"
     },
     "output_type": "display_data"
    }
   ],
   "source": [
    "#Comparing Alcohol/ drug Consumption\n",
    "sns.countplot(x=\"Not Suicide(0)/Suicide(1)\",hue=\"Alcohol/ drug Consumption\",data=df)\n"
   ],
   "metadata": {
    "collapsed": false,
    "pycharm": {
     "name": "#%%\n",
     "is_executing": false
    }
   }
  },
  {
   "cell_type": "code",
   "execution_count": 19,
   "outputs": [
    {
     "data": {
      "text/plain": "<matplotlib.axes._subplots.AxesSubplot at 0x1d8540d6c48>"
     },
     "metadata": {},
     "output_type": "execute_result",
     "execution_count": 19
    },
    {
     "data": {
      "text/plain": "<Figure size 432x288 with 1 Axes>",
      "image/png": "[encoded data removed]"
     },
     "metadata": {
      "needs_background": "light"
     },
     "output_type": "display_data"
    }
   ],
   "source": [
    "#Comparing Lifetime Psychiatric Hospitalizations\n",
    "sns.countplot(x=\"Not Suicide(0)/Suicide(1)\",hue=\"Lifetime Psychiatric Hospitalizations\",data=df)\n"
   ],
   "metadata": {
    "collapsed": false,
    "pycharm": {
     "name": "#%%\n",
     "is_executing": false
    }
   }
  },
  {
   "cell_type": "code",
   "execution_count": 20,
   "outputs": [
    {
     "data": {
      "text/plain": "<matplotlib.axes._subplots.AxesSubplot at 0x1d85511bd88>"
     },
     "metadata": {},
     "output_type": "execute_result",
     "execution_count": 20
    },
    {
     "data": {
      "text/plain": "<Figure size 432x288 with 1 Axes>",
      "image/png": "[encoded data removed]"
     },
     "metadata": {
      "needs_background": "light"
     },
     "output_type": "display_data"
    }
   ],
   "source": [
    "#Comparing Past Suicide Attempts\n",
    "sns.countplot(x=\"Not Suicide(0)/Suicide(1)\",hue=\"Past Suicide Attempts\",data=df)\n"
   ],
   "metadata": {
    "collapsed": false,
    "pycharm": {
     "name": "#%%\n",
     "is_executing": false
    }
   }
  },
  {
   "cell_type": "code",
   "execution_count": 21,
   "outputs": [
    {
     "data": {
      "text/plain": "<matplotlib.axes._subplots.AxesSubplot at 0x1d855178c08>"
     },
     "metadata": {},
     "output_type": "execute_result",
     "execution_count": 21
    },
    {
     "data": {
      "text/plain": "<Figure size 432x288 with 1 Axes>",
      "image/png": "[encoded data removed]"
     },
     "metadata": {
      "needs_background": "light"
     },
     "output_type": "display_data"
    }
   ],
   "source": [
    "#Comparing Any suicidal thoughts mentioned\n",
    "sns.countplot(x=\"Not Suicide(0)/Suicide(1)\",hue=\"Any suicidal thoughts mentioned\",data=df)\n"
   ],
   "metadata": {
    "collapsed": false,
    "pycharm": {
     "name": "#%%\n",
     "is_executing": false
    }
   }
  },
  {
   "cell_type": "code",
   "execution_count": 22,
   "outputs": [
    {
     "data": {
      "text/plain": "<matplotlib.axes._subplots.AxesSubplot at 0x1d8551ed888>"
     },
     "metadata": {},
     "output_type": "execute_result",
     "execution_count": 22
    },
    {
     "data": {
      "text/plain": "<Figure size 432x288 with 1 Axes>",
      "image/png": "[encoded data removed]"
     },
     "metadata": {
      "needs_background": "light"
     },
     "output_type": "display_data"
    }
   ],
   "source": [
    "#Comparing Self-Injurious Behaviour\n",
    "sns.countplot(x=\"Not Suicide(0)/Suicide(1)\",hue=\"Self-Injurious Behaviour\",data=df)\n"
   ],
   "metadata": {
    "collapsed": false,
    "pycharm": {
     "name": "#%%\n",
     "is_executing": false
    }
   }
  },
  {
   "cell_type": "code",
   "execution_count": 23,
   "outputs": [
    {
     "data": {
      "text/plain": "<matplotlib.axes._subplots.AxesSubplot at 0x1d8551781c8>"
     },
     "metadata": {},
     "output_type": "execute_result",
     "execution_count": 23
    },
    {
     "data": {
      "text/plain": "<Figure size 432x288 with 1 Axes>",
      "image/png": "[encoded data removed]"
     },
     "metadata": {
      "needs_background": "light"
     },
     "output_type": "display_data"
    }
   ],
   "source": [
    "#Comparing Anger\n",
    "sns.countplot(x=\"Not Suicide(0)/Suicide(1)\",hue=\"Anger\",data=df)\n"
   ],
   "metadata": {
    "collapsed": false,
    "pycharm": {
     "name": "#%%\n",
     "is_executing": false
    }
   }
  },
  {
   "cell_type": "code",
   "execution_count": 24,
   "outputs": [
    {
     "data": {
      "text/plain": "<matplotlib.axes._subplots.AxesSubplot at 0x1d8552b6908>"
     },
     "metadata": {},
     "output_type": "execute_result",
     "execution_count": 24
    },
    {
     "data": {
      "text/plain": "<Figure size 432x288 with 1 Axes>",
      "image/png": "[encoded data removed]"
     },
     "metadata": {
      "needs_background": "light"
     },
     "output_type": "display_data"
    }
   ],
   "source": [
    "#Comparing Sleep Problem\n",
    "sns.countplot(x=\"Not Suicide(0)/Suicide(1)\",hue=\"Sleep Problem\",data=df)"
   ],
   "metadata": {
    "collapsed": false,
    "pycharm": {
     "name": "#%%\n",
     "is_executing": false
    }
   }
  },
  {
   "cell_type": "code",
   "execution_count": 25,
   "outputs": [
    {
     "data": {
      "text/plain": "<matplotlib.axes._subplots.AxesSubplot at 0x1d855306d48>"
     },
     "metadata": {},
     "output_type": "execute_result",
     "execution_count": 25
    },
    {
     "data": {
      "text/plain": "<Figure size 432x288 with 1 Axes>",
      "image/png": "[encoded data removed]"
     },
     "metadata": {
      "needs_background": "light"
     },
     "output_type": "display_data"
    }
   ],
   "source": [
    "#Comparing Social Iscolation\n",
    "sns.countplot(x=\"Not Suicide(0)/Suicide(1)\",hue=\"Social Iscolation\",data=df)"
   ],
   "metadata": {
    "collapsed": false,
    "pycharm": {
     "name": "#%%\n",
     "is_executing": false
    }
   }
  },
  {
   "cell_type": "code",
   "execution_count": 26,
   "outputs": [
    {
     "data": {
      "text/plain": "<matplotlib.axes._subplots.AxesSubplot at 0x1d85535c408>"
     },
     "metadata": {},
     "output_type": "execute_result",
     "execution_count": 26
    },
    {
     "data": {
      "text/plain": "<Figure size 432x288 with 1 Axes>",
      "image/png": "[encoded data removed]"
     },
     "metadata": {
      "needs_background": "light"
     },
     "output_type": "display_data"
    }
   ],
   "source": [
    "#Comparing Sad/ Weary\n",
    "sns.countplot(x=\"Not Suicide(0)/Suicide(1)\",hue=\"Sad/ Weary\",data=df)\n"
   ],
   "metadata": {
    "collapsed": false,
    "pycharm": {
     "name": "#%%\n",
     "is_executing": false
    }
   }
  },
  {
   "cell_type": "code",
   "execution_count": 27,
   "outputs": [
    {
     "data": {
      "text/plain": "<matplotlib.axes._subplots.AxesSubplot at 0x1d8553c1f48>"
     },
     "metadata": {},
     "output_type": "execute_result",
     "execution_count": 27
    },
    {
     "data": {
      "text/plain": "<Figure size 432x288 with 1 Axes>",
      "image/png": "[encoded data removed]"
     },
     "metadata": {
      "needs_background": "light"
     },
     "output_type": "display_data"
    }
   ],
   "source": [
    "\n",
    "#Comparing Humilated\n",
    "sns.countplot(x=\"Not Suicide(0)/Suicide(1)\",hue=\"Humilated\",data=df)\n",
    "#plt.savefig('Dataset/Humilated.svg')"
   ],
   "metadata": {
    "collapsed": false,
    "pycharm": {
     "name": "#%%\n",
     "is_executing": false
    }
   }
  },
  {
   "cell_type": "code",
   "execution_count": 28,
   "outputs": [],
   "source": [
    "feature_cols = ['Age', 'Gender', 'Religon', 'Race', 'Nature Of Occupation' ,\n",
    "           'Civil Status' ,'Education Level' ,'Reason' ,'Lifetime Psychiatric Hospitalizations' ,\n",
    "           'Past Suicide Attempts' ,'Any suicidal thoughts mentioned' ,'Self-Injurious Behaviour' ,\n",
    "           'Psychiatric Disorders' ,'Past Illnesses' ,'Alcohol/ drug Consumption','Anger',\n",
    "           'Sleep Problem', 'Social Iscolation', 'Sad/ Weary' , 'Humilated']\n",
    "X = df1[feature_cols] # Features\n",
    "y = df1['Not Suicide(0)/Suicide(1)']"
   ],
   "metadata": {
    "collapsed": false,
    "pycharm": {
     "name": "#%%\n",
     "is_executing": false
    }
   }
  },
  {
   "cell_type": "code",
   "execution_count": 29,
   "outputs": [],
   "source": [
    "from sklearn.model_selection import train_test_split\n",
    "X_train,X_test,y_train,y_test=train_test_split(X,y,test_size=0.3,random_state=100)\n",
    "dependent_variable = 'Not Suicide(0)/Suicide(1)'"
   ],
   "metadata": {
    "collapsed": false,
    "pycharm": {
     "name": "#%%\n",
     "is_executing": false
    }
   }
  },
  {
   "cell_type": "code",
   "execution_count": 30,
   "outputs": [
    {
     "name": "stderr",
     "text": [
      "c:\\users\\dinis\\pycharmprojects\\suicide-risk-predictor\\venv\\lib\\site-packages\\sklearn\\linear_model\\_logistic.py:940: ConvergenceWarning: lbfgs failed to converge (status=1):\n",
      "STOP: TOTAL NO. of ITERATIONS REACHED LIMIT.\n",
      "\n",
      "Increase the number of iterations (max_iter) or scale the data as shown in:\n",
      "    https://scikit-learn.org/stable/modules/preprocessing.html\n",
      "Please also refer to the documentation for alternative solver options:\n",
      "    https://scikit-learn.org/stable/modules/linear_model.html#logistic-regression\n",
      "  extra_warning_msg=_LOGISTIC_SOLVER_CONVERGENCE_MSG)\n"
     ],
     "output_type": "stream"
    }
   ],
   "source": [
    "# import the class\n",
    "from sklearn.linear_model import LogisticRegression\n",
    "\n",
    "# instantiate the model (using the default parameters)\n",
    "logreg = LogisticRegression()\n",
    "\n",
    "# fit the model with data\n",
    "logreg.fit(X_train,y_train)\n",
    "\n",
    "#\n",
    "y_pred=logreg.predict(X_test)"
   ],
   "metadata": {
    "collapsed": false,
    "pycharm": {
     "name": "#%%\n",
     "is_executing": false
    }
   }
  },
  {
   "cell_type": "code",
   "execution_count": 31,
   "outputs": [
    {
     "name": "stdout",
     "text": [
      "Accuracy: 0.9666666666666667\n",
      "Precision: 0.9612903225806452\n",
      "Recall: 0.9738562091503268\n"
     ],
     "output_type": "stream"
    }
   ],
   "source": [
    "# import the metrics class\n",
    "from sklearn import metrics\n",
    "cnf_matrix = metrics.confusion_matrix(y_test, y_pred)\n",
    "cnf_matrix\n",
    "\n",
    "print(\"Accuracy:\",metrics.accuracy_score(y_test, y_pred))\n",
    "print(\"Precision:\",metrics.precision_score(y_test, y_pred))\n",
    "print(\"Recall:\",metrics.recall_score(y_test, y_pred))\n",
    "\n"
   ],
   "metadata": {
    "collapsed": false,
    "pycharm": {
     "name": "#%%\n",
     "is_executing": false
    }
   }
  },
  {
   "cell_type": "markdown",
   "source": [
    "#### Model created"
   ],
   "metadata": {
    "collapsed": false,
    "pycharm": {
     "name": "#%% md\n",
     "is_executing": false
    }
   }
  },
  {
   "cell_type": "code",
   "execution_count": 32,
   "outputs": [],
   "source": [
    "# import pickle\n",
    "# #creating and training a model\n",
    "# #serializing our model to a file called model.pkl\n",
    "# pickle.dump(logreg, open(\"model.pkl\",\"wb\"))\n",
    "# print(\"Model was created!\")\n"
   ],
   "metadata": {
    "collapsed": false,
    "pycharm": {
     "name": "#%%\n",
     "is_executing": false
    }
   }
  },
  {
   "cell_type": "code",
   "execution_count": 33,
   "outputs": [
    {
     "data": {
      "text/plain": "<Figure size 432x288 with 2 Axes>",
      "image/png": "[encoded data removed]"
     },
     "metadata": {
      "needs_background": "light"
     },
     "output_type": "display_data"
    }
   ],
   "source": [
    "corr = df1.corr()\n",
    "ax = sns.heatmap(\n",
    "    corr, \n",
    "    vmin=-1, vmax=1, center=0,\n",
    "    cmap=sns.diverging_palette(20, 220, n=200),\n",
    "    square=True\n",
    ")"
   ],
   "metadata": {
    "collapsed": false,
    "pycharm": {
     "name": "#%%\n",
     "is_executing": false
    }
   }
  },
  {
   "cell_type": "code",
   "execution_count": 34,
   "outputs": [
    {
     "name": "stdout",
     "text": [
      "[0.         0.04081633 1.        ]\n",
      "[0.         0.97385621 1.        ]\n",
      "[2 1 0]\n",
      "0.9665199413098572\n"
     ],
     "output_type": "stream"
    },
    {
     "data": {
      "text/plain": "<Figure size 432x288 with 1 Axes>",
      "image/png": "[encoded data removed]"
     },
     "metadata": {
      "needs_background": "light"
     },
     "output_type": "display_data"
    }
   ],
   "source": [
    "false_positive_rate, true_positive_rate, thresholds = roc_curve(y_test, y_pred)\n",
    "roc_auc = auc(false_positive_rate, true_positive_rate)\n",
    "print(false_positive_rate)\n",
    "print(true_positive_rate)\n",
    "print(thresholds)\n",
    "print(roc_auc)\n",
    "\n",
    "plt.title('Receiver Operating Characteristic')\n",
    "plt.plot(false_positive_rate, true_positive_rate, 'b',label='AUC = %0.2f'% roc_auc)\n",
    "plt.legend(loc='lower right')\n",
    "plt.plot([0,1],[0,1],'r--')\n",
    "plt.xlim([-0.1,1.2])\n",
    "plt.ylim([-0.1,1.2])\n",
    "plt.ylabel('True Positive Rate')\n",
    "plt.xlabel('False Positive Rate')\n",
    "plt.show()\n",
    "\n"
   ],
   "metadata": {
    "collapsed": false,
    "pycharm": {
     "name": "#%%\n",
     "is_executing": false
    }
   }
  },
  {
   "cell_type": "code",
   "execution_count": 34,
   "outputs": [],
   "source": [
    "\n"
   ],
   "metadata": {
    "collapsed": false,
    "pycharm": {
     "name": "#%%\n",
     "is_executing": false
    }
   }
  },
  {
   "cell_type": "code",
   "execution_count": 34,
   "outputs": [],
   "source": [
    "\n"
   ],
   "metadata": {
    "collapsed": false,
    "pycharm": {
     "name": "#%%\n",
     "is_executing": false
    }
   }
  },
  {
   "cell_type": "code",
   "execution_count": 34,
   "outputs": [],
   "source": [
    "\n"
   ],
   "metadata": {
    "collapsed": false,
    "pycharm": {
     "name": "#%%\n",
     "is_executing": false
    }
   }
  },
  {
   "cell_type": "code",
   "execution_count": 34,
   "outputs": [],
   "source": [
    "\n"
   ],
   "metadata": {
    "collapsed": false,
    "pycharm": {
     "name": "#%%\n",
     "is_executing": false
    }
   }
  },
  {
   "cell_type": "code",
   "execution_count": 34,
   "outputs": [],
   "source": [
    "\n"
   ],
   "metadata": {
    "collapsed": false,
    "pycharm": {
     "name": "#%%\n",
     "is_executing": false
    }
   }
  },
  {
   "cell_type": "code",
   "execution_count": 34,
   "outputs": [],
   "source": [
    "\n"
   ],
   "metadata": {
    "collapsed": false,
    "pycharm": {
     "name": "#%%\n",
     "is_executing": false
    }
   }
  },
  {
   "cell_type": "code",
   "execution_count": 34,
   "outputs": [],
   "source": [
    "\n"
   ],
   "metadata": {
    "collapsed": false,
    "pycharm": {
     "name": "#%%\n",
     "is_executing": false
    }
   }
  },
  {
   "cell_type": "code",
   "execution_count": 34,
   "outputs": [],
   "source": [
    "\n"
   ],
   "metadata": {
    "collapsed": false,
    "pycharm": {
     "name": "#%%\n",
     "is_executing": false
    }
   }
  },
  {
   "cell_type": "code",
   "execution_count": 34,
   "outputs": [],
   "source": [
    "\n"
   ],
   "metadata": {
    "collapsed": false,
    "pycharm": {
     "name": "#%%\n",
     "is_executing": false
    }
   }
  },
  {
   "cell_type": "code",
   "execution_count": 34,
   "outputs": [],
   "source": [
    "\n"
   ],
   "metadata": {
    "collapsed": false,
    "pycharm": {
     "name": "#%%\n",
     "is_executing": false
    }
   }
  },
  {
   "cell_type": "code",
   "execution_count": 34,
   "outputs": [],
   "source": [
    "\n"
   ],
   "metadata": {
    "collapsed": false,
    "pycharm": {
     "name": "#%%\n",
     "is_executing": false
    }
   }
  },
  {
   "cell_type": "code",
   "execution_count": 34,
   "outputs": [],
   "source": [
    "\n"
   ],
   "metadata": {
    "collapsed": false,
    "pycharm": {
     "name": "#%%\n",
     "is_executing": false
    }
   }
  },
  {
   "cell_type": "code",
   "execution_count": 34,
   "outputs": [],
   "source": [
    "\n"
   ],
   "metadata": {
    "collapsed": false,
    "pycharm": {
     "name": "#%%\n",
     "is_executing": false
    }
   }
  },
  {
   "cell_type": "code",
   "execution_count": 34,
   "outputs": [],
   "source": [
    "\n"
   ],
   "metadata": {
    "collapsed": false,
    "pycharm": {
     "name": "#%%\n",
     "is_executing": false
    }
   }
  },
  {
   "cell_type": "code",
   "execution_count": 34,
   "outputs": [],
   "source": [
    "\n"
   ],
   "metadata": {
    "collapsed": false,
    "pycharm": {
     "name": "#%%\n",
     "is_executing": false
    }
   }
  },
  {
   "cell_type": "code",
   "execution_count": 34,
   "outputs": [],
   "source": [
    "\n"
   ],
   "metadata": {
    "collapsed": false,
    "pycharm": {
     "name": "#%%\n",
     "is_executing": false
    }
   }
  },
  {
   "cell_type": "code",
   "execution_count": 34,
   "outputs": [],
   "source": [
    "\n"
   ],
   "metadata": {
    "collapsed": false,
    "pycharm": {
     "name": "#%%\n",
     "is_executing": false
    }
   }
  },
  {
   "cell_type": "code",
   "execution_count": 34,
   "outputs": [],
   "source": [
    "\n"
   ],
   "metadata": {
    "collapsed": false,
    "pycharm": {
     "name": "#%%\n",
     "is_executing": false
    }
   }
  },
  {
   "cell_type": "code",
   "execution_count": 34,
   "outputs": [],
   "source": [
    "\n"
   ],
   "metadata": {
    "collapsed": false,
    "pycharm": {
     "name": "#%%\n",
     "is_executing": false
    }
   }
  },
  {
   "cell_type": "code",
   "execution_count": 34,
   "outputs": [],
   "source": [
    "\n"
   ],
   "metadata": {
    "collapsed": false,
    "pycharm": {
     "name": "#%%\n",
     "is_executing": false
    }
   }
  },
  {
   "cell_type": "code",
   "execution_count": 34,
   "outputs": [],
   "source": [
    "\n"
   ],
   "metadata": {
    "collapsed": false,
    "pycharm": {
     "name": "#%%\n",
     "is_executing": false
    }
   }
  },
  {
   "cell_type": "code",
   "execution_count": 34,
   "outputs": [],
   "source": [
    "\n"
   ],
   "metadata": {
    "collapsed": false,
    "pycharm": {
     "name": "#%%\n",
     "is_executing": false
    }
   }
  },
  {
   "cell_type": "code",
   "execution_count": 34,
   "outputs": [],
   "source": [
    "\n"
   ],
   "metadata": {
    "collapsed": false,
    "pycharm": {
     "name": "#%%\n",
     "is_executing": false
    }
   }
  },
  {
   "cell_type": "code",
   "execution_count": 34,
   "outputs": [],
   "source": [
    "\n"
   ],
   "metadata": {
    "collapsed": false,
    "pycharm": {
     "name": "#%%\n",
     "is_executing": false
    }
   }
  },
  {
   "cell_type": "code",
   "execution_count": 34,
   "outputs": [],
   "source": [
    "\n"
   ],
   "metadata": {
    "collapsed": false,
    "pycharm": {
     "name": "#%%\n",
     "is_executing": false
    }
   }
  },
  {
   "cell_type": "code",
   "execution_count": 34,
   "outputs": [],
   "source": [
    "\n"
   ],
   "metadata": {
    "collapsed": false,
    "pycharm": {
     "name": "#%%\n",
     "is_executing": false
    }
   }
  },
  {
   "cell_type": "code",
   "execution_count": 34,
   "outputs": [],
   "source": [
    "\n"
   ],
   "metadata": {
    "collapsed": false,
    "pycharm": {
     "name": "#%%\n",
     "is_executing": false
    }
   }
  },
  {
   "cell_type": "code",
   "execution_count": 34,
   "outputs": [],
   "source": [
    "\n"
   ],
   "metadata": {
    "collapsed": false,
    "pycharm": {
     "name": "#%%\n",
     "is_executing": false
    }
   }
  },
  {
   "cell_type": "code",
   "execution_count": 34,
   "outputs": [],
   "source": [
    "\n"
   ],
   "metadata": {
    "collapsed": false,
    "pycharm": {
     "name": "#%%\n",
     "is_executing": false
    }
   }
  },
  {
   "cell_type": "code",
   "execution_count": 34,
   "outputs": [],
   "source": [
    "\n"
   ],
   "metadata": {
    "collapsed": false,
    "pycharm": {
     "name": "#%%\n",
     "is_executing": false
    }
   }
  },
  {
   "cell_type": "code",
   "execution_count": 34,
   "outputs": [],
   "source": [
    "\n"
   ],
   "metadata": {
    "collapsed": false,
    "pycharm": {
     "name": "#%%\n",
     "is_executing": false
    }
   }
  },
  {
   "cell_type": "code",
   "execution_count": 34,
   "outputs": [],
   "source": [
    "\n"
   ],
   "metadata": {
    "collapsed": false,
    "pycharm": {
     "name": "#%%\n",
     "is_executing": false
    }
   }
  },
  {
   "cell_type": "code",
   "execution_count": 34,
   "outputs": [],
   "source": [
    "\n"
   ],
   "metadata": {
    "collapsed": false,
    "pycharm": {
     "name": "#%%\n",
     "is_executing": false
    }
   }
  },
  {
   "cell_type": "code",
   "execution_count": 34,
   "outputs": [],
   "source": [
    "\n"
   ],
   "metadata": {
    "collapsed": false,
    "pycharm": {
     "name": "#%%\n",
     "is_executing": false
    }
   }
  },
  {
   "cell_type": "code",
   "execution_count": 34,
   "outputs": [],
   "source": [
    "\n"
   ],
   "metadata": {
    "collapsed": false,
    "pycharm": {
     "name": "#%%\n",
     "is_executing": false
    }
   }
  },
  {
   "cell_type": "code",
   "execution_count": 34,
   "outputs": [],
   "source": [
    "\n"
   ],
   "metadata": {
    "collapsed": false,
    "pycharm": {
     "name": "#%%\n",
     "is_executing": false
    }
   }
  },
  {
   "cell_type": "code",
   "execution_count": 34,
   "outputs": [],
   "source": [
    "\n"
   ],
   "metadata": {
    "collapsed": false,
    "pycharm": {
     "name": "#%%\n",
     "is_executing": false
    }
   }
  },
  {
   "cell_type": "code",
   "execution_count": 34,
   "outputs": [],
   "source": [
    "\n"
   ],
   "metadata": {
    "collapsed": false,
    "pycharm": {
     "name": "#%%\n",
     "is_executing": false
    }
   }
  },
  {
   "cell_type": "code",
   "execution_count": 34,
   "outputs": [],
   "source": [
    "\n"
   ],
   "metadata": {
    "collapsed": false,
    "pycharm": {
     "name": "#%%\n",
     "is_executing": false
    }
   }
  },
  {
   "cell_type": "code",
   "execution_count": 34,
   "outputs": [],
   "source": [
    "\n"
   ],
   "metadata": {
    "collapsed": false,
    "pycharm": {
     "name": "#%%\n",
     "is_executing": false
    }
   }
  },
  {
   "cell_type": "code",
   "execution_count": 34,
   "outputs": [],
   "source": [
    "\n"
   ],
   "metadata": {
    "collapsed": false,
    "pycharm": {
     "name": "#%%\n",
     "is_executing": false
    }
   }
  },
  {
   "cell_type": "code",
   "execution_count": 34,
   "outputs": [],
   "source": [
    "\n"
   ],
   "metadata": {
    "collapsed": false,
    "pycharm": {
     "name": "#%%\n",
     "is_executing": false
    }
   }
  },
  {
   "cell_type": "code",
   "execution_count": 34,
   "outputs": [],
   "source": [
    "\n"
   ],
   "metadata": {
    "collapsed": false,
    "pycharm": {
     "name": "#%%\n",
     "is_executing": false
    }
   }
  },
  {
   "cell_type": "code",
   "execution_count": 34,
   "outputs": [],
   "source": [
    "\n"
   ],
   "metadata": {
    "collapsed": false,
    "pycharm": {
     "name": "#%%\n",
     "is_executing": false
    }
   }
  },
  {
   "cell_type": "code",
   "execution_count": 34,
   "outputs": [],
   "source": [
    "\n"
   ],
   "metadata": {
    "collapsed": false,
    "pycharm": {
     "name": "#%%\n",
     "is_executing": false
    }
   }
  },
  {
   "cell_type": "code",
   "execution_count": 34,
   "outputs": [],
   "source": [
    "\n"
   ],
   "metadata": {
    "collapsed": false,
    "pycharm": {
     "name": "#%%\n",
     "is_executing": false
    }
   }
  },
  {
   "cell_type": "code",
   "execution_count": 34,
   "outputs": [],
   "source": [
    "\n"
   ],
   "metadata": {
    "collapsed": false,
    "pycharm": {
     "name": "#%%\n",
     "is_executing": false
    }
   }
  },
  {
   "cell_type": "code",
   "execution_count": 34,
   "outputs": [],
   "source": [
    "\n"
   ],
   "metadata": {
    "collapsed": false,
    "pycharm": {
     "name": "#%%\n",
     "is_executing": false
    }
   }
  },
  {
   "cell_type": "code",
   "execution_count": 34,
   "outputs": [],
   "source": [
    "\n"
   ],
   "metadata": {
    "collapsed": false,
    "pycharm": {
     "name": "#%%\n",
     "is_executing": false
    }
   }
  },
  {
   "cell_type": "code",
   "execution_count": 34,
   "outputs": [],
   "source": [
    "\n"
   ],
   "metadata": {
    "collapsed": false,
    "pycharm": {
     "name": "#%%\n",
     "is_executing": false
    }
   }
  },
  {
   "cell_type": "code",
   "execution_count": 34,
   "outputs": [],
   "source": [
    "\n"
   ],
   "metadata": {
    "collapsed": false,
    "pycharm": {
     "name": "#%%\n",
     "is_executing": false
    }
   }
  },
  {
   "cell_type": "code",
   "execution_count": 34,
   "outputs": [],
   "source": [
    "\n"
   ],
   "metadata": {
    "collapsed": false,
    "pycharm": {
     "name": "#%%\n",
     "is_executing": false
    }
   }
  },
  {
   "cell_type": "code",
   "execution_count": 34,
   "outputs": [],
   "source": [
    "\n"
   ],
   "metadata": {
    "collapsed": false,
    "pycharm": {
     "name": "#%%\n",
     "is_executing": false
    }
   }
  },
  {
   "cell_type": "code",
   "execution_count": 34,
   "outputs": [],
   "source": [
    "\n"
   ],
   "metadata": {
    "collapsed": false,
    "pycharm": {
     "name": "#%%\n",
     "is_executing": false
    }
   }
  },
  {
   "cell_type": "code",
   "execution_count": 34,
   "outputs": [],
   "source": [
    "\n"
   ],
   "metadata": {
    "collapsed": false,
    "pycharm": {
     "name": "#%%\n",
     "is_executing": false
    }
   }
  },
  {
   "cell_type": "code",
   "execution_count": 34,
   "outputs": [],
   "source": [
    "\n"
   ],
   "metadata": {
    "collapsed": false,
    "pycharm": {
     "name": "#%%\n",
     "is_executing": false
    }
   }
  },
  {
   "cell_type": "code",
   "execution_count": 34,
   "outputs": [],
   "source": [
    "\n"
   ],
   "metadata": {
    "collapsed": false,
    "pycharm": {
     "name": "#%%\n",
     "is_executing": false
    }
   }
  },
  {
   "cell_type": "code",
   "execution_count": 34,
   "outputs": [],
   "source": [
    "\n"
   ],
   "metadata": {
    "collapsed": false,
    "pycharm": {
     "name": "#%%\n",
     "is_executing": false
    }
   }
  },
  {
   "cell_type": "code",
   "execution_count": 34,
   "outputs": [],
   "source": [
    "\n"
   ],
   "metadata": {
    "collapsed": false,
    "pycharm": {
     "name": "#%%\n",
     "is_executing": false
    }
   }
  },
  {
   "cell_type": "code",
   "execution_count": 34,
   "outputs": [],
   "source": [
    "\n"
   ],
   "metadata": {
    "collapsed": false,
    "pycharm": {
     "name": "#%%\n",
     "is_executing": false
    }
   }
  },
  {
   "cell_type": "code",
   "execution_count": 34,
   "outputs": [],
   "source": [
    "\n"
   ],
   "metadata": {
    "collapsed": false,
    "pycharm": {
     "name": "#%%\n",
     "is_executing": false
    }
   }
  },
  {
   "cell_type": "code",
   "execution_count": 34,
   "outputs": [],
   "source": [
    "\n"
   ],
   "metadata": {
    "collapsed": false,
    "pycharm": {
     "name": "#%%\n",
     "is_executing": false
    }
   }
  },
  {
   "cell_type": "code",
   "execution_count": 34,
   "outputs": [],
   "source": [
    "\n"
   ],
   "metadata": {
    "collapsed": false,
    "pycharm": {
     "name": "#%%\n",
     "is_executing": false
    }
   }
  },
  {
   "cell_type": "code",
   "execution_count": 34,
   "outputs": [],
   "source": [
    "\n"
   ],
   "metadata": {
    "collapsed": false,
    "pycharm": {
     "name": "#%%\n",
     "is_executing": false
    }
   }
  },
  {
   "cell_type": "code",
   "execution_count": 34,
   "outputs": [],
   "source": [
    "\n"
   ],
   "metadata": {
    "collapsed": false,
    "pycharm": {
     "name": "#%%\n",
     "is_executing": false
    }
   }
  },
  {
   "cell_type": "code",
   "execution_count": 34,
   "outputs": [],
   "source": [
    "\n"
   ],
   "metadata": {
    "collapsed": false,
    "pycharm": {
     "name": "#%%\n",
     "is_executing": false
    }
   }
  },
  {
   "cell_type": "code",
   "execution_count": 34,
   "outputs": [],
   "source": [
    "\n"
   ],
   "metadata": {
    "collapsed": false,
    "pycharm": {
     "name": "#%%\n",
     "is_executing": false
    }
   }
  },
  {
   "cell_type": "code",
   "execution_count": 34,
   "outputs": [],
   "source": [
    "\n"
   ],
   "metadata": {
    "collapsed": false,
    "pycharm": {
     "name": "#%%\n",
     "is_executing": false
    }
   }
  },
  {
   "cell_type": "code",
   "execution_count": 34,
   "outputs": [],
   "source": [
    "\n"
   ],
   "metadata": {
    "collapsed": false,
    "pycharm": {
     "name": "#%%\n",
     "is_executing": false
    }
   }
  },
  {
   "cell_type": "code",
   "execution_count": 34,
   "outputs": [],
   "source": [
    "\n"
   ],
   "metadata": {
    "collapsed": false,
    "pycharm": {
     "name": "#%%\n",
     "is_executing": false
    }
   }
  },
  {
   "cell_type": "code",
   "execution_count": 34,
   "outputs": [],
   "source": [
    "\n"
   ],
   "metadata": {
    "collapsed": false,
    "pycharm": {
     "name": "#%%\n",
     "is_executing": false
    }
   }
  },
  {
   "cell_type": "code",
   "execution_count": 34,
   "outputs": [],
   "source": [
    "\n"
   ],
   "metadata": {
    "collapsed": false,
    "pycharm": {
     "name": "#%%\n",
     "is_executing": false
    }
   }
  },
  {
   "cell_type": "code",
   "execution_count": 34,
   "outputs": [],
   "source": [
    "\n"
   ],
   "metadata": {
    "collapsed": false,
    "pycharm": {
     "name": "#%%\n",
     "is_executing": false
    }
   }
  },
  {
   "cell_type": "code",
   "execution_count": 34,
   "outputs": [],
   "source": [
    "\n"
   ],
   "metadata": {
    "collapsed": false,
    "pycharm": {
     "name": "#%%\n",
     "is_executing": false
    }
   }
  },
  {
   "cell_type": "code",
   "execution_count": 34,
   "outputs": [],
   "source": [
    "\n"
   ],
   "metadata": {
    "collapsed": false,
    "pycharm": {
     "name": "#%%\n",
     "is_executing": false
    }
   }
  },
  {
   "cell_type": "code",
   "execution_count": 34,
   "outputs": [],
   "source": [
    "\n"
   ],
   "metadata": {
    "collapsed": false,
    "pycharm": {
     "name": "#%%\n",
     "is_executing": false
    }
   }
  },
  {
   "cell_type": "code",
   "execution_count": 34,
   "outputs": [],
   "source": [
    "\n"
   ],
   "metadata": {
    "collapsed": false,
    "pycharm": {
     "name": "#%%\n",
     "is_executing": false
    }
   }
  },
  {
   "cell_type": "code",
   "execution_count": 34,
   "outputs": [],
   "source": [
    "\n"
   ],
   "metadata": {
    "collapsed": false,
    "pycharm": {
     "name": "#%%\n",
     "is_executing": false
    }
   }
  },
  {
   "cell_type": "code",
   "execution_count": 34,
   "outputs": [],
   "source": [
    "\n"
   ],
   "metadata": {
    "collapsed": false,
    "pycharm": {
     "name": "#%%\n",
     "is_executing": false
    }
   }
  },
  {
   "cell_type": "code",
   "execution_count": 34,
   "outputs": [],
   "source": [
    "\n"
   ],
   "metadata": {
    "collapsed": false,
    "pycharm": {
     "name": "#%%\n",
     "is_executing": false
    }
   }
  },
  {
   "cell_type": "code",
   "execution_count": 34,
   "outputs": [],
   "source": [
    "\n"
   ],
   "metadata": {
    "collapsed": false,
    "pycharm": {
     "name": "#%%\n",
     "is_executing": false
    }
   }
  },
  {
   "cell_type": "code",
   "execution_count": 34,
   "outputs": [],
   "source": [
    "\n"
   ],
   "metadata": {
    "collapsed": false,
    "pycharm": {
     "name": "#%%\n",
     "is_executing": false
    }
   }
  },
  {
   "cell_type": "code",
   "execution_count": 34,
   "outputs": [],
   "source": [
    "\n"
   ],
   "metadata": {
    "collapsed": false,
    "pycharm": {
     "name": "#%%\n",
     "is_executing": false
    }
   }
  },
  {
   "cell_type": "code",
   "execution_count": 34,
   "outputs": [],
   "source": [
    "\n"
   ],
   "metadata": {
    "collapsed": false,
    "pycharm": {
     "name": "#%%\n",
     "is_executing": false
    }
   }
  },
  {
   "cell_type": "code",
   "execution_count": 34,
   "outputs": [],
   "source": [
    "\n"
   ],
   "metadata": {
    "collapsed": false,
    "pycharm": {
     "name": "#%%\n",
     "is_executing": false
    }
   }
  },
  {
   "cell_type": "code",
   "execution_count": 34,
   "outputs": [],
   "source": [
    "\n"
   ],
   "metadata": {
    "collapsed": false,
    "pycharm": {
     "name": "#%%\n",
     "is_executing": false
    }
   }
  },
  {
   "cell_type": "code",
   "execution_count": 34,
   "outputs": [],
   "source": [
    "\n"
   ],
   "metadata": {
    "collapsed": false,
    "pycharm": {
     "name": "#%%\n",
     "is_executing": false
    }
   }
  },
  {
   "cell_type": "code",
   "execution_count": 34,
   "outputs": [],
   "source": [
    "\n"
   ],
   "metadata": {
    "collapsed": false,
    "pycharm": {
     "name": "#%%\n",
     "is_executing": false
    }
   }
  },
  {
   "cell_type": "code",
   "execution_count": 34,
   "outputs": [],
   "source": [
    "\n"
   ],
   "metadata": {
    "collapsed": false,
    "pycharm": {
     "name": "#%%\n",
     "is_executing": false
    }
   }
  },
  {
   "cell_type": "code",
   "execution_count": 34,
   "outputs": [],
   "source": [
    "\n"
   ],
   "metadata": {
    "collapsed": false,
    "pycharm": {
     "name": "#%%\n",
     "is_executing": false
    }
   }
  },
  {
   "cell_type": "code",
   "execution_count": 34,
   "outputs": [],
   "source": [
    "\n"
   ],
   "metadata": {
    "collapsed": false,
    "pycharm": {
     "name": "#%%\n",
     "is_executing": false
    }
   }
  }
 ],
 "metadata": {
  "kernelspec": {
   "display_name": "Python 3",
   "language": "python",
   "name": "python3"
  },
  "language_info": {
   "codemirror_mode": {
    "name": "ipython",
    "version": 2
   },
   "file_extension": ".py",
   "mimetype": "text/x-python",
   "name": "python",
   "nbconvert_exporter": "python",
   "pygments_lexer": "ipython2",
   "version": "2.7.6"
  },
  "pycharm": {
   "stem_cell": {
    "cell_type": "raw",
    "source": [],
    "metadata": {
     "collapsed": false
    }
   }
  }
 },
 "nbformat": 4,
 "nbformat_minor": 0
}