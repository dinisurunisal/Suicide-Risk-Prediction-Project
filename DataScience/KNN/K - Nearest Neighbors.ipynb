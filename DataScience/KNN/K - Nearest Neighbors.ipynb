{
 "cells": [
  {
   "cell_type": "markdown",
   "metadata": {},
   "source": [
    "# Importing Libraries"
   ]
  },
  {
   "cell_type": "code",
   "execution_count": 87,
   "metadata": {
    "pycharm": {
     "is_executing": false
    }
   },
   "outputs": [],
   "source": [
    "#Loading required packages and libraries for data analysis\n",
    "import numpy as np\n",
    "import pandas as pd\n",
    "import re\n",
    "import warnings\n",
    "warnings.filterwarnings('ignore')\n",
    "import matplotlib.pyplot as plt\n",
    "import seaborn as sns\n",
    "%matplotlib inline\n",
    "from sklearn import preprocessing\n",
    "from sklearn.neighbors import KNeighborsClassifier\n",
    "from sklearn.model_selection import train_test_split"
   ]
  },
  {
   "cell_type": "markdown",
   "metadata": {},
   "source": [
    "# Importing the dataset"
   ]
  },
  {
   "cell_type": "code",
   "execution_count": 88,
   "metadata": {
    "pycharm": {
     "is_executing": false
    }
   },
   "outputs": [],
   "source": [
    "#importing the datasets\n",
    "train= pd.read_csv('Test-Data-10.csv')\n",
    "\n",
    "include = [ 'Age', 'Gender', 'Religon', 'Race', 'Nature Of Occupation' ,\n",
    "           'Civil Status' ,'Education Level' ,'Reason' ,'Lifetime Psychiatric Hospitalizations' ,\n",
    "           'Past Suicide Attempts' ,'Any suicidal thoughts mentioned' ,'Self-Injurious Behaviour' ,\n",
    "           'Psychiatric Disorders' ,'Past Illnesses' ,'Alcohol/ drug Consumption','Anger',\n",
    "           'Sleep Problem', 'Social Iscolation', 'Sad/ Weary' , 'Humilated' , 'Not Suicide(0)/Suicide(1)']  # Except the year, all the features are taken \n",
    "train_df = train[include]"
   ]
  },
  {
   "cell_type": "code",
   "execution_count": 89,
   "metadata": {
    "pycharm": {
     "is_executing": false
    }
   },
   "outputs": [
    {
     "data": {
      "text/plain": "   Age Gender    Religon        Race  \\\n0   30      F      Islam      Muslim   \n1   91      F      Islam      Muslim   \n2   85      M      Islam      Muslim   \n3   87      M  Christian  Sinhalese    \n4   59      M      Islam      Muslim   \n5   31      M      Other  Sinhalese    \n6   75      M  Christian      Burger   \n7   47      M   Buddhist  Sinhalese    \n8   58      M  Christian      Burger   \n9   36      M      Hindu       Tamil   \n\n                                Nature Of Occupation Civil Status  \\\n0  Administrative Executive Managerial & related ...    Unmarried   \n1                                       Sales worker      Married   \n2                                 Security Personnel      Married   \n3                                 Unemployed persons      Married   \n4                                         Pensioners    Unmarried   \n5  Agricultural Animal Husbandry Fisherman & rela...    Unmarried   \n6                                     Armed Services      Married   \n7                                 Unemployed persons      Married   \n8                                     Armed Services    Unmarried   \n9                                     Armed Services      Married   \n\n              Education Level  \\\n0           From Grade 1 to 7   \n1  University Degree or above   \n2  University Degree or above   \n3         School not attended   \n4                       Other   \n5          Passed G.C.E (O/L)   \n6          Passed G.C.E (A/L)   \n7         School not attended   \n8  University Degree or above   \n9  University Degree or above   \n\n                                            Reason  \\\n0                                           Asthma   \n1                              Alzheimer's disease   \n2  Stroke/Chronic diseases & Physical disabilities   \n3      Harrasment by the husband & family disputes   \n4                              Alzheimer's disease   \n5      Harrasment by the husband & family disputes   \n6                                    Natural Death   \n7      Harrasment by the husband & family disputes   \n8                                         Diabetes   \n9                                    Natural Death   \n\n   Lifetime Psychiatric Hospitalizations  Past Suicide Attempts  ...  \\\n0                                      0                      0  ...   \n1                                      0                      0  ...   \n2                                      0                      0  ...   \n3                                      1                      1  ...   \n4                                      0                      1  ...   \n5                                      1                      1  ...   \n6                                      0                      0  ...   \n7                                      1                      1  ...   \n8                                      0                      0  ...   \n9                                      0                      0  ...   \n\n   Self-Injurious Behaviour  Psychiatric Disorders Past Illnesses  \\\n0                         0                   None         Asthma   \n1                         0                   None          Other   \n2                         0                   None       Diabetes   \n3                         0                   None   Chronic pain   \n4                         0                   None           COPD   \n5                         1                   None          Other   \n6                         0                   None        Unknown   \n7                         1                   None          Other   \n8                         0                   None        Unknown   \n9                         0                   None        Unknown   \n\n  Alcohol/ drug Consumption Anger  Sleep Problem  Social Iscolation  \\\n0                      None     0              0                  0   \n1                      None     0              1                  0   \n2                      None     0              1                  0   \n3                  Frequent     1              1                  1   \n4                      None     0              1                  0   \n5                  Frequent     1              1                  1   \n6                      None     0              0                  0   \n7                  Moderate     0              0                  1   \n8                      None     0              0                  0   \n9                      None     0              1                  0   \n\n   Sad/ Weary  Humilated  Not Suicide(0)/Suicide(1)  \n0           0          0                          0  \n1           0          0                          0  \n2           0          0                          0  \n3           1          1                          1  \n4           1          1                          0  \n5           1          1                          1  \n6           0          0                          0  \n7           1          0                          1  \n8           0          0                          0  \n9           0          0                          0  \n\n[10 rows x 21 columns]",
      "text/html": "<div>\n<style scoped>\n    .dataframe tbody tr th:only-of-type {\n        vertical-align: middle;\n    }\n\n    .dataframe tbody tr th {\n        vertical-align: top;\n    }\n\n    .dataframe thead th {\n        text-align: right;\n    }\n</style>\n<table border=\"1\" class=\"dataframe\">\n  <thead>\n    <tr style=\"text-align: right;\">\n      <th></th>\n      <th>Age</th>\n      <th>Gender</th>\n      <th>Religon</th>\n      <th>Race</th>\n      <th>Nature Of Occupation</th>\n      <th>Civil Status</th>\n      <th>Education Level</th>\n      <th>Reason</th>\n      <th>Lifetime Psychiatric Hospitalizations</th>\n      <th>Past Suicide Attempts</th>\n      <th>...</th>\n      <th>Self-Injurious Behaviour</th>\n      <th>Psychiatric Disorders</th>\n      <th>Past Illnesses</th>\n      <th>Alcohol/ drug Consumption</th>\n      <th>Anger</th>\n      <th>Sleep Problem</th>\n      <th>Social Iscolation</th>\n      <th>Sad/ Weary</th>\n      <th>Humilated</th>\n      <th>Not Suicide(0)/Suicide(1)</th>\n    </tr>\n  </thead>\n  <tbody>\n    <tr>\n      <th>0</th>\n      <td>30</td>\n      <td>F</td>\n      <td>Islam</td>\n      <td>Muslim</td>\n      <td>Administrative Executive Managerial &amp; related ...</td>\n      <td>Unmarried</td>\n      <td>From Grade 1 to 7</td>\n      <td>Asthma</td>\n      <td>0</td>\n      <td>0</td>\n      <td>...</td>\n      <td>0</td>\n      <td>None</td>\n      <td>Asthma</td>\n      <td>None</td>\n      <td>0</td>\n      <td>0</td>\n      <td>0</td>\n      <td>0</td>\n      <td>0</td>\n      <td>0</td>\n    </tr>\n    <tr>\n      <th>1</th>\n      <td>91</td>\n      <td>F</td>\n      <td>Islam</td>\n      <td>Muslim</td>\n      <td>Sales worker</td>\n      <td>Married</td>\n      <td>University Degree or above</td>\n      <td>Alzheimer's disease</td>\n      <td>0</td>\n      <td>0</td>\n      <td>...</td>\n      <td>0</td>\n      <td>None</td>\n      <td>Other</td>\n      <td>None</td>\n      <td>0</td>\n      <td>1</td>\n      <td>0</td>\n      <td>0</td>\n      <td>0</td>\n      <td>0</td>\n    </tr>\n    <tr>\n      <th>2</th>\n      <td>85</td>\n      <td>M</td>\n      <td>Islam</td>\n      <td>Muslim</td>\n      <td>Security Personnel</td>\n      <td>Married</td>\n      <td>University Degree or above</td>\n      <td>Stroke/Chronic diseases &amp; Physical disabilities</td>\n      <td>0</td>\n      <td>0</td>\n      <td>...</td>\n      <td>0</td>\n      <td>None</td>\n      <td>Diabetes</td>\n      <td>None</td>\n      <td>0</td>\n      <td>1</td>\n      <td>0</td>\n      <td>0</td>\n      <td>0</td>\n      <td>0</td>\n    </tr>\n    <tr>\n      <th>3</th>\n      <td>87</td>\n      <td>M</td>\n      <td>Christian</td>\n      <td>Sinhalese</td>\n      <td>Unemployed persons</td>\n      <td>Married</td>\n      <td>School not attended</td>\n      <td>Harrasment by the husband &amp; family disputes</td>\n      <td>1</td>\n      <td>1</td>\n      <td>...</td>\n      <td>0</td>\n      <td>None</td>\n      <td>Chronic pain</td>\n      <td>Frequent</td>\n      <td>1</td>\n      <td>1</td>\n      <td>1</td>\n      <td>1</td>\n      <td>1</td>\n      <td>1</td>\n    </tr>\n    <tr>\n      <th>4</th>\n      <td>59</td>\n      <td>M</td>\n      <td>Islam</td>\n      <td>Muslim</td>\n      <td>Pensioners</td>\n      <td>Unmarried</td>\n      <td>Other</td>\n      <td>Alzheimer's disease</td>\n      <td>0</td>\n      <td>1</td>\n      <td>...</td>\n      <td>0</td>\n      <td>None</td>\n      <td>COPD</td>\n      <td>None</td>\n      <td>0</td>\n      <td>1</td>\n      <td>0</td>\n      <td>1</td>\n      <td>1</td>\n      <td>0</td>\n    </tr>\n    <tr>\n      <th>5</th>\n      <td>31</td>\n      <td>M</td>\n      <td>Other</td>\n      <td>Sinhalese</td>\n      <td>Agricultural Animal Husbandry Fisherman &amp; rela...</td>\n      <td>Unmarried</td>\n      <td>Passed G.C.E (O/L)</td>\n      <td>Harrasment by the husband &amp; family disputes</td>\n      <td>1</td>\n      <td>1</td>\n      <td>...</td>\n      <td>1</td>\n      <td>None</td>\n      <td>Other</td>\n      <td>Frequent</td>\n      <td>1</td>\n      <td>1</td>\n      <td>1</td>\n      <td>1</td>\n      <td>1</td>\n      <td>1</td>\n    </tr>\n    <tr>\n      <th>6</th>\n      <td>75</td>\n      <td>M</td>\n      <td>Christian</td>\n      <td>Burger</td>\n      <td>Armed Services</td>\n      <td>Married</td>\n      <td>Passed G.C.E (A/L)</td>\n      <td>Natural Death</td>\n      <td>0</td>\n      <td>0</td>\n      <td>...</td>\n      <td>0</td>\n      <td>None</td>\n      <td>Unknown</td>\n      <td>None</td>\n      <td>0</td>\n      <td>0</td>\n      <td>0</td>\n      <td>0</td>\n      <td>0</td>\n      <td>0</td>\n    </tr>\n    <tr>\n      <th>7</th>\n      <td>47</td>\n      <td>M</td>\n      <td>Buddhist</td>\n      <td>Sinhalese</td>\n      <td>Unemployed persons</td>\n      <td>Married</td>\n      <td>School not attended</td>\n      <td>Harrasment by the husband &amp; family disputes</td>\n      <td>1</td>\n      <td>1</td>\n      <td>...</td>\n      <td>1</td>\n      <td>None</td>\n      <td>Other</td>\n      <td>Moderate</td>\n      <td>0</td>\n      <td>0</td>\n      <td>1</td>\n      <td>1</td>\n      <td>0</td>\n      <td>1</td>\n    </tr>\n    <tr>\n      <th>8</th>\n      <td>58</td>\n      <td>M</td>\n      <td>Christian</td>\n      <td>Burger</td>\n      <td>Armed Services</td>\n      <td>Unmarried</td>\n      <td>University Degree or above</td>\n      <td>Diabetes</td>\n      <td>0</td>\n      <td>0</td>\n      <td>...</td>\n      <td>0</td>\n      <td>None</td>\n      <td>Unknown</td>\n      <td>None</td>\n      <td>0</td>\n      <td>0</td>\n      <td>0</td>\n      <td>0</td>\n      <td>0</td>\n      <td>0</td>\n    </tr>\n    <tr>\n      <th>9</th>\n      <td>36</td>\n      <td>M</td>\n      <td>Hindu</td>\n      <td>Tamil</td>\n      <td>Armed Services</td>\n      <td>Married</td>\n      <td>University Degree or above</td>\n      <td>Natural Death</td>\n      <td>0</td>\n      <td>0</td>\n      <td>...</td>\n      <td>0</td>\n      <td>None</td>\n      <td>Unknown</td>\n      <td>None</td>\n      <td>0</td>\n      <td>1</td>\n      <td>0</td>\n      <td>0</td>\n      <td>0</td>\n      <td>0</td>\n    </tr>\n  </tbody>\n</table>\n<p>10 rows × 21 columns</p>\n</div>"
     },
     "metadata": {},
     "output_type": "execute_result",
     "execution_count": 89
    }
   ],
   "source": [
    "#look of the training data\n",
    "train_df.head(10)"
   ]
  },
  {
   "cell_type": "code",
   "execution_count": 90,
   "metadata": {
    "scrolled": true,
    "pycharm": {
     "is_executing": false
    }
   },
   "outputs": [
    {
     "name": "stdout",
     "text": [
      "<class 'pandas.core.frame.DataFrame'>\n",
      "RangeIndex: 1000 entries, 0 to 999\n",
      "Data columns (total 21 columns):\n",
      " #   Column                                 Non-Null Count  Dtype \n",
      "---  ------                                 --------------  ----- \n",
      " 0   Age                                    1000 non-null   int64 \n",
      " 1   Gender                                 1000 non-null   object\n",
      " 2   Religon                                1000 non-null   object\n",
      " 3   Race                                   1000 non-null   object\n",
      " 4   Nature Of Occupation                   1000 non-null   object\n",
      " 5   Civil Status                           1000 non-null   object\n",
      " 6   Education Level                        1000 non-null   object\n",
      " 7   Reason                                 1000 non-null   object\n",
      " 8   Lifetime Psychiatric Hospitalizations  1000 non-null   int64 \n",
      " 9   Past Suicide Attempts                  1000 non-null   int64 \n",
      " 10  Any suicidal thoughts mentioned        1000 non-null   int64 \n",
      " 11  Self-Injurious Behaviour               1000 non-null   int64 \n",
      " 12  Psychiatric Disorders                  1000 non-null   object\n",
      " 13  Past Illnesses                         1000 non-null   object\n",
      " 14  Alcohol/ drug Consumption              1000 non-null   object\n",
      " 15  Anger                                  1000 non-null   int64 \n",
      " 16  Sleep Problem                          1000 non-null   int64 \n",
      " 17  Social Iscolation                      1000 non-null   int64 \n",
      " 18  Sad/ Weary                             1000 non-null   int64 \n",
      " 19  Humilated                              1000 non-null   int64 \n",
      " 20  Not Suicide(0)/Suicide(1)              1000 non-null   int64 \n",
      "dtypes: int64(11), object(10)\n",
      "memory usage: 164.2+ KB\n"
     ],
     "output_type": "stream"
    }
   ],
   "source": [
    "#kind of data we have to work with\n",
    "train_df.info()"
   ]
  },
  {
   "cell_type": "code",
   "execution_count": 91,
   "metadata": {
    "pycharm": {
     "is_executing": false
    }
   },
   "outputs": [
    {
     "data": {
      "text/plain": "               Age  Lifetime Psychiatric Hospitalizations  \\\ncount  1000.000000                            1000.000000   \nmean     51.820000                               0.234000   \nstd      22.186704                               0.423584   \nmin      10.000000                               0.000000   \n25%      32.000000                               0.000000   \n50%      54.000000                               0.000000   \n75%      70.000000                               0.000000   \nmax      98.000000                               1.000000   \n\n       Past Suicide Attempts  Any suicidal thoughts mentioned  \\\ncount            1000.000000                      1000.000000   \nmean                0.172000                         0.308000   \nstd                 0.377569                         0.461898   \nmin                 0.000000                         0.000000   \n25%                 0.000000                         0.000000   \n50%                 0.000000                         0.000000   \n75%                 0.000000                         1.000000   \nmax                 1.000000                         1.000000   \n\n       Self-Injurious Behaviour        Anger  Sleep Problem  \\\ncount               1000.000000  1000.000000    1000.000000   \nmean                   0.226000     0.460000       0.621000   \nstd                    0.418448     0.498647       0.485381   \nmin                    0.000000     0.000000       0.000000   \n25%                    0.000000     0.000000       0.000000   \n50%                    0.000000     0.000000       1.000000   \n75%                    0.000000     1.000000       1.000000   \nmax                    1.000000     1.000000       1.000000   \n\n       Social Iscolation   Sad/ Weary    Humilated  Not Suicide(0)/Suicide(1)  \ncount         1000.00000  1000.000000  1000.000000                 1000.00000  \nmean             0.42500     0.404000     0.362000                    0.50000  \nstd              0.49459     0.490943     0.480819                    0.50025  \nmin              0.00000     0.000000     0.000000                    0.00000  \n25%              0.00000     0.000000     0.000000                    0.00000  \n50%              0.00000     0.000000     0.000000                    0.50000  \n75%              1.00000     1.000000     1.000000                    1.00000  \nmax              1.00000     1.000000     1.000000                    1.00000  ",
      "text/html": "<div>\n<style scoped>\n    .dataframe tbody tr th:only-of-type {\n        vertical-align: middle;\n    }\n\n    .dataframe tbody tr th {\n        vertical-align: top;\n    }\n\n    .dataframe thead th {\n        text-align: right;\n    }\n</style>\n<table border=\"1\" class=\"dataframe\">\n  <thead>\n    <tr style=\"text-align: right;\">\n      <th></th>\n      <th>Age</th>\n      <th>Lifetime Psychiatric Hospitalizations</th>\n      <th>Past Suicide Attempts</th>\n      <th>Any suicidal thoughts mentioned</th>\n      <th>Self-Injurious Behaviour</th>\n      <th>Anger</th>\n      <th>Sleep Problem</th>\n      <th>Social Iscolation</th>\n      <th>Sad/ Weary</th>\n      <th>Humilated</th>\n      <th>Not Suicide(0)/Suicide(1)</th>\n    </tr>\n  </thead>\n  <tbody>\n    <tr>\n      <th>count</th>\n      <td>1000.000000</td>\n      <td>1000.000000</td>\n      <td>1000.000000</td>\n      <td>1000.000000</td>\n      <td>1000.000000</td>\n      <td>1000.000000</td>\n      <td>1000.000000</td>\n      <td>1000.00000</td>\n      <td>1000.000000</td>\n      <td>1000.000000</td>\n      <td>1000.00000</td>\n    </tr>\n    <tr>\n      <th>mean</th>\n      <td>51.820000</td>\n      <td>0.234000</td>\n      <td>0.172000</td>\n      <td>0.308000</td>\n      <td>0.226000</td>\n      <td>0.460000</td>\n      <td>0.621000</td>\n      <td>0.42500</td>\n      <td>0.404000</td>\n      <td>0.362000</td>\n      <td>0.50000</td>\n    </tr>\n    <tr>\n      <th>std</th>\n      <td>22.186704</td>\n      <td>0.423584</td>\n      <td>0.377569</td>\n      <td>0.461898</td>\n      <td>0.418448</td>\n      <td>0.498647</td>\n      <td>0.485381</td>\n      <td>0.49459</td>\n      <td>0.490943</td>\n      <td>0.480819</td>\n      <td>0.50025</td>\n    </tr>\n    <tr>\n      <th>min</th>\n      <td>10.000000</td>\n      <td>0.000000</td>\n      <td>0.000000</td>\n      <td>0.000000</td>\n      <td>0.000000</td>\n      <td>0.000000</td>\n      <td>0.000000</td>\n      <td>0.00000</td>\n      <td>0.000000</td>\n      <td>0.000000</td>\n      <td>0.00000</td>\n    </tr>\n    <tr>\n      <th>25%</th>\n      <td>32.000000</td>\n      <td>0.000000</td>\n      <td>0.000000</td>\n      <td>0.000000</td>\n      <td>0.000000</td>\n      <td>0.000000</td>\n      <td>0.000000</td>\n      <td>0.00000</td>\n      <td>0.000000</td>\n      <td>0.000000</td>\n      <td>0.00000</td>\n    </tr>\n    <tr>\n      <th>50%</th>\n      <td>54.000000</td>\n      <td>0.000000</td>\n      <td>0.000000</td>\n      <td>0.000000</td>\n      <td>0.000000</td>\n      <td>0.000000</td>\n      <td>1.000000</td>\n      <td>0.00000</td>\n      <td>0.000000</td>\n      <td>0.000000</td>\n      <td>0.50000</td>\n    </tr>\n    <tr>\n      <th>75%</th>\n      <td>70.000000</td>\n      <td>0.000000</td>\n      <td>0.000000</td>\n      <td>1.000000</td>\n      <td>0.000000</td>\n      <td>1.000000</td>\n      <td>1.000000</td>\n      <td>1.00000</td>\n      <td>1.000000</td>\n      <td>1.000000</td>\n      <td>1.00000</td>\n    </tr>\n    <tr>\n      <th>max</th>\n      <td>98.000000</td>\n      <td>1.000000</td>\n      <td>1.000000</td>\n      <td>1.000000</td>\n      <td>1.000000</td>\n      <td>1.000000</td>\n      <td>1.000000</td>\n      <td>1.00000</td>\n      <td>1.000000</td>\n      <td>1.000000</td>\n      <td>1.00000</td>\n    </tr>\n  </tbody>\n</table>\n</div>"
     },
     "metadata": {},
     "output_type": "execute_result",
     "execution_count": 91
    }
   ],
   "source": [
    "train_df.describe()"
   ]
  },
  {
   "cell_type": "code",
   "execution_count": 92,
   "metadata": {
    "pycharm": {
     "is_executing": false
    }
   },
   "outputs": [
    {
     "data": {
      "text/plain": "       Gender   Religon        Race Nature Of Occupation Civil Status  \\\ncount    1000      1000        1000                 1000         1000   \nunique      2         5           5                   14            4   \ntop         M  Buddhist  Sinhalese    Unemployed persons      Married   \nfreq      688       825         843                  224          618   \n\n       Education Level         Reason Psychiatric Disorders Past Illnesses  \\\ncount             1000           1000                  1000           1000   \nunique               7             23                     7             10   \ntop     Passed Grade 8  Natural Death                  None        Unknown   \nfreq               234            177                   691            368   \n\n       Alcohol/ drug Consumption  \ncount                       1000  \nunique                         3  \ntop                         None  \nfreq                         708  ",
      "text/html": "<div>\n<style scoped>\n    .dataframe tbody tr th:only-of-type {\n        vertical-align: middle;\n    }\n\n    .dataframe tbody tr th {\n        vertical-align: top;\n    }\n\n    .dataframe thead th {\n        text-align: right;\n    }\n</style>\n<table border=\"1\" class=\"dataframe\">\n  <thead>\n    <tr style=\"text-align: right;\">\n      <th></th>\n      <th>Gender</th>\n      <th>Religon</th>\n      <th>Race</th>\n      <th>Nature Of Occupation</th>\n      <th>Civil Status</th>\n      <th>Education Level</th>\n      <th>Reason</th>\n      <th>Psychiatric Disorders</th>\n      <th>Past Illnesses</th>\n      <th>Alcohol/ drug Consumption</th>\n    </tr>\n  </thead>\n  <tbody>\n    <tr>\n      <th>count</th>\n      <td>1000</td>\n      <td>1000</td>\n      <td>1000</td>\n      <td>1000</td>\n      <td>1000</td>\n      <td>1000</td>\n      <td>1000</td>\n      <td>1000</td>\n      <td>1000</td>\n      <td>1000</td>\n    </tr>\n    <tr>\n      <th>unique</th>\n      <td>2</td>\n      <td>5</td>\n      <td>5</td>\n      <td>14</td>\n      <td>4</td>\n      <td>7</td>\n      <td>23</td>\n      <td>7</td>\n      <td>10</td>\n      <td>3</td>\n    </tr>\n    <tr>\n      <th>top</th>\n      <td>M</td>\n      <td>Buddhist</td>\n      <td>Sinhalese</td>\n      <td>Unemployed persons</td>\n      <td>Married</td>\n      <td>Passed Grade 8</td>\n      <td>Natural Death</td>\n      <td>None</td>\n      <td>Unknown</td>\n      <td>None</td>\n    </tr>\n    <tr>\n      <th>freq</th>\n      <td>688</td>\n      <td>825</td>\n      <td>843</td>\n      <td>224</td>\n      <td>618</td>\n      <td>234</td>\n      <td>177</td>\n      <td>691</td>\n      <td>368</td>\n      <td>708</td>\n    </tr>\n  </tbody>\n</table>\n</div>"
     },
     "metadata": {},
     "output_type": "execute_result",
     "execution_count": 92
    }
   ],
   "source": [
    "train_df.describe(include='O')# not zero capital o"
   ]
  },
  {
   "cell_type": "code",
   "execution_count": 93,
   "metadata": {
    "pycharm": {
     "is_executing": false
    }
   },
   "outputs": [
    {
     "data": {
      "text/plain": "Age                                      0.0\nGender                                   0.0\nReligon                                  0.0\nRace                                     0.0\nNature Of Occupation                     0.0\nCivil Status                             0.0\nEducation Level                          0.0\nReason                                   0.0\nLifetime Psychiatric Hospitalizations    0.0\nPast Suicide Attempts                    0.0\nAny suicidal thoughts mentioned          0.0\nSelf-Injurious Behaviour                 0.0\nPsychiatric Disorders                    0.0\nPast Illnesses                           0.0\nAlcohol/ drug Consumption                0.0\nAnger                                    0.0\nSleep Problem                            0.0\nSocial Iscolation                        0.0\nSad/ Weary                               0.0\nHumilated                                0.0\nNot Suicide(0)/Suicide(1)                0.0\ndtype: float64"
     },
     "metadata": {},
     "output_type": "execute_result",
     "execution_count": 93
    }
   ],
   "source": [
    "#finding the percentage of missing values in train dataset\n",
    "train_df.isnull().sum() /len(train_df)*100"
   ]
  },
  {
   "cell_type": "code",
   "execution_count": 94,
   "metadata": {
    "pycharm": {
     "is_executing": false
    }
   },
   "outputs": [
    {
     "data": {
      "text/plain": "M    688\nF    312\nName: Gender, dtype: int64"
     },
     "metadata": {},
     "output_type": "execute_result",
     "execution_count": 94
    },
    {
     "data": {
      "text/plain": "<Figure size 432x288 with 1 Axes>",
      "image/png": "[encoded data removed]"
     },
     "metadata": {
      "needs_background": "light"
     },
     "output_type": "display_data"
    }
   ],
   "source": [
    "#count of  Gender\n",
    "sns.countplot('Gender',data=train_df)\n",
    "train_df['Gender'].value_counts()"
   ]
  },
  {
   "cell_type": "code",
   "execution_count": 95,
   "metadata": {
    "pycharm": {
     "is_executing": false
    }
   },
   "outputs": [
    {
     "data": {
      "text/plain": "Buddhist     825\nIslam         61\nHindu         53\nChristian     31\nOther         30\nName: Religon, dtype: int64"
     },
     "metadata": {},
     "output_type": "execute_result",
     "execution_count": 95
    },
    {
     "data": {
      "text/plain": "<Figure size 432x288 with 1 Axes>",
      "image/png": "[encoded data removed]"
     },
     "metadata": {
      "needs_background": "light"
     },
     "output_type": "display_data"
    }
   ],
   "source": [
    "#count of Religon\n",
    "sns.countplot('Religon',data=train_df)\n",
    "train_df['Religon'].value_counts()"
   ]
  },
  {
   "cell_type": "code",
   "execution_count": 96,
   "metadata": {
    "pycharm": {
     "is_executing": false
    }
   },
   "outputs": [
    {
     "data": {
      "text/plain": "Sinhalese     843\nMuslim         61\nTamil          53\nBurger         25\nOther          18\nName: Race, dtype: int64"
     },
     "metadata": {},
     "output_type": "execute_result",
     "execution_count": 96
    },
    {
     "data": {
      "text/plain": "<Figure size 432x288 with 1 Axes>",
      "image/png": "[encoded data removed]"
     },
     "metadata": {
      "needs_background": "light"
     },
     "output_type": "display_data"
    }
   ],
   "source": [
    "#count of Race\n",
    "sns.countplot('Race',data=train_df)\n",
    "train_df['Race'].value_counts()"
   ]
  },
  {
   "cell_type": "code",
   "execution_count": 97,
   "metadata": {
    "pycharm": {
     "is_executing": false
    }
   },
   "outputs": [
    {
     "data": {
      "text/plain": "Unemployed persons                                                                                           224\nAgricultural Animal Husbandry Fisherman & related Forestry workers                                           108\nPensioners                                                                                                    84\nStudent                                                                                                       82\nAdministrative Executive Managerial & related workers                                                         68\nProduction process workers Craftsman & related workers transport equipment operators & labourers              61\nClerical & related workers (Stenographers/ Typists etc)                                                       59\nSecurity Personnel                                                                                            58\nService workers (Cooks/Tailors/Barbers/ etc)                                                                  50\nSales worker                                                                                                  49\nArmed Services                                                                                                46\nPolice                                                                                                        45\nWorkers not classfied by occupation                                                                           39\nProfessional Technical & related workers (Doctors/Engineers/Accountants/ Teachers/Authors/ Photographers)     27\nName: Nature Of Occupation, dtype: int64"
     },
     "metadata": {},
     "output_type": "execute_result",
     "execution_count": 97
    },
    {
     "data": {
      "text/plain": "<Figure size 432x288 with 1 Axes>",
      "image/png": "[encoded data removed]"
     },
     "metadata": {
      "needs_background": "light"
     },
     "output_type": "display_data"
    }
   ],
   "source": [
    "#count of Occupation\n",
    "sns.countplot('Nature Of Occupation',data=train_df)\n",
    "train_df['Nature Of Occupation'].value_counts()"
   ]
  },
  {
   "cell_type": "code",
   "execution_count": 98,
   "metadata": {
    "pycharm": {
     "is_executing": false
    }
   },
   "outputs": [
    {
     "data": {
      "text/plain": "Married      618\nUnmarried    333\nDivourced     25\nWidow         24\nName: Civil Status, dtype: int64"
     },
     "metadata": {},
     "output_type": "execute_result",
     "execution_count": 98
    },
    {
     "data": {
      "text/plain": "<Figure size 432x288 with 1 Axes>",
      "image/png": "[encoded data removed]"
     },
     "metadata": {
      "needs_background": "light"
     },
     "output_type": "display_data"
    }
   ],
   "source": [
    "#count of Civil status\n",
    "sns.countplot('Civil Status',data=train_df)\n",
    "train_df['Civil Status'].value_counts()"
   ]
  },
  {
   "cell_type": "code",
   "execution_count": 99,
   "metadata": {
    "pycharm": {
     "is_executing": false
    }
   },
   "outputs": [
    {
     "name": "stdout",
     "text": [
      "Suicide: 500 (50.0%)\n",
      "Not Suicide: 500 (50.0%)\n",
      "Total: 1000\n"
     ],
     "output_type": "stream"
    }
   ],
   "source": [
    "Suicide = train_df[train_df['Not Suicide(0)/Suicide(1)'] == 1]\n",
    "not_Suicide = train_df[train_df['Not Suicide(0)/Suicide(1)'] == 0]\n",
    "\n",
    "print (\"Suicide: %i (%.1f%%)\"%(len(Suicide), float(len(Suicide))/len(train_df)*100.0))\n",
    "print (\"Not Suicide: %i (%.1f%%)\"%(len(not_Suicide), float(len(not_Suicide))/len(train_df)*100.0))\n",
    "print (\"Total: %i\"%len(train_df))"
   ]
  },
  {
   "cell_type": "code",
   "execution_count": 100,
   "metadata": {
    "pycharm": {
     "is_executing": false
    }
   },
   "outputs": [
    {
     "data": {
      "text/plain": "Buddhist     825\nIslam         61\nHindu         53\nChristian     31\nOther         30\nName: Religon, dtype: int64"
     },
     "metadata": {},
     "output_type": "execute_result",
     "execution_count": 100
    }
   ],
   "source": [
    "train_df.Religon.value_counts()"
   ]
  },
  {
   "cell_type": "markdown",
   "metadata": {},
   "source": [
    "# Gender and Suicide"
   ]
  },
  {
   "cell_type": "code",
   "execution_count": 101,
   "metadata": {
    "pycharm": {
     "is_executing": false
    }
   },
   "outputs": [
    {
     "data": {
      "text/plain": "<matplotlib.axes._subplots.AxesSubplot at 0x1b844dc0f88>"
     },
     "metadata": {},
     "output_type": "execute_result",
     "execution_count": 101
    },
    {
     "data": {
      "text/plain": "<Figure size 432x288 with 1 Axes>",
      "image/png": "[encoded data removed]"
     },
     "metadata": {
      "needs_background": "light"
     },
     "output_type": "display_data"
    }
   ],
   "source": [
    "train_df.Gender.value_counts()\n",
    "train_df[['Gender', 'Not Suicide(0)/Suicide(1)']].groupby(['Gender'], as_index=False).mean()\n",
    "\n",
    "#train.groupby('Sex').Survived.mean().plot(kind='bar')\n",
    "sns.barplot(x='Gender', y='Not Suicide(0)/Suicide(1)', data=train_df)"
   ]
  },
  {
   "cell_type": "markdown",
   "metadata": {},
   "source": [
    "# Anger and Suicide "
   ]
  },
  {
   "cell_type": "markdown",
   "metadata": {},
   "source": [
    "train_df.Gender.value_counts()\n",
    "train_df[['Anger', 'Not Suicide(0)/Suicide(1)']].groupby(['Anger'], as_index=False).mean()\n",
    "sns.barplot(x='Anger', y='Not Suicide(0)/Suicide(1)', data=train_df)\n",
    " \n",
    "#'Age', 'Gender', 'Religon', 'Race', 'Occupation' ,'Civil Status' ,'Education Level' ,'Reason' ,'Lifetime Psychiatric Hospitalizations' ,\n",
    "#    'Past Suicide Attempts' ,'Any suicidal thoughts mentioned' ,'Self-Injurious Behaviour' ,\n",
    "#    'Psychiatric Disorders' ,'Past Illnesses ' ,'Alcohol/ drug Consumption','Anger',\n",
    "#   'Sleep Problem', 'Social Iscolation', 'Sad/ Weary' , 'Humilated' , 'Suicide'"
   ]
  },
  {
   "cell_type": "code",
   "execution_count": 102,
   "metadata": {
    "pycharm": {
     "is_executing": false
    }
   },
   "outputs": [],
   "source": [
    "# Religon and Suicide\n"
   ]
  },
  {
   "cell_type": "code",
   "execution_count": 103,
   "metadata": {
    "pycharm": {
     "is_executing": false
    }
   },
   "outputs": [
    {
     "data": {
      "text/plain": "<matplotlib.axes._subplots.AxesSubplot at 0x1b844e18a08>"
     },
     "metadata": {},
     "output_type": "execute_result",
     "execution_count": 103
    },
    {
     "data": {
      "text/plain": "<Figure size 432x288 with 1 Axes>",
      "image/png": "[encoded data removed]"
     },
     "metadata": {
      "needs_background": "light"
     },
     "output_type": "display_data"
    }
   ],
   "source": [
    "train_df.Gender.value_counts()\n",
    "train_df[['Religon', 'Not Suicide(0)/Suicide(1)']].groupby(['Religon'], as_index=False).mean()\n",
    "sns.barplot(x='Religon', y='Not Suicide(0)/Suicide(1)', data=train_df)"
   ]
  },
  {
   "cell_type": "code",
   "execution_count": 104,
   "metadata": {
    "pycharm": {
     "is_executing": false
    }
   },
   "outputs": [],
   "source": [
    "# Race and Suicide "
   ]
  },
  {
   "cell_type": "markdown",
   "metadata": {},
   "source": [
    "train_df.Gender.value_counts()\n",
    "train_df[['Race', 'Not Suicide(0)/Suicide(1)']].groupby(['Race'], as_index=False).mean()\n",
    "sns.barplot(x='Race', y='Not Suicide(0)/Suicide(1)', data=train_df)\n"
   ]
  },
  {
   "cell_type": "code",
   "execution_count": 105,
   "metadata": {
    "pycharm": {
     "is_executing": false
    }
   },
   "outputs": [
    {
     "traceback": [
      "\u001b[1;36m  File \u001b[1;32m\"<ipython-input-105-1a844caa5642>\"\u001b[1;36m, line \u001b[1;32m2\u001b[0m\n\u001b[1;33m    1- have sleep problem\u001b[0m\n\u001b[1;37m                ^\u001b[0m\n\u001b[1;31mSyntaxError\u001b[0m\u001b[1;31m:\u001b[0m invalid syntax\n"
     ],
     "ename": "SyntaxError",
     "evalue": "invalid syntax (<ipython-input-105-1a844caa5642>, line 2)",
     "output_type": "error"
    }
   ],
   "source": [
    "# Sleep Problem and Suicide \n",
    "1- have sleep problem\n",
    "0- not having sleep problem"
   ]
  },
  {
   "cell_type": "markdown",
   "metadata": {},
   "source": [
    "Suicide = train_df[train_df['Not Suicide(0)/Suicide(1)'] == 1]\n",
    "not_Suicide = train_df[train_df['Not Suicide(0)/Suicide(1)'] == 0]\n",
    "\n",
    "print (\"Suicide: %i (%.1f%%)\"%(len(Suicide), float(len(Suicide))/len(train_df)*100.0))\n",
    "print (\"Not Suicide: %i (%.1f%%)\"%(len(not_Suicide), float(len(not_Suicide))/len(train_df)*100.0))\n",
    "print (\"Total: %i\"%len(train_df))\n"
   ]
  },
  {
   "cell_type": "code",
   "execution_count": null,
   "metadata": {
    "pycharm": {
     "is_executing": false
    }
   },
   "outputs": [],
   "source": [
    "train_df[['Sleep Problem', 'Not Suicide(0)/Suicide(1)']].groupby(['Sleep Problem'], as_index=False).mean()"
   ]
  },
  {
   "cell_type": "code",
   "execution_count": null,
   "metadata": {
    "pycharm": {
     "is_executing": false
    }
   },
   "outputs": [],
   "source": [
    "sns.barplot(x='Sleep Problem', y='Not Suicide(0)/Suicide(1)', data=train_df)"
   ]
  },
  {
   "cell_type": "markdown",
   "metadata": {},
   "source": [
    "# Occupation and Suicide \n",
    "\n",
    "train_df.groupby('Nature Of Occupation').Suicide.value_counts()"
   ]
  },
  {
   "cell_type": "markdown",
   "metadata": {},
   "source": [
    "sns.barplot(x='Nature Of Occupation', y='Not Suicide(0)/Suicide(1)', data=train_df)"
   ]
  },
  {
   "cell_type": "code",
   "execution_count": null,
   "metadata": {
    "pycharm": {
     "is_executing": false
    }
   },
   "outputs": [],
   "source": [
    "# Civil Status and Suicide  "
   ]
  },
  {
   "cell_type": "markdown",
   "metadata": {},
   "source": [
    "sns.barplot(x='Civil Status', y='Not Suicide(0)/Suicide(1)', data=train_df)\n"
   ]
  },
  {
   "cell_type": "code",
   "execution_count": null,
   "metadata": {
    "pycharm": {
     "is_executing": false
    }
   },
   "outputs": [],
   "source": [
    "g = sns.FacetGrid(train_df, col='Not Suicide(0)/Suicide(1)')\n",
    "g.map(plt.hist, 'Age', bins=20)"
   ]
  }
 ],
 "metadata": {
  "kernelspec": {
   "display_name": "Python 3",
   "language": "python",
   "name": "python3"
  },
  "language_info": {
   "codemirror_mode": {
    "name": "ipython",
    "version": 3
   },
   "file_extension": ".py",
   "mimetype": "text/x-python",
   "name": "python",
   "nbconvert_exporter": "python",
   "pygments_lexer": "ipython3",
   "version": "3.6.5"
  },
  "pycharm": {
   "stem_cell": {
    "cell_type": "raw",
    "source": [],
    "metadata": {
     "collapsed": false
    }
   }
  }
 },
 "nbformat": 4,
 "nbformat_minor": 2
}