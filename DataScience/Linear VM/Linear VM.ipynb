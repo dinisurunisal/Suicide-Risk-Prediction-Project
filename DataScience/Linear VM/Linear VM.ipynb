{
 "cells": [
  {
   "cell_type": "code",
   "execution_count": 44,
   "metadata": {
    "pycharm": {
     "is_executing": false
    }
   },
   "outputs": [],
   "source": [
    "import pandas as pd\n",
    "import numpy as np\n",
    "import random as rnd"
   ]
  },
  {
   "cell_type": "code",
   "execution_count": 45,
   "metadata": {
    "pycharm": {
     "is_executing": false
    }
   },
   "outputs": [],
   "source": [
    "import seaborn as sns\n",
    "import matplotlib.pyplot as plt\n",
    "%matplotlib inline"
   ]
  },
  {
   "cell_type": "code",
   "execution_count": 46,
   "metadata": {
    "pycharm": {
     "is_executing": false
    }
   },
   "outputs": [],
   "source": [
    "train_df = pd.read_csv('Test-Data-10.csv')"
   ]
  },
  {
   "cell_type": "code",
   "execution_count": 47,
   "metadata": {
    "pycharm": {
     "is_executing": false
    }
   },
   "outputs": [
    {
     "name": "stdout",
     "text": [
      "['Year' 'Not Suicide(0)/Suicide(1)' 'Age' 'Gender' 'Religon' 'Race'\n",
      " 'Nature Of Occupation' 'Civil Status' 'Education Level' 'Reason'\n",
      " 'Lifetime Psychiatric Hospitalizations' 'Past Suicide Attempts'\n",
      " 'Any suicidal thoughts mentioned' 'Self-Injurious Behaviour'\n",
      " 'Psychiatric Disorders' 'Past Illnesses' 'Alcohol/ drug Consumption'\n",
      " 'Anger' 'Sleep Problem' 'Social Iscolation' 'Sad/ Weary' 'Humilated']\n"
     ],
     "output_type": "stream"
    }
   ],
   "source": [
    "print(train_df.columns.values)"
   ]
  },
  {
   "cell_type": "code",
   "execution_count": 48,
   "metadata": {
    "pycharm": {
     "is_executing": false
    }
   },
   "outputs": [
    {
     "data": {
      "text/plain": "   Year  Not Suicide(0)/Suicide(1)  Age Gender    Religon        Race  \\\n0  2018                          0   30      F      Islam      Muslim   \n1  2018                          0   91      F      Islam      Muslim   \n2  2018                          0   85      M      Islam      Muslim   \n3  2017                          1   87      M  Christian  Sinhalese    \n4  2018                          0   59      M      Islam      Muslim   \n\n                                Nature Of Occupation Civil Status  \\\n0  Administrative Executive Managerial & related ...    Unmarried   \n1                                       Sales worker      Married   \n2                                 Security Personnel      Married   \n3                                 Unemployed persons      Married   \n4                                         Pensioners    Unmarried   \n\n              Education Level  \\\n0           From Grade 1 to 7   \n1  University Degree or above   \n2  University Degree or above   \n3         School not attended   \n4                       Other   \n\n                                            Reason  ...  \\\n0                                           Asthma  ...   \n1                              Alzheimer's disease  ...   \n2  Stroke/Chronic diseases & Physical disabilities  ...   \n3      Harrasment by the husband & family disputes  ...   \n4                              Alzheimer's disease  ...   \n\n   Any suicidal thoughts mentioned  Self-Injurious Behaviour  \\\n0                                0                         0   \n1                                0                         0   \n2                                0                         0   \n3                                1                         0   \n4                                0                         0   \n\n   Psychiatric Disorders  Past Illnesses Alcohol/ drug Consumption Anger  \\\n0                   None          Asthma                      None     0   \n1                   None           Other                      None     0   \n2                   None        Diabetes                      None     0   \n3                   None    Chronic pain                  Frequent     1   \n4                   None            COPD                      None     0   \n\n  Sleep Problem  Social Iscolation  Sad/ Weary  Humilated  \n0             0                  0           0          0  \n1             1                  0           0          0  \n2             1                  0           0          0  \n3             1                  1           1          1  \n4             1                  0           1          1  \n\n[5 rows x 22 columns]",
      "text/html": "<div>\n<style scoped>\n    .dataframe tbody tr th:only-of-type {\n        vertical-align: middle;\n    }\n\n    .dataframe tbody tr th {\n        vertical-align: top;\n    }\n\n    .dataframe thead th {\n        text-align: right;\n    }\n</style>\n<table border=\"1\" class=\"dataframe\">\n  <thead>\n    <tr style=\"text-align: right;\">\n      <th></th>\n      <th>Year</th>\n      <th>Not Suicide(0)/Suicide(1)</th>\n      <th>Age</th>\n      <th>Gender</th>\n      <th>Religon</th>\n      <th>Race</th>\n      <th>Nature Of Occupation</th>\n      <th>Civil Status</th>\n      <th>Education Level</th>\n      <th>Reason</th>\n      <th>...</th>\n      <th>Any suicidal thoughts mentioned</th>\n      <th>Self-Injurious Behaviour</th>\n      <th>Psychiatric Disorders</th>\n      <th>Past Illnesses</th>\n      <th>Alcohol/ drug Consumption</th>\n      <th>Anger</th>\n      <th>Sleep Problem</th>\n      <th>Social Iscolation</th>\n      <th>Sad/ Weary</th>\n      <th>Humilated</th>\n    </tr>\n  </thead>\n  <tbody>\n    <tr>\n      <th>0</th>\n      <td>2018</td>\n      <td>0</td>\n      <td>30</td>\n      <td>F</td>\n      <td>Islam</td>\n      <td>Muslim</td>\n      <td>Administrative Executive Managerial &amp; related ...</td>\n      <td>Unmarried</td>\n      <td>From Grade 1 to 7</td>\n      <td>Asthma</td>\n      <td>...</td>\n      <td>0</td>\n      <td>0</td>\n      <td>None</td>\n      <td>Asthma</td>\n      <td>None</td>\n      <td>0</td>\n      <td>0</td>\n      <td>0</td>\n      <td>0</td>\n      <td>0</td>\n    </tr>\n    <tr>\n      <th>1</th>\n      <td>2018</td>\n      <td>0</td>\n      <td>91</td>\n      <td>F</td>\n      <td>Islam</td>\n      <td>Muslim</td>\n      <td>Sales worker</td>\n      <td>Married</td>\n      <td>University Degree or above</td>\n      <td>Alzheimer's disease</td>\n      <td>...</td>\n      <td>0</td>\n      <td>0</td>\n      <td>None</td>\n      <td>Other</td>\n      <td>None</td>\n      <td>0</td>\n      <td>1</td>\n      <td>0</td>\n      <td>0</td>\n      <td>0</td>\n    </tr>\n    <tr>\n      <th>2</th>\n      <td>2018</td>\n      <td>0</td>\n      <td>85</td>\n      <td>M</td>\n      <td>Islam</td>\n      <td>Muslim</td>\n      <td>Security Personnel</td>\n      <td>Married</td>\n      <td>University Degree or above</td>\n      <td>Stroke/Chronic diseases &amp; Physical disabilities</td>\n      <td>...</td>\n      <td>0</td>\n      <td>0</td>\n      <td>None</td>\n      <td>Diabetes</td>\n      <td>None</td>\n      <td>0</td>\n      <td>1</td>\n      <td>0</td>\n      <td>0</td>\n      <td>0</td>\n    </tr>\n    <tr>\n      <th>3</th>\n      <td>2017</td>\n      <td>1</td>\n      <td>87</td>\n      <td>M</td>\n      <td>Christian</td>\n      <td>Sinhalese</td>\n      <td>Unemployed persons</td>\n      <td>Married</td>\n      <td>School not attended</td>\n      <td>Harrasment by the husband &amp; family disputes</td>\n      <td>...</td>\n      <td>1</td>\n      <td>0</td>\n      <td>None</td>\n      <td>Chronic pain</td>\n      <td>Frequent</td>\n      <td>1</td>\n      <td>1</td>\n      <td>1</td>\n      <td>1</td>\n      <td>1</td>\n    </tr>\n    <tr>\n      <th>4</th>\n      <td>2018</td>\n      <td>0</td>\n      <td>59</td>\n      <td>M</td>\n      <td>Islam</td>\n      <td>Muslim</td>\n      <td>Pensioners</td>\n      <td>Unmarried</td>\n      <td>Other</td>\n      <td>Alzheimer's disease</td>\n      <td>...</td>\n      <td>0</td>\n      <td>0</td>\n      <td>None</td>\n      <td>COPD</td>\n      <td>None</td>\n      <td>0</td>\n      <td>1</td>\n      <td>0</td>\n      <td>1</td>\n      <td>1</td>\n    </tr>\n  </tbody>\n</table>\n<p>5 rows × 22 columns</p>\n</div>"
     },
     "metadata": {},
     "output_type": "execute_result",
     "execution_count": 48
    }
   ],
   "source": [
    "train_df.head()\n"
   ]
  },
  {
   "cell_type": "code",
   "execution_count": 49,
   "metadata": {
    "pycharm": {
     "is_executing": false
    }
   },
   "outputs": [
    {
     "data": {
      "text/plain": "     Year  Not Suicide(0)/Suicide(1)  Age Gender   Religon        Race  \\\n995  2018                          0   39      M  Buddhist  Sinhalese    \n996  2015                          1   34      M  Buddhist  Sinhalese    \n997  2015                          1   15      M  Buddhist  Sinhalese    \n998  2018                          0   75      M     Islam      Muslim   \n999  2018                          1   56      F  Buddhist  Sinhalese    \n\n    Nature Of Occupation Civil Status             Education Level  \\\n995   Security Personnel    Divourced  University Degree or above   \n996   Security Personnel      Married          Passed G.C.E (O/L)   \n997              Student    Unmarried              Passed Grade 8   \n998         Sales worker      Married  University Degree or above   \n999   Unemployed persons      Married              Passed Grade 8   \n\n                                          Reason  ...  \\\n995                                Natural Death  ...   \n996  Harrasment by the husband & family disputes  ...   \n997              Problems caused with the elders  ...   \n998                                Natural Death  ...   \n999     Economic problems (Poverty indebtedness)  ...   \n\n     Any suicidal thoughts mentioned  Self-Injurious Behaviour  \\\n995                                0                         0   \n996                                1                         1   \n997                                1                         1   \n998                                0                         0   \n999                                1                         1   \n\n     Psychiatric Disorders  Past Illnesses Alcohol/ drug Consumption Anger  \\\n995                   None         Unknown                      None     1   \n996                    BPD  Kidney Disease                  Frequent     0   \n997             Depression           Other                      None     0   \n998                   None        Diabetes                      None     0   \n999             Depression        Diabetes                      None     0   \n\n    Sleep Problem  Social Iscolation  Sad/ Weary  Humilated  \n995             0                  0           0          0  \n996             1                  1           1          1  \n997             1                  0           1          1  \n998             0                  0           0          0  \n999             1                  1           1          0  \n\n[5 rows x 22 columns]",
      "text/html": "<div>\n<style scoped>\n    .dataframe tbody tr th:only-of-type {\n        vertical-align: middle;\n    }\n\n    .dataframe tbody tr th {\n        vertical-align: top;\n    }\n\n    .dataframe thead th {\n        text-align: right;\n    }\n</style>\n<table border=\"1\" class=\"dataframe\">\n  <thead>\n    <tr style=\"text-align: right;\">\n      <th></th>\n      <th>Year</th>\n      <th>Not Suicide(0)/Suicide(1)</th>\n      <th>Age</th>\n      <th>Gender</th>\n      <th>Religon</th>\n      <th>Race</th>\n      <th>Nature Of Occupation</th>\n      <th>Civil Status</th>\n      <th>Education Level</th>\n      <th>Reason</th>\n      <th>...</th>\n      <th>Any suicidal thoughts mentioned</th>\n      <th>Self-Injurious Behaviour</th>\n      <th>Psychiatric Disorders</th>\n      <th>Past Illnesses</th>\n      <th>Alcohol/ drug Consumption</th>\n      <th>Anger</th>\n      <th>Sleep Problem</th>\n      <th>Social Iscolation</th>\n      <th>Sad/ Weary</th>\n      <th>Humilated</th>\n    </tr>\n  </thead>\n  <tbody>\n    <tr>\n      <th>995</th>\n      <td>2018</td>\n      <td>0</td>\n      <td>39</td>\n      <td>M</td>\n      <td>Buddhist</td>\n      <td>Sinhalese</td>\n      <td>Security Personnel</td>\n      <td>Divourced</td>\n      <td>University Degree or above</td>\n      <td>Natural Death</td>\n      <td>...</td>\n      <td>0</td>\n      <td>0</td>\n      <td>None</td>\n      <td>Unknown</td>\n      <td>None</td>\n      <td>1</td>\n      <td>0</td>\n      <td>0</td>\n      <td>0</td>\n      <td>0</td>\n    </tr>\n    <tr>\n      <th>996</th>\n      <td>2015</td>\n      <td>1</td>\n      <td>34</td>\n      <td>M</td>\n      <td>Buddhist</td>\n      <td>Sinhalese</td>\n      <td>Security Personnel</td>\n      <td>Married</td>\n      <td>Passed G.C.E (O/L)</td>\n      <td>Harrasment by the husband &amp; family disputes</td>\n      <td>...</td>\n      <td>1</td>\n      <td>1</td>\n      <td>BPD</td>\n      <td>Kidney Disease</td>\n      <td>Frequent</td>\n      <td>0</td>\n      <td>1</td>\n      <td>1</td>\n      <td>1</td>\n      <td>1</td>\n    </tr>\n    <tr>\n      <th>997</th>\n      <td>2015</td>\n      <td>1</td>\n      <td>15</td>\n      <td>M</td>\n      <td>Buddhist</td>\n      <td>Sinhalese</td>\n      <td>Student</td>\n      <td>Unmarried</td>\n      <td>Passed Grade 8</td>\n      <td>Problems caused with the elders</td>\n      <td>...</td>\n      <td>1</td>\n      <td>1</td>\n      <td>Depression</td>\n      <td>Other</td>\n      <td>None</td>\n      <td>0</td>\n      <td>1</td>\n      <td>0</td>\n      <td>1</td>\n      <td>1</td>\n    </tr>\n    <tr>\n      <th>998</th>\n      <td>2018</td>\n      <td>0</td>\n      <td>75</td>\n      <td>M</td>\n      <td>Islam</td>\n      <td>Muslim</td>\n      <td>Sales worker</td>\n      <td>Married</td>\n      <td>University Degree or above</td>\n      <td>Natural Death</td>\n      <td>...</td>\n      <td>0</td>\n      <td>0</td>\n      <td>None</td>\n      <td>Diabetes</td>\n      <td>None</td>\n      <td>0</td>\n      <td>0</td>\n      <td>0</td>\n      <td>0</td>\n      <td>0</td>\n    </tr>\n    <tr>\n      <th>999</th>\n      <td>2018</td>\n      <td>1</td>\n      <td>56</td>\n      <td>F</td>\n      <td>Buddhist</td>\n      <td>Sinhalese</td>\n      <td>Unemployed persons</td>\n      <td>Married</td>\n      <td>Passed Grade 8</td>\n      <td>Economic problems (Poverty indebtedness)</td>\n      <td>...</td>\n      <td>1</td>\n      <td>1</td>\n      <td>Depression</td>\n      <td>Diabetes</td>\n      <td>None</td>\n      <td>0</td>\n      <td>1</td>\n      <td>1</td>\n      <td>1</td>\n      <td>0</td>\n    </tr>\n  </tbody>\n</table>\n<p>5 rows × 22 columns</p>\n</div>"
     },
     "metadata": {},
     "output_type": "execute_result",
     "execution_count": 49
    }
   ],
   "source": [
    "train_df.tail()"
   ]
  },
  {
   "cell_type": "code",
   "execution_count": 50,
   "metadata": {
    "pycharm": {
     "is_executing": false
    }
   },
   "outputs": [
    {
     "name": "stdout",
     "text": [
      "<class 'pandas.core.frame.DataFrame'>\n",
      "RangeIndex: 1000 entries, 0 to 999\n",
      "Data columns (total 22 columns):\n",
      " #   Column                                 Non-Null Count  Dtype \n",
      "---  ------                                 --------------  ----- \n",
      " 0   Year                                   1000 non-null   int64 \n",
      " 1   Not Suicide(0)/Suicide(1)              1000 non-null   int64 \n",
      " 2   Age                                    1000 non-null   int64 \n",
      " 3   Gender                                 1000 non-null   object\n",
      " 4   Religon                                1000 non-null   object\n",
      " 5   Race                                   1000 non-null   object\n",
      " 6   Nature Of Occupation                   1000 non-null   object\n",
      " 7   Civil Status                           1000 non-null   object\n",
      " 8   Education Level                        1000 non-null   object\n",
      " 9   Reason                                 1000 non-null   object\n",
      " 10  Lifetime Psychiatric Hospitalizations  1000 non-null   int64 \n",
      " 11  Past Suicide Attempts                  1000 non-null   int64 \n",
      " 12  Any suicidal thoughts mentioned        1000 non-null   int64 \n",
      " 13  Self-Injurious Behaviour               1000 non-null   int64 \n",
      " 14  Psychiatric Disorders                  1000 non-null   object\n",
      " 15  Past Illnesses                         1000 non-null   object\n",
      " 16  Alcohol/ drug Consumption              1000 non-null   object\n",
      " 17  Anger                                  1000 non-null   int64 \n",
      " 18  Sleep Problem                          1000 non-null   int64 \n",
      " 19  Social Iscolation                      1000 non-null   int64 \n",
      " 20  Sad/ Weary                             1000 non-null   int64 \n",
      " 21  Humilated                              1000 non-null   int64 \n",
      "dtypes: int64(12), object(10)\n",
      "memory usage: 172.0+ KB\n",
      "________________________________________\n"
     ],
     "output_type": "stream"
    }
   ],
   "source": [
    "train_df.info()\n",
    "print('_'*40)"
   ]
  },
  {
   "cell_type": "code",
   "execution_count": 51,
   "metadata": {
    "pycharm": {
     "is_executing": false
    }
   },
   "outputs": [
    {
     "data": {
      "text/plain": "              Year  Not Suicide(0)/Suicide(1)          Age  \\\ncount  1000.000000                 1000.00000  1000.000000   \nmean   2017.332000                    0.50000    51.820000   \nstd       1.002388                    0.50025    22.186704   \nmin    2015.000000                    0.00000    10.000000   \n25%    2017.000000                    0.00000    32.000000   \n50%    2018.000000                    0.50000    54.000000   \n75%    2018.000000                    1.00000    70.000000   \nmax    2018.000000                    1.00000    98.000000   \n\n       Lifetime Psychiatric Hospitalizations  Past Suicide Attempts  \\\ncount                            1000.000000            1000.000000   \nmean                                0.234000               0.172000   \nstd                                 0.423584               0.377569   \nmin                                 0.000000               0.000000   \n25%                                 0.000000               0.000000   \n50%                                 0.000000               0.000000   \n75%                                 0.000000               0.000000   \nmax                                 1.000000               1.000000   \n\n       Any suicidal thoughts mentioned  Self-Injurious Behaviour        Anger  \\\ncount                      1000.000000               1000.000000  1000.000000   \nmean                          0.308000                  0.226000     0.460000   \nstd                           0.461898                  0.418448     0.498647   \nmin                           0.000000                  0.000000     0.000000   \n25%                           0.000000                  0.000000     0.000000   \n50%                           0.000000                  0.000000     0.000000   \n75%                           1.000000                  0.000000     1.000000   \nmax                           1.000000                  1.000000     1.000000   \n\n       Sleep Problem  Social Iscolation   Sad/ Weary    Humilated  \ncount    1000.000000         1000.00000  1000.000000  1000.000000  \nmean        0.621000            0.42500     0.404000     0.362000  \nstd         0.485381            0.49459     0.490943     0.480819  \nmin         0.000000            0.00000     0.000000     0.000000  \n25%         0.000000            0.00000     0.000000     0.000000  \n50%         1.000000            0.00000     0.000000     0.000000  \n75%         1.000000            1.00000     1.000000     1.000000  \nmax         1.000000            1.00000     1.000000     1.000000  ",
      "text/html": "<div>\n<style scoped>\n    .dataframe tbody tr th:only-of-type {\n        vertical-align: middle;\n    }\n\n    .dataframe tbody tr th {\n        vertical-align: top;\n    }\n\n    .dataframe thead th {\n        text-align: right;\n    }\n</style>\n<table border=\"1\" class=\"dataframe\">\n  <thead>\n    <tr style=\"text-align: right;\">\n      <th></th>\n      <th>Year</th>\n      <th>Not Suicide(0)/Suicide(1)</th>\n      <th>Age</th>\n      <th>Lifetime Psychiatric Hospitalizations</th>\n      <th>Past Suicide Attempts</th>\n      <th>Any suicidal thoughts mentioned</th>\n      <th>Self-Injurious Behaviour</th>\n      <th>Anger</th>\n      <th>Sleep Problem</th>\n      <th>Social Iscolation</th>\n      <th>Sad/ Weary</th>\n      <th>Humilated</th>\n    </tr>\n  </thead>\n  <tbody>\n    <tr>\n      <th>count</th>\n      <td>1000.000000</td>\n      <td>1000.00000</td>\n      <td>1000.000000</td>\n      <td>1000.000000</td>\n      <td>1000.000000</td>\n      <td>1000.000000</td>\n      <td>1000.000000</td>\n      <td>1000.000000</td>\n      <td>1000.000000</td>\n      <td>1000.00000</td>\n      <td>1000.000000</td>\n      <td>1000.000000</td>\n    </tr>\n    <tr>\n      <th>mean</th>\n      <td>2017.332000</td>\n      <td>0.50000</td>\n      <td>51.820000</td>\n      <td>0.234000</td>\n      <td>0.172000</td>\n      <td>0.308000</td>\n      <td>0.226000</td>\n      <td>0.460000</td>\n      <td>0.621000</td>\n      <td>0.42500</td>\n      <td>0.404000</td>\n      <td>0.362000</td>\n    </tr>\n    <tr>\n      <th>std</th>\n      <td>1.002388</td>\n      <td>0.50025</td>\n      <td>22.186704</td>\n      <td>0.423584</td>\n      <td>0.377569</td>\n      <td>0.461898</td>\n      <td>0.418448</td>\n      <td>0.498647</td>\n      <td>0.485381</td>\n      <td>0.49459</td>\n      <td>0.490943</td>\n      <td>0.480819</td>\n    </tr>\n    <tr>\n      <th>min</th>\n      <td>2015.000000</td>\n      <td>0.00000</td>\n      <td>10.000000</td>\n      <td>0.000000</td>\n      <td>0.000000</td>\n      <td>0.000000</td>\n      <td>0.000000</td>\n      <td>0.000000</td>\n      <td>0.000000</td>\n      <td>0.00000</td>\n      <td>0.000000</td>\n      <td>0.000000</td>\n    </tr>\n    <tr>\n      <th>25%</th>\n      <td>2017.000000</td>\n      <td>0.00000</td>\n      <td>32.000000</td>\n      <td>0.000000</td>\n      <td>0.000000</td>\n      <td>0.000000</td>\n      <td>0.000000</td>\n      <td>0.000000</td>\n      <td>0.000000</td>\n      <td>0.00000</td>\n      <td>0.000000</td>\n      <td>0.000000</td>\n    </tr>\n    <tr>\n      <th>50%</th>\n      <td>2018.000000</td>\n      <td>0.50000</td>\n      <td>54.000000</td>\n      <td>0.000000</td>\n      <td>0.000000</td>\n      <td>0.000000</td>\n      <td>0.000000</td>\n      <td>0.000000</td>\n      <td>1.000000</td>\n      <td>0.00000</td>\n      <td>0.000000</td>\n      <td>0.000000</td>\n    </tr>\n    <tr>\n      <th>75%</th>\n      <td>2018.000000</td>\n      <td>1.00000</td>\n      <td>70.000000</td>\n      <td>0.000000</td>\n      <td>0.000000</td>\n      <td>1.000000</td>\n      <td>0.000000</td>\n      <td>1.000000</td>\n      <td>1.000000</td>\n      <td>1.00000</td>\n      <td>1.000000</td>\n      <td>1.000000</td>\n    </tr>\n    <tr>\n      <th>max</th>\n      <td>2018.000000</td>\n      <td>1.00000</td>\n      <td>98.000000</td>\n      <td>1.000000</td>\n      <td>1.000000</td>\n      <td>1.000000</td>\n      <td>1.000000</td>\n      <td>1.000000</td>\n      <td>1.000000</td>\n      <td>1.00000</td>\n      <td>1.000000</td>\n      <td>1.000000</td>\n    </tr>\n  </tbody>\n</table>\n</div>"
     },
     "metadata": {},
     "output_type": "execute_result",
     "execution_count": 51
    }
   ],
   "source": [
    "train_df.describe()"
   ]
  },
  {
   "cell_type": "code",
   "execution_count": 52,
   "metadata": {
    "pycharm": {
     "is_executing": false
    }
   },
   "outputs": [
    {
     "data": {
      "text/plain": "       Gender   Religon        Race Nature Of Occupation Civil Status  \\\ncount    1000      1000        1000                 1000         1000   \nunique      2         5           5                   14            4   \ntop         M  Buddhist  Sinhalese    Unemployed persons      Married   \nfreq      688       825         843                  224          618   \n\n       Education Level         Reason Psychiatric Disorders Past Illnesses  \\\ncount             1000           1000                  1000           1000   \nunique               7             23                     7             10   \ntop     Passed Grade 8  Natural Death                  None        Unknown   \nfreq               234            177                   691            368   \n\n       Alcohol/ drug Consumption  \ncount                       1000  \nunique                         3  \ntop                         None  \nfreq                         708  ",
      "text/html": "<div>\n<style scoped>\n    .dataframe tbody tr th:only-of-type {\n        vertical-align: middle;\n    }\n\n    .dataframe tbody tr th {\n        vertical-align: top;\n    }\n\n    .dataframe thead th {\n        text-align: right;\n    }\n</style>\n<table border=\"1\" class=\"dataframe\">\n  <thead>\n    <tr style=\"text-align: right;\">\n      <th></th>\n      <th>Gender</th>\n      <th>Religon</th>\n      <th>Race</th>\n      <th>Nature Of Occupation</th>\n      <th>Civil Status</th>\n      <th>Education Level</th>\n      <th>Reason</th>\n      <th>Psychiatric Disorders</th>\n      <th>Past Illnesses</th>\n      <th>Alcohol/ drug Consumption</th>\n    </tr>\n  </thead>\n  <tbody>\n    <tr>\n      <th>count</th>\n      <td>1000</td>\n      <td>1000</td>\n      <td>1000</td>\n      <td>1000</td>\n      <td>1000</td>\n      <td>1000</td>\n      <td>1000</td>\n      <td>1000</td>\n      <td>1000</td>\n      <td>1000</td>\n    </tr>\n    <tr>\n      <th>unique</th>\n      <td>2</td>\n      <td>5</td>\n      <td>5</td>\n      <td>14</td>\n      <td>4</td>\n      <td>7</td>\n      <td>23</td>\n      <td>7</td>\n      <td>10</td>\n      <td>3</td>\n    </tr>\n    <tr>\n      <th>top</th>\n      <td>M</td>\n      <td>Buddhist</td>\n      <td>Sinhalese</td>\n      <td>Unemployed persons</td>\n      <td>Married</td>\n      <td>Passed Grade 8</td>\n      <td>Natural Death</td>\n      <td>None</td>\n      <td>Unknown</td>\n      <td>None</td>\n    </tr>\n    <tr>\n      <th>freq</th>\n      <td>688</td>\n      <td>825</td>\n      <td>843</td>\n      <td>224</td>\n      <td>618</td>\n      <td>234</td>\n      <td>177</td>\n      <td>691</td>\n      <td>368</td>\n      <td>708</td>\n    </tr>\n  </tbody>\n</table>\n</div>"
     },
     "metadata": {},
     "output_type": "execute_result",
     "execution_count": 52
    }
   ],
   "source": [
    "train_df.describe(include=['O'])"
   ]
  },
  {
   "cell_type": "code",
   "execution_count": 53,
   "metadata": {
    "pycharm": {
     "is_executing": false
    }
   },
   "outputs": [
    {
     "data": {
      "text/plain": "  Gender  Not Suicide(0)/Suicide(1)\n1      M                   0.609012\n0      F                   0.259615",
      "text/html": "<div>\n<style scoped>\n    .dataframe tbody tr th:only-of-type {\n        vertical-align: middle;\n    }\n\n    .dataframe tbody tr th {\n        vertical-align: top;\n    }\n\n    .dataframe thead th {\n        text-align: right;\n    }\n</style>\n<table border=\"1\" class=\"dataframe\">\n  <thead>\n    <tr style=\"text-align: right;\">\n      <th></th>\n      <th>Gender</th>\n      <th>Not Suicide(0)/Suicide(1)</th>\n    </tr>\n  </thead>\n  <tbody>\n    <tr>\n      <th>1</th>\n      <td>M</td>\n      <td>0.609012</td>\n    </tr>\n    <tr>\n      <th>0</th>\n      <td>F</td>\n      <td>0.259615</td>\n    </tr>\n  </tbody>\n</table>\n</div>"
     },
     "metadata": {},
     "output_type": "execute_result",
     "execution_count": 53
    }
   ],
   "source": [
    "train_df[['Gender', 'Not Suicide(0)/Suicide(1)']].groupby(['Gender'], as_index=False).mean().sort_values(by='Not Suicide(0)/Suicide(1)', ascending=False)"
   ]
  },
  {
   "cell_type": "code",
   "execution_count": 54,
   "metadata": {
    "pycharm": {
     "is_executing": false
    }
   },
   "outputs": [
    {
     "data": {
      "text/plain": "         Race  Not Suicide(0)/Suicide(1)\n3  Sinhalese                    0.564650\n4       Tamil                   0.433962\n1      Muslim                   0.016393\n0      Burger                   0.000000\n2       Other                   0.000000",
      "text/html": "<div>\n<style scoped>\n    .dataframe tbody tr th:only-of-type {\n        vertical-align: middle;\n    }\n\n    .dataframe tbody tr th {\n        vertical-align: top;\n    }\n\n    .dataframe thead th {\n        text-align: right;\n    }\n</style>\n<table border=\"1\" class=\"dataframe\">\n  <thead>\n    <tr style=\"text-align: right;\">\n      <th></th>\n      <th>Race</th>\n      <th>Not Suicide(0)/Suicide(1)</th>\n    </tr>\n  </thead>\n  <tbody>\n    <tr>\n      <th>3</th>\n      <td>Sinhalese</td>\n      <td>0.564650</td>\n    </tr>\n    <tr>\n      <th>4</th>\n      <td>Tamil</td>\n      <td>0.433962</td>\n    </tr>\n    <tr>\n      <th>1</th>\n      <td>Muslim</td>\n      <td>0.016393</td>\n    </tr>\n    <tr>\n      <th>0</th>\n      <td>Burger</td>\n      <td>0.000000</td>\n    </tr>\n    <tr>\n      <th>2</th>\n      <td>Other</td>\n      <td>0.000000</td>\n    </tr>\n  </tbody>\n</table>\n</div>"
     },
     "metadata": {},
     "output_type": "execute_result",
     "execution_count": 54
    }
   ],
   "source": [
    "train_df[['Race', 'Not Suicide(0)/Suicide(1)']].groupby(['Race'], as_index=False).mean().sort_values(by='Not Suicide(0)/Suicide(1)', ascending=False)"
   ]
  },
  {
   "cell_type": "code",
   "execution_count": 55,
   "metadata": {
    "pycharm": {
     "is_executing": false
    }
   },
   "outputs": [
    {
     "data": {
      "text/plain": "                                 Nature Of Occupation  \\\n12                                 Unemployed persons   \n1   Agricultural Animal Husbandry Fisherman & rela...   \n10       Service workers (Cooks/Tailors/Barbers/ etc)   \n13               Workers not classfied by occupation    \n6   Production process workers Craftsman & related...   \n7   Professional Technical & related workers (Doct...   \n11                                            Student   \n8                                        Sales worker   \n2                                      Armed Services   \n4                                          Pensioners   \n0   Administrative Executive Managerial & related ...   \n3   Clerical & related workers (Stenographers/ Typ...   \n9                                  Security Personnel   \n5                                              Police   \n\n    Not Suicide(0)/Suicide(1)  \n12                   0.888393  \n1                    0.851852  \n10                   0.720000  \n13                   0.666667  \n6                    0.590164  \n7                    0.555556  \n11                   0.329268  \n8                    0.326531  \n2                    0.239130  \n4                    0.214286  \n0                    0.161765  \n3                    0.118644  \n9                    0.086207  \n5                    0.022222  ",
      "text/html": "<div>\n<style scoped>\n    .dataframe tbody tr th:only-of-type {\n        vertical-align: middle;\n    }\n\n    .dataframe tbody tr th {\n        vertical-align: top;\n    }\n\n    .dataframe thead th {\n        text-align: right;\n    }\n</style>\n<table border=\"1\" class=\"dataframe\">\n  <thead>\n    <tr style=\"text-align: right;\">\n      <th></th>\n      <th>Nature Of Occupation</th>\n      <th>Not Suicide(0)/Suicide(1)</th>\n    </tr>\n  </thead>\n  <tbody>\n    <tr>\n      <th>12</th>\n      <td>Unemployed persons</td>\n      <td>0.888393</td>\n    </tr>\n    <tr>\n      <th>1</th>\n      <td>Agricultural Animal Husbandry Fisherman &amp; rela...</td>\n      <td>0.851852</td>\n    </tr>\n    <tr>\n      <th>10</th>\n      <td>Service workers (Cooks/Tailors/Barbers/ etc)</td>\n      <td>0.720000</td>\n    </tr>\n    <tr>\n      <th>13</th>\n      <td>Workers not classfied by occupation</td>\n      <td>0.666667</td>\n    </tr>\n    <tr>\n      <th>6</th>\n      <td>Production process workers Craftsman &amp; related...</td>\n      <td>0.590164</td>\n    </tr>\n    <tr>\n      <th>7</th>\n      <td>Professional Technical &amp; related workers (Doct...</td>\n      <td>0.555556</td>\n    </tr>\n    <tr>\n      <th>11</th>\n      <td>Student</td>\n      <td>0.329268</td>\n    </tr>\n    <tr>\n      <th>8</th>\n      <td>Sales worker</td>\n      <td>0.326531</td>\n    </tr>\n    <tr>\n      <th>2</th>\n      <td>Armed Services</td>\n      <td>0.239130</td>\n    </tr>\n    <tr>\n      <th>4</th>\n      <td>Pensioners</td>\n      <td>0.214286</td>\n    </tr>\n    <tr>\n      <th>0</th>\n      <td>Administrative Executive Managerial &amp; related ...</td>\n      <td>0.161765</td>\n    </tr>\n    <tr>\n      <th>3</th>\n      <td>Clerical &amp; related workers (Stenographers/ Typ...</td>\n      <td>0.118644</td>\n    </tr>\n    <tr>\n      <th>9</th>\n      <td>Security Personnel</td>\n      <td>0.086207</td>\n    </tr>\n    <tr>\n      <th>5</th>\n      <td>Police</td>\n      <td>0.022222</td>\n    </tr>\n  </tbody>\n</table>\n</div>"
     },
     "metadata": {},
     "output_type": "execute_result",
     "execution_count": 55
    }
   ],
   "source": [
    "train_df[['Nature Of Occupation', 'Not Suicide(0)/Suicide(1)']].groupby(['Nature Of Occupation'], as_index=False).mean().sort_values(by='Not Suicide(0)/Suicide(1)', ascending=False)"
   ]
  },
  {
   "cell_type": "code",
   "execution_count": 56,
   "metadata": {
    "pycharm": {
     "is_executing": false
    }
   },
   "outputs": [
    {
     "data": {
      "text/plain": "  Civil Status  Not Suicide(0)/Suicide(1)\n1      Married                   0.556634\n2    Unmarried                   0.453453\n3        Widow                   0.125000\n0    Divourced                   0.080000",
      "text/html": "<div>\n<style scoped>\n    .dataframe tbody tr th:only-of-type {\n        vertical-align: middle;\n    }\n\n    .dataframe tbody tr th {\n        vertical-align: top;\n    }\n\n    .dataframe thead th {\n        text-align: right;\n    }\n</style>\n<table border=\"1\" class=\"dataframe\">\n  <thead>\n    <tr style=\"text-align: right;\">\n      <th></th>\n      <th>Civil Status</th>\n      <th>Not Suicide(0)/Suicide(1)</th>\n    </tr>\n  </thead>\n  <tbody>\n    <tr>\n      <th>1</th>\n      <td>Married</td>\n      <td>0.556634</td>\n    </tr>\n    <tr>\n      <th>2</th>\n      <td>Unmarried</td>\n      <td>0.453453</td>\n    </tr>\n    <tr>\n      <th>3</th>\n      <td>Widow</td>\n      <td>0.125000</td>\n    </tr>\n    <tr>\n      <th>0</th>\n      <td>Divourced</td>\n      <td>0.080000</td>\n    </tr>\n  </tbody>\n</table>\n</div>"
     },
     "metadata": {},
     "output_type": "execute_result",
     "execution_count": 56
    }
   ],
   "source": [
    "train_df[['Civil Status', 'Not Suicide(0)/Suicide(1)']].groupby(['Civil Status'], as_index=False).mean().sort_values(by='Not Suicide(0)/Suicide(1)', ascending=False)"
   ]
  },
  {
   "cell_type": "code",
   "execution_count": 57,
   "metadata": {
    "pycharm": {
     "is_executing": false
    }
   },
   "outputs": [
    {
     "data": {
      "text/plain": "              Education Level  Not Suicide(0)/Suicide(1)\n3          Passed G.C.E (O/L)                   0.746032\n4              Passed Grade 8                   0.743590\n0           From Grade 1 to 7                   0.644330\n5         School not attended                   0.358974\n1                       Other                   0.161765\n2          Passed G.C.E (A/L)                   0.125984\n6  University Degree or above                   0.045455",
      "text/html": "<div>\n<style scoped>\n    .dataframe tbody tr th:only-of-type {\n        vertical-align: middle;\n    }\n\n    .dataframe tbody tr th {\n        vertical-align: top;\n    }\n\n    .dataframe thead th {\n        text-align: right;\n    }\n</style>\n<table border=\"1\" class=\"dataframe\">\n  <thead>\n    <tr style=\"text-align: right;\">\n      <th></th>\n      <th>Education Level</th>\n      <th>Not Suicide(0)/Suicide(1)</th>\n    </tr>\n  </thead>\n  <tbody>\n    <tr>\n      <th>3</th>\n      <td>Passed G.C.E (O/L)</td>\n      <td>0.746032</td>\n    </tr>\n    <tr>\n      <th>4</th>\n      <td>Passed Grade 8</td>\n      <td>0.743590</td>\n    </tr>\n    <tr>\n      <th>0</th>\n      <td>From Grade 1 to 7</td>\n      <td>0.644330</td>\n    </tr>\n    <tr>\n      <th>5</th>\n      <td>School not attended</td>\n      <td>0.358974</td>\n    </tr>\n    <tr>\n      <th>1</th>\n      <td>Other</td>\n      <td>0.161765</td>\n    </tr>\n    <tr>\n      <th>2</th>\n      <td>Passed G.C.E (A/L)</td>\n      <td>0.125984</td>\n    </tr>\n    <tr>\n      <th>6</th>\n      <td>University Degree or above</td>\n      <td>0.045455</td>\n    </tr>\n  </tbody>\n</table>\n</div>"
     },
     "metadata": {},
     "output_type": "execute_result",
     "execution_count": 57
    }
   ],
   "source": [
    "train_df[['Education Level', 'Not Suicide(0)/Suicide(1)']].groupby(['Education Level'], as_index=False).mean().sort_values(by='Not Suicide(0)/Suicide(1)', ascending=False)"
   ]
  },
  {
   "cell_type": "code",
   "execution_count": 58,
   "metadata": {
    "pycharm": {
     "is_executing": false
    }
   },
   "outputs": [
    {
     "data": {
      "text/plain": "                                               Reason  \\\n11        Harrasment by the husband & family disputes   \n9                                 Employment problems   \n20                                  Sexual incapacity   \n18                    Problems caused with the elders   \n14                                   Loss of property   \n12                      Ill-treatment by the children   \n1          Aggrieved over the death parents/relations   \n10                         Failure at the examination   \n22  Using disappointment frustration caused throug...   \n8            Economic problems (Poverty indebtedness)   \n4            Chronic diseases & Physical disabilities   \n15                                   Mental Disorders   \n17                                      Other Reasons   \n0                         Addiction to narcotic drugs   \n7                                            Diabetes   \n6                                           Cirrhosis   \n5                              Chronic kidney disease   \n13                             Ischemic heart disease   \n16                                      Natural Death   \n3                                              Asthma   \n19                                      Road Accident   \n2                                 Alzheimer's disease   \n21    Stroke/Chronic diseases & Physical disabilities   \n\n    Not Suicide(0)/Suicide(1)  \n11                   1.000000  \n9                    1.000000  \n20                   1.000000  \n18                   1.000000  \n14                   1.000000  \n12                   1.000000  \n1                    1.000000  \n10                   1.000000  \n22                   1.000000  \n8                    1.000000  \n4                    1.000000  \n15                   0.780488  \n17                   0.748031  \n0                    0.529412  \n7                    0.000000  \n6                    0.000000  \n5                    0.000000  \n13                   0.000000  \n16                   0.000000  \n3                    0.000000  \n19                   0.000000  \n2                    0.000000  \n21                   0.000000  ",
      "text/html": "<div>\n<style scoped>\n    .dataframe tbody tr th:only-of-type {\n        vertical-align: middle;\n    }\n\n    .dataframe tbody tr th {\n        vertical-align: top;\n    }\n\n    .dataframe thead th {\n        text-align: right;\n    }\n</style>\n<table border=\"1\" class=\"dataframe\">\n  <thead>\n    <tr style=\"text-align: right;\">\n      <th></th>\n      <th>Reason</th>\n      <th>Not Suicide(0)/Suicide(1)</th>\n    </tr>\n  </thead>\n  <tbody>\n    <tr>\n      <th>11</th>\n      <td>Harrasment by the husband &amp; family disputes</td>\n      <td>1.000000</td>\n    </tr>\n    <tr>\n      <th>9</th>\n      <td>Employment problems</td>\n      <td>1.000000</td>\n    </tr>\n    <tr>\n      <th>20</th>\n      <td>Sexual incapacity</td>\n      <td>1.000000</td>\n    </tr>\n    <tr>\n      <th>18</th>\n      <td>Problems caused with the elders</td>\n      <td>1.000000</td>\n    </tr>\n    <tr>\n      <th>14</th>\n      <td>Loss of property</td>\n      <td>1.000000</td>\n    </tr>\n    <tr>\n      <th>12</th>\n      <td>Ill-treatment by the children</td>\n      <td>1.000000</td>\n    </tr>\n    <tr>\n      <th>1</th>\n      <td>Aggrieved over the death parents/relations</td>\n      <td>1.000000</td>\n    </tr>\n    <tr>\n      <th>10</th>\n      <td>Failure at the examination</td>\n      <td>1.000000</td>\n    </tr>\n    <tr>\n      <th>22</th>\n      <td>Using disappointment frustration caused throug...</td>\n      <td>1.000000</td>\n    </tr>\n    <tr>\n      <th>8</th>\n      <td>Economic problems (Poverty indebtedness)</td>\n      <td>1.000000</td>\n    </tr>\n    <tr>\n      <th>4</th>\n      <td>Chronic diseases &amp; Physical disabilities</td>\n      <td>1.000000</td>\n    </tr>\n    <tr>\n      <th>15</th>\n      <td>Mental Disorders</td>\n      <td>0.780488</td>\n    </tr>\n    <tr>\n      <th>17</th>\n      <td>Other Reasons</td>\n      <td>0.748031</td>\n    </tr>\n    <tr>\n      <th>0</th>\n      <td>Addiction to narcotic drugs</td>\n      <td>0.529412</td>\n    </tr>\n    <tr>\n      <th>7</th>\n      <td>Diabetes</td>\n      <td>0.000000</td>\n    </tr>\n    <tr>\n      <th>6</th>\n      <td>Cirrhosis</td>\n      <td>0.000000</td>\n    </tr>\n    <tr>\n      <th>5</th>\n      <td>Chronic kidney disease</td>\n      <td>0.000000</td>\n    </tr>\n    <tr>\n      <th>13</th>\n      <td>Ischemic heart disease</td>\n      <td>0.000000</td>\n    </tr>\n    <tr>\n      <th>16</th>\n      <td>Natural Death</td>\n      <td>0.000000</td>\n    </tr>\n    <tr>\n      <th>3</th>\n      <td>Asthma</td>\n      <td>0.000000</td>\n    </tr>\n    <tr>\n      <th>19</th>\n      <td>Road Accident</td>\n      <td>0.000000</td>\n    </tr>\n    <tr>\n      <th>2</th>\n      <td>Alzheimer's disease</td>\n      <td>0.000000</td>\n    </tr>\n    <tr>\n      <th>21</th>\n      <td>Stroke/Chronic diseases &amp; Physical disabilities</td>\n      <td>0.000000</td>\n    </tr>\n  </tbody>\n</table>\n</div>"
     },
     "metadata": {},
     "output_type": "execute_result",
     "execution_count": 58
    }
   ],
   "source": [
    "train_df[['Reason', 'Not Suicide(0)/Suicide(1)']].groupby(['Reason'], as_index=False).mean().sort_values(by='Not Suicide(0)/Suicide(1)', ascending=False)"
   ]
  },
  {
   "cell_type": "code",
   "execution_count": 59,
   "metadata": {
    "pycharm": {
     "is_executing": false
    }
   },
   "outputs": [
    {
     "data": {
      "text/plain": "   Lifetime Psychiatric Hospitalizations  Not Suicide(0)/Suicide(1)\n1                                      1                   0.978632\n0                                      0                   0.353786",
      "text/html": "<div>\n<style scoped>\n    .dataframe tbody tr th:only-of-type {\n        vertical-align: middle;\n    }\n\n    .dataframe tbody tr th {\n        vertical-align: top;\n    }\n\n    .dataframe thead th {\n        text-align: right;\n    }\n</style>\n<table border=\"1\" class=\"dataframe\">\n  <thead>\n    <tr style=\"text-align: right;\">\n      <th></th>\n      <th>Lifetime Psychiatric Hospitalizations</th>\n      <th>Not Suicide(0)/Suicide(1)</th>\n    </tr>\n  </thead>\n  <tbody>\n    <tr>\n      <th>1</th>\n      <td>1</td>\n      <td>0.978632</td>\n    </tr>\n    <tr>\n      <th>0</th>\n      <td>0</td>\n      <td>0.353786</td>\n    </tr>\n  </tbody>\n</table>\n</div>"
     },
     "metadata": {},
     "output_type": "execute_result",
     "execution_count": 59
    }
   ],
   "source": [
    "train_df[['Lifetime Psychiatric Hospitalizations', 'Not Suicide(0)/Suicide(1)']].groupby(['Lifetime Psychiatric Hospitalizations'], as_index=False).mean().sort_values(by='Not Suicide(0)/Suicide(1)', ascending=False)"
   ]
  },
  {
   "cell_type": "code",
   "execution_count": 60,
   "metadata": {
    "pycharm": {
     "is_executing": false
    }
   },
   "outputs": [
    {
     "data": {
      "text/plain": "   Past Suicide Attempts  Not Suicide(0)/Suicide(1)\n1                      1                   0.854651\n0                      0                   0.426329",
      "text/html": "<div>\n<style scoped>\n    .dataframe tbody tr th:only-of-type {\n        vertical-align: middle;\n    }\n\n    .dataframe tbody tr th {\n        vertical-align: top;\n    }\n\n    .dataframe thead th {\n        text-align: right;\n    }\n</style>\n<table border=\"1\" class=\"dataframe\">\n  <thead>\n    <tr style=\"text-align: right;\">\n      <th></th>\n      <th>Past Suicide Attempts</th>\n      <th>Not Suicide(0)/Suicide(1)</th>\n    </tr>\n  </thead>\n  <tbody>\n    <tr>\n      <th>1</th>\n      <td>1</td>\n      <td>0.854651</td>\n    </tr>\n    <tr>\n      <th>0</th>\n      <td>0</td>\n      <td>0.426329</td>\n    </tr>\n  </tbody>\n</table>\n</div>"
     },
     "metadata": {},
     "output_type": "execute_result",
     "execution_count": 60
    }
   ],
   "source": [
    "train_df[['Past Suicide Attempts', 'Not Suicide(0)/Suicide(1)']].groupby(['Past Suicide Attempts'], as_index=False).mean().sort_values(by='Not Suicide(0)/Suicide(1)', ascending=False)"
   ]
  },
  {
   "cell_type": "code",
   "execution_count": 61,
   "metadata": {
    "pycharm": {
     "is_executing": false
    }
   },
   "outputs": [
    {
     "data": {
      "text/plain": "   Any suicidal thoughts mentioned  Not Suicide(0)/Suicide(1)\n1                                1                   0.873377\n0                                0                   0.333815",
      "text/html": "<div>\n<style scoped>\n    .dataframe tbody tr th:only-of-type {\n        vertical-align: middle;\n    }\n\n    .dataframe tbody tr th {\n        vertical-align: top;\n    }\n\n    .dataframe thead th {\n        text-align: right;\n    }\n</style>\n<table border=\"1\" class=\"dataframe\">\n  <thead>\n    <tr style=\"text-align: right;\">\n      <th></th>\n      <th>Any suicidal thoughts mentioned</th>\n      <th>Not Suicide(0)/Suicide(1)</th>\n    </tr>\n  </thead>\n  <tbody>\n    <tr>\n      <th>1</th>\n      <td>1</td>\n      <td>0.873377</td>\n    </tr>\n    <tr>\n      <th>0</th>\n      <td>0</td>\n      <td>0.333815</td>\n    </tr>\n  </tbody>\n</table>\n</div>"
     },
     "metadata": {},
     "output_type": "execute_result",
     "execution_count": 61
    }
   ],
   "source": [
    "train_df[['Any suicidal thoughts mentioned', 'Not Suicide(0)/Suicide(1)']].groupby(['Any suicidal thoughts mentioned'], as_index=False).mean().sort_values(by='Not Suicide(0)/Suicide(1)', ascending=False)"
   ]
  },
  {
   "cell_type": "code",
   "execution_count": 62,
   "metadata": {
    "pycharm": {
     "is_executing": false
    }
   },
   "outputs": [
    {
     "data": {
      "text/plain": "   Self-Injurious Behaviour  Not Suicide(0)/Suicide(1)\n1                         1                   0.884956\n0                         0                   0.387597",
      "text/html": "<div>\n<style scoped>\n    .dataframe tbody tr th:only-of-type {\n        vertical-align: middle;\n    }\n\n    .dataframe tbody tr th {\n        vertical-align: top;\n    }\n\n    .dataframe thead th {\n        text-align: right;\n    }\n</style>\n<table border=\"1\" class=\"dataframe\">\n  <thead>\n    <tr style=\"text-align: right;\">\n      <th></th>\n      <th>Self-Injurious Behaviour</th>\n      <th>Not Suicide(0)/Suicide(1)</th>\n    </tr>\n  </thead>\n  <tbody>\n    <tr>\n      <th>1</th>\n      <td>1</td>\n      <td>0.884956</td>\n    </tr>\n    <tr>\n      <th>0</th>\n      <td>0</td>\n      <td>0.387597</td>\n    </tr>\n  </tbody>\n</table>\n</div>"
     },
     "metadata": {},
     "output_type": "execute_result",
     "execution_count": 62
    }
   ],
   "source": [
    "train_df[['Self-Injurious Behaviour', 'Not Suicide(0)/Suicide(1)']].groupby(['Self-Injurious Behaviour'], as_index=False).mean().sort_values(by='Not Suicide(0)/Suicide(1)', ascending=False)"
   ]
  },
  {
   "cell_type": "code",
   "execution_count": 63,
   "metadata": {
    "pycharm": {
     "is_executing": false
    }
   },
   "outputs": [
    {
     "data": {
      "text/plain": "  Psychiatric Disorders  Not Suicide(0)/Suicide(1)\n2            Depression                   0.940000\n1      Bipolar Disorder                   0.882353\n5                  PTSD                   0.806452\n6         Schizophrenia                   0.769231\n0                   BPD                   0.750000\n4                 Other                   0.740741\n3                  None                   0.334298",
      "text/html": "<div>\n<style scoped>\n    .dataframe tbody tr th:only-of-type {\n        vertical-align: middle;\n    }\n\n    .dataframe tbody tr th {\n        vertical-align: top;\n    }\n\n    .dataframe thead th {\n        text-align: right;\n    }\n</style>\n<table border=\"1\" class=\"dataframe\">\n  <thead>\n    <tr style=\"text-align: right;\">\n      <th></th>\n      <th>Psychiatric Disorders</th>\n      <th>Not Suicide(0)/Suicide(1)</th>\n    </tr>\n  </thead>\n  <tbody>\n    <tr>\n      <th>2</th>\n      <td>Depression</td>\n      <td>0.940000</td>\n    </tr>\n    <tr>\n      <th>1</th>\n      <td>Bipolar Disorder</td>\n      <td>0.882353</td>\n    </tr>\n    <tr>\n      <th>5</th>\n      <td>PTSD</td>\n      <td>0.806452</td>\n    </tr>\n    <tr>\n      <th>6</th>\n      <td>Schizophrenia</td>\n      <td>0.769231</td>\n    </tr>\n    <tr>\n      <th>0</th>\n      <td>BPD</td>\n      <td>0.750000</td>\n    </tr>\n    <tr>\n      <th>4</th>\n      <td>Other</td>\n      <td>0.740741</td>\n    </tr>\n    <tr>\n      <th>3</th>\n      <td>None</td>\n      <td>0.334298</td>\n    </tr>\n  </tbody>\n</table>\n</div>"
     },
     "metadata": {},
     "output_type": "execute_result",
     "execution_count": 63
    }
   ],
   "source": [
    "train_df[['Psychiatric Disorders', 'Not Suicide(0)/Suicide(1)']].groupby(['Psychiatric Disorders'], as_index=False).mean().sort_values(by='Not Suicide(0)/Suicide(1)', ascending=False)"
   ]
  },
  {
   "cell_type": "code",
   "execution_count": 64,
   "metadata": {
    "pycharm": {
     "is_executing": false
    }
   },
   "outputs": [
    {
     "data": {
      "text/plain": "   Past Illnesses  Not Suicide(0)/Suicide(1)\n2          Cancer                   0.962963\n5        HIV/AIDS                   0.933333\n8           Other                   0.736842\n1            COPD                   0.640000\n4        Diabetes                   0.536842\n3    Chronic pain                   0.535211\n7  Kidney Disease                   0.480769\n6  Heart Diseases                   0.385714\n9         Unknown                   0.334239\n0          Asthma                   0.244898",
      "text/html": "<div>\n<style scoped>\n    .dataframe tbody tr th:only-of-type {\n        vertical-align: middle;\n    }\n\n    .dataframe tbody tr th {\n        vertical-align: top;\n    }\n\n    .dataframe thead th {\n        text-align: right;\n    }\n</style>\n<table border=\"1\" class=\"dataframe\">\n  <thead>\n    <tr style=\"text-align: right;\">\n      <th></th>\n      <th>Past Illnesses</th>\n      <th>Not Suicide(0)/Suicide(1)</th>\n    </tr>\n  </thead>\n  <tbody>\n    <tr>\n      <th>2</th>\n      <td>Cancer</td>\n      <td>0.962963</td>\n    </tr>\n    <tr>\n      <th>5</th>\n      <td>HIV/AIDS</td>\n      <td>0.933333</td>\n    </tr>\n    <tr>\n      <th>8</th>\n      <td>Other</td>\n      <td>0.736842</td>\n    </tr>\n    <tr>\n      <th>1</th>\n      <td>COPD</td>\n      <td>0.640000</td>\n    </tr>\n    <tr>\n      <th>4</th>\n      <td>Diabetes</td>\n      <td>0.536842</td>\n    </tr>\n    <tr>\n      <th>3</th>\n      <td>Chronic pain</td>\n      <td>0.535211</td>\n    </tr>\n    <tr>\n      <th>7</th>\n      <td>Kidney Disease</td>\n      <td>0.480769</td>\n    </tr>\n    <tr>\n      <th>6</th>\n      <td>Heart Diseases</td>\n      <td>0.385714</td>\n    </tr>\n    <tr>\n      <th>9</th>\n      <td>Unknown</td>\n      <td>0.334239</td>\n    </tr>\n    <tr>\n      <th>0</th>\n      <td>Asthma</td>\n      <td>0.244898</td>\n    </tr>\n  </tbody>\n</table>\n</div>"
     },
     "metadata": {},
     "output_type": "execute_result",
     "execution_count": 64
    }
   ],
   "source": [
    "train_df[['Past Illnesses', 'Not Suicide(0)/Suicide(1)']].groupby(['Past Illnesses'], as_index=False).mean().sort_values(by='Not Suicide(0)/Suicide(1)', ascending=False)"
   ]
  },
  {
   "cell_type": "code",
   "execution_count": 65,
   "metadata": {
    "pycharm": {
     "is_executing": false
    }
   },
   "outputs": [
    {
     "data": {
      "text/plain": "  Alcohol/ drug Consumption  Not Suicide(0)/Suicide(1)\n1                  Moderate                   0.853659\n0                  Frequent                   0.840237\n2                      None                   0.357345",
      "text/html": "<div>\n<style scoped>\n    .dataframe tbody tr th:only-of-type {\n        vertical-align: middle;\n    }\n\n    .dataframe tbody tr th {\n        vertical-align: top;\n    }\n\n    .dataframe thead th {\n        text-align: right;\n    }\n</style>\n<table border=\"1\" class=\"dataframe\">\n  <thead>\n    <tr style=\"text-align: right;\">\n      <th></th>\n      <th>Alcohol/ drug Consumption</th>\n      <th>Not Suicide(0)/Suicide(1)</th>\n    </tr>\n  </thead>\n  <tbody>\n    <tr>\n      <th>1</th>\n      <td>Moderate</td>\n      <td>0.853659</td>\n    </tr>\n    <tr>\n      <th>0</th>\n      <td>Frequent</td>\n      <td>0.840237</td>\n    </tr>\n    <tr>\n      <th>2</th>\n      <td>None</td>\n      <td>0.357345</td>\n    </tr>\n  </tbody>\n</table>\n</div>"
     },
     "metadata": {},
     "output_type": "execute_result",
     "execution_count": 65
    }
   ],
   "source": [
    "train_df[['Alcohol/ drug Consumption', 'Not Suicide(0)/Suicide(1)']].groupby(['Alcohol/ drug Consumption'], as_index=False).mean().sort_values(by='Not Suicide(0)/Suicide(1)', ascending=False)"
   ]
  },
  {
   "cell_type": "code",
   "execution_count": 66,
   "metadata": {
    "pycharm": {
     "is_executing": false
    }
   },
   "outputs": [
    {
     "data": {
      "text/plain": "   Anger  Not Suicide(0)/Suicide(1)\n1      1                   0.886957\n0      0                   0.170370",
      "text/html": "<div>\n<style scoped>\n    .dataframe tbody tr th:only-of-type {\n        vertical-align: middle;\n    }\n\n    .dataframe tbody tr th {\n        vertical-align: top;\n    }\n\n    .dataframe thead th {\n        text-align: right;\n    }\n</style>\n<table border=\"1\" class=\"dataframe\">\n  <thead>\n    <tr style=\"text-align: right;\">\n      <th></th>\n      <th>Anger</th>\n      <th>Not Suicide(0)/Suicide(1)</th>\n    </tr>\n  </thead>\n  <tbody>\n    <tr>\n      <th>1</th>\n      <td>1</td>\n      <td>0.886957</td>\n    </tr>\n    <tr>\n      <th>0</th>\n      <td>0</td>\n      <td>0.170370</td>\n    </tr>\n  </tbody>\n</table>\n</div>"
     },
     "metadata": {},
     "output_type": "execute_result",
     "execution_count": 66
    }
   ],
   "source": [
    "train_df[['Anger', 'Not Suicide(0)/Suicide(1)']].groupby(['Anger'], as_index=False).mean().sort_values(by='Not Suicide(0)/Suicide(1)', ascending=False)"
   ]
  },
  {
   "cell_type": "code",
   "execution_count": 67,
   "metadata": {
    "pycharm": {
     "is_executing": false
    }
   },
   "outputs": [
    {
     "data": {
      "text/plain": "   Sleep Problem  Not Suicide(0)/Suicide(1)\n1              1                   0.705314\n0              0                   0.163588",
      "text/html": "<div>\n<style scoped>\n    .dataframe tbody tr th:only-of-type {\n        vertical-align: middle;\n    }\n\n    .dataframe tbody tr th {\n        vertical-align: top;\n    }\n\n    .dataframe thead th {\n        text-align: right;\n    }\n</style>\n<table border=\"1\" class=\"dataframe\">\n  <thead>\n    <tr style=\"text-align: right;\">\n      <th></th>\n      <th>Sleep Problem</th>\n      <th>Not Suicide(0)/Suicide(1)</th>\n    </tr>\n  </thead>\n  <tbody>\n    <tr>\n      <th>1</th>\n      <td>1</td>\n      <td>0.705314</td>\n    </tr>\n    <tr>\n      <th>0</th>\n      <td>0</td>\n      <td>0.163588</td>\n    </tr>\n  </tbody>\n</table>\n</div>"
     },
     "metadata": {},
     "output_type": "execute_result",
     "execution_count": 67
    }
   ],
   "source": [
    "train_df[['Sleep Problem', 'Not Suicide(0)/Suicide(1)']].groupby(['Sleep Problem'], as_index=False).mean().sort_values(by='Not Suicide(0)/Suicide(1)', ascending=False)"
   ]
  },
  {
   "cell_type": "code",
   "execution_count": 68,
   "metadata": {
    "pycharm": {
     "is_executing": false
    }
   },
   "outputs": [
    {
     "data": {
      "text/plain": "   Social Iscolation  Not Suicide(0)/Suicide(1)\n1                  1                   0.905882\n0                  0                   0.200000",
      "text/html": "<div>\n<style scoped>\n    .dataframe tbody tr th:only-of-type {\n        vertical-align: middle;\n    }\n\n    .dataframe tbody tr th {\n        vertical-align: top;\n    }\n\n    .dataframe thead th {\n        text-align: right;\n    }\n</style>\n<table border=\"1\" class=\"dataframe\">\n  <thead>\n    <tr style=\"text-align: right;\">\n      <th></th>\n      <th>Social Iscolation</th>\n      <th>Not Suicide(0)/Suicide(1)</th>\n    </tr>\n  </thead>\n  <tbody>\n    <tr>\n      <th>1</th>\n      <td>1</td>\n      <td>0.905882</td>\n    </tr>\n    <tr>\n      <th>0</th>\n      <td>0</td>\n      <td>0.200000</td>\n    </tr>\n  </tbody>\n</table>\n</div>"
     },
     "metadata": {},
     "output_type": "execute_result",
     "execution_count": 68
    }
   ],
   "source": [
    "train_df[['Social Iscolation', 'Not Suicide(0)/Suicide(1)']].groupby(['Social Iscolation'], as_index=False).mean().sort_values(by='Not Suicide(0)/Suicide(1)', ascending=False)"
   ]
  },
  {
   "cell_type": "code",
   "execution_count": 69,
   "metadata": {
    "pycharm": {
     "is_executing": false
    }
   },
   "outputs": [
    {
     "data": {
      "text/plain": "   Sad/ Weary  Not Suicide(0)/Suicide(1)\n1           1                   0.920792\n0           0                   0.214765",
      "text/html": "<div>\n<style scoped>\n    .dataframe tbody tr th:only-of-type {\n        vertical-align: middle;\n    }\n\n    .dataframe tbody tr th {\n        vertical-align: top;\n    }\n\n    .dataframe thead th {\n        text-align: right;\n    }\n</style>\n<table border=\"1\" class=\"dataframe\">\n  <thead>\n    <tr style=\"text-align: right;\">\n      <th></th>\n      <th>Sad/ Weary</th>\n      <th>Not Suicide(0)/Suicide(1)</th>\n    </tr>\n  </thead>\n  <tbody>\n    <tr>\n      <th>1</th>\n      <td>1</td>\n      <td>0.920792</td>\n    </tr>\n    <tr>\n      <th>0</th>\n      <td>0</td>\n      <td>0.214765</td>\n    </tr>\n  </tbody>\n</table>\n</div>"
     },
     "metadata": {},
     "output_type": "execute_result",
     "execution_count": 69
    }
   ],
   "source": [
    "train_df[['Sad/ Weary', 'Not Suicide(0)/Suicide(1)']].groupby(['Sad/ Weary'], as_index=False).mean().sort_values(by='Not Suicide(0)/Suicide(1)', ascending=False)"
   ]
  },
  {
   "cell_type": "code",
   "execution_count": 70,
   "metadata": {
    "pycharm": {
     "is_executing": false
    }
   },
   "outputs": [
    {
     "data": {
      "text/plain": "   Humilated  Not Suicide(0)/Suicide(1)\n1          1                   0.928177\n0          0                   0.257053",
      "text/html": "<div>\n<style scoped>\n    .dataframe tbody tr th:only-of-type {\n        vertical-align: middle;\n    }\n\n    .dataframe tbody tr th {\n        vertical-align: top;\n    }\n\n    .dataframe thead th {\n        text-align: right;\n    }\n</style>\n<table border=\"1\" class=\"dataframe\">\n  <thead>\n    <tr style=\"text-align: right;\">\n      <th></th>\n      <th>Humilated</th>\n      <th>Not Suicide(0)/Suicide(1)</th>\n    </tr>\n  </thead>\n  <tbody>\n    <tr>\n      <th>1</th>\n      <td>1</td>\n      <td>0.928177</td>\n    </tr>\n    <tr>\n      <th>0</th>\n      <td>0</td>\n      <td>0.257053</td>\n    </tr>\n  </tbody>\n</table>\n</div>"
     },
     "metadata": {},
     "output_type": "execute_result",
     "execution_count": 70
    }
   ],
   "source": [
    "train_df[['Humilated', 'Not Suicide(0)/Suicide(1)']].groupby(['Humilated'], as_index=False).mean().sort_values(by='Not Suicide(0)/Suicide(1)', ascending=False)"
   ]
  },
  {
   "cell_type": "code",
   "execution_count": 71,
   "metadata": {
    "pycharm": {
     "is_executing": false
    }
   },
   "outputs": [
    {
     "data": {
      "text/plain": "<seaborn.axisgrid.FacetGrid at 0x245c0caec88>"
     },
     "metadata": {},
     "output_type": "execute_result",
     "execution_count": 71
    },
    {
     "data": {
      "text/plain": "<Figure size 432x216 with 2 Axes>",
      "image/png": "[encoded data removed]"
     },
     "metadata": {
      "needs_background": "light"
     },
     "output_type": "display_data"
    }
   ],
   "source": [
    "gr = sns.FacetGrid(train_df, col='Not Suicide(0)/Suicide(1)')\n",
    "gr.map(plt.hist, 'Age', bins=20)"
   ]
  },
  {
   "cell_type": "code",
   "execution_count": 72,
   "metadata": {
    "pycharm": {
     "is_executing": false
    }
   },
   "outputs": [
    {
     "name": "stderr",
     "text": [
      "c:\\users\\dinis\\pycharmprojects\\suicide-risk-predictor\\venv\\lib\\site-packages\\seaborn\\axisgrid.py:243: UserWarning: The `size` parameter has been renamed to `height`; please update your code.\n",
      "  warnings.warn(msg, UserWarning)\n",
      "c:\\users\\dinis\\pycharmprojects\\suicide-risk-predictor\\venv\\lib\\site-packages\\seaborn\\axisgrid.py:728: UserWarning: Using the pointplot function without specifying `order` is likely to produce an incorrect plot.\n",
      "  warnings.warn(warning)\n",
      "c:\\users\\dinis\\pycharmprojects\\suicide-risk-predictor\\venv\\lib\\site-packages\\seaborn\\axisgrid.py:733: UserWarning: Using the pointplot function without specifying `hue_order` is likely to produce an incorrect plot.\n",
      "  warnings.warn(warning)\n"
     ],
     "output_type": "stream"
    },
    {
     "data": {
      "text/plain": "<seaborn.axisgrid.FacetGrid at 0x245c0ce3648>"
     },
     "metadata": {},
     "output_type": "execute_result",
     "execution_count": 72
    },
    {
     "data": {
      "text/plain": "<Figure size 298.065x475.2 with 3 Axes>",
      "image/png": "[encoded data removed]"
     },
     "metadata": {
      "needs_background": "light"
     },
     "output_type": "display_data"
    }
   ],
   "source": [
    "grid = sns.FacetGrid(train_df, row='Alcohol/ drug Consumption', size=2.2, aspect=1.6)\n",
    "grid.map(sns.pointplot, 'Race', 'Not Suicide(0)/Suicide(1)', 'Gender', palette='deep')\n",
    "grid.add_legend()"
   ]
  },
  {
   "cell_type": "code",
   "execution_count": 73,
   "metadata": {
    "pycharm": {
     "is_executing": false
    }
   },
   "outputs": [],
   "source": [
    "include = [ 'Age', 'Gender', 'Religon', 'Race', 'Nature Of Occupation' ,\n",
    "           'Civil Status' ,'Education Level' ,'Reason' ,'Lifetime Psychiatric Hospitalizations' ,\n",
    "           'Past Suicide Attempts' ,'Any suicidal thoughts mentioned' ,'Self-Injurious Behaviour' ,\n",
    "           'Psychiatric Disorders' ,'Past Illnesses' ,'Alcohol/ drug Consumption','Anger',\n",
    "           'Sleep Problem', 'Social Iscolation', 'Sad/ Weary' , 'Humilated', 'Not Suicide(0)/Suicide(1)']  # Except the year, all the features"
   ]
  },
  {
   "cell_type": "code",
   "execution_count": 74,
   "metadata": {
    "pycharm": {
     "is_executing": false
    }
   },
   "outputs": [
    {
     "data": {
      "text/plain": "array(['Islam', 'Christian', 'Other', 'Buddhist', 'Hindu'], dtype=object)"
     },
     "metadata": {},
     "output_type": "execute_result",
     "execution_count": 74
    }
   ],
   "source": [
    "train_df['Reason'].replace(['Asthma', \"Alzheimer's disease\", 'Diabetes',\n",
    "              'Cirrhosis', 'Ischemic heart disease', \n",
    "              'Road Accident','Chronic kidney disease'],\n",
    "             ['Natural Death','Natural Death','Natural Death','Natural Death',\n",
    "              'Natural Death','Natural Death','Natural Death'], inplace = True)\n",
    "train_df['Reason'].replace(['Stroke/Chronic diseases & Physical disabilities'],\n",
    "             ['Chronic diseases & Physical disabilities'], inplace = True)\n",
    "df2 = train_df[include]\n",
    "df2.Religon.unique()\n",
    "# df2.Religon.unique()\n",
    "# df2.Race.unique()\n",
    "# df2['Nature Of Occupation'].unique()"
   ]
  },
  {
   "cell_type": "code",
   "execution_count": 75,
   "metadata": {
    "pycharm": {
     "is_executing": false
    }
   },
   "outputs": [],
   "source": [
    "from sklearn import preprocessing"
   ]
  },
  {
   "cell_type": "code",
   "execution_count": 76,
   "metadata": {
    "pycharm": {
     "is_executing": false
    }
   },
   "outputs": [
    {
     "name": "stdout",
     "text": [
      "    Age  Gender  Religon  Race  Nature Of Occupation  Civil Status  \\\n",
      "0    30       0        3     1                     0             2   \n",
      "1    91       0        3     1                     8             1   \n",
      "2    85       1        3     1                     9             1   \n",
      "3    87       1        1     3                    12             1   \n",
      "4    59       1        3     1                     4             2   \n",
      "5    31       1        4     3                     1             2   \n",
      "6    75       1        1     0                     2             1   \n",
      "7    47       1        0     3                    12             1   \n",
      "8    58       1        1     0                     2             2   \n",
      "9    36       1        2     4                     2             1   \n",
      "10   87       1        0     3                    12             1   \n",
      "11   73       1        1     0                     3             1   \n",
      "12   44       1        0     3                     1             1   \n",
      "13   62       1        0     3                    10             1   \n",
      "14   21       1        2     4                     8             2   \n",
      "15   70       1        0     3                    12             1   \n",
      "16   68       1        2     4                     8             1   \n",
      "17   43       0        0     3                     2             1   \n",
      "18   16       1        3     1                    11             2   \n",
      "19   35       1        2     4                     1             1   \n",
      "\n",
      "    Education Level  Reason  Lifetime Psychiatric Hospitalizations  \\\n",
      "0                 0      10                                      0   \n",
      "1                 6      10                                      0   \n",
      "2                 6       2                                      0   \n",
      "3                 5       6                                      1   \n",
      "4                 1      10                                      0   \n",
      "5                 3       6                                      1   \n",
      "6                 2      10                                      0   \n",
      "7                 5       6                                      1   \n",
      "8                 6      10                                      0   \n",
      "9                 6      10                                      0   \n",
      "10                4       2                                      1   \n",
      "11                4      10                                      0   \n",
      "12                3       6                                      1   \n",
      "13                0       9                                      1   \n",
      "14                3       2                                      0   \n",
      "15                5       9                                      1   \n",
      "16                4       0                                      0   \n",
      "17                3       6                                      1   \n",
      "18                3       9                                      0   \n",
      "19                4      11                                      1   \n",
      "\n",
      "    Past Suicide Attempts  ...  Self-Injurious Behaviour  \\\n",
      "0                       0  ...                         0   \n",
      "1                       0  ...                         0   \n",
      "2                       0  ...                         0   \n",
      "3                       1  ...                         0   \n",
      "4                       1  ...                         0   \n",
      "5                       1  ...                         1   \n",
      "6                       0  ...                         0   \n",
      "7                       1  ...                         1   \n",
      "8                       0  ...                         0   \n",
      "9                       0  ...                         0   \n",
      "10                      1  ...                         0   \n",
      "11                      0  ...                         0   \n",
      "12                      1  ...                         0   \n",
      "13                      1  ...                         0   \n",
      "14                      0  ...                         0   \n",
      "15                      1  ...                         0   \n",
      "16                      0  ...                         0   \n",
      "17                      1  ...                         1   \n",
      "18                      0  ...                         0   \n",
      "19                      1  ...                         0   \n",
      "\n",
      "    Psychiatric Disorders  Past Illnesses  Alcohol/ drug Consumption  Anger  \\\n",
      "0                       3               0                          2      0   \n",
      "1                       3               8                          2      0   \n",
      "2                       3               4                          2      0   \n",
      "3                       3               3                          0      1   \n",
      "4                       3               1                          2      0   \n",
      "5                       3               8                          0      1   \n",
      "6                       3               9                          2      0   \n",
      "7                       3               8                          1      0   \n",
      "8                       3               9                          2      0   \n",
      "9                       3               9                          2      0   \n",
      "10                      4               5                          0      0   \n",
      "11                      3               6                          2      0   \n",
      "12                      3               2                          0      0   \n",
      "13                      5               8                          0      1   \n",
      "14                      3               3                          2      0   \n",
      "15                      2               8                          0      1   \n",
      "16                      3               8                          0      0   \n",
      "17                      2               2                          2      0   \n",
      "18                      2               9                          1      0   \n",
      "19                      2               8                          1      0   \n",
      "\n",
      "    Sleep Problem  Social Iscolation  Sad/ Weary  Humilated  \\\n",
      "0               0                  0           0          0   \n",
      "1               1                  0           0          0   \n",
      "2               1                  0           0          0   \n",
      "3               1                  1           1          1   \n",
      "4               1                  0           1          1   \n",
      "5               1                  1           1          1   \n",
      "6               0                  0           0          0   \n",
      "7               0                  1           1          0   \n",
      "8               0                  0           0          0   \n",
      "9               1                  0           0          0   \n",
      "10              1                  1           1          0   \n",
      "11              1                  0           0          0   \n",
      "12              1                  1           1          0   \n",
      "13              1                  1           0          1   \n",
      "14              1                  0           1          0   \n",
      "15              1                  1           1          0   \n",
      "16              0                  0           0          0   \n",
      "17              1                  1           1          1   \n",
      "18              0                  0           0          0   \n",
      "19              1                  1           1          0   \n",
      "\n",
      "    Not Suicide(0)/Suicide(1)  \n",
      "0                           0  \n",
      "1                           0  \n",
      "2                           0  \n",
      "3                           1  \n",
      "4                           0  \n",
      "5                           1  \n",
      "6                           0  \n",
      "7                           1  \n",
      "8                           0  \n",
      "9                           0  \n",
      "10                          1  \n",
      "11                          0  \n",
      "12                          1  \n",
      "13                          1  \n",
      "14                          0  \n",
      "15                          1  \n",
      "16                          0  \n",
      "17                          1  \n",
      "18                          0  \n",
      "19                          1  \n",
      "\n",
      "[20 rows x 21 columns]\n",
      "Gender {'F': 0, 'M': 1}\n",
      "Religon {'Buddhist': 0, 'Christian': 1, 'Hindu': 2, 'Islam': 3, 'Other': 4}\n",
      "Race {'Burger': 0, 'Muslim': 1, 'Other': 2, 'Sinhalese ': 3, 'Tamil': 4}\n",
      "Nature Of Occupation {'Administrative Executive Managerial & related workers': 0, 'Agricultural Animal Husbandry Fisherman & related Forestry workers': 1, 'Armed Services': 2, 'Clerical & related workers (Stenographers/ Typists etc)': 3, 'Pensioners': 4, 'Police': 5, 'Production process workers Craftsman & related workers transport equipment operators & labourers': 6, 'Professional Technical & related workers (Doctors/Engineers/Accountants/ Teachers/Authors/ Photographers)': 7, 'Sales worker': 8, 'Security Personnel': 9, 'Service workers (Cooks/Tailors/Barbers/ etc)': 10, 'Student': 11, 'Unemployed persons': 12, 'Workers not classfied by occupation ': 13}\n",
      "Civil Status {'Divourced': 0, 'Married': 1, 'Unmarried': 2, 'Widow': 3}\n",
      "Education Level {'From Grade 1 to 7': 0, 'Other': 1, 'Passed G.C.E (A/L)': 2, 'Passed G.C.E (O/L)': 3, 'Passed Grade 8': 4, 'School not attended': 5, 'University Degree or above': 6}\n",
      "Reason {'Addiction to narcotic drugs': 0, 'Aggrieved over the death parents/relations': 1, 'Chronic diseases & Physical disabilities': 2, 'Economic problems (Poverty indebtedness)': 3, 'Employment problems': 4, 'Failure at the examination': 5, 'Harrasment by the husband & family disputes': 6, 'Ill-treatment by the children': 7, 'Loss of property': 8, 'Mental Disorders': 9, 'Natural Death': 10, 'Other Reasons': 11, 'Problems caused with the elders': 12, 'Sexual incapacity': 13, 'Using disappointment frustration caused through love affairs': 14}\n",
      "Psychiatric Disorders {'BPD': 0, 'Bipolar Disorder': 1, 'Depression': 2, 'None': 3, 'Other': 4, 'PTSD': 5, 'Schizophrenia': 6}\n",
      "Past Illnesses {'Asthma': 0, 'COPD': 1, 'Cancer': 2, 'Chronic pain': 3, 'Diabetes': 4, 'HIV/AIDS': 5, 'Heart Diseases': 6, 'Kidney Disease': 7, 'Other': 8, 'Unknown': 9}\n",
      "Alcohol/ drug Consumption {'Frequent': 0, 'Moderate': 1, 'None': 2}\n"
     ],
     "output_type": "stream"
    },
    {
     "name": "stderr",
     "text": [
      "c:\\users\\dinis\\pycharmprojects\\suicide-risk-predictor\\venv\\lib\\site-packages\\ipykernel_launcher.py:7: SettingWithCopyWarning: \n",
      "A value is trying to be set on a copy of a slice from a DataFrame.\n",
      "Try using .loc[row_indexer,col_indexer] = value instead\n",
      "\n",
      "See the caveats in the documentation: https://pandas.pydata.org/pandas-docs/stable/user_guide/indexing.html#returning-a-view-versus-a-copy\n",
      "  import sys\n"
     ],
     "output_type": "stream"
    }
   ],
   "source": [
    "category_col =['Gender', 'Religon', 'Race', 'Nature Of Occupation' ,\n",
    "           'Civil Status' ,'Education Level' ,'Reason' ,\n",
    "           'Psychiatric Disorders' ,'Past Illnesses' ,'Alcohol/ drug Consumption'] \n",
    "labelEncoder = preprocessing.LabelEncoder()\n",
    "mapping_dict={}\n",
    "for col in category_col:\n",
    "    df2[col] = labelEncoder.fit_transform(df2[col])\n",
    "    le_name_mapping = dict(zip(labelEncoder.classes_, labelEncoder.transform(labelEncoder.classes_)))\n",
    "    mapping_dict[col]=le_name_mapping\n",
    "print(df2.head(20))\n",
    "for x, y in mapping_dict.items():\n",
    "  print(x, y)"
   ]
  },
  {
   "cell_type": "code",
   "execution_count": 77,
   "metadata": {
    "pycharm": {
     "is_executing": false
    }
   },
   "outputs": [],
   "source": [
    "feature_cols = ['Age', 'Gender', 'Religon', 'Race', 'Nature Of Occupation' ,\n",
    "           'Civil Status' ,'Education Level' ,'Reason' ,'Lifetime Psychiatric Hospitalizations' ,\n",
    "           'Past Suicide Attempts' ,'Any suicidal thoughts mentioned' ,'Self-Injurious Behaviour' ,\n",
    "           'Psychiatric Disorders' ,'Past Illnesses' ,'Alcohol/ drug Consumption','Anger',\n",
    "           'Sleep Problem', 'Social Iscolation', 'Sad/ Weary' , 'Humilated']\n",
    "X = df2[feature_cols] # Features\n",
    "y = df2['Not Suicide(0)/Suicide(1)']\n",
    "\n",
    "from sklearn.model_selection import train_test_split\n",
    "X_train,X_test,y_train,y_test=train_test_split(X,y,test_size=0.3,random_state=42)"
   ]
  },
  {
   "cell_type": "markdown",
   "metadata": {},
   "source": [
    "# Linear VM"
   ]
  },
  {
   "cell_type": "code",
   "execution_count": 78,
   "metadata": {
    "pycharm": {
     "is_executing": false
    }
   },
   "outputs": [
    {
     "name": "stdout",
     "text": [
      "92.86\n"
     ],
     "output_type": "stream"
    },
    {
     "name": "stderr",
     "text": [
      "c:\\users\\dinis\\pycharmprojects\\suicide-risk-predictor\\venv\\lib\\site-packages\\sklearn\\svm\\_base.py:947: ConvergenceWarning: Liblinear failed to converge, increase the number of iterations.\n",
      "  \"the number of iterations.\", ConvergenceWarning)\n"
     ],
     "output_type": "stream"
    }
   ],
   "source": [
    "from sklearn.svm import SVC, LinearSVC\n",
    "\n",
    "clf = LinearSVC()\n",
    "clf.fit(X_train, y_train)\n",
    "y_pred_linear_svc = clf.predict(X_test)\n",
    "acc_linear_svc = round(clf.score(X_train, y_train) * 100, 2)\n",
    "print (acc_linear_svc)"
   ]
  },
  {
   "cell_type": "code",
   "execution_count": 79,
   "metadata": {
    "pycharm": {
     "is_executing": false
    }
   },
   "outputs": [],
   "source": [
    "import pickle\n",
    "#creating and training a model\n",
    "#serializing our model to a file called model.pkl\n",
    "pickle.dump(clf, open(\"modelLVM.pkl\",\"wb\"))"
   ]
  },
  {
   "cell_type": "code",
   "execution_count": 80,
   "metadata": {
    "pycharm": {
     "is_executing": false
    }
   },
   "outputs": [
    {
     "data": {
      "text/plain": "<Figure size 432x288 with 2 Axes>",
      "image/png": "[encoded data removed]"
     },
     "metadata": {
      "needs_background": "light"
     },
     "output_type": "display_data"
    }
   ],
   "source": [
    "\n",
    "corr = train_df.corr()\n",
    "ax = sns.heatmap(\n",
    "    corr, \n",
    "    vmin=-1, vmax=1, center=0,\n",
    "    cmap=sns.diverging_palette(20, 220, n=200),\n",
    "    square=True\n",
    ")"
   ]
  },
  {
   "cell_type": "code",
   "execution_count": 81,
   "metadata": {
    "pycharm": {
     "is_executing": false
    }
   },
   "outputs": [
    {
     "name": "stdout",
     "text": [
      "[0]\n"
     ],
     "output_type": "stream"
    }
   ],
   "source": [
    "print(clf.predict([[87,1,1,1,12,1,5,6,0,0,0,3,2,0,1,1,0,0,0,0]]))"
   ]
  },
  {
   "cell_type": "code",
   "execution_count": 82,
   "metadata": {
    "pycharm": {
     "is_executing": false
    }
   },
   "outputs": [
    {
     "name": "stdout",
     "text": [
      "[1]\n"
     ],
     "output_type": "stream"
    }
   ],
   "source": [
    "print(clf.predict([[30,1,0,0,11,2,16,1,1,1,1,1,3,2,1,1,1,1,1,0]]))"
   ]
  },
  {
   "cell_type": "code",
   "execution_count": 83,
   "metadata": {
    "pycharm": {
     "is_executing": false
    }
   },
   "outputs": [
    {
     "name": "stdout",
     "text": [
      "[1]\n"
     ],
     "output_type": "stream"
    }
   ],
   "source": [
    "print(clf.predict([[40,1,0,0,11,2,16,0,0,1,0,1,3,2,0,1,0,1,1,1]]))"
   ]
  },
  {
   "cell_type": "code",
   "execution_count": 84,
   "metadata": {
    "pycharm": {
     "is_executing": false
    }
   },
   "outputs": [
    {
     "name": "stdout",
     "text": [
      "[0]\n"
     ],
     "output_type": "stream"
    }
   ],
   "source": [
    "print(clf.predict([[59,0,0,0,3,4,2,1,2,0,0,0,3,1,2,0,1,0,1,1]]))"
   ]
  },
  {
   "cell_type": "code",
   "execution_count": 85,
   "metadata": {
    "pycharm": {
     "is_executing": false
    }
   },
   "outputs": [
    {
     "name": "stdout",
     "text": [
      "[0]\n"
     ],
     "output_type": "stream"
    }
   ],
   "source": [
    "print(clf.predict([[59,0,0,0,3,4,2,1,2,0,0,0,3,1,10,0,0,0,0,0]]))"
   ]
  },
  {
   "cell_type": "code",
   "execution_count": 85,
   "metadata": {
    "pycharm": {
     "is_executing": false
    }
   },
   "outputs": [],
   "source": []
  }
 ],
 "metadata": {
  "kernelspec": {
   "display_name": "Python 3",
   "language": "python",
   "name": "python3"
  },
  "language_info": {
   "codemirror_mode": {
    "name": "ipython",
    "version": 3
   },
   "file_extension": ".py",
   "mimetype": "text/x-python",
   "name": "python",
   "nbconvert_exporter": "python",
   "pygments_lexer": "ipython3",
   "version": "3.6.5"
  },
  "pycharm": {
   "stem_cell": {
    "cell_type": "raw",
    "source": [],
    "metadata": {
     "collapsed": false
    }
   }
  }
 },
 "nbformat": 4,
 "nbformat_minor": 2
}